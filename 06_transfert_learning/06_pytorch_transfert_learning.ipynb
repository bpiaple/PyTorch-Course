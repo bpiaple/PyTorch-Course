{
 "cells": [
  {
   "cell_type": "markdown",
   "metadata": {},
   "source": [
    "## 06 Transfert Learning with PyTorch\n",
    "\n",
    "What is Transfer Learning?\n",
    "\n",
    "Transfer learning is a powerful technique in machine learning where knowledge gained from solving one problem is applied to a different but related problem.  Instead of starting the training process from scratch, you leverage a pre-trained model that has already learned useful features from a large dataset. This pre-trained model serves as a starting point, and you fine-tune it on your specific task, which typically requires less data and computational resources than training a model from scratch.\n",
    "\n",
    "Here's a breakdown of the key concepts:\n",
    "\n",
    "**1. Pre-trained Model:** This is a model that has been trained on a massive dataset, usually for a general task like image classification (e.g., ImageNet).  These models have learned a rich set of features that can be useful for other related tasks.\n",
    "\n",
    "**2. Feature Extraction:**  Pre-trained models are excellent feature extractors.  The early layers of the model learn general features (like edges, textures), while later layers learn more specific features (like shapes, objects).  You can use a pre-trained model to extract these features from your data without retraining the entire model.\n",
    "\n",
    "**3. Fine-tuning:**  This involves taking a pre-trained model and adapting it to your specific task. You typically replace the final layer(s) of the pre-trained model with layers suited for your task (e.g., a new classification layer with the correct number of classes). Then, you train the modified model on your dataset.  You can choose to freeze the weights of the early layers (to preserve the general features) and only train the later layers, or you can train the entire model with a lower learning rate.\n",
    "\n",
    "**4. When to Use Transfer Learning:**\n",
    "\n",
    "* **Limited Data:**  Transfer learning is especially beneficial when you have a small dataset for your target task.  Training a complex model from scratch on limited data often leads to overfitting.\n",
    "* **Computational Constraints:** Fine-tuning a pre-trained model is much faster and requires fewer resources than training from scratch.\n",
    "* **Improved Performance:**  Transfer learning can often lead to significantly better performance, especially when the source and target tasks are closely related.\n",
    "\n",
    "**Example:**\n",
    "\n",
    "Imagine you want to build an image classifier to identify different types of flowers. You have a small dataset of flower images. Instead of training a CNN from scratch, you can use a pre-trained model like ResNet, which has been trained on ImageNet (a massive dataset of general images). You remove ResNet's final classification layer (which classifies ImageNet categories) and replace it with a new classification layer with the number of flower types you want to classify. Then, you fine-tune the modified ResNet on your flower image dataset. The pre-trained features learned by ResNet on ImageNet will help the model learn to classify flowers more efficiently and accurately.\n",
    "\n",
    "**Key Benefits:**\n",
    "\n",
    "* Faster training\n",
    "* Reduced data requirements\n",
    "* Improved performance (often)\n",
    "* Easier prototyping\n",
    "\n",
    "Transfer learning is a widely used and highly effective technique in deep learning, allowing you to leverage the power of large pre-trained models to solve a wide range of problems.\n"
   ]
  },
  {
   "cell_type": "code",
   "execution_count": 1,
   "metadata": {},
   "outputs": [
    {
     "name": "stdout",
     "output_type": "stream",
     "text": [
      "2.4.1+cu121\n",
      "0.19.1+cu121\n"
     ]
    }
   ],
   "source": [
    "import torch\n",
    "import torchvision\n",
    "\n",
    "print(torch.__version__)\n",
    "print(torchvision.__version__)"
   ]
  },
  {
   "cell_type": "code",
   "execution_count": 4,
   "metadata": {},
   "outputs": [],
   "source": [
    "from tqdm.auto import tqdm\n",
    "import matplotlib.pyplot as plt\n",
    "import torch\n",
    "import torchvision\n",
    "\n",
    "from torch import nn\n",
    "from torchvision.transforms import v2 as transforms\n",
    "\n",
    "# Try to get torchinfo, install it if it doen't work\n",
    "try:\n",
    "    from torchinfo import summary\n",
    "except:\n",
    "    print(\"torchinfo not found, installing it\")\n",
    "    %pip install torchinfo\n",
    "    from torchinfo import summary\n",
    "\n",
    "# Try to import the going_modular directory, if it doesn't work, clone the repo\n",
    "try:\n",
    "    from going_modular import data_setup, engine\n",
    "except:\n",
    "    print(\"going_modular not found, cloning the repo\")\n"
   ]
  },
  {
   "cell_type": "code",
   "execution_count": 6,
   "metadata": {},
   "outputs": [
    {
     "name": "stdout",
     "output_type": "stream",
     "text": [
      "cpu\n"
     ]
    }
   ],
   "source": [
    "# Setup device agnostic code\n",
    "device = torch.device(\"cuda\" if torch.cuda.is_available() else \"cpu\")\n",
    "print(device)"
   ]
  },
  {
   "cell_type": "markdown",
   "metadata": {},
   "source": [
    "## 1. Get data\n",
    "\n",
    "we need pizza, steak, sushi data to build our tranfert model"
   ]
  },
  {
   "cell_type": "code",
   "execution_count": 19,
   "metadata": {},
   "outputs": [
    {
     "name": "stdout",
     "output_type": "stream",
     "text": [
      "Data already downloaded\n",
      "Data already unzipped\n"
     ]
    }
   ],
   "source": [
    "import os\n",
    "import zipfile\n",
    "\n",
    "from pathlib import Path\n",
    "\n",
    "import requests\n",
    "\n",
    "# Setup data path\n",
    "data_dir = Path(\"data/\")\n",
    "image_dir = data_dir / \"images\"\n",
    "zip_path = data_dir / \"pizza_steak_sushi.zip\"\n",
    "\n",
    "\n",
    "# Download the data\n",
    "url = \"https://github.com/mrdbourke/pytorch-deep-learning/raw/main/data/pizza_steak_sushi.zip\"\n",
    "if not data_dir.exists():\n",
    "    print(\"Downloading the data\")\n",
    "    # Ensure the data directory exists\n",
    "    data_dir.mkdir(parents=True, exist_ok=True)\n",
    "    response = requests.get(url)\n",
    "    zip_path.write_bytes(response.content)\n",
    "else:\n",
    "    print(\"Data already downloaded\")\n",
    "\n",
    "# Unzip the data\n",
    "if zip_path.exists():\n",
    "    with zipfile.ZipFile(zip_path, \"r\") as zip_ref:\n",
    "        print(\"Unzipping the data\")\n",
    "        zip_ref.extractall(data_dir)\n",
    "        os.remove(zip_path)\n",
    "else:\n",
    "    print(\"Data already unzipped\")\n",
    "\n",
    "# remove the zip file\n"
   ]
  },
  {
   "cell_type": "code",
   "execution_count": 42,
   "metadata": {},
   "outputs": [
    {
     "data": {
      "text/plain": [
       "(PosixPath('data/train'), PosixPath('data/test'))"
      ]
     },
     "execution_count": 42,
     "metadata": {},
     "output_type": "execute_result"
    }
   ],
   "source": [
    "# Setup the data\n",
    "train_dir = data_dir / \"train\"\n",
    "test_dir = data_dir / \"test\"\n",
    "\n",
    "train_dir, test_dir"
   ]
  },
  {
   "cell_type": "markdown",
   "metadata": {},
   "source": [
    "## 2. Create Datasets and Dataloaders\n",
    "\n",
    "Now we've got some data, we want to turn it into a form our model can use.\n",
    "\n",
    "To do this, we'll use the `torchvision.datasets.ImageFolder` class. This class assumes the images are in the following structure:\n",
    "    \n",
    "    ```\n",
    "    root/train/class1/xxx.png\n",
    "    root/train/class2/xxy.png\n",
    "    root/train/class3/xxz.png\n",
    "\n",
    "    root/test/class1/123.png\n",
    "    root/test/class2/nsdf3.png\n",
    "    root/test/class3/asd932_.png\n",
    "    ```"
   ]
  },
  {
   "cell_type": "markdown",
   "metadata": {},
   "source": [
    "### 2.1 Creating a transform for `torchvision.models` models"
   ]
  },
  {
   "cell_type": "code",
   "execution_count": 35,
   "metadata": {},
   "outputs": [],
   "source": [
    "from going_modular import data_setup\n",
    "\n",
    "from torchvision.transforms import v2 as transforms"
   ]
  },
  {
   "cell_type": "code",
   "execution_count": 40,
   "metadata": {},
   "outputs": [],
   "source": [
    "normalize = transforms.Normalize(mean=[0.485, 0.456, 0.406], \n",
    "                                 std=[0.229, 0.224, 0.225])\n",
    "\n",
    "manual_transform = transforms.Compose([\n",
    "                                        transforms.Resize((224, 224)), \n",
    "                                        transforms.ToDtype(torch.float32, scale=True),\n",
    "                                        normalize,\n",
    "                                        transforms.ToImage()])"
   ]
  },
  {
   "cell_type": "code",
   "execution_count": 43,
   "metadata": {},
   "outputs": [],
   "source": [
    "train_data, test_data, class_names = data_setup.create_dataloaders(train_dir=train_dir,\n",
    "                                                                   test_dir=test_dir,\n",
    "                                                                   transform=manual_transform,\n",
    "                                                                   batch_size=32)"
   ]
  },
  {
   "cell_type": "code",
   "execution_count": 44,
   "metadata": {},
   "outputs": [
    {
     "data": {
      "text/plain": [
       "(<torch.utils.data.dataloader.DataLoader at 0x79869466e6c0>,\n",
       " <torch.utils.data.dataloader.DataLoader at 0x798587c39bb0>,\n",
       " ['pizza', 'steak', 'sushi'])"
      ]
     },
     "execution_count": 44,
     "metadata": {},
     "output_type": "execute_result"
    }
   ],
   "source": [
    "train_data, test_data, class_names"
   ]
  },
  {
   "cell_type": "markdown",
   "metadata": {},
   "source": [
    "### 2.2 Creating a transform for `torchvision.models`\n",
    "\n",
    "As of `torchvision` 0.10.0, the `torchvision.models` module has been updated to accept a `transform_input` parameter. This parameter allows you to pass in a function to transform the input data before it's passed through the model.\n",
    "\n",
    "This is particularly useful when you're using a model which was trained on a different dataset to the one you're using. For example, the `torchvision.models` models were trained on the ImageNet dataset, which has different normalization values to the ones we're using for our pizza_steak_sushi dataset.\n",
    "\n"
   ]
  },
  {
   "cell_type": "code",
   "execution_count": null,
   "metadata": {},
   "outputs": [],
   "source": []
  }
 ],
 "metadata": {
  "kernelspec": {
   "display_name": ".venv",
   "language": "python",
   "name": "python3"
  },
  "language_info": {
   "codemirror_mode": {
    "name": "ipython",
    "version": 3
   },
   "file_extension": ".py",
   "mimetype": "text/x-python",
   "name": "python",
   "nbconvert_exporter": "python",
   "pygments_lexer": "ipython3",
   "version": "3.12.3"
  }
 },
 "nbformat": 4,
 "nbformat_minor": 2
}
