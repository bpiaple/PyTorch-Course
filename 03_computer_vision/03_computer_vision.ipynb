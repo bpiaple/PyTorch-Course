{
 "cells": [
  {
   "cell_type": "markdown",
   "metadata": {},
   "source": [
    "# 1 Computer vision libraries in PyTorch\n",
    "\n",
    "* `torchvision` - base domain library for computer vision in PyTorch\n",
    "* `torchvision` - Core computer vision library providing datasets, transforms, models, and utilities.\n",
    "* `torch.nn` - Fundamental building blocks for neural networks, including layers, activation functions, and loss functions.\n",
    "* `torch.optim` - Optimization algorithms for training neural networks, such as SGD, Adam, and RMSprop.\n",
    "* `torch.utils.data` - Tools for loading and processing datasets, including `DataLoader` for efficient batching and shuffling. \n",
    "* `torch.autograd` - Automatic differentiation engine for computing gradients, enabling backpropagation for training neural networks."
   ]
  },
  {
   "cell_type": "code",
   "execution_count": 194,
   "metadata": {},
   "outputs": [
    {
     "name": "stdout",
     "output_type": "stream",
     "text": [
      "2.4.0+cu121\n",
      "0.19.0+cu121\n"
     ]
    }
   ],
   "source": [
    "# import PyTorch\n",
    "import torch\n",
    "from torch import nn\n",
    "\n",
    "# import torchvision\n",
    "import torchvision\n",
    "from torchvision.transforms import v2 as transforms\n",
    "from torchvision.transforms.v2 import ToTensor\n",
    "\n",
    "# Import matplotlib for visualization\n",
    "import matplotlib.pyplot as plt\n",
    "\n",
    "# Check versions\n",
    "print(torch.__version__)\n",
    "print(torchvision.__version__)"
   ]
  },
  {
   "cell_type": "markdown",
   "metadata": {},
   "source": [
    "##  1. Getting the dataset\n",
    "\n",
    "The dataset we will use is the MNIST dataset. It is a dataset of 60,000 28x28 grayscale images of the 10 digits, along with a test set of 10,000 images. We will use the PyTorch `torchvision` module to download the dataset and create a `DataLoader` object for the training and test sets."
   ]
  },
  {
   "cell_type": "code",
   "execution_count": 195,
   "metadata": {},
   "outputs": [
    {
     "name": "stderr",
     "output_type": "stream",
     "text": [
      "/media/etudiant/New D/PyTorchSRC/.venv/lib/python3.12/site-packages/torchvision/transforms/v2/_deprecated.py:42: UserWarning: The transform `ToTensor()` is deprecated and will be removed in a future release. Instead, please use `v2.Compose([v2.ToImage(), v2.ToDtype(torch.float32, scale=True)])`.Output is equivalent up to float precision.\n",
      "  warnings.warn(\n"
     ]
    }
   ],
   "source": [
    "# Setup training data\n",
    "from torchvision import datasets\n",
    "transforms = transforms.Compose([\n",
    "    transforms.ToTensor()\n",
    "])\n",
    "train_data = datasets.FashionMNIST(\n",
    "    root=\"data\",\n",
    "    train=True,\n",
    "    download=True,\n",
    "    transform=transforms,\n",
    "    target_transform=None\n",
    ")\n",
    "\n",
    "# Setup test data\n",
    "test_data = datasets.FashionMNIST(\n",
    "    root=\"data\",\n",
    "    train=False,\n",
    "    download=True,\n",
    "    transform=transforms,\n",
    "    target_transform=None\n",
    ")"
   ]
  },
  {
   "cell_type": "code",
   "execution_count": 196,
   "metadata": {},
   "outputs": [
    {
     "data": {
      "text/plain": [
       "(60000, 10000)"
      ]
     },
     "execution_count": 196,
     "metadata": {},
     "output_type": "execute_result"
    }
   ],
   "source": [
    "len(train_data), len(test_data)"
   ]
  },
  {
   "cell_type": "code",
   "execution_count": 197,
   "metadata": {},
   "outputs": [
    {
     "name": "stdout",
     "output_type": "stream",
     "text": [
      "torch.Size([1, 28, 28]) 9\n"
     ]
    }
   ],
   "source": [
    "# See the first training data\n",
    "image, label = train_data[0]\n",
    "print(image.shape, label)"
   ]
  },
  {
   "cell_type": "code",
   "execution_count": 198,
   "metadata": {},
   "outputs": [
    {
     "name": "stdout",
     "output_type": "stream",
     "text": [
      "['T-shirt/top', 'Trouser', 'Pullover', 'Dress', 'Coat', 'Sandal', 'Shirt', 'Sneaker', 'Bag', 'Ankle boot']\n"
     ]
    }
   ],
   "source": [
    "class_names = train_data.classes\n",
    "print(class_names)"
   ]
  },
  {
   "cell_type": "code",
   "execution_count": 199,
   "metadata": {},
   "outputs": [
    {
     "data": {
      "text/plain": [
       "{'T-shirt/top': 0,\n",
       " 'Trouser': 1,\n",
       " 'Pullover': 2,\n",
       " 'Dress': 3,\n",
       " 'Coat': 4,\n",
       " 'Sandal': 5,\n",
       " 'Shirt': 6,\n",
       " 'Sneaker': 7,\n",
       " 'Bag': 8,\n",
       " 'Ankle boot': 9}"
      ]
     },
     "execution_count": 199,
     "metadata": {},
     "output_type": "execute_result"
    }
   ],
   "source": [
    "class_to_idx = train_data.class_to_idx # class to index\n",
    "class_to_idx"
   ]
  },
  {
   "cell_type": "code",
   "execution_count": 200,
   "metadata": {},
   "outputs": [
    {
     "data": {
      "text/plain": [
       "tensor([9, 0, 0,  ..., 3, 0, 5])"
      ]
     },
     "execution_count": 200,
     "metadata": {},
     "output_type": "execute_result"
    }
   ],
   "source": [
    "train_data.targets"
   ]
  },
  {
   "cell_type": "markdown",
   "metadata": {},
   "source": [
    "### 1.2 Visializing our data"
   ]
  },
  {
   "cell_type": "code",
   "execution_count": 201,
   "metadata": {},
   "outputs": [
    {
     "name": "stdout",
     "output_type": "stream",
     "text": [
      "torch.Size([1, 28, 28]) 4\n"
     ]
    },
    {
     "data": {
      "text/plain": [
       "Text(0.5, 1.0, 'Label: 4 - Coat')"
      ]
     },
     "execution_count": 201,
     "metadata": {},
     "output_type": "execute_result"
    },
    {
     "data": {
      "image/png": "[encoded data removed]",
      "text/plain": [
       "<Figure size 640x480 with 1 Axes>"
      ]
     },
     "metadata": {},
     "output_type": "display_data"
    }
   ],
   "source": [
    "import random\n",
    "import matplotlib.pyplot as plt\n",
    "random_image = random.choice(range(len(train_data)))\n",
    "image, label = train_data[random_image]\n",
    "print(image.shape, label)\n",
    "plt.imshow(image.squeeze(), cmap=\"gray\")\n",
    "plt.title(f\"Label: {label} - {class_names[label]}\")"
   ]
  },
  {
   "cell_type": "code",
   "execution_count": 202,
   "metadata": {},
   "outputs": [
    {
     "data": {
      "image/png": "[encoded data removed]",
      "text/plain": [
       "<Figure size 1000x1000 with 25 Axes>"
      ]
     },
     "metadata": {},
     "output_type": "display_data"
    }
   ],
   "source": [
    "# Plot multiple images\n",
    "figure = plt.figure(figsize=(10, 10))\n",
    "cols, rows = 5, 5\n",
    "for i in range(1, cols * rows + 1):\n",
    "    sample_idx = random.choice(range(len(train_data)))\n",
    "    image, label = train_data[sample_idx]\n",
    "    figure.add_subplot(rows, cols, i)\n",
    "    plt.title(f\"{class_names[label]}\")\n",
    "    plt.axis(\"off\")\n",
    "    plt.imshow(image.squeeze(), cmap=\"gray\")\n",
    "plt.show()\n"
   ]
  },
  {
   "cell_type": "code",
   "execution_count": 203,
   "metadata": {},
   "outputs": [
    {
     "data": {
      "text/plain": [
       "(Dataset FashionMNIST\n",
       "     Number of datapoints: 60000\n",
       "     Root location: data\n",
       "     Split: Train\n",
       "     StandardTransform\n",
       " Transform: Compose(    ToTensor()),\n",
       " Dataset FashionMNIST\n",
       "     Number of datapoints: 10000\n",
       "     Root location: data\n",
       "     Split: Test\n",
       "     StandardTransform\n",
       " Transform: Compose(    ToTensor()))"
      ]
     },
     "execution_count": 203,
     "metadata": {},
     "output_type": "execute_result"
    }
   ],
   "source": [
    "train_data, test_data"
   ]
  },
  {
   "cell_type": "markdown",
   "metadata": {},
   "source": [
    "## 2. Prepare DataLoader"
   ]
  },
  {
   "cell_type": "code",
   "execution_count": 204,
   "metadata": {},
   "outputs": [],
   "source": [
    "from torch.utils.data import DataLoader\n",
    "\n",
    "# Setup batch size hyperparameter\n",
    "BATCH_SIZE = 32\n",
    "\n",
    "train_dataloader = DataLoader(dataset=train_data, \n",
    "                          batch_size=BATCH_SIZE, \n",
    "                          shuffle=True) \n",
    "\n",
    "test_dataloader = DataLoader(dataset=test_data,\n",
    "                         batch_size=BATCH_SIZE,\n",
    "                          shuffle=False)"
   ]
  },
  {
   "cell_type": "code",
   "execution_count": 205,
   "metadata": {},
   "outputs": [
    {
     "data": {
      "text/plain": [
       "(1875, 313)"
      ]
     },
     "execution_count": 205,
     "metadata": {},
     "output_type": "execute_result"
    }
   ],
   "source": [
    "len(train_dataloader), len(test_dataloader)"
   ]
  },
  {
   "cell_type": "code",
   "execution_count": 206,
   "metadata": {},
   "outputs": [
    {
     "data": {
      "text/plain": [
       "(1875.0, 312.5)"
      ]
     },
     "execution_count": 206,
     "metadata": {},
     "output_type": "execute_result"
    }
   ],
   "source": [
    "len(train_data) / 32, len(test_data) / 32"
   ]
  },
  {
   "cell_type": "code",
   "execution_count": 207,
   "metadata": {},
   "outputs": [
    {
     "data": {
      "text/plain": [
       "1875"
      ]
     },
     "execution_count": 207,
     "metadata": {},
     "output_type": "execute_result"
    }
   ],
   "source": [
    "train_dataloader.__len__()"
   ]
  },
  {
   "cell_type": "code",
   "execution_count": 208,
   "metadata": {},
   "outputs": [
    {
     "data": {
      "text/plain": [
       "(torch.Size([32, 1, 28, 28]), torch.Size([32]))"
      ]
     },
     "execution_count": 208,
     "metadata": {},
     "output_type": "execute_result"
    }
   ],
   "source": [
    "train_features_batch, train_labels_batch = next(iter(train_dataloader))\n",
    "train_features_batch.shape, train_labels_batch.shape"
   ]
  },
  {
   "cell_type": "markdown",
   "metadata": {},
   "source": [
    "## 3. Model 0: Build a baseline model"
   ]
  },
  {
   "cell_type": "code",
   "execution_count": 209,
   "metadata": {},
   "outputs": [
    {
     "data": {
      "text/plain": [
       "(torch.Size([1, 28, 28]), torch.Size([1, 784]))"
      ]
     },
     "execution_count": 209,
     "metadata": {},
     "output_type": "execute_result"
    }
   ],
   "source": [
    "# Create the flatten layer\n",
    "flatten_model = nn.Flatten()\n",
    "\n",
    "# Get a simple sample\n",
    "x = train_features_batch[0]\n",
    "\n",
    "# Flatten the sample\n",
    "output = flatten_model(x)\n",
    "x.shape, output.shape"
   ]
  },
  {
   "cell_type": "code",
   "execution_count": 210,
   "metadata": {},
   "outputs": [],
   "source": [
    "class FashionMNISTModelV0(nn.Module):\n",
    "    def __init__(self,\n",
    "                 input_size: int,\n",
    "                 hidden_units: int,\n",
    "                 output_shape: int):\n",
    "        super(FashionMNISTModelV0, self).__init__()\n",
    "        self.layer_stack = nn.Sequential(\n",
    "            nn.Flatten(),\n",
    "            nn.Linear(in_features=input_size,\n",
    "                      out_features=hidden_units),\n",
    "            nn.ReLU(),\n",
    "            nn.Linear(in_features=hidden_units,\n",
    "                      out_features=output_shape)\n",
    "        )\n",
    "    \n",
    "    def forward(self, x):\n",
    "        return self.layer_stack(x)\n",
    "    "
   ]
  },
  {
   "cell_type": "code",
   "execution_count": 211,
   "metadata": {},
   "outputs": [
    {
     "data": {
      "text/plain": [
       "FashionMNISTModelV0(\n",
       "  (layer_stack): Sequential(\n",
       "    (0): Flatten(start_dim=1, end_dim=-1)\n",
       "    (1): Linear(in_features=784, out_features=128, bias=True)\n",
       "    (2): ReLU()\n",
       "    (3): Linear(in_features=128, out_features=10, bias=True)\n",
       "  )\n",
       ")"
      ]
     },
     "execution_count": 211,
     "metadata": {},
     "output_type": "execute_result"
    }
   ],
   "source": [
    "model_0 = FashionMNISTModelV0(input_size=28*28,\n",
    "                                hidden_units=128,\n",
    "                                output_shape=10)\n",
    "model_0"
   ]
  },
  {
   "cell_type": "markdown",
   "metadata": {},
   "source": [
    "### 3.1 Setup the loss, optimizer and evaluation metrics"
   ]
  },
  {
   "cell_type": "code",
   "execution_count": 212,
   "metadata": {},
   "outputs": [],
   "source": [
    "# Setup the loss function\n",
    "loss_fn = nn.CrossEntropyLoss()\n",
    "\n",
    "# Setup the optimizer\n",
    "from torch.optim import Adam\n",
    "optimizer = Adam(params=model_0.parameters(), lr=1e-3)\n",
    "\n",
    "# Setup the evaluation metric\n",
    "from torchmetrics import Accuracy, Precision, Recall\n",
    "accuracy = Accuracy(task=\"multiclass\", num_classes=10)\n",
    "precision = Precision(task=\"multiclass\", num_classes=10)\n",
    "recall = Recall(task=\"multiclass\", num_classes=10)\n"
   ]
  },
  {
   "cell_type": "code",
   "execution_count": 213,
   "metadata": {},
   "outputs": [
    {
     "name": "stdout",
     "output_type": "stream",
     "text": [
      "helper_functions.py already exists, skipping download...\n"
     ]
    }
   ],
   "source": [
    "from pathlib import Path\n",
    "import requests\n",
    "\n",
    "if Path(\"helper_functions.py\").is_file():\n",
    "    print(\"helper_functions.py already exists, skipping download...\")\n",
    "else:\n",
    "    print(\"Downloading helper_function.py\")\n",
    "    request = requests.get(\"https://raw.githubusercontent.com/mrdbourke/pytorch-deep-leaning/main/helper_function.py\")\n",
    "    with open(\"helper_functions.py\", \"wb\") as f:\n",
    "        f.write(request.content)"
   ]
  },
  {
   "cell_type": "markdown",
   "metadata": {},
   "source": [
    "### 3.2 Create a function to time our experiments\n",
    "\n",
    "Machine learning is very experimental. \n",
    "\n",
    "Two of the main things we'll often want to track are:\n",
    "- How long our experiments have taken\n",
    "- The results of our experiments\n"
   ]
  },
  {
   "cell_type": "code",
   "execution_count": 214,
   "metadata": {},
   "outputs": [],
   "source": [
    "from timeit import default_timer as timer\n",
    "def print_train_time(start:float,\n",
    "                     end:float,\n",
    "                     device:torch.device=None) -> float:\n",
    "    \"\"\"Prints difference between start and end time.\n",
    "\n",
    "    Args:\n",
    "        start (float): the start time.\n",
    "        end (float): the end time.\n",
    "        device (torch.device, optional): The device it's running on. Defaults to None.\n",
    "\n",
    "    Returns:\n",
    "        float: The difference between start and end time.\n",
    "    \"\"\"\n",
    "\n",
    "    train_time = end - start\n",
    "    print(f\"Training time on {device}: {train_time:.3f} seconds\")\n",
    "    return train_time"
   ]
  },
  {
   "cell_type": "code",
   "execution_count": 215,
   "metadata": {},
   "outputs": [
    {
     "name": "stdout",
     "output_type": "stream",
     "text": [
      "Training time on cpu: 0.000 seconds\n"
     ]
    },
    {
     "data": {
      "text/plain": [
       "0.00012815900845453143"
      ]
     },
     "execution_count": 215,
     "metadata": {},
     "output_type": "execute_result"
    }
   ],
   "source": [
    "start_time = timer()\n",
    "\n",
    "# Setup the device\n",
    "device = torch.device(\"cuda\" if torch.cuda.is_available() else \"cpu\")\n",
    "\n",
    "end_time = timer()\n",
    "\n",
    "print_train_time(start=start_time, end=end_time, device=device)"
   ]
  },
  {
   "cell_type": "markdown",
   "metadata": {},
   "source": [
    "### 3.3 Creating a training loop and training the model on batches of data\n",
    "\n",
    "1. Loop through epochs\n",
    "2. Loop through the training data, performs training steps, calculate the train loss per epoch\n",
    "3. Loop through the test data, performs evaluation steps, calculate the test loss per epoch\n",
    "4. Print the train and test loss per epoch\n",
    "5. Time it all"
   ]
  },
  {
   "cell_type": "code",
   "execution_count": 216,
   "metadata": {},
   "outputs": [
    {
     "name": "stderr",
     "output_type": "stream",
     "text": [
      " 20%|██        | 1/5 [00:06<00:26,  6.62s/it]"
     ]
    },
    {
     "name": "stdout",
     "output_type": "stream",
     "text": [
      "Epoch: 1/5\n",
      "Loss: 0.2095\n",
      "Accuracy: 0.8342\n",
      "Precision: 0.8342\n",
      "Recall: 0.8342\n",
      "----\n"
     ]
    },
    {
     "name": "stderr",
     "output_type": "stream",
     "text": [
      " 40%|████      | 2/5 [00:15<00:24,  8.05s/it]"
     ]
    },
    {
     "name": "stdout",
     "output_type": "stream",
     "text": [
      "Epoch: 2/5\n",
      "Loss: 0.2618\n",
      "Accuracy: 0.8449\n",
      "Precision: 0.8449\n",
      "Recall: 0.8449\n",
      "----\n"
     ]
    },
    {
     "name": "stderr",
     "output_type": "stream",
     "text": [
      " 60%|██████    | 3/5 [00:25<00:17,  8.95s/it]"
     ]
    },
    {
     "name": "stdout",
     "output_type": "stream",
     "text": [
      "Epoch: 3/5\n",
      "Loss: 0.1481\n",
      "Accuracy: 0.8521\n",
      "Precision: 0.8521\n",
      "Recall: 0.8521\n",
      "----\n"
     ]
    },
    {
     "name": "stderr",
     "output_type": "stream",
     "text": [
      " 80%|████████  | 4/5 [00:33<00:08,  8.35s/it]"
     ]
    },
    {
     "name": "stdout",
     "output_type": "stream",
     "text": [
      "Epoch: 4/5\n",
      "Loss: 0.2255\n",
      "Accuracy: 0.8557\n",
      "Precision: 0.8557\n",
      "Recall: 0.8557\n",
      "----\n"
     ]
    },
    {
     "name": "stderr",
     "output_type": "stream",
     "text": [
      "100%|██████████| 5/5 [00:42<00:00,  8.55s/it]"
     ]
    },
    {
     "name": "stdout",
     "output_type": "stream",
     "text": [
      "Epoch: 5/5\n",
      "Loss: 0.1216\n",
      "Accuracy: 0.8599\n",
      "Precision: 0.8599\n",
      "Recall: 0.8599\n",
      "----\n",
      "Training time on cpu: 42.765 seconds\n"
     ]
    },
    {
     "name": "stderr",
     "output_type": "stream",
     "text": [
      "\n"
     ]
    }
   ],
   "source": [
    "# Import tqdm for progress bars\n",
    "from tqdm.auto import tqdm\n",
    "\n",
    "train_time_start = timer()\n",
    "\n",
    "# Set the number of epochs\n",
    "EPOCHS = 5\n",
    "\n",
    "# Create the training loop\n",
    "for epoch in tqdm(range(EPOCHS)):\n",
    "    # Setup the model for training\n",
    "    model_0.train()\n",
    "    \n",
    "    # Setup the training loop\n",
    "    for batch_idx, (data, target) in enumerate(train_dataloader):\n",
    "        # Move the data to the device\n",
    "        data, target = data.to(device), target.to(device)\n",
    "        \n",
    "        # Zero the gradients\n",
    "        optimizer.zero_grad()\n",
    "        \n",
    "        # Forward pass\n",
    "        output = model_0(data)\n",
    "        \n",
    "        # Calculate the loss\n",
    "        loss = loss_fn(output, target)\n",
    "        \n",
    "        # Backward pass\n",
    "        loss.backward()\n",
    "        \n",
    "        # Optimize the weights\n",
    "        optimizer.step()\n",
    "\n",
    "    # Set the model to evaluation mode\n",
    "    model_0.eval()\n",
    "    with torch.inference_mode():\n",
    "        for data, target in test_dataloader:\n",
    "            data, target = data.to(device), target.to(device)\n",
    "            output = model_0(data)\n",
    "\n",
    "            # 1. Calculate the loss\n",
    "            loss = loss_fn(output, target)\n",
    "\n",
    "            # 2. Update the metrics\n",
    "            accuracy.update(output, target)\n",
    "            precision.update(output, target)\n",
    "            recall.update(output, target)\n",
    "        \n",
    "    # Print the training and test metrics\n",
    "    print(f\"Epoch: {epoch + 1}/{EPOCHS}\")\n",
    "    print(f\"Loss: {loss.item():.4f}\")\n",
    "    print(f\"Accuracy: {accuracy.compute():.4f}\")\n",
    "    print(f\"Precision: {precision.compute():.4f}\")\n",
    "    print(f\"Recall: {recall.compute():.4f}\")\n",
    "    print(\"----\")\n",
    "\n",
    "train_time_end = timer()\n",
    "total_train_time_model_0 = print_train_time(start=train_time_start, end=train_time_end, device=device)"
   ]
  },
  {
   "cell_type": "markdown",
   "metadata": {},
   "source": [
    "## 4. Make predictinons and get Model 0 results"
   ]
  },
  {
   "cell_type": "code",
   "execution_count": 217,
   "metadata": {},
   "outputs": [],
   "source": [
    "import torchmetrics\n",
    "\n",
    "def eval_model(model: torch.nn.Module,\n",
    "               data_loader: torch.utils.data.DataLoader,\n",
    "               loss_fn: torch.nn.Module,\n",
    "               accuracy: torchmetrics.Accuracy,\n",
    "               precision: torchmetrics.Precision,\n",
    "               recall: torchmetrics.Recall,\n",
    "               device: torch.device) -> dict:\n",
    "    \"\"\"Returns a dictionary containing the results of the evaluation.\n",
    "\n",
    "    Args:\n",
    "        model (torch.nn.Module): The model to evaluate.\n",
    "        data_loader (torch.utils.data.DataLoader): The data loader to evaluate the model on.\n",
    "        loss_fn (torch.nn.Module): The loss function to use.\n",
    "        accuracy (torchmetrics.Accuracy): The accuracy metric.\n",
    "        precision (torchmetrics.Precision): The precision metric.\n",
    "        recall (torchmetrics.Recall): The recall metric.\n",
    "        device (torch.device): The device to run the evaluation on.\n",
    "\n",
    "    Returns:\n",
    "        dict: A dictionary containing the model name, loss, accuracy, precision and recall.\n",
    "    \"\"\"\n",
    "\n",
    "    loss, acc, prec, rec = 0.0, 0.0, 0.0, 0.0\n",
    "\n",
    "    # Set the model to evaluation mode\n",
    "    model.eval()\n",
    "\n",
    "    with torch.inference_mode():\n",
    "        for data, target in tqdm(data_loader):\n",
    "            data, target = data.to(device), target.to(device)\n",
    "            output = model(data)\n",
    "\n",
    "            # 1. Calculate the loss\n",
    "            loss += loss_fn(output, target)\n",
    "\n",
    "            # 2. Update the metrics\n",
    "            accuracy.update(output, target)\n",
    "            precision.update(output, target)\n",
    "            recall.update(output, target)\n",
    "\n",
    "            acc += accuracy.compute()\n",
    "            prec += precision.compute()\n",
    "            rec += recall.compute()\n",
    "\n",
    "        # Scale the metrics to find the average loss/accuracy/precision/recall\n",
    "        loss /= len(data_loader)\n",
    "        acc /= len(data_loader)\n",
    "        prec /= len(data_loader)\n",
    "        rec /= len(data_loader)\n",
    "\n",
    "\n",
    "    return {\n",
    "        \"model_name\": model.__class__.__name__,\n",
    "        \"loss\": loss.item(),\n",
    "        \"accuracy\": acc.item(),\n",
    "        \"precision\": prec.item(),\n",
    "        \"recall\": rec.item()\n",
    "    }"
   ]
  },
  {
   "cell_type": "code",
   "execution_count": 218,
   "metadata": {},
   "outputs": [
    {
     "name": "stderr",
     "output_type": "stream",
     "text": [
      "100%|██████████| 313/313 [00:01<00:00, 266.01it/s]\n"
     ]
    }
   ],
   "source": [
    "# Calculate model 0 results on test data\n",
    "accuracy.reset()\n",
    "precision.reset()\n",
    "recall.reset()\n",
    "\n",
    "model_0_results = eval_model(model=model_0,\n",
    "                             data_loader=test_dataloader,\n",
    "                             loss_fn=loss_fn,\n",
    "                             accuracy=accuracy,\n",
    "                             precision=precision,\n",
    "                             recall=recall,\n",
    "                             device=device)"
   ]
  },
  {
   "cell_type": "code",
   "execution_count": 219,
   "metadata": {},
   "outputs": [
    {
     "data": {
      "text/plain": [
       "{'model_name': 'FashionMNISTModelV0',\n",
       " 'loss': 0.3586380183696747,\n",
       " 'accuracy': 0.8805142045021057,\n",
       " 'precision': 0.8805142045021057,\n",
       " 'recall': 0.8805142045021057}"
      ]
     },
     "execution_count": 219,
     "metadata": {},
     "output_type": "execute_result"
    }
   ],
   "source": [
    "model_0_results"
   ]
  },
  {
   "cell_type": "markdown",
   "metadata": {},
   "source": [
    "## 5. Make agnostic to device"
   ]
  },
  {
   "cell_type": "code",
   "execution_count": 220,
   "metadata": {},
   "outputs": [
    {
     "data": {
      "text/plain": [
       "device(type='cpu')"
      ]
     },
     "execution_count": 220,
     "metadata": {},
     "output_type": "execute_result"
    }
   ],
   "source": [
    "import torch\n",
    "device = torch.device(\"cuda\" if torch.cuda.is_available() else \"cpu\")\n",
    "device"
   ]
  },
  {
   "cell_type": "markdown",
   "metadata": {},
   "source": [
    "## 6. Model 1: Building a better model with non-linear activation functions\n",
    "\n",
    "We learn about the pilar of non-linear activation functions and how they can help our model learn more complex patterns in the data.\n",
    "\n"
   ]
  },
  {
   "cell_type": "code",
   "execution_count": 221,
   "metadata": {},
   "outputs": [],
   "source": [
    "# Create a model with non-linear and linear layers\n",
    "class FashionMNISTModelV1(nn.Module):\n",
    "    \"\"\"A simple model for FashionMNIST.\n",
    "\n",
    "    Args:\n",
    "        nn (nn.Module): The PyTorch neural network module.\n",
    "\n",
    "    Returns:\n",
    "        nn.Module: The FashionMNIST model.\n",
    "    \"\"\"\n",
    "    def __init__(self,\n",
    "                 input_shape: int,\n",
    "                 output_shape: int,\n",
    "                 hidden_units: int):\n",
    "        super(FashionMNISTModelV1, self).__init__()\n",
    "        self.layer_stack = nn.Sequential(\n",
    "            nn.Flatten(),\n",
    "            nn.Linear(in_features=input_shape,\n",
    "                      out_features=hidden_units),\n",
    "            nn.ReLU(),\n",
    "            nn.Linear(in_features=hidden_units,\n",
    "                      out_features=hidden_units),\n",
    "            nn.ReLU(),\n",
    "            nn.Linear(in_features=hidden_units,\n",
    "                      out_features=output_shape),\n",
    "            nn.ReLU()\n",
    "        )\n",
    "    \n",
    "    def forward(self, x: torch.Tensor) -> torch.Tensor:\n",
    "        \"\"\"Forward pass of the model.\n",
    "\n",
    "        Args:\n",
    "            x (torch.Tensor): The input data.\n",
    "\n",
    "        Returns:\n",
    "            torch.Tensor: The output of the model.\n",
    "        \"\"\"\n",
    "        return self.layer_stack(x)"
   ]
  },
  {
   "cell_type": "code",
   "execution_count": 222,
   "metadata": {},
   "outputs": [
    {
     "data": {
      "text/plain": [
       "device(type='cpu')"
      ]
     },
     "execution_count": 222,
     "metadata": {},
     "output_type": "execute_result"
    }
   ],
   "source": [
    "# Create an instance of the model\n",
    "model_1 = FashionMNISTModelV1(input_shape=28*28,\n",
    "                               output_shape=len(class_names),\n",
    "                               hidden_units=128)\n",
    "\n",
    "next(model_1.parameters()).device"
   ]
  },
  {
   "cell_type": "code",
   "execution_count": 223,
   "metadata": {},
   "outputs": [
    {
     "data": {
      "text/plain": [
       "<bound method Module.parameters of FashionMNISTModelV1(\n",
       "  (layer_stack): Sequential(\n",
       "    (0): Flatten(start_dim=1, end_dim=-1)\n",
       "    (1): Linear(in_features=784, out_features=128, bias=True)\n",
       "    (2): ReLU()\n",
       "    (3): Linear(in_features=128, out_features=128, bias=True)\n",
       "    (4): ReLU()\n",
       "    (5): Linear(in_features=128, out_features=10, bias=True)\n",
       "    (6): ReLU()\n",
       "  )\n",
       ")>"
      ]
     },
     "execution_count": 223,
     "metadata": {},
     "output_type": "execute_result"
    }
   ],
   "source": [
    "model_1.parameters"
   ]
  },
  {
   "cell_type": "code",
   "execution_count": 224,
   "metadata": {},
   "outputs": [
    {
     "data": {
      "image/svg+xml": [
       "<?xml version=\"1.0\" encoding=\"UTF-8\" standalone=\"no\"?>\n",
       "<!DOCTYPE svg PUBLIC \"-//W3C//DTD SVG 1.1//EN\"\n",
       " \"http://www.w3.org/Graphics/SVG/1.1/DTD/svg11.dtd\">\n",
       "<!-- Generated by graphviz version 2.43.0 (0)\n",
       " -->\n",
       "<!-- Title: %3 Pages: 1 -->\n",
       "<svg width=\"499pt\" height=\"600pt\"\n",
       " viewBox=\"0.00 0.00 499.00 600.00\" xmlns=\"http://www.w3.org/2000/svg\" xmlns:xlink=\"http://www.w3.org/1999/xlink\">\n",
       "<g id=\"graph0\" class=\"graph\" transform=\"scale(1 1) rotate(0) translate(4 596)\">\n",
       "<title>%3</title>\n",
       "<polygon fill=\"white\" stroke=\"transparent\" points=\"-4,4 -4,-596 495,-596 495,4 -4,4\"/>\n",
       "<!-- 138477146128944 -->\n",
       "<g id=\"node1\" class=\"node\">\n",
       "<title>138477146128944</title>\n",
       "<polygon fill=\"#caff70\" stroke=\"black\" points=\"253,-31 188,-31 188,0 253,0 253,-31\"/>\n",
       "<text text-anchor=\"middle\" x=\"220.5\" y=\"-7\" font-family=\"monospace\" font-size=\"10.00\"> (1, 10)</text>\n",
       "</g>\n",
       "<!-- 138478223263872 -->\n",
       "<g id=\"node2\" class=\"node\">\n",
       "<title>138478223263872</title>\n",
       "<polygon fill=\"lightgrey\" stroke=\"black\" points=\"268,-86 173,-86 173,-67 268,-67 268,-86\"/>\n",
       "<text text-anchor=\"middle\" x=\"220.5\" y=\"-74\" font-family=\"monospace\" font-size=\"10.00\">ReluBackward0</text>\n",
       "</g>\n",
       "<!-- 138478223263872&#45;&gt;138477146128944 -->\n",
       "<g id=\"edge21\" class=\"edge\">\n",
       "<title>138478223263872&#45;&gt;138477146128944</title>\n",
       "<path fill=\"none\" stroke=\"black\" d=\"M220.5,-66.79C220.5,-60.07 220.5,-50.4 220.5,-41.34\"/>\n",
       "<polygon fill=\"black\" stroke=\"black\" points=\"224,-41.19 220.5,-31.19 217,-41.19 224,-41.19\"/>\n",
       "</g>\n",
       "<!-- 138478756322640 -->\n",
       "<g id=\"node3\" class=\"node\">\n",
       "<title>138478756322640</title>\n",
       "<polygon fill=\"lightgrey\" stroke=\"black\" points=\"271,-141 170,-141 170,-122 271,-122 271,-141\"/>\n",
       "<text text-anchor=\"middle\" x=\"220.5\" y=\"-129\" font-family=\"monospace\" font-size=\"10.00\">AddmmBackward0</text>\n",
       "</g>\n",
       "<!-- 138478756322640&#45;&gt;138478223263872 -->\n",
       "<g id=\"edge1\" class=\"edge\">\n",
       "<title>138478756322640&#45;&gt;138478223263872</title>\n",
       "<path fill=\"none\" stroke=\"black\" d=\"M220.5,-121.75C220.5,-114.8 220.5,-104.85 220.5,-96.13\"/>\n",
       "<polygon fill=\"black\" stroke=\"black\" points=\"224,-96.09 220.5,-86.09 217,-96.09 224,-96.09\"/>\n",
       "</g>\n",
       "<!-- 138477229631632 -->\n",
       "<g id=\"node4\" class=\"node\">\n",
       "<title>138477229631632</title>\n",
       "<polygon fill=\"lightgrey\" stroke=\"black\" points=\"148,-196 47,-196 47,-177 148,-177 148,-196\"/>\n",
       "<text text-anchor=\"middle\" x=\"97.5\" y=\"-184\" font-family=\"monospace\" font-size=\"10.00\">AccumulateGrad</text>\n",
       "</g>\n",
       "<!-- 138477229631632&#45;&gt;138478756322640 -->\n",
       "<g id=\"edge2\" class=\"edge\">\n",
       "<title>138477229631632&#45;&gt;138478756322640</title>\n",
       "<path fill=\"none\" stroke=\"black\" d=\"M117.26,-176.98C137.23,-168.38 168.3,-154.99 191.15,-145.15\"/>\n",
       "<polygon fill=\"black\" stroke=\"black\" points=\"192.58,-148.34 200.38,-141.17 189.81,-141.91 192.58,-148.34\"/>\n",
       "</g>\n",
       "<!-- 138478223559728 -->\n",
       "<g id=\"node5\" class=\"node\">\n",
       "<title>138478223559728</title>\n",
       "<polygon fill=\"lightblue\" stroke=\"black\" points=\"152,-262 27,-262 27,-232 152,-232 152,-262\"/>\n",
       "<text text-anchor=\"middle\" x=\"89.5\" y=\"-250\" font-family=\"monospace\" font-size=\"10.00\">layer_stack.5.bias</text>\n",
       "<text text-anchor=\"middle\" x=\"89.5\" y=\"-239\" font-family=\"monospace\" font-size=\"10.00\"> (10)</text>\n",
       "</g>\n",
       "<!-- 138478223559728&#45;&gt;138477229631632 -->\n",
       "<g id=\"edge3\" class=\"edge\">\n",
       "<title>138478223559728&#45;&gt;138477229631632</title>\n",
       "<path fill=\"none\" stroke=\"black\" d=\"M91.44,-231.84C92.48,-224.21 93.78,-214.7 94.91,-206.45\"/>\n",
       "<polygon fill=\"black\" stroke=\"black\" points=\"98.41,-206.65 96.3,-196.27 91.48,-205.7 98.41,-206.65\"/>\n",
       "</g>\n",
       "<!-- 138477166808176 -->\n",
       "<g id=\"node6\" class=\"node\">\n",
       "<title>138477166808176</title>\n",
       "<polygon fill=\"lightgrey\" stroke=\"black\" points=\"268,-196 173,-196 173,-177 268,-177 268,-196\"/>\n",
       "<text text-anchor=\"middle\" x=\"220.5\" y=\"-184\" font-family=\"monospace\" font-size=\"10.00\">ReluBackward0</text>\n",
       "</g>\n",
       "<!-- 138477166808176&#45;&gt;138478756322640 -->\n",
       "<g id=\"edge4\" class=\"edge\">\n",
       "<title>138477166808176&#45;&gt;138478756322640</title>\n",
       "<path fill=\"none\" stroke=\"black\" d=\"M220.5,-176.75C220.5,-169.8 220.5,-159.85 220.5,-151.13\"/>\n",
       "<polygon fill=\"black\" stroke=\"black\" points=\"224,-151.09 220.5,-141.09 217,-151.09 224,-151.09\"/>\n",
       "</g>\n",
       "<!-- 138478224714304 -->\n",
       "<g id=\"node7\" class=\"node\">\n",
       "<title>138478224714304</title>\n",
       "<polygon fill=\"lightgrey\" stroke=\"black\" points=\"271,-256.5 170,-256.5 170,-237.5 271,-237.5 271,-256.5\"/>\n",
       "<text text-anchor=\"middle\" x=\"220.5\" y=\"-244.5\" font-family=\"monospace\" font-size=\"10.00\">AddmmBackward0</text>\n",
       "</g>\n",
       "<!-- 138478224714304&#45;&gt;138477166808176 -->\n",
       "<g id=\"edge5\" class=\"edge\">\n",
       "<title>138478224714304&#45;&gt;138477166808176</title>\n",
       "<path fill=\"none\" stroke=\"black\" d=\"M220.5,-237.37C220.5,-229.25 220.5,-216.81 220.5,-206.39\"/>\n",
       "<polygon fill=\"black\" stroke=\"black\" points=\"224,-206.17 220.5,-196.17 217,-206.17 224,-206.17\"/>\n",
       "</g>\n",
       "<!-- 138478224708688 -->\n",
       "<g id=\"node8\" class=\"node\">\n",
       "<title>138478224708688</title>\n",
       "<polygon fill=\"lightgrey\" stroke=\"black\" points=\"120,-322.5 19,-322.5 19,-303.5 120,-303.5 120,-322.5\"/>\n",
       "<text text-anchor=\"middle\" x=\"69.5\" y=\"-310.5\" font-family=\"monospace\" font-size=\"10.00\">AccumulateGrad</text>\n",
       "</g>\n",
       "<!-- 138478224708688&#45;&gt;138478224714304 -->\n",
       "<g id=\"edge6\" class=\"edge\">\n",
       "<title>138478224708688&#45;&gt;138478224714304</title>\n",
       "<path fill=\"none\" stroke=\"black\" d=\"M89.86,-303.37C115.76,-292.39 160.67,-273.36 190.49,-260.72\"/>\n",
       "<polygon fill=\"black\" stroke=\"black\" points=\"192.13,-263.82 199.98,-256.7 189.4,-257.38 192.13,-263.82\"/>\n",
       "</g>\n",
       "<!-- 138478069592896 -->\n",
       "<g id=\"node9\" class=\"node\">\n",
       "<title>138478069592896</title>\n",
       "<polygon fill=\"lightblue\" stroke=\"black\" points=\"125,-394 0,-394 0,-364 125,-364 125,-394\"/>\n",
       "<text text-anchor=\"middle\" x=\"62.5\" y=\"-382\" font-family=\"monospace\" font-size=\"10.00\">layer_stack.3.bias</text>\n",
       "<text text-anchor=\"middle\" x=\"62.5\" y=\"-371\" font-family=\"monospace\" font-size=\"10.00\"> (128)</text>\n",
       "</g>\n",
       "<!-- 138478069592896&#45;&gt;138478224708688 -->\n",
       "<g id=\"edge7\" class=\"edge\">\n",
       "<title>138478069592896&#45;&gt;138478224708688</title>\n",
       "<path fill=\"none\" stroke=\"black\" d=\"M64.05,-363.8C65.05,-354.7 66.35,-342.79 67.43,-332.9\"/>\n",
       "<polygon fill=\"black\" stroke=\"black\" points=\"70.92,-333.17 68.53,-322.84 63.97,-332.4 70.92,-333.17\"/>\n",
       "</g>\n",
       "<!-- 138478224711472 -->\n",
       "<g id=\"node10\" class=\"node\">\n",
       "<title>138478224711472</title>\n",
       "<polygon fill=\"lightgrey\" stroke=\"black\" points=\"241,-322.5 146,-322.5 146,-303.5 241,-303.5 241,-322.5\"/>\n",
       "<text text-anchor=\"middle\" x=\"193.5\" y=\"-310.5\" font-family=\"monospace\" font-size=\"10.00\">ReluBackward0</text>\n",
       "</g>\n",
       "<!-- 138478224711472&#45;&gt;138478224714304 -->\n",
       "<g id=\"edge8\" class=\"edge\">\n",
       "<title>138478224711472&#45;&gt;138478224714304</title>\n",
       "<path fill=\"none\" stroke=\"black\" d=\"M197.14,-303.37C201.14,-293.88 207.69,-278.36 212.84,-266.16\"/>\n",
       "<polygon fill=\"black\" stroke=\"black\" points=\"216.08,-267.48 216.74,-256.91 209.63,-264.76 216.08,-267.48\"/>\n",
       "</g>\n",
       "<!-- 138478224705664 -->\n",
       "<g id=\"node11\" class=\"node\">\n",
       "<title>138478224705664</title>\n",
       "<polygon fill=\"lightgrey\" stroke=\"black\" points=\"244,-388.5 143,-388.5 143,-369.5 244,-369.5 244,-388.5\"/>\n",
       "<text text-anchor=\"middle\" x=\"193.5\" y=\"-376.5\" font-family=\"monospace\" font-size=\"10.00\">AddmmBackward0</text>\n",
       "</g>\n",
       "<!-- 138478224705664&#45;&gt;138478224711472 -->\n",
       "<g id=\"edge9\" class=\"edge\">\n",
       "<title>138478224705664&#45;&gt;138478224711472</title>\n",
       "<path fill=\"none\" stroke=\"black\" d=\"M193.5,-369.37C193.5,-360.16 193.5,-345.29 193.5,-333.27\"/>\n",
       "<polygon fill=\"black\" stroke=\"black\" points=\"197,-332.91 193.5,-322.91 190,-332.91 197,-332.91\"/>\n",
       "</g>\n",
       "<!-- 138478224714112 -->\n",
       "<g id=\"node12\" class=\"node\">\n",
       "<title>138478224714112</title>\n",
       "<polygon fill=\"lightgrey\" stroke=\"black\" points=\"125,-454.5 24,-454.5 24,-435.5 125,-435.5 125,-454.5\"/>\n",
       "<text text-anchor=\"middle\" x=\"74.5\" y=\"-442.5\" font-family=\"monospace\" font-size=\"10.00\">AccumulateGrad</text>\n",
       "</g>\n",
       "<!-- 138478224714112&#45;&gt;138478224705664 -->\n",
       "<g id=\"edge10\" class=\"edge\">\n",
       "<title>138478224714112&#45;&gt;138478224705664</title>\n",
       "<path fill=\"none\" stroke=\"black\" d=\"M90.55,-435.37C110.51,-424.63 144.82,-406.18 168.3,-393.55\"/>\n",
       "<polygon fill=\"black\" stroke=\"black\" points=\"170.18,-396.52 177.33,-388.7 166.86,-390.35 170.18,-396.52\"/>\n",
       "</g>\n",
       "<!-- 138478223569728 -->\n",
       "<g id=\"node13\" class=\"node\">\n",
       "<title>138478223569728</title>\n",
       "<polygon fill=\"lightblue\" stroke=\"black\" points=\"131,-526 6,-526 6,-496 131,-496 131,-526\"/>\n",
       "<text text-anchor=\"middle\" x=\"68.5\" y=\"-514\" font-family=\"monospace\" font-size=\"10.00\">layer_stack.1.bias</text>\n",
       "<text text-anchor=\"middle\" x=\"68.5\" y=\"-503\" font-family=\"monospace\" font-size=\"10.00\"> (128)</text>\n",
       "</g>\n",
       "<!-- 138478223569728&#45;&gt;138478224714112 -->\n",
       "<g id=\"edge11\" class=\"edge\">\n",
       "<title>138478223569728&#45;&gt;138478224714112</title>\n",
       "<path fill=\"none\" stroke=\"black\" d=\"M69.83,-495.8C70.68,-486.7 71.8,-474.79 72.73,-464.9\"/>\n",
       "<polygon fill=\"black\" stroke=\"black\" points=\"76.22,-465.13 73.67,-454.84 69.25,-464.47 76.22,-465.13\"/>\n",
       "</g>\n",
       "<!-- 138478224710800 -->\n",
       "<g id=\"node14\" class=\"node\">\n",
       "<title>138478224710800</title>\n",
       "<polygon fill=\"lightgrey\" stroke=\"black\" points=\"232,-454.5 155,-454.5 155,-435.5 232,-435.5 232,-454.5\"/>\n",
       "<text text-anchor=\"middle\" x=\"193.5\" y=\"-442.5\" font-family=\"monospace\" font-size=\"10.00\">TBackward0</text>\n",
       "</g>\n",
       "<!-- 138478224710800&#45;&gt;138478224705664 -->\n",
       "<g id=\"edge12\" class=\"edge\">\n",
       "<title>138478224710800&#45;&gt;138478224705664</title>\n",
       "<path fill=\"none\" stroke=\"black\" d=\"M193.5,-435.37C193.5,-426.16 193.5,-411.29 193.5,-399.27\"/>\n",
       "<polygon fill=\"black\" stroke=\"black\" points=\"197,-398.91 193.5,-388.91 190,-398.91 197,-398.91\"/>\n",
       "</g>\n",
       "<!-- 138478233948784 -->\n",
       "<g id=\"node15\" class=\"node\">\n",
       "<title>138478233948784</title>\n",
       "<polygon fill=\"lightgrey\" stroke=\"black\" points=\"250,-520.5 149,-520.5 149,-501.5 250,-501.5 250,-520.5\"/>\n",
       "<text text-anchor=\"middle\" x=\"199.5\" y=\"-508.5\" font-family=\"monospace\" font-size=\"10.00\">AccumulateGrad</text>\n",
       "</g>\n",
       "<!-- 138478233948784&#45;&gt;138478224710800 -->\n",
       "<g id=\"edge13\" class=\"edge\">\n",
       "<title>138478233948784&#45;&gt;138478224710800</title>\n",
       "<path fill=\"none\" stroke=\"black\" d=\"M198.69,-501.37C197.82,-492.07 196.4,-476.98 195.27,-464.9\"/>\n",
       "<polygon fill=\"black\" stroke=\"black\" points=\"198.75,-464.53 194.33,-454.91 191.78,-465.19 198.75,-464.53\"/>\n",
       "</g>\n",
       "<!-- 138478221374112 -->\n",
       "<g id=\"node16\" class=\"node\">\n",
       "<title>138478221374112</title>\n",
       "<polygon fill=\"lightblue\" stroke=\"black\" points=\"268,-592 131,-592 131,-562 268,-562 268,-592\"/>\n",
       "<text text-anchor=\"middle\" x=\"199.5\" y=\"-580\" font-family=\"monospace\" font-size=\"10.00\">layer_stack.1.weight</text>\n",
       "<text text-anchor=\"middle\" x=\"199.5\" y=\"-569\" font-family=\"monospace\" font-size=\"10.00\"> (128, 784)</text>\n",
       "</g>\n",
       "<!-- 138478221374112&#45;&gt;138478233948784 -->\n",
       "<g id=\"edge14\" class=\"edge\">\n",
       "<title>138478221374112&#45;&gt;138478233948784</title>\n",
       "<path fill=\"none\" stroke=\"black\" d=\"M199.5,-561.8C199.5,-552.7 199.5,-540.79 199.5,-530.9\"/>\n",
       "<polygon fill=\"black\" stroke=\"black\" points=\"203,-530.84 199.5,-520.84 196,-530.84 203,-530.84\"/>\n",
       "</g>\n",
       "<!-- 138478224709552 -->\n",
       "<g id=\"node17\" class=\"node\">\n",
       "<title>138478224709552</title>\n",
       "<polygon fill=\"lightgrey\" stroke=\"black\" points=\"336,-322.5 259,-322.5 259,-303.5 336,-303.5 336,-322.5\"/>\n",
       "<text text-anchor=\"middle\" x=\"297.5\" y=\"-310.5\" font-family=\"monospace\" font-size=\"10.00\">TBackward0</text>\n",
       "</g>\n",
       "<!-- 138478224709552&#45;&gt;138478224714304 -->\n",
       "<g id=\"edge15\" class=\"edge\">\n",
       "<title>138478224709552&#45;&gt;138478224714304</title>\n",
       "<path fill=\"none\" stroke=\"black\" d=\"M287.12,-303.37C274.78,-293.12 253.99,-275.84 238.91,-263.31\"/>\n",
       "<polygon fill=\"black\" stroke=\"black\" points=\"241.14,-260.61 231.21,-256.91 236.67,-265.99 241.14,-260.61\"/>\n",
       "</g>\n",
       "<!-- 138478224713872 -->\n",
       "<g id=\"node18\" class=\"node\">\n",
       "<title>138478224713872</title>\n",
       "<polygon fill=\"lightgrey\" stroke=\"black\" points=\"366,-388.5 265,-388.5 265,-369.5 366,-369.5 366,-388.5\"/>\n",
       "<text text-anchor=\"middle\" x=\"315.5\" y=\"-376.5\" font-family=\"monospace\" font-size=\"10.00\">AccumulateGrad</text>\n",
       "</g>\n",
       "<!-- 138478224713872&#45;&gt;138478224709552 -->\n",
       "<g id=\"edge16\" class=\"edge\">\n",
       "<title>138478224713872&#45;&gt;138478224709552</title>\n",
       "<path fill=\"none\" stroke=\"black\" d=\"M313.07,-369.37C310.46,-360.07 306.21,-344.98 302.82,-332.9\"/>\n",
       "<polygon fill=\"black\" stroke=\"black\" points=\"306.08,-331.58 300,-322.91 299.34,-333.48 306.08,-331.58\"/>\n",
       "</g>\n",
       "<!-- 138478221370832 -->\n",
       "<g id=\"node19\" class=\"node\">\n",
       "<title>138478221370832</title>\n",
       "<polygon fill=\"lightblue\" stroke=\"black\" points=\"387,-460 250,-460 250,-430 387,-430 387,-460\"/>\n",
       "<text text-anchor=\"middle\" x=\"318.5\" y=\"-448\" font-family=\"monospace\" font-size=\"10.00\">layer_stack.3.weight</text>\n",
       "<text text-anchor=\"middle\" x=\"318.5\" y=\"-437\" font-family=\"monospace\" font-size=\"10.00\"> (128, 128)</text>\n",
       "</g>\n",
       "<!-- 138478221370832&#45;&gt;138478224713872 -->\n",
       "<g id=\"edge17\" class=\"edge\">\n",
       "<title>138478221370832&#45;&gt;138478224713872</title>\n",
       "<path fill=\"none\" stroke=\"black\" d=\"M317.83,-429.8C317.41,-420.7 316.85,-408.79 316.39,-398.9\"/>\n",
       "<polygon fill=\"black\" stroke=\"black\" points=\"319.88,-398.67 315.91,-388.84 312.89,-399 319.88,-398.67\"/>\n",
       "</g>\n",
       "<!-- 138478226032624 -->\n",
       "<g id=\"node20\" class=\"node\">\n",
       "<title>138478226032624</title>\n",
       "<polygon fill=\"lightgrey\" stroke=\"black\" points=\"398,-196 321,-196 321,-177 398,-177 398,-196\"/>\n",
       "<text text-anchor=\"middle\" x=\"359.5\" y=\"-184\" font-family=\"monospace\" font-size=\"10.00\">TBackward0</text>\n",
       "</g>\n",
       "<!-- 138478226032624&#45;&gt;138478756322640 -->\n",
       "<g id=\"edge18\" class=\"edge\">\n",
       "<title>138478226032624&#45;&gt;138478756322640</title>\n",
       "<path fill=\"none\" stroke=\"black\" d=\"M337.17,-176.98C314.3,-168.27 278.54,-154.63 252.64,-144.75\"/>\n",
       "<polygon fill=\"black\" stroke=\"black\" points=\"253.83,-141.46 243.24,-141.17 251.34,-148 253.83,-141.46\"/>\n",
       "</g>\n",
       "<!-- 138478224710752 -->\n",
       "<g id=\"node21\" class=\"node\">\n",
       "<title>138478224710752</title>\n",
       "<polygon fill=\"lightgrey\" stroke=\"black\" points=\"445,-256.5 344,-256.5 344,-237.5 445,-237.5 445,-256.5\"/>\n",
       "<text text-anchor=\"middle\" x=\"394.5\" y=\"-244.5\" font-family=\"monospace\" font-size=\"10.00\">AccumulateGrad</text>\n",
       "</g>\n",
       "<!-- 138478224710752&#45;&gt;138478226032624 -->\n",
       "<g id=\"edge19\" class=\"edge\">\n",
       "<title>138478224710752&#45;&gt;138478226032624</title>\n",
       "<path fill=\"none\" stroke=\"black\" d=\"M389.34,-237.37C384.27,-228.9 376.4,-215.74 370.01,-205.07\"/>\n",
       "<polygon fill=\"black\" stroke=\"black\" points=\"372.82,-202.95 364.69,-196.17 366.82,-206.55 372.82,-202.95\"/>\n",
       "</g>\n",
       "<!-- 138478299919248 -->\n",
       "<g id=\"node22\" class=\"node\">\n",
       "<title>138478299919248</title>\n",
       "<polygon fill=\"lightblue\" stroke=\"black\" points=\"491,-328 354,-328 354,-298 491,-298 491,-328\"/>\n",
       "<text text-anchor=\"middle\" x=\"422.5\" y=\"-316\" font-family=\"monospace\" font-size=\"10.00\">layer_stack.5.weight</text>\n",
       "<text text-anchor=\"middle\" x=\"422.5\" y=\"-305\" font-family=\"monospace\" font-size=\"10.00\"> (10, 128)</text>\n",
       "</g>\n",
       "<!-- 138478299919248&#45;&gt;138478224710752 -->\n",
       "<g id=\"edge20\" class=\"edge\">\n",
       "<title>138478299919248&#45;&gt;138478224710752</title>\n",
       "<path fill=\"none\" stroke=\"black\" d=\"M416.29,-297.8C412.22,-288.5 406.87,-276.27 402.49,-266.26\"/>\n",
       "<polygon fill=\"black\" stroke=\"black\" points=\"405.58,-264.6 398.37,-256.84 399.17,-267.41 405.58,-264.6\"/>\n",
       "</g>\n",
       "</g>\n",
       "</svg>\n"
      ],
      "text/plain": [
       "<graphviz.graphs.Digraph at 0x7df1f95ea240>"
      ]
     },
     "execution_count": 224,
     "metadata": {},
     "output_type": "execute_result"
    }
   ],
   "source": [
    "# Plot the model\n",
    "from torchviz import make_dot\n",
    "x = torch.randn(1, 28*28).to(device)\n",
    "make_dot(model_1(x), params=dict(model_1.named_parameters()))\n"
   ]
  },
  {
   "cell_type": "markdown",
   "metadata": {},
   "source": [
    "### 6.1 Setup loss, optimizer, and evaluation metrics"
   ]
  },
  {
   "cell_type": "code",
   "execution_count": 225,
   "metadata": {},
   "outputs": [],
   "source": [
    "loss_fn = nn.CrossEntropyLoss()\n",
    "optimizer = torch.optim.SGD(params=model_1.parameters(), \n",
    "                 lr=1e-3)\n",
    "\n",
    "accuracy = Accuracy(task=\"multiclass\", num_classes=len(class_names))"
   ]
  },
  {
   "cell_type": "markdown",
   "metadata": {},
   "source": [
    "### 6.2 FUnctionnizing the training and testing loop\n",
    "\n",
    "Let'S create a function to train and evaluate the model\n",
    "\n",
    "* Training loop - `train_step()`\n",
    "* Testing step - `test_step()`"
   ]
  },
  {
   "cell_type": "code",
   "execution_count": 247,
   "metadata": {},
   "outputs": [],
   "source": [
    "def train_step(model: torch.nn.Module,\n",
    "               data_loader: torch.utils.data.DataLoader,\n",
    "               loss_fn: torch.nn.Module,\n",
    "               optimizer: torch.optim.Optimizer,\n",
    "               device: torch.device) -> None:\n",
    "    \n",
    "    \"\"\"Performs a training with model trying to learn on data_loader.\n",
    "    \"\"\"\n",
    "\n",
    "    train_loss, train_acc = 0.0, 0.0\n",
    "\n",
    "    # Set the model to training mode\n",
    "    model.train()\n",
    "    \n",
    "    # Iterate over the training data\n",
    "    for batch, (data, target) in enumerate(train_dataloader):\n",
    "        # Move the data to the device\n",
    "        data, target = data.to(device), target.to(device)\n",
    "\n",
    "        # Forward pass\n",
    "        output = model(data)\n",
    "\n",
    "        # Calculate the loss and accuracy (per batch)\n",
    "        loss = loss_fn(output, target)\n",
    "        accuracy.update(output, target)\n",
    "        train_loss += loss.item()\n",
    "        train_acc = accuracy.compute()\n",
    "        \n",
    "        # Zero the gradients\n",
    "        optimizer.zero_grad()\n",
    "        \n",
    "        # Calculate the loss\n",
    "        loss = loss_fn(output, target)\n",
    "        \n",
    "        # Backward pass\n",
    "        loss.backward()\n",
    "        \n",
    "        # Optimize the weights\n",
    "        optimizer.step()\n",
    "\n",
    "        # Print out what's happening\n",
    "        if batch % 400 == 0:\n",
    "            print(f\"Batch {batch} Loss: {loss.item()} Accuracy: {accuracy.compute()}\")\n",
    "        \n",
    "    # Print out the final training loss\n",
    "    print(f\"Training loss: {train_loss / len(data_loader)}\")\n",
    "    print(f\"Training accuracy: {train_acc}\")\n"
   ]
  },
  {
   "cell_type": "code",
   "execution_count": 227,
   "metadata": {},
   "outputs": [],
   "source": [
    "def test_step(model:nn.Module,\n",
    "              data_loader:torch.utils.data.DataLoader,\n",
    "              loss_fn:torch.nn.Module,\n",
    "              accuracy:torchmetrics.Accuracy,\n",
    "              device:torch.device) -> None:\n",
    "    \"\"\"Performs a test step on the model.\n",
    "    \"\"\"\n",
    "\n",
    "    test_loss, test_acc = 0.0, 0.0\n",
    "\n",
    "    # Set the model to evaluation mode\n",
    "    model.eval()\n",
    "\n",
    "    with torch.inference_mode():\n",
    "        for data, target in data_loader:\n",
    "            data, target = data.to(device), target.to(device)\n",
    "            output = model(data)\n",
    "\n",
    "            # 1. Calculate the loss\n",
    "            loss = loss_fn(output, target)\n",
    "\n",
    "            # 2. Update the metrics\n",
    "            accuracy.update(output, target)\n",
    "\n",
    "            test_loss += loss.item()\n",
    "            test_acc = accuracy.compute()\n",
    "\n",
    "        # Print out the final test loss\n",
    "        print(f\"Test loss: {test_loss / len(data_loader)}\")\n",
    "        print(f\"Test accuracy: {test_acc}\")"
   ]
  },
  {
   "cell_type": "code",
   "execution_count": 228,
   "metadata": {},
   "outputs": [
    {
     "name": "stderr",
     "output_type": "stream",
     "text": [
      "  0%|          | 0/5 [00:00<?, ?it/s]"
     ]
    },
    {
     "name": "stdout",
     "output_type": "stream",
     "text": [
      "Epoch: 1/5\n",
      "Batch 0 Loss: 2.3033666610717773 Accuracy: 0.125\n",
      "Batch 100 Loss: 2.2911248207092285 Accuracy: 0.10148514807224274\n",
      "Batch 200 Loss: 2.307274580001831 Accuracy: 0.10401119291782379\n",
      "Batch 300 Loss: 2.2866334915161133 Accuracy: 0.11472176015377045\n",
      "Batch 400 Loss: 2.2968039512634277 Accuracy: 0.12951995432376862\n",
      "Batch 500 Loss: 2.288864850997925 Accuracy: 0.14814122021198273\n",
      "Batch 600 Loss: 2.268981456756592 Accuracy: 0.16399750113487244\n",
      "Batch 700 Loss: 2.251068115234375 Accuracy: 0.1789853721857071\n",
      "Batch 800 Loss: 2.2847542762756348 Accuracy: 0.19284488260746002\n",
      "Batch 900 Loss: 2.227459192276001 Accuracy: 0.204078808426857\n",
      "Batch 1000 Loss: 2.2942841053009033 Accuracy: 0.2124750316143036\n",
      "Batch 1100 Loss: 2.2192764282226562 Accuracy: 0.220566526055336\n",
      "Batch 1200 Loss: 2.257067918777466 Accuracy: 0.22816923260688782\n",
      "Batch 1300 Loss: 2.2237088680267334 Accuracy: 0.2343149483203888\n",
      "Batch 1400 Loss: 2.2194972038269043 Accuracy: 0.2388472557067871\n",
      "Batch 1500 Loss: 2.167292356491089 Accuracy: 0.24427464604377747\n",
      "Batch 1600 Loss: 2.213165044784546 Accuracy: 0.24902404844760895\n",
      "Batch 1700 Loss: 2.272498369216919 Accuracy: 0.25290271639823914\n",
      "Batch 1800 Loss: 2.21028470993042 Accuracy: 0.2553095519542694\n",
      "Training loss: 2.251142495727539\n",
      "Training accuracy: 0.25806665420532227\n"
     ]
    },
    {
     "name": "stderr",
     "output_type": "stream",
     "text": [
      " 20%|██        | 1/5 [00:09<00:39,  9.83s/it]"
     ]
    },
    {
     "name": "stdout",
     "output_type": "stream",
     "text": [
      "Test loss: 2.182039234965754\n",
      "Test accuracy: 0.2660142779350281\n",
      "----\n",
      "Epoch: 2/5\n",
      "Batch 0 Loss: 2.1435348987579346 Accuracy: 0.2660498023033142\n",
      "Batch 100 Loss: 2.138864278793335 Accuracy: 0.2685028314590454\n",
      "Batch 200 Loss: 2.1014883518218994 Accuracy: 0.27034488320350647\n",
      "Batch 300 Loss: 2.2201650142669678 Accuracy: 0.2720514237880707\n",
      "Batch 400 Loss: 2.1721677780151367 Accuracy: 0.27342090010643005\n",
      "Batch 500 Loss: 2.1494033336639404 Accuracy: 0.2747814655303955\n",
      "Batch 600 Loss: 2.0215377807617188 Accuracy: 0.27566343545913696\n",
      "Batch 700 Loss: 2.0715699195861816 Accuracy: 0.27681970596313477\n",
      "Batch 800 Loss: 2.1553094387054443 Accuracy: 0.27817049622535706\n",
      "Batch 900 Loss: 2.175123453140259 Accuracy: 0.27932247519493103\n",
      "Batch 1000 Loss: 2.1813628673553467 Accuracy: 0.28046104311943054\n",
      "Batch 1100 Loss: 2.0235486030578613 Accuracy: 0.2817964255809784\n",
      "Batch 1200 Loss: 2.099677562713623 Accuracy: 0.2830714285373688\n",
      "Batch 1300 Loss: 1.9794648885726929 Accuracy: 0.2841837406158447\n",
      "Batch 1400 Loss: 1.90451979637146 Accuracy: 0.2856782078742981\n",
      "Batch 1500 Loss: 1.988828420639038 Accuracy: 0.2873796820640564\n",
      "Batch 1600 Loss: 1.9068864583969116 Accuracy: 0.28832322359085083\n",
      "Batch 1700 Loss: 1.9174890518188477 Accuracy: 0.2896280586719513\n",
      "Batch 1800 Loss: 2.0474236011505127 Accuracy: 0.2911730706691742\n",
      "Training loss: 2.0660114709218345\n",
      "Training accuracy: 0.2921923100948334\n"
     ]
    },
    {
     "name": "stderr",
     "output_type": "stream",
     "text": [
      " 40%|████      | 2/5 [00:20<00:31, 10.35s/it]"
     ]
    },
    {
     "name": "stdout",
     "output_type": "stream",
     "text": [
      "Test loss: 1.9436213075162503\n",
      "Test accuracy: 0.29773572087287903\n",
      "----\n",
      "Epoch: 3/5\n",
      "Batch 0 Loss: 2.031404495239258 Accuracy: 0.2977319359779358\n",
      "Batch 100 Loss: 1.9673614501953125 Accuracy: 0.29949313402175903\n",
      "Batch 200 Loss: 1.7958804368972778 Accuracy: 0.30157342553138733\n",
      "Batch 300 Loss: 2.261046886444092 Accuracy: 0.3034377694129944\n",
      "Batch 400 Loss: 1.8002079725265503 Accuracy: 0.30540725588798523\n",
      "Batch 500 Loss: 1.8663439750671387 Accuracy: 0.3072574734687805\n",
      "Batch 600 Loss: 1.8209614753723145 Accuracy: 0.3092029094696045\n",
      "Batch 700 Loss: 1.8943936824798584 Accuracy: 0.3108192980289459\n",
      "Batch 800 Loss: 1.6596767902374268 Accuracy: 0.31228870153427124\n",
      "Batch 900 Loss: 1.9790319204330444 Accuracy: 0.31406369805336\n",
      "Batch 1000 Loss: 1.8195185661315918 Accuracy: 0.3158423900604248\n",
      "Batch 1100 Loss: 1.8148123025894165 Accuracy: 0.3173849582672119\n",
      "Batch 1200 Loss: 1.6840074062347412 Accuracy: 0.3188609778881073\n",
      "Batch 1300 Loss: 1.8785845041275024 Accuracy: 0.3204115927219391\n",
      "Batch 1400 Loss: 1.6810935735702515 Accuracy: 0.3215785026550293\n",
      "Batch 1500 Loss: 1.7058264017105103 Accuracy: 0.32301416993141174\n",
      "Batch 1600 Loss: 1.6319791078567505 Accuracy: 0.3243494927883148\n",
      "Batch 1700 Loss: 1.7229394912719727 Accuracy: 0.3257848620414734\n",
      "Batch 1800 Loss: 2.010662078857422 Accuracy: 0.3268802762031555\n",
      "Training loss: 1.8377668386459352\n",
      "Training accuracy: 0.3278749883174896\n"
     ]
    },
    {
     "name": "stderr",
     "output_type": "stream",
     "text": [
      " 60%|██████    | 3/5 [00:29<00:19,  9.68s/it]"
     ]
    },
    {
     "name": "stdout",
     "output_type": "stream",
     "text": [
      "Test loss: 1.745301363567194\n",
      "Test accuracy: 0.33176189661026\n",
      "----\n",
      "Epoch: 4/5\n",
      "Batch 0 Loss: 1.7678813934326172 Accuracy: 0.3317732512950897\n",
      "Batch 100 Loss: 1.5749245882034302 Accuracy: 0.33307382464408875\n",
      "Batch 200 Loss: 1.6186368465423584 Accuracy: 0.33446070551872253\n",
      "Batch 300 Loss: 1.7782173156738281 Accuracy: 0.33591189980506897\n",
      "Batch 400 Loss: 1.6445655822753906 Accuracy: 0.33698931336402893\n",
      "Batch 500 Loss: 1.5751842260360718 Accuracy: 0.3380362093448639\n",
      "Batch 600 Loss: 1.9609843492507935 Accuracy: 0.33886629343032837\n",
      "Batch 700 Loss: 1.9375009536743164 Accuracy: 0.3399445712566376\n",
      "Batch 800 Loss: 1.4277310371398926 Accuracy: 0.340951144695282\n",
      "Batch 900 Loss: 1.755516529083252 Accuracy: 0.3421568274497986\n",
      "Batch 1000 Loss: 1.853339672088623 Accuracy: 0.343289315700531\n",
      "Batch 1100 Loss: 1.4410984516143799 Accuracy: 0.34424951672554016\n",
      "Batch 1200 Loss: 1.7418920993804932 Accuracy: 0.34533795714378357\n",
      "Batch 1300 Loss: 1.3469315767288208 Accuracy: 0.3461165428161621\n",
      "Batch 1400 Loss: 1.8337476253509521 Accuracy: 0.3473033308982849\n",
      "Batch 1500 Loss: 1.373818278312683 Accuracy: 0.3482746183872223\n",
      "Batch 1600 Loss: 1.710286259651184 Accuracy: 0.3490269184112549\n",
      "Batch 1700 Loss: 1.7118844985961914 Accuracy: 0.34991225600242615\n",
      "Batch 1800 Loss: 1.4606682062149048 Accuracy: 0.35067927837371826\n",
      "Training loss: 1.6665462238311768\n",
      "Training accuracy: 0.3512185215950012\n"
     ]
    },
    {
     "name": "stderr",
     "output_type": "stream",
     "text": [
      " 80%|████████  | 4/5 [00:38<00:09,  9.49s/it]"
     ]
    },
    {
     "name": "stdout",
     "output_type": "stream",
     "text": [
      "Test loss: 1.5796803715891732\n",
      "Test accuracy: 0.35353928804397583\n",
      "----\n",
      "Epoch: 5/5\n",
      "Batch 0 Loss: 1.6400138139724731 Accuracy: 0.35354530811309814\n",
      "Batch 100 Loss: 1.5714389085769653 Accuracy: 0.35433849692344666\n",
      "Batch 200 Loss: 1.5361522436141968 Accuracy: 0.355068564414978\n",
      "Batch 300 Loss: 1.6613095998764038 Accuracy: 0.35567548871040344\n",
      "Batch 400 Loss: 1.4159119129180908 Accuracy: 0.35661745071411133\n",
      "Batch 500 Loss: 1.3906265497207642 Accuracy: 0.3573465049266815\n",
      "Batch 600 Loss: 1.4741400480270386 Accuracy: 0.35825714468955994\n",
      "Batch 700 Loss: 1.427647352218628 Accuracy: 0.35896995663642883\n",
      "Batch 800 Loss: 1.5448800325393677 Accuracy: 0.35961222648620605\n",
      "Batch 900 Loss: 1.6612303256988525 Accuracy: 0.3602929711341858\n",
      "Batch 1000 Loss: 1.3635848760604858 Accuracy: 0.3610847592353821\n",
      "Batch 1100 Loss: 1.4605371952056885 Accuracy: 0.3618065416812897\n",
      "Batch 1200 Loss: 1.4426908493041992 Accuracy: 0.3623662292957306\n",
      "Batch 1300 Loss: 1.71934974193573 Accuracy: 0.3631044030189514\n",
      "Batch 1400 Loss: 1.5889238119125366 Accuracy: 0.36384037137031555\n",
      "Batch 1500 Loss: 1.3768830299377441 Accuracy: 0.3644217550754547\n",
      "Batch 1600 Loss: 1.480446457862854 Accuracy: 0.36514589190483093\n",
      "Batch 1700 Loss: 1.6341900825500488 Accuracy: 0.36584118008613586\n",
      "Batch 1800 Loss: 1.5622512102127075 Accuracy: 0.3663693070411682\n",
      "Training loss: 1.5282952413876851\n",
      "Training accuracy: 0.36674413084983826\n"
     ]
    },
    {
     "name": "stderr",
     "output_type": "stream",
     "text": [
      "100%|██████████| 5/5 [00:46<00:00,  9.39s/it]"
     ]
    },
    {
     "name": "stdout",
     "output_type": "stream",
     "text": [
      "Test loss: 1.4875363618040238\n",
      "Test accuracy: 0.36866286396980286\n",
      "----\n",
      "Training time on cpu: 46.954 seconds\n"
     ]
    },
    {
     "name": "stderr",
     "output_type": "stream",
     "text": [
      "\n"
     ]
    }
   ],
   "source": [
    "# Measure the time it takes to train the model\n",
    "train_time_start = timer()\n",
    "\n",
    "# Set the number of epochs\n",
    "EPOCHS = 5\n",
    "\n",
    "# Train the model\n",
    "for epoch in tqdm(range(EPOCHS)):\n",
    "    print(f\"Epoch: {epoch + 1}/{EPOCHS}\")\n",
    "    train_step(model=model_1,\n",
    "               data_loader=train_dataloader,\n",
    "               loss_fn=loss_fn,\n",
    "               optimizer=optimizer,\n",
    "               device=device)\n",
    "    \n",
    "    test_step(model=model_1,\n",
    "                data_loader=test_dataloader,\n",
    "                loss_fn=loss_fn,\n",
    "                accuracy=accuracy,\n",
    "                device=device)\n",
    "    \n",
    "    print(\"----\")\n",
    "\n",
    "train_time_end = timer()\n",
    "\n",
    "total_train_time_model_1 = print_train_time(start=train_time_start, end=train_time_end, device=device)"
   ]
  },
  {
   "cell_type": "code",
   "execution_count": 229,
   "metadata": {},
   "outputs": [
    {
     "name": "stderr",
     "output_type": "stream",
     "text": [
      "100%|██████████| 313/313 [00:01<00:00, 221.88it/s]\n"
     ]
    }
   ],
   "source": [
    "model_1_results = eval_model(model=model_1,\n",
    "                                data_loader=test_dataloader,\n",
    "                                loss_fn=loss_fn,\n",
    "                                accuracy=accuracy,\n",
    "                                precision=precision,\n",
    "                                recall=recall,\n",
    "                                device=device)"
   ]
  },
  {
   "cell_type": "code",
   "execution_count": 230,
   "metadata": {},
   "outputs": [
    {
     "data": {
      "text/plain": [
       "{'model_name': 'FashionMNISTModelV1',\n",
       " 'loss': 1.487535834312439,\n",
       " 'accuracy': 0.36959874629974365,\n",
       " 'precision': 0.7408839464187622,\n",
       " 'recall': 0.7408839464187622}"
      ]
     },
     "execution_count": 230,
     "metadata": {},
     "output_type": "execute_result"
    }
   ],
   "source": [
    "model_1_results"
   ]
  },
  {
   "cell_type": "markdown",
   "metadata": {},
   "source": [
    "## Model 2: Building a CNN model\n",
    "\n",
    "CNN's are also know as Convolutional Neural Networks. They are a type of neural network that are particularly good at learning patterns in images."
   ]
  },
  {
   "cell_type": "code",
   "execution_count": 231,
   "metadata": {},
   "outputs": [],
   "source": [
    "# Create a covolution neural network model\n",
    "class FashionMNISTModelV2(nn.Module):\n",
    "    \"\"\"A simple model for FashionMNIST.\n",
    "\n",
    "    Args:\n",
    "        nn (nn.Module): The PyTorch neural network module.\n",
    "    \"\"\"\n",
    "    def __init__(self,\n",
    "                 input_shape: int,\n",
    "                 output_shape: int,\n",
    "                 hidden_units: int):\n",
    "        super(FashionMNISTModelV2, self).__init__()\n",
    "        \n",
    "        self.conv_block_01 = nn.Sequential(\n",
    "            nn.Conv2d(in_channels=input_shape,\n",
    "                      out_channels=hidden_units,\n",
    "                      kernel_size=3,\n",
    "                      stride=1,\n",
    "                      padding=1),\n",
    "            nn.ReLU(),\n",
    "            nn.Conv2d(in_channels=hidden_units,\n",
    "                        out_channels=hidden_units,\n",
    "                        kernel_size=3,\n",
    "                        stride=1,\n",
    "                        padding=1),\n",
    "            nn.ReLU(),\n",
    "            nn.MaxPool2d(kernel_size=2)\n",
    "        )\n",
    "\n",
    "        self.conv_block_02 = nn.Sequential(\n",
    "            nn.Conv2d(in_channels=hidden_units,\n",
    "                      out_channels=hidden_units,\n",
    "                      kernel_size=3,\n",
    "                      stride=1,\n",
    "                      padding=1),\n",
    "            nn.ReLU(),\n",
    "            nn.Conv2d(in_channels=hidden_units,\n",
    "                      out_channels=hidden_units,\n",
    "                      kernel_size=3,\n",
    "                      stride=1,\n",
    "                      padding=1),\n",
    "            nn.ReLU(),\n",
    "            nn.MaxPool2d(kernel_size=2)\n",
    "        )\n",
    "\n",
    "        self.classifier = nn.Sequential(\n",
    "            nn.Flatten(),\n",
    "            nn.Linear(in_features=hidden_units*7*7,\n",
    "                      out_features=hidden_units*2),\n",
    "            nn.ReLU(),\n",
    "            nn.Linear(in_features=hidden_units*2,\n",
    "                      out_features=output_shape)\n",
    "        )\n",
    "    \n",
    "    def forward(self, x: torch.Tensor) -> torch.Tensor:\n",
    "        \"\"\"Forward pass of the model.\n",
    "\n",
    "        Args:\n",
    "            x (torch.Tensor): The input data.\n",
    "\n",
    "        Returns:\n",
    "            torch.Tensor: The output of the model.\n",
    "        \"\"\"\n",
    "        x = self.conv_block_01(x)\n",
    "        # print(f\"Output shape after conv_block_01: {x.shape}\")\n",
    "        x = self.conv_block_02(x)\n",
    "        # print(f\"Output shape after conv_block_02: {x.shape}\")\n",
    "        x = self.classifier(x)\n",
    "        return x"
   ]
  },
  {
   "cell_type": "code",
   "execution_count": 232,
   "metadata": {},
   "outputs": [
    {
     "data": {
      "text/plain": [
       "torch.Size([1, 28, 28])"
      ]
     },
     "execution_count": 232,
     "metadata": {},
     "output_type": "execute_result"
    }
   ],
   "source": [
    "\n",
    "image.shape"
   ]
  },
  {
   "cell_type": "code",
   "execution_count": 233,
   "metadata": {},
   "outputs": [],
   "source": [
    "# Create an instance of the model\n",
    "model_2 = FashionMNISTModelV2(input_shape=1,\n",
    "                               output_shape=len(class_names),\n",
    "                               hidden_units=32)"
   ]
  },
  {
   "cell_type": "code",
   "execution_count": 234,
   "metadata": {},
   "outputs": [
    {
     "data": {
      "text/plain": [
       "torch.Size([1, 10])"
      ]
     },
     "execution_count": 234,
     "metadata": {},
     "output_type": "execute_result"
    }
   ],
   "source": [
    "model_2(image.unsqueeze(0)).shape"
   ]
  },
  {
   "cell_type": "code",
   "execution_count": 235,
   "metadata": {},
   "outputs": [
    {
     "data": {
      "image/svg+xml": [
       "<?xml version=\"1.0\" encoding=\"UTF-8\" standalone=\"no\"?>\n",
       "<!DOCTYPE svg PUBLIC \"-//W3C//DTD SVG 1.1//EN\"\n",
       " \"http://www.w3.org/Graphics/SVG/1.1/DTD/svg11.dtd\">\n",
       "<!-- Generated by graphviz version 2.43.0 (0)\n",
       " -->\n",
       "<!-- Title: %3 Pages: 1 -->\n",
       "<svg width=\"817pt\" height=\"875pt\"\n",
       " viewBox=\"0.00 0.00 816.78 875.00\" xmlns=\"http://www.w3.org/2000/svg\" xmlns:xlink=\"http://www.w3.org/1999/xlink\">\n",
       "<g id=\"graph0\" class=\"graph\" transform=\"scale(0.87 0.87) rotate(0) translate(4 1003)\">\n",
       "<title>%3</title>\n",
       "<polygon fill=\"white\" stroke=\"transparent\" points=\"-4,4 -4,-1003 936,-1003 936,4 -4,4\"/>\n",
       "<!-- 138478221463936 -->\n",
       "<g id=\"node1\" class=\"node\">\n",
       "<title>138478221463936</title>\n",
       "<polygon fill=\"#caff70\" stroke=\"black\" points=\"700,-31 635,-31 635,0 700,0 700,-31\"/>\n",
       "<text text-anchor=\"middle\" x=\"667.5\" y=\"-7\" font-family=\"monospace\" font-size=\"10.00\"> (1, 10)</text>\n",
       "</g>\n",
       "<!-- 138477155993776 -->\n",
       "<g id=\"node2\" class=\"node\">\n",
       "<title>138477155993776</title>\n",
       "<polygon fill=\"lightgrey\" stroke=\"black\" points=\"718,-86 617,-86 617,-67 718,-67 718,-86\"/>\n",
       "<text text-anchor=\"middle\" x=\"667.5\" y=\"-74\" font-family=\"monospace\" font-size=\"10.00\">AddmmBackward0</text>\n",
       "</g>\n",
       "<!-- 138477155993776&#45;&gt;138478221463936 -->\n",
       "<g id=\"edge40\" class=\"edge\">\n",
       "<title>138477155993776&#45;&gt;138478221463936</title>\n",
       "<path fill=\"none\" stroke=\"black\" d=\"M667.5,-66.79C667.5,-60.07 667.5,-50.4 667.5,-41.34\"/>\n",
       "<polygon fill=\"black\" stroke=\"black\" points=\"671,-41.19 667.5,-31.19 664,-41.19 671,-41.19\"/>\n",
       "</g>\n",
       "<!-- 138477156003952 -->\n",
       "<g id=\"node3\" class=\"node\">\n",
       "<title>138477156003952</title>\n",
       "<polygon fill=\"lightgrey\" stroke=\"black\" points=\"596,-141 495,-141 495,-122 596,-122 596,-141\"/>\n",
       "<text text-anchor=\"middle\" x=\"545.5\" y=\"-129\" font-family=\"monospace\" font-size=\"10.00\">AccumulateGrad</text>\n",
       "</g>\n",
       "<!-- 138477156003952&#45;&gt;138477155993776 -->\n",
       "<g id=\"edge1\" class=\"edge\">\n",
       "<title>138477156003952&#45;&gt;138477155993776</title>\n",
       "<path fill=\"none\" stroke=\"black\" d=\"M565.1,-121.98C584.82,-113.42 615.45,-100.11 638.08,-90.28\"/>\n",
       "<polygon fill=\"black\" stroke=\"black\" points=\"639.76,-93.37 647.54,-86.17 636.98,-86.94 639.76,-93.37\"/>\n",
       "</g>\n",
       "<!-- 138478221472656 -->\n",
       "<g id=\"node4\" class=\"node\">\n",
       "<title>138478221472656</title>\n",
       "<polygon fill=\"lightblue\" stroke=\"black\" points=\"599,-207 480,-207 480,-177 599,-177 599,-207\"/>\n",
       "<text text-anchor=\"middle\" x=\"539.5\" y=\"-195\" font-family=\"monospace\" font-size=\"10.00\">classifier.3.bias</text>\n",
       "<text text-anchor=\"middle\" x=\"539.5\" y=\"-184\" font-family=\"monospace\" font-size=\"10.00\"> (10)</text>\n",
       "</g>\n",
       "<!-- 138478221472656&#45;&gt;138477156003952 -->\n",
       "<g id=\"edge2\" class=\"edge\">\n",
       "<title>138478221472656&#45;&gt;138477156003952</title>\n",
       "<path fill=\"none\" stroke=\"black\" d=\"M540.95,-176.84C541.73,-169.21 542.71,-159.7 543.56,-151.45\"/>\n",
       "<polygon fill=\"black\" stroke=\"black\" points=\"547.06,-151.57 544.6,-141.27 540.1,-150.86 547.06,-151.57\"/>\n",
       "</g>\n",
       "<!-- 138478223276016 -->\n",
       "<g id=\"node5\" class=\"node\">\n",
       "<title>138478223276016</title>\n",
       "<polygon fill=\"lightgrey\" stroke=\"black\" points=\"715,-141 620,-141 620,-122 715,-122 715,-141\"/>\n",
       "<text text-anchor=\"middle\" x=\"667.5\" y=\"-129\" font-family=\"monospace\" font-size=\"10.00\">ReluBackward0</text>\n",
       "</g>\n",
       "<!-- 138478223276016&#45;&gt;138477155993776 -->\n",
       "<g id=\"edge3\" class=\"edge\">\n",
       "<title>138478223276016&#45;&gt;138477155993776</title>\n",
       "<path fill=\"none\" stroke=\"black\" d=\"M667.5,-121.75C667.5,-114.8 667.5,-104.85 667.5,-96.13\"/>\n",
       "<polygon fill=\"black\" stroke=\"black\" points=\"671,-96.09 667.5,-86.09 664,-96.09 671,-96.09\"/>\n",
       "</g>\n",
       "<!-- 138478223262192 -->\n",
       "<g id=\"node6\" class=\"node\">\n",
       "<title>138478223262192</title>\n",
       "<polygon fill=\"lightgrey\" stroke=\"black\" points=\"718,-201.5 617,-201.5 617,-182.5 718,-182.5 718,-201.5\"/>\n",
       "<text text-anchor=\"middle\" x=\"667.5\" y=\"-189.5\" font-family=\"monospace\" font-size=\"10.00\">AddmmBackward0</text>\n",
       "</g>\n",
       "<!-- 138478223262192&#45;&gt;138478223276016 -->\n",
       "<g id=\"edge4\" class=\"edge\">\n",
       "<title>138478223262192&#45;&gt;138478223276016</title>\n",
       "<path fill=\"none\" stroke=\"black\" d=\"M667.5,-182.37C667.5,-174.25 667.5,-161.81 667.5,-151.39\"/>\n",
       "<polygon fill=\"black\" stroke=\"black\" points=\"671,-151.17 667.5,-141.17 664,-151.17 671,-151.17\"/>\n",
       "</g>\n",
       "<!-- 138478224709552 -->\n",
       "<g id=\"node7\" class=\"node\">\n",
       "<title>138478224709552</title>\n",
       "<polygon fill=\"lightgrey\" stroke=\"black\" points=\"546,-267.5 445,-267.5 445,-248.5 546,-248.5 546,-267.5\"/>\n",
       "<text text-anchor=\"middle\" x=\"495.5\" y=\"-255.5\" font-family=\"monospace\" font-size=\"10.00\">AccumulateGrad</text>\n",
       "</g>\n",
       "<!-- 138478224709552&#45;&gt;138478223262192 -->\n",
       "<g id=\"edge5\" class=\"edge\">\n",
       "<title>138478224709552&#45;&gt;138478223262192</title>\n",
       "<path fill=\"none\" stroke=\"black\" d=\"M518.7,-248.37C548.66,-237.22 600.98,-217.75 634.92,-205.12\"/>\n",
       "<polygon fill=\"black\" stroke=\"black\" points=\"636.25,-208.36 644.4,-201.6 633.8,-201.8 636.25,-208.36\"/>\n",
       "</g>\n",
       "<!-- 138478221468256 -->\n",
       "<g id=\"node8\" class=\"node\">\n",
       "<title>138478221468256</title>\n",
       "<polygon fill=\"lightblue\" stroke=\"black\" points=\"527,-339 408,-339 408,-309 527,-309 527,-339\"/>\n",
       "<text text-anchor=\"middle\" x=\"467.5\" y=\"-327\" font-family=\"monospace\" font-size=\"10.00\">classifier.1.bias</text>\n",
       "<text text-anchor=\"middle\" x=\"467.5\" y=\"-316\" font-family=\"monospace\" font-size=\"10.00\"> (64)</text>\n",
       "</g>\n",
       "<!-- 138478221468256&#45;&gt;138478224709552 -->\n",
       "<g id=\"edge6\" class=\"edge\">\n",
       "<title>138478221468256&#45;&gt;138478224709552</title>\n",
       "<path fill=\"none\" stroke=\"black\" d=\"M473.71,-308.8C477.78,-299.5 483.13,-287.27 487.51,-277.26\"/>\n",
       "<polygon fill=\"black\" stroke=\"black\" points=\"490.83,-278.41 491.63,-267.84 484.42,-275.6 490.83,-278.41\"/>\n",
       "</g>\n",
       "<!-- 138478224713776 -->\n",
       "<g id=\"node9\" class=\"node\">\n",
       "<title>138478224713776</title>\n",
       "<polygon fill=\"lightgrey\" stroke=\"black\" points=\"688,-267.5 593,-267.5 593,-248.5 688,-248.5 688,-267.5\"/>\n",
       "<text text-anchor=\"middle\" x=\"640.5\" y=\"-255.5\" font-family=\"monospace\" font-size=\"10.00\">ViewBackward0</text>\n",
       "</g>\n",
       "<!-- 138478224713776&#45;&gt;138478223262192 -->\n",
       "<g id=\"edge7\" class=\"edge\">\n",
       "<title>138478224713776&#45;&gt;138478223262192</title>\n",
       "<path fill=\"none\" stroke=\"black\" d=\"M644.14,-248.37C648.14,-238.88 654.69,-223.36 659.84,-211.16\"/>\n",
       "<polygon fill=\"black\" stroke=\"black\" points=\"663.08,-212.48 663.74,-201.91 656.63,-209.76 663.08,-212.48\"/>\n",
       "</g>\n",
       "<!-- 138478224705664 -->\n",
       "<g id=\"node10\" class=\"node\">\n",
       "<title>138478224705664</title>\n",
       "<polygon fill=\"lightgrey\" stroke=\"black\" points=\"736,-333.5 545,-333.5 545,-314.5 736,-314.5 736,-333.5\"/>\n",
       "<text text-anchor=\"middle\" x=\"640.5\" y=\"-321.5\" font-family=\"monospace\" font-size=\"10.00\">MaxPool2DWithIndicesBackward0</text>\n",
       "</g>\n",
       "<!-- 138478224705664&#45;&gt;138478224713776 -->\n",
       "<g id=\"edge8\" class=\"edge\">\n",
       "<title>138478224705664&#45;&gt;138478224713776</title>\n",
       "<path fill=\"none\" stroke=\"black\" d=\"M640.5,-314.37C640.5,-305.16 640.5,-290.29 640.5,-278.27\"/>\n",
       "<polygon fill=\"black\" stroke=\"black\" points=\"644,-277.91 640.5,-267.91 637,-277.91 644,-277.91\"/>\n",
       "</g>\n",
       "<!-- 138478233154272 -->\n",
       "<g id=\"node11\" class=\"node\">\n",
       "<title>138478233154272</title>\n",
       "<polygon fill=\"lightgrey\" stroke=\"black\" points=\"688,-399.5 593,-399.5 593,-380.5 688,-380.5 688,-399.5\"/>\n",
       "<text text-anchor=\"middle\" x=\"640.5\" y=\"-387.5\" font-family=\"monospace\" font-size=\"10.00\">ReluBackward0</text>\n",
       "</g>\n",
       "<!-- 138478233154272&#45;&gt;138478224705664 -->\n",
       "<g id=\"edge9\" class=\"edge\">\n",
       "<title>138478233154272&#45;&gt;138478224705664</title>\n",
       "<path fill=\"none\" stroke=\"black\" d=\"M640.5,-380.37C640.5,-371.16 640.5,-356.29 640.5,-344.27\"/>\n",
       "<polygon fill=\"black\" stroke=\"black\" points=\"644,-343.91 640.5,-333.91 637,-343.91 644,-343.91\"/>\n",
       "</g>\n",
       "<!-- 138477166808176 -->\n",
       "<g id=\"node12\" class=\"node\">\n",
       "<title>138477166808176</title>\n",
       "<polygon fill=\"lightgrey\" stroke=\"black\" points=\"709,-460 572,-460 572,-441 709,-441 709,-460\"/>\n",
       "<text text-anchor=\"middle\" x=\"640.5\" y=\"-448\" font-family=\"monospace\" font-size=\"10.00\">ConvolutionBackward0</text>\n",
       "</g>\n",
       "<!-- 138477166808176&#45;&gt;138478233154272 -->\n",
       "<g id=\"edge10\" class=\"edge\">\n",
       "<title>138477166808176&#45;&gt;138478233154272</title>\n",
       "<path fill=\"none\" stroke=\"black\" d=\"M640.5,-440.87C640.5,-432.75 640.5,-420.31 640.5,-409.89\"/>\n",
       "<polygon fill=\"black\" stroke=\"black\" points=\"644,-409.67 640.5,-399.67 637,-409.67 644,-409.67\"/>\n",
       "</g>\n",
       "<!-- 138478224711472 -->\n",
       "<g id=\"node13\" class=\"node\">\n",
       "<title>138478224711472</title>\n",
       "<polygon fill=\"lightgrey\" stroke=\"black\" points=\"550,-515 455,-515 455,-496 550,-496 550,-515\"/>\n",
       "<text text-anchor=\"middle\" x=\"502.5\" y=\"-503\" font-family=\"monospace\" font-size=\"10.00\">ReluBackward0</text>\n",
       "</g>\n",
       "<!-- 138478224711472&#45;&gt;138477166808176 -->\n",
       "<g id=\"edge11\" class=\"edge\">\n",
       "<title>138478224711472&#45;&gt;138477166808176</title>\n",
       "<path fill=\"none\" stroke=\"black\" d=\"M524.67,-495.98C547.27,-487.3 582.56,-473.75 608.25,-463.88\"/>\n",
       "<polygon fill=\"black\" stroke=\"black\" points=\"609.84,-467.02 617.92,-460.17 607.33,-460.49 609.84,-467.02\"/>\n",
       "</g>\n",
       "<!-- 138478232795504 -->\n",
       "<g id=\"node14\" class=\"node\">\n",
       "<title>138478232795504</title>\n",
       "<polygon fill=\"lightgrey\" stroke=\"black\" points=\"548,-575.5 411,-575.5 411,-556.5 548,-556.5 548,-575.5\"/>\n",
       "<text text-anchor=\"middle\" x=\"479.5\" y=\"-563.5\" font-family=\"monospace\" font-size=\"10.00\">ConvolutionBackward0</text>\n",
       "</g>\n",
       "<!-- 138478232795504&#45;&gt;138478224711472 -->\n",
       "<g id=\"edge12\" class=\"edge\">\n",
       "<title>138478232795504&#45;&gt;138478224711472</title>\n",
       "<path fill=\"none\" stroke=\"black\" d=\"M482.89,-556.37C486.16,-548.07 491.19,-535.28 495.34,-524.72\"/>\n",
       "<polygon fill=\"black\" stroke=\"black\" points=\"498.69,-525.75 499.09,-515.17 492.18,-523.19 498.69,-525.75\"/>\n",
       "</g>\n",
       "<!-- 138478232796032 -->\n",
       "<g id=\"node15\" class=\"node\">\n",
       "<title>138478232796032</title>\n",
       "<polygon fill=\"lightgrey\" stroke=\"black\" points=\"411,-636 220,-636 220,-617 411,-617 411,-636\"/>\n",
       "<text text-anchor=\"middle\" x=\"315.5\" y=\"-624\" font-family=\"monospace\" font-size=\"10.00\">MaxPool2DWithIndicesBackward0</text>\n",
       "</g>\n",
       "<!-- 138478232796032&#45;&gt;138478232795504 -->\n",
       "<g id=\"edge13\" class=\"edge\">\n",
       "<title>138478232796032&#45;&gt;138478232795504</title>\n",
       "<path fill=\"none\" stroke=\"black\" d=\"M339.35,-616.99C367.4,-606.99 414.17,-590.3 445.9,-578.99\"/>\n",
       "<polygon fill=\"black\" stroke=\"black\" points=\"447.38,-582.17 455.62,-575.52 445.03,-575.58 447.38,-582.17\"/>\n",
       "</g>\n",
       "<!-- 138478230110848 -->\n",
       "<g id=\"node16\" class=\"node\">\n",
       "<title>138478230110848</title>\n",
       "<polygon fill=\"lightgrey\" stroke=\"black\" points=\"363,-696.5 268,-696.5 268,-677.5 363,-677.5 363,-696.5\"/>\n",
       "<text text-anchor=\"middle\" x=\"315.5\" y=\"-684.5\" font-family=\"monospace\" font-size=\"10.00\">ReluBackward0</text>\n",
       "</g>\n",
       "<!-- 138478230110848&#45;&gt;138478232796032 -->\n",
       "<g id=\"edge14\" class=\"edge\">\n",
       "<title>138478230110848&#45;&gt;138478232796032</title>\n",
       "<path fill=\"none\" stroke=\"black\" d=\"M315.5,-677.37C315.5,-669.25 315.5,-656.81 315.5,-646.39\"/>\n",
       "<polygon fill=\"black\" stroke=\"black\" points=\"319,-646.17 315.5,-636.17 312,-646.17 319,-646.17\"/>\n",
       "</g>\n",
       "<!-- 138478230119824 -->\n",
       "<g id=\"node17\" class=\"node\">\n",
       "<title>138478230119824</title>\n",
       "<polygon fill=\"lightgrey\" stroke=\"black\" points=\"384,-757 247,-757 247,-738 384,-738 384,-757\"/>\n",
       "<text text-anchor=\"middle\" x=\"315.5\" y=\"-745\" font-family=\"monospace\" font-size=\"10.00\">ConvolutionBackward0</text>\n",
       "</g>\n",
       "<!-- 138478230119824&#45;&gt;138478230110848 -->\n",
       "<g id=\"edge15\" class=\"edge\">\n",
       "<title>138478230119824&#45;&gt;138478230110848</title>\n",
       "<path fill=\"none\" stroke=\"black\" d=\"M315.5,-737.87C315.5,-729.75 315.5,-717.31 315.5,-706.89\"/>\n",
       "<polygon fill=\"black\" stroke=\"black\" points=\"319,-706.67 315.5,-696.67 312,-706.67 319,-706.67\"/>\n",
       "</g>\n",
       "<!-- 138478230118960 -->\n",
       "<g id=\"node18\" class=\"node\">\n",
       "<title>138478230118960</title>\n",
       "<polygon fill=\"lightgrey\" stroke=\"black\" points=\"225,-812 130,-812 130,-793 225,-793 225,-812\"/>\n",
       "<text text-anchor=\"middle\" x=\"177.5\" y=\"-800\" font-family=\"monospace\" font-size=\"10.00\">ReluBackward0</text>\n",
       "</g>\n",
       "<!-- 138478230118960&#45;&gt;138478230119824 -->\n",
       "<g id=\"edge16\" class=\"edge\">\n",
       "<title>138478230118960&#45;&gt;138478230119824</title>\n",
       "<path fill=\"none\" stroke=\"black\" d=\"M199.67,-792.98C222.27,-784.3 257.56,-770.75 283.25,-760.88\"/>\n",
       "<polygon fill=\"black\" stroke=\"black\" points=\"284.84,-764.02 292.92,-757.17 282.33,-757.49 284.84,-764.02\"/>\n",
       "</g>\n",
       "<!-- 138478230115936 -->\n",
       "<g id=\"node19\" class=\"node\">\n",
       "<title>138478230115936</title>\n",
       "<polygon fill=\"lightgrey\" stroke=\"black\" points=\"223,-872.5 86,-872.5 86,-853.5 223,-853.5 223,-872.5\"/>\n",
       "<text text-anchor=\"middle\" x=\"154.5\" y=\"-860.5\" font-family=\"monospace\" font-size=\"10.00\">ConvolutionBackward0</text>\n",
       "</g>\n",
       "<!-- 138478230115936&#45;&gt;138478230118960 -->\n",
       "<g id=\"edge17\" class=\"edge\">\n",
       "<title>138478230115936&#45;&gt;138478230118960</title>\n",
       "<path fill=\"none\" stroke=\"black\" d=\"M157.89,-853.37C161.16,-845.07 166.19,-832.28 170.34,-821.72\"/>\n",
       "<polygon fill=\"black\" stroke=\"black\" points=\"173.69,-822.75 174.09,-812.17 167.18,-820.19 173.69,-822.75\"/>\n",
       "</g>\n",
       "<!-- 138478230116080 -->\n",
       "<g id=\"node20\" class=\"node\">\n",
       "<title>138478230116080</title>\n",
       "<polygon fill=\"lightgrey\" stroke=\"black\" points=\"146,-933 45,-933 45,-914 146,-914 146,-933\"/>\n",
       "<text text-anchor=\"middle\" x=\"95.5\" y=\"-921\" font-family=\"monospace\" font-size=\"10.00\">AccumulateGrad</text>\n",
       "</g>\n",
       "<!-- 138478230116080&#45;&gt;138478230115936 -->\n",
       "<g id=\"edge18\" class=\"edge\">\n",
       "<title>138478230116080&#45;&gt;138478230115936</title>\n",
       "<path fill=\"none\" stroke=\"black\" d=\"M104.21,-913.87C113.18,-904.97 127.38,-890.89 138.41,-879.95\"/>\n",
       "<polygon fill=\"black\" stroke=\"black\" points=\"141.12,-882.19 145.76,-872.67 136.19,-877.22 141.12,-882.19\"/>\n",
       "</g>\n",
       "<!-- 138478221470336 -->\n",
       "<g id=\"node21\" class=\"node\">\n",
       "<title>138478221470336</title>\n",
       "<polygon fill=\"lightblue\" stroke=\"black\" points=\"149,-999 0,-999 0,-969 149,-969 149,-999\"/>\n",
       "<text text-anchor=\"middle\" x=\"74.5\" y=\"-987\" font-family=\"monospace\" font-size=\"10.00\">conv_block_01.0.weight</text>\n",
       "<text text-anchor=\"middle\" x=\"74.5\" y=\"-976\" font-family=\"monospace\" font-size=\"10.00\"> (32, 1, 3, 3)</text>\n",
       "</g>\n",
       "<!-- 138478221470336&#45;&gt;138478230116080 -->\n",
       "<g id=\"edge19\" class=\"edge\">\n",
       "<title>138478221470336&#45;&gt;138478230116080</title>\n",
       "<path fill=\"none\" stroke=\"black\" d=\"M79.58,-968.84C82.38,-961.04 85.89,-951.27 88.9,-942.89\"/>\n",
       "<polygon fill=\"black\" stroke=\"black\" points=\"92.27,-943.86 92.35,-933.27 85.68,-941.5 92.27,-943.86\"/>\n",
       "</g>\n",
       "<!-- 138478230117856 -->\n",
       "<g id=\"node22\" class=\"node\">\n",
       "<title>138478230117856</title>\n",
       "<polygon fill=\"lightgrey\" stroke=\"black\" points=\"275,-933 174,-933 174,-914 275,-914 275,-933\"/>\n",
       "<text text-anchor=\"middle\" x=\"224.5\" y=\"-921\" font-family=\"monospace\" font-size=\"10.00\">AccumulateGrad</text>\n",
       "</g>\n",
       "<!-- 138478230117856&#45;&gt;138478230115936 -->\n",
       "<g id=\"edge20\" class=\"edge\">\n",
       "<title>138478230117856&#45;&gt;138478230115936</title>\n",
       "<path fill=\"none\" stroke=\"black\" d=\"M214.17,-913.87C203.31,-904.8 186.01,-890.34 172.83,-879.32\"/>\n",
       "<polygon fill=\"black\" stroke=\"black\" points=\"174.79,-876.39 164.87,-872.67 170.3,-881.77 174.79,-876.39\"/>\n",
       "</g>\n",
       "<!-- 138478221464096 -->\n",
       "<g id=\"node23\" class=\"node\">\n",
       "<title>138478221464096</title>\n",
       "<polygon fill=\"lightblue\" stroke=\"black\" points=\"304,-999 167,-999 167,-969 304,-969 304,-999\"/>\n",
       "<text text-anchor=\"middle\" x=\"235.5\" y=\"-987\" font-family=\"monospace\" font-size=\"10.00\">conv_block_01.0.bias</text>\n",
       "<text text-anchor=\"middle\" x=\"235.5\" y=\"-976\" font-family=\"monospace\" font-size=\"10.00\"> (32)</text>\n",
       "</g>\n",
       "<!-- 138478221464096&#45;&gt;138478230117856 -->\n",
       "<g id=\"edge21\" class=\"edge\">\n",
       "<title>138478221464096&#45;&gt;138478230117856</title>\n",
       "<path fill=\"none\" stroke=\"black\" d=\"M232.84,-968.84C231.39,-961.13 229.57,-951.49 228.01,-943.17\"/>\n",
       "<polygon fill=\"black\" stroke=\"black\" points=\"231.44,-942.45 226.15,-933.27 224.56,-943.74 231.44,-942.45\"/>\n",
       "</g>\n",
       "<!-- 138478230120688 -->\n",
       "<g id=\"node24\" class=\"node\">\n",
       "<title>138478230120688</title>\n",
       "<polygon fill=\"lightgrey\" stroke=\"black\" points=\"366,-812 265,-812 265,-793 366,-793 366,-812\"/>\n",
       "<text text-anchor=\"middle\" x=\"315.5\" y=\"-800\" font-family=\"monospace\" font-size=\"10.00\">AccumulateGrad</text>\n",
       "</g>\n",
       "<!-- 138478230120688&#45;&gt;138478230119824 -->\n",
       "<g id=\"edge22\" class=\"edge\">\n",
       "<title>138478230120688&#45;&gt;138478230119824</title>\n",
       "<path fill=\"none\" stroke=\"black\" d=\"M315.5,-792.75C315.5,-785.8 315.5,-775.85 315.5,-767.13\"/>\n",
       "<polygon fill=\"black\" stroke=\"black\" points=\"319,-767.09 315.5,-757.09 312,-767.09 319,-767.09\"/>\n",
       "</g>\n",
       "<!-- 138478067832208 -->\n",
       "<g id=\"node25\" class=\"node\">\n",
       "<title>138478067832208</title>\n",
       "<polygon fill=\"lightblue\" stroke=\"black\" points=\"390,-878 241,-878 241,-848 390,-848 390,-878\"/>\n",
       "<text text-anchor=\"middle\" x=\"315.5\" y=\"-866\" font-family=\"monospace\" font-size=\"10.00\">conv_block_01.2.weight</text>\n",
       "<text text-anchor=\"middle\" x=\"315.5\" y=\"-855\" font-family=\"monospace\" font-size=\"10.00\"> (32, 32, 3, 3)</text>\n",
       "</g>\n",
       "<!-- 138478067832208&#45;&gt;138478230120688 -->\n",
       "<g id=\"edge23\" class=\"edge\">\n",
       "<title>138478067832208&#45;&gt;138478230120688</title>\n",
       "<path fill=\"none\" stroke=\"black\" d=\"M315.5,-847.84C315.5,-840.21 315.5,-830.7 315.5,-822.45\"/>\n",
       "<polygon fill=\"black\" stroke=\"black\" points=\"319,-822.27 315.5,-812.27 312,-822.27 319,-822.27\"/>\n",
       "</g>\n",
       "<!-- 138478230116896 -->\n",
       "<g id=\"node26\" class=\"node\">\n",
       "<title>138478230116896</title>\n",
       "<polygon fill=\"lightgrey\" stroke=\"black\" points=\"506,-812 405,-812 405,-793 506,-793 506,-812\"/>\n",
       "<text text-anchor=\"middle\" x=\"455.5\" y=\"-800\" font-family=\"monospace\" font-size=\"10.00\">AccumulateGrad</text>\n",
       "</g>\n",
       "<!-- 138478230116896&#45;&gt;138478230119824 -->\n",
       "<g id=\"edge24\" class=\"edge\">\n",
       "<title>138478230116896&#45;&gt;138478230119824</title>\n",
       "<path fill=\"none\" stroke=\"black\" d=\"M433.01,-792.98C409.98,-784.27 373.96,-770.63 347.87,-760.75\"/>\n",
       "<polygon fill=\"black\" stroke=\"black\" points=\"348.99,-757.44 338.4,-757.17 346.52,-763.98 348.99,-757.44\"/>\n",
       "</g>\n",
       "<!-- 138478067832608 -->\n",
       "<g id=\"node27\" class=\"node\">\n",
       "<title>138478067832608</title>\n",
       "<polygon fill=\"lightblue\" stroke=\"black\" points=\"545,-878 408,-878 408,-848 545,-848 545,-878\"/>\n",
       "<text text-anchor=\"middle\" x=\"476.5\" y=\"-866\" font-family=\"monospace\" font-size=\"10.00\">conv_block_01.2.bias</text>\n",
       "<text text-anchor=\"middle\" x=\"476.5\" y=\"-855\" font-family=\"monospace\" font-size=\"10.00\"> (32)</text>\n",
       "</g>\n",
       "<!-- 138478067832608&#45;&gt;138478230116896 -->\n",
       "<g id=\"edge25\" class=\"edge\">\n",
       "<title>138478067832608&#45;&gt;138478230116896</title>\n",
       "<path fill=\"none\" stroke=\"black\" d=\"M471.42,-847.84C468.62,-840.04 465.11,-830.27 462.1,-821.89\"/>\n",
       "<polygon fill=\"black\" stroke=\"black\" points=\"465.32,-820.5 458.65,-812.27 458.73,-822.86 465.32,-820.5\"/>\n",
       "</g>\n",
       "<!-- 138478232790800 -->\n",
       "<g id=\"node28\" class=\"node\">\n",
       "<title>138478232790800</title>\n",
       "<polygon fill=\"lightgrey\" stroke=\"black\" points=\"530,-636 429,-636 429,-617 530,-617 530,-636\"/>\n",
       "<text text-anchor=\"middle\" x=\"479.5\" y=\"-624\" font-family=\"monospace\" font-size=\"10.00\">AccumulateGrad</text>\n",
       "</g>\n",
       "<!-- 138478232790800&#45;&gt;138478232795504 -->\n",
       "<g id=\"edge26\" class=\"edge\">\n",
       "<title>138478232790800&#45;&gt;138478232795504</title>\n",
       "<path fill=\"none\" stroke=\"black\" d=\"M479.5,-616.87C479.5,-608.75 479.5,-596.31 479.5,-585.89\"/>\n",
       "<polygon fill=\"black\" stroke=\"black\" points=\"483,-585.67 479.5,-575.67 476,-585.67 483,-585.67\"/>\n",
       "</g>\n",
       "<!-- 138478067828608 -->\n",
       "<g id=\"node29\" class=\"node\">\n",
       "<title>138478067828608</title>\n",
       "<polygon fill=\"lightblue\" stroke=\"black\" points=\"542,-702 393,-702 393,-672 542,-672 542,-702\"/>\n",
       "<text text-anchor=\"middle\" x=\"467.5\" y=\"-690\" font-family=\"monospace\" font-size=\"10.00\">conv_block_02.0.weight</text>\n",
       "<text text-anchor=\"middle\" x=\"467.5\" y=\"-679\" font-family=\"monospace\" font-size=\"10.00\"> (32, 32, 3, 3)</text>\n",
       "</g>\n",
       "<!-- 138478067828608&#45;&gt;138478232790800 -->\n",
       "<g id=\"edge27\" class=\"edge\">\n",
       "<title>138478067828608&#45;&gt;138478232790800</title>\n",
       "<path fill=\"none\" stroke=\"black\" d=\"M470.4,-671.84C471.99,-664.13 473.96,-654.49 475.67,-646.17\"/>\n",
       "<polygon fill=\"black\" stroke=\"black\" points=\"479.12,-646.77 477.7,-636.27 472.26,-645.36 479.12,-646.77\"/>\n",
       "</g>\n",
       "<!-- 138478232788304 -->\n",
       "<g id=\"node30\" class=\"node\">\n",
       "<title>138478232788304</title>\n",
       "<polygon fill=\"lightgrey\" stroke=\"black\" points=\"664,-636 563,-636 563,-617 664,-617 664,-636\"/>\n",
       "<text text-anchor=\"middle\" x=\"613.5\" y=\"-624\" font-family=\"monospace\" font-size=\"10.00\">AccumulateGrad</text>\n",
       "</g>\n",
       "<!-- 138478232788304&#45;&gt;138478232795504 -->\n",
       "<g id=\"edge28\" class=\"edge\">\n",
       "<title>138478232788304&#45;&gt;138478232795504</title>\n",
       "<path fill=\"none\" stroke=\"black\" d=\"M594.02,-616.99C571.49,-607.16 534.19,-590.88 508.31,-579.58\"/>\n",
       "<polygon fill=\"black\" stroke=\"black\" points=\"509.57,-576.31 499.01,-575.52 506.77,-582.73 509.57,-576.31\"/>\n",
       "</g>\n",
       "<!-- 138477219425216 -->\n",
       "<g id=\"node31\" class=\"node\">\n",
       "<title>138477219425216</title>\n",
       "<polygon fill=\"lightblue\" stroke=\"black\" points=\"697,-702 560,-702 560,-672 697,-672 697,-702\"/>\n",
       "<text text-anchor=\"middle\" x=\"628.5\" y=\"-690\" font-family=\"monospace\" font-size=\"10.00\">conv_block_02.0.bias</text>\n",
       "<text text-anchor=\"middle\" x=\"628.5\" y=\"-679\" font-family=\"monospace\" font-size=\"10.00\"> (32)</text>\n",
       "</g>\n",
       "<!-- 138477219425216&#45;&gt;138478232788304 -->\n",
       "<g id=\"edge29\" class=\"edge\">\n",
       "<title>138477219425216&#45;&gt;138478232788304</title>\n",
       "<path fill=\"none\" stroke=\"black\" d=\"M624.87,-671.84C622.89,-664.13 620.42,-654.49 618.29,-646.17\"/>\n",
       "<polygon fill=\"black\" stroke=\"black\" points=\"621.62,-645.08 615.75,-636.27 614.84,-646.82 621.62,-645.08\"/>\n",
       "</g>\n",
       "<!-- 138478178986464 -->\n",
       "<g id=\"node32\" class=\"node\">\n",
       "<title>138478178986464</title>\n",
       "<polygon fill=\"lightgrey\" stroke=\"black\" points=\"691,-515 590,-515 590,-496 691,-496 691,-515\"/>\n",
       "<text text-anchor=\"middle\" x=\"640.5\" y=\"-503\" font-family=\"monospace\" font-size=\"10.00\">AccumulateGrad</text>\n",
       "</g>\n",
       "<!-- 138478178986464&#45;&gt;138477166808176 -->\n",
       "<g id=\"edge30\" class=\"edge\">\n",
       "<title>138478178986464&#45;&gt;138477166808176</title>\n",
       "<path fill=\"none\" stroke=\"black\" d=\"M640.5,-495.75C640.5,-488.8 640.5,-478.85 640.5,-470.13\"/>\n",
       "<polygon fill=\"black\" stroke=\"black\" points=\"644,-470.09 640.5,-460.09 637,-470.09 644,-470.09\"/>\n",
       "</g>\n",
       "<!-- 138478221474016 -->\n",
       "<g id=\"node33\" class=\"node\">\n",
       "<title>138478221474016</title>\n",
       "<polygon fill=\"lightblue\" stroke=\"black\" points=\"715,-581 566,-581 566,-551 715,-551 715,-581\"/>\n",
       "<text text-anchor=\"middle\" x=\"640.5\" y=\"-569\" font-family=\"monospace\" font-size=\"10.00\">conv_block_02.2.weight</text>\n",
       "<text text-anchor=\"middle\" x=\"640.5\" y=\"-558\" font-family=\"monospace\" font-size=\"10.00\"> (32, 32, 3, 3)</text>\n",
       "</g>\n",
       "<!-- 138478221474016&#45;&gt;138478178986464 -->\n",
       "<g id=\"edge31\" class=\"edge\">\n",
       "<title>138478221474016&#45;&gt;138478178986464</title>\n",
       "<path fill=\"none\" stroke=\"black\" d=\"M640.5,-550.84C640.5,-543.21 640.5,-533.7 640.5,-525.45\"/>\n",
       "<polygon fill=\"black\" stroke=\"black\" points=\"644,-525.27 640.5,-515.27 637,-525.27 644,-525.27\"/>\n",
       "</g>\n",
       "<!-- 138478232326288 -->\n",
       "<g id=\"node34\" class=\"node\">\n",
       "<title>138478232326288</title>\n",
       "<polygon fill=\"lightgrey\" stroke=\"black\" points=\"831,-515 730,-515 730,-496 831,-496 831,-515\"/>\n",
       "<text text-anchor=\"middle\" x=\"780.5\" y=\"-503\" font-family=\"monospace\" font-size=\"10.00\">AccumulateGrad</text>\n",
       "</g>\n",
       "<!-- 138478232326288&#45;&gt;138477166808176 -->\n",
       "<g id=\"edge32\" class=\"edge\">\n",
       "<title>138478232326288&#45;&gt;138477166808176</title>\n",
       "<path fill=\"none\" stroke=\"black\" d=\"M758.01,-495.98C734.98,-487.27 698.96,-473.63 672.87,-463.75\"/>\n",
       "<polygon fill=\"black\" stroke=\"black\" points=\"673.99,-460.44 663.4,-460.17 671.52,-466.98 673.99,-460.44\"/>\n",
       "</g>\n",
       "<!-- 138478221474336 -->\n",
       "<g id=\"node35\" class=\"node\">\n",
       "<title>138478221474336</title>\n",
       "<polygon fill=\"lightblue\" stroke=\"black\" points=\"870,-581 733,-581 733,-551 870,-551 870,-581\"/>\n",
       "<text text-anchor=\"middle\" x=\"801.5\" y=\"-569\" font-family=\"monospace\" font-size=\"10.00\">conv_block_02.2.bias</text>\n",
       "<text text-anchor=\"middle\" x=\"801.5\" y=\"-558\" font-family=\"monospace\" font-size=\"10.00\"> (32)</text>\n",
       "</g>\n",
       "<!-- 138478221474336&#45;&gt;138478232326288 -->\n",
       "<g id=\"edge33\" class=\"edge\">\n",
       "<title>138478221474336&#45;&gt;138478232326288</title>\n",
       "<path fill=\"none\" stroke=\"black\" d=\"M796.42,-550.84C793.62,-543.04 790.11,-533.27 787.1,-524.89\"/>\n",
       "<polygon fill=\"black\" stroke=\"black\" points=\"790.32,-523.5 783.65,-515.27 783.73,-525.86 790.32,-523.5\"/>\n",
       "</g>\n",
       "<!-- 138478224708688 -->\n",
       "<g id=\"node36\" class=\"node\">\n",
       "<title>138478224708688</title>\n",
       "<polygon fill=\"lightgrey\" stroke=\"black\" points=\"783,-267.5 706,-267.5 706,-248.5 783,-248.5 783,-267.5\"/>\n",
       "<text text-anchor=\"middle\" x=\"744.5\" y=\"-255.5\" font-family=\"monospace\" font-size=\"10.00\">TBackward0</text>\n",
       "</g>\n",
       "<!-- 138478224708688&#45;&gt;138478223262192 -->\n",
       "<g id=\"edge34\" class=\"edge\">\n",
       "<title>138478224708688&#45;&gt;138478223262192</title>\n",
       "<path fill=\"none\" stroke=\"black\" d=\"M734.12,-248.37C721.78,-238.12 700.99,-220.84 685.91,-208.31\"/>\n",
       "<polygon fill=\"black\" stroke=\"black\" points=\"688.14,-205.61 678.21,-201.91 683.67,-210.99 688.14,-205.61\"/>\n",
       "</g>\n",
       "<!-- 138478233154368 -->\n",
       "<g id=\"node37\" class=\"node\">\n",
       "<title>138478233154368</title>\n",
       "<polygon fill=\"lightgrey\" stroke=\"black\" points=\"855,-333.5 754,-333.5 754,-314.5 855,-314.5 855,-333.5\"/>\n",
       "<text text-anchor=\"middle\" x=\"804.5\" y=\"-321.5\" font-family=\"monospace\" font-size=\"10.00\">AccumulateGrad</text>\n",
       "</g>\n",
       "<!-- 138478233154368&#45;&gt;138478224708688 -->\n",
       "<g id=\"edge35\" class=\"edge\">\n",
       "<title>138478233154368&#45;&gt;138478224708688</title>\n",
       "<path fill=\"none\" stroke=\"black\" d=\"M796.41,-314.37C787.07,-304.4 771.49,-287.79 759.84,-275.36\"/>\n",
       "<polygon fill=\"black\" stroke=\"black\" points=\"762.24,-272.81 752.85,-267.91 757.13,-277.59 762.24,-272.81\"/>\n",
       "</g>\n",
       "<!-- 138478221462816 -->\n",
       "<g id=\"node38\" class=\"node\">\n",
       "<title>138478221462816</title>\n",
       "<polygon fill=\"lightblue\" stroke=\"black\" points=\"870,-405 739,-405 739,-375 870,-375 870,-405\"/>\n",
       "<text text-anchor=\"middle\" x=\"804.5\" y=\"-393\" font-family=\"monospace\" font-size=\"10.00\">classifier.1.weight</text>\n",
       "<text text-anchor=\"middle\" x=\"804.5\" y=\"-382\" font-family=\"monospace\" font-size=\"10.00\"> (64, 1568)</text>\n",
       "</g>\n",
       "<!-- 138478221462816&#45;&gt;138478233154368 -->\n",
       "<g id=\"edge36\" class=\"edge\">\n",
       "<title>138478221462816&#45;&gt;138478233154368</title>\n",
       "<path fill=\"none\" stroke=\"black\" d=\"M804.5,-374.8C804.5,-365.7 804.5,-353.79 804.5,-343.9\"/>\n",
       "<polygon fill=\"black\" stroke=\"black\" points=\"808,-343.84 804.5,-333.84 801,-343.84 808,-343.84\"/>\n",
       "</g>\n",
       "<!-- 138478223268768 -->\n",
       "<g id=\"node39\" class=\"node\">\n",
       "<title>138478223268768</title>\n",
       "<polygon fill=\"lightgrey\" stroke=\"black\" points=\"844,-141 767,-141 767,-122 844,-122 844,-141\"/>\n",
       "<text text-anchor=\"middle\" x=\"805.5\" y=\"-129\" font-family=\"monospace\" font-size=\"10.00\">TBackward0</text>\n",
       "</g>\n",
       "<!-- 138478223268768&#45;&gt;138477155993776 -->\n",
       "<g id=\"edge37\" class=\"edge\">\n",
       "<title>138478223268768&#45;&gt;138477155993776</title>\n",
       "<path fill=\"none\" stroke=\"black\" d=\"M783.33,-121.98C760.73,-113.3 725.44,-99.75 699.75,-89.88\"/>\n",
       "<polygon fill=\"black\" stroke=\"black\" points=\"700.67,-86.49 690.08,-86.17 698.16,-93.02 700.67,-86.49\"/>\n",
       "</g>\n",
       "<!-- 138478224714304 -->\n",
       "<g id=\"node40\" class=\"node\">\n",
       "<title>138478224714304</title>\n",
       "<polygon fill=\"lightgrey\" stroke=\"black\" points=\"890,-201.5 789,-201.5 789,-182.5 890,-182.5 890,-201.5\"/>\n",
       "<text text-anchor=\"middle\" x=\"839.5\" y=\"-189.5\" font-family=\"monospace\" font-size=\"10.00\">AccumulateGrad</text>\n",
       "</g>\n",
       "<!-- 138478224714304&#45;&gt;138478223268768 -->\n",
       "<g id=\"edge38\" class=\"edge\">\n",
       "<title>138478224714304&#45;&gt;138478223268768</title>\n",
       "<path fill=\"none\" stroke=\"black\" d=\"M834.48,-182.37C829.56,-173.9 821.91,-160.74 815.71,-150.07\"/>\n",
       "<polygon fill=\"black\" stroke=\"black\" points=\"818.59,-148.05 810.54,-141.17 812.54,-151.57 818.59,-148.05\"/>\n",
       "</g>\n",
       "<!-- 138478221462336 -->\n",
       "<g id=\"node41\" class=\"node\">\n",
       "<title>138478221462336</title>\n",
       "<polygon fill=\"lightblue\" stroke=\"black\" points=\"932,-273 801,-273 801,-243 932,-243 932,-273\"/>\n",
       "<text text-anchor=\"middle\" x=\"866.5\" y=\"-261\" font-family=\"monospace\" font-size=\"10.00\">classifier.3.weight</text>\n",
       "<text text-anchor=\"middle\" x=\"866.5\" y=\"-250\" font-family=\"monospace\" font-size=\"10.00\"> (10, 64)</text>\n",
       "</g>\n",
       "<!-- 138478221462336&#45;&gt;138478224714304 -->\n",
       "<g id=\"edge39\" class=\"edge\">\n",
       "<title>138478221462336&#45;&gt;138478224714304</title>\n",
       "<path fill=\"none\" stroke=\"black\" d=\"M860.51,-242.8C856.59,-233.5 851.43,-221.27 847.2,-211.26\"/>\n",
       "<polygon fill=\"black\" stroke=\"black\" points=\"850.34,-209.7 843.23,-201.84 843.89,-212.42 850.34,-209.7\"/>\n",
       "</g>\n",
       "</g>\n",
       "</svg>\n"
      ],
      "text/plain": [
       "<graphviz.graphs.Digraph at 0x7df1b9b14290>"
      ]
     },
     "execution_count": 235,
     "metadata": {},
     "output_type": "execute_result"
    }
   ],
   "source": [
    "# plot the model\n",
    "from torchviz import make_dot\n",
    "x = torch.randn(1, 1, 28, 28).to(device)\n",
    "make_dot(model_2(x), params=dict(model_2.named_parameters()))\n"
   ]
  },
  {
   "cell_type": "markdown",
   "metadata": {},
   "source": [
    "## 7. Step through `Conv2d` layer"
   ]
  },
  {
   "cell_type": "markdown",
   "metadata": {},
   "source": [
    "### 7.1 Stepping through ǹn.conv2d()`\n",
    "\n",
    "see the documentation for `nn.Conv2d` [here](https://pytorch.org/docs/stable/generated/torch.nn.Conv2d.html)"
   ]
  },
  {
   "cell_type": "code",
   "execution_count": 236,
   "metadata": {},
   "outputs": [
    {
     "name": "stdout",
     "output_type": "stream",
     "text": [
      "Image batch shape: torch.Size([32, 3, 64, 64])\n",
      "Test image shape: torch.Size([3, 64, 64])\n",
      "Test image: tensor([[[ 1.4565e-01,  5.4543e-01,  6.2678e-01,  ..., -1.3336e+00,\n",
      "           4.1009e-01,  9.6182e-01],\n",
      "         [ 3.3141e-01,  1.1479e+00,  9.0086e-02,  ..., -1.5550e+00,\n",
      "          -1.5679e+00, -4.9422e-01],\n",
      "         [ 2.1524e-01, -4.3375e-02,  9.3979e-01,  ...,  8.5047e-01,\n",
      "           2.4143e-01,  1.0797e-01],\n",
      "         ...,\n",
      "         [-4.0824e-01,  9.4441e-01, -3.0968e-01,  ..., -3.2286e-01,\n",
      "           1.0134e+00, -1.8618e+00],\n",
      "         [ 1.2158e+00, -4.1222e-01, -1.1530e+00,  ..., -2.7560e-01,\n",
      "          -2.2720e-02, -3.6584e-01],\n",
      "         [-5.5143e-01, -6.2831e-01,  8.6272e-01,  ...,  1.6128e+00,\n",
      "           1.3694e-01,  5.4871e-01]],\n",
      "\n",
      "        [[-3.2138e-03,  9.4663e-01, -9.9935e-01,  ..., -3.7861e-01,\n",
      "           1.1254e+00, -9.3751e-01],\n",
      "         [-9.0054e-01,  2.3706e-01,  3.1849e-01,  ..., -6.1769e-01,\n",
      "           1.5885e-01,  1.1399e+00],\n",
      "         [ 5.6521e-01, -1.8289e+00, -1.0462e-01,  ...,  1.2204e-01,\n",
      "          -3.0730e-01,  1.4302e+00],\n",
      "         ...,\n",
      "         [ 8.0395e-01, -9.0689e-01,  1.6429e+00,  ...,  5.5237e-01,\n",
      "          -6.0731e-01, -8.2060e-01],\n",
      "         [ 4.9170e-01, -1.1181e-01,  3.8395e-01,  ...,  1.7297e+00,\n",
      "          -1.2928e-01,  1.2379e+00],\n",
      "         [ 1.0114e+00, -1.8988e+00,  1.7434e+00,  ..., -1.5418e+00,\n",
      "          -4.2250e-01,  1.8363e+00]],\n",
      "\n",
      "        [[-1.0964e+00, -1.2823e+00,  2.5616e-04,  ...,  9.0152e-02,\n",
      "           6.5429e-01,  1.9537e+00],\n",
      "         [ 4.6044e-01,  2.1391e-02, -1.5482e-01,  ..., -1.1089e+00,\n",
      "          -4.0958e-01,  4.7534e-01],\n",
      "         [-4.0194e-02,  2.1136e-01, -1.5892e+00,  ...,  1.2205e+00,\n",
      "          -1.0531e+00,  4.2573e-01],\n",
      "         ...,\n",
      "         [ 4.8672e-01, -8.5834e-01, -1.5453e-01,  ...,  1.8559e+00,\n",
      "           2.9473e-01,  1.1865e+00],\n",
      "         [ 1.0082e+00, -1.7382e-01,  7.6624e-01,  ...,  1.0032e-01,\n",
      "           1.7097e-01,  1.1694e+00],\n",
      "         [-7.2884e-01,  1.7678e+00,  8.4876e-01,  ...,  1.1263e+00,\n",
      "           1.5100e+00,  1.9887e-01]]])\n"
     ]
    }
   ],
   "source": [
    "# Create a batch of images\n",
    "images = torch.randn(32, 3, 64, 64).to(device)\n",
    "test_image = images[0]\n",
    "\n",
    "print(f\"Image batch shape: {images.shape}\")\n",
    "print(f\"Test image shape: {test_image.shape}\")\n",
    "print(f\"Test image: {test_image}\")"
   ]
  },
  {
   "cell_type": "code",
   "execution_count": 237,
   "metadata": {},
   "outputs": [
    {
     "data": {
      "text/plain": [
       "torch.Size([10, 64, 64])"
      ]
     },
     "execution_count": 237,
     "metadata": {},
     "output_type": "execute_result"
    }
   ],
   "source": [
    "# Create a convolutional layer\n",
    "conv_layer = nn.Conv2d(in_channels=3,\n",
    "                       out_channels=10,\n",
    "                       kernel_size=3,\n",
    "                       stride=1,\n",
    "                       padding=1)\n",
    "\n",
    "# Pass the data through the convolutional layer\n",
    "\n",
    "output = conv_layer(images[0])\n",
    "output.shape"
   ]
  },
  {
   "cell_type": "markdown",
   "metadata": {},
   "source": [
    "### 7.2 Stepping through `nn.MaxPool2d`"
   ]
  },
  {
   "cell_type": "code",
   "execution_count": 238,
   "metadata": {},
   "outputs": [
    {
     "data": {
      "text/plain": [
       "torch.Size([3, 64, 64])"
      ]
     },
     "execution_count": 238,
     "metadata": {},
     "output_type": "execute_result"
    }
   ],
   "source": [
    "test_image.shape"
   ]
  },
  {
   "cell_type": "code",
   "execution_count": 239,
   "metadata": {},
   "outputs": [
    {
     "data": {
      "text/plain": [
       "torch.Size([1, 3, 32, 32])"
      ]
     },
     "execution_count": 239,
     "metadata": {},
     "output_type": "execute_result"
    }
   ],
   "source": [
    "# Create a max pooling layer\n",
    "max_pool = nn.MaxPool2d(kernel_size=2)\n",
    "\n",
    "# Pass the output through the max pooling layer\n",
    "output = max_pool(test_image.unsqueeze(0))\n",
    "output.shape"
   ]
  },
  {
   "cell_type": "markdown",
   "metadata": {},
   "source": [
    "### 7.3 Setup a loss function and optimizer for `model_2`"
   ]
  },
  {
   "cell_type": "code",
   "execution_count": 240,
   "metadata": {},
   "outputs": [],
   "source": [
    "import torchmetrics\n",
    "\n",
    "\n",
    "loss = nn.CrossEntropyLoss()\n",
    "optimizer = torch.optim.Adam(params=model_2.parameters(), \n",
    "                             lr=1e-2)\n",
    "\n",
    "accuracy = torchmetrics.Accuracy(task=\"multiclass\", num_classes=len(class_names))"
   ]
  },
  {
   "cell_type": "markdown",
   "metadata": {},
   "source": [
    "### 7.4 Training and testing the model"
   ]
  },
  {
   "cell_type": "code",
   "execution_count": 241,
   "metadata": {},
   "outputs": [
    {
     "name": "stderr",
     "output_type": "stream",
     "text": [
      "  0%|          | 0/5 [00:00<?, ?it/s]"
     ]
    },
    {
     "name": "stdout",
     "output_type": "stream",
     "text": [
      "Epoch: 0 \n",
      "--------\n",
      "Batch 0 Loss: 2.302053451538086 Accuracy: 0.125\n",
      "Batch 100 Loss: 0.652587354183197 Accuracy: 0.4820544421672821\n",
      "Batch 200 Loss: 0.5679171085357666 Accuracy: 0.6106964945793152\n",
      "Batch 300 Loss: 0.3377557396888733 Accuracy: 0.6668397188186646\n",
      "Batch 400 Loss: 0.6864854097366333 Accuracy: 0.7004364132881165\n",
      "Batch 500 Loss: 0.39195775985717773 Accuracy: 0.7244884967803955\n",
      "Batch 600 Loss: 0.4007326662540436 Accuracy: 0.7410045862197876\n",
      "Batch 700 Loss: 0.47105297446250916 Accuracy: 0.7536109089851379\n",
      "Batch 800 Loss: 0.34294918179512024 Accuracy: 0.7643570303916931\n",
      "Batch 900 Loss: 0.39223799109458923 Accuracy: 0.7723016142845154\n",
      "Batch 1000 Loss: 0.460504949092865 Accuracy: 0.7790334820747375\n",
      "Batch 1100 Loss: 0.3057282269001007 Accuracy: 0.7851101160049438\n",
      "Batch 1200 Loss: 0.3895956873893738 Accuracy: 0.7894723415374756\n",
      "Batch 1300 Loss: 0.4539731442928314 Accuracy: 0.7939325571060181\n",
      "Batch 1400 Loss: 0.2335730940103531 Accuracy: 0.7984698414802551\n",
      "Batch 1500 Loss: 0.5173075795173645 Accuracy: 0.8018820881843567\n",
      "Batch 1600 Loss: 0.4915984869003296 Accuracy: 0.8056683540344238\n",
      "Batch 1700 Loss: 0.36173927783966064 Accuracy: 0.8077968955039978\n",
      "Batch 1800 Loss: 0.4490211606025696 Accuracy: 0.8101401925086975\n",
      "Training loss: 0.5054048816204071\n",
      "Training accuracy: 0.8121833205223083\n"
     ]
    },
    {
     "name": "stderr",
     "output_type": "stream",
     "text": [
      " 20%|██        | 1/5 [00:45<03:01, 45.42s/it]"
     ]
    },
    {
     "name": "stdout",
     "output_type": "stream",
     "text": [
      "Test loss: 0.423217827805315\n",
      "Test accuracy: 0.8162000179290771\n",
      "Epoch: 1 \n",
      "--------\n",
      "Batch 0 Loss: 0.8816088438034058 Accuracy: 0.8161126375198364\n",
      "Batch 100 Loss: 0.34977126121520996 Accuracy: 0.8177845478057861\n",
      "Batch 200 Loss: 0.3883666396141052 Accuracy: 0.8198660016059875\n",
      "Batch 300 Loss: 0.6428502202033997 Accuracy: 0.8214285969734192\n",
      "Batch 400 Loss: 0.17726439237594604 Accuracy: 0.8231239318847656\n",
      "Batch 500 Loss: 0.2501431703567505 Accuracy: 0.8247745037078857\n",
      "Batch 600 Loss: 0.17985127866268158 Accuracy: 0.8259368538856506\n",
      "Batch 700 Loss: 0.33520030975341797 Accuracy: 0.8275056481361389\n",
      "Batch 800 Loss: 0.42007216811180115 Accuracy: 0.8286870718002319\n",
      "Batch 900 Loss: 0.24825291335582733 Accuracy: 0.829650342464447\n",
      "Batch 1000 Loss: 0.21232686936855316 Accuracy: 0.8307197690010071\n",
      "Batch 1100 Loss: 0.24345937371253967 Accuracy: 0.8310685157775879\n",
      "Batch 1200 Loss: 0.4346922039985657 Accuracy: 0.8319131135940552\n",
      "Batch 1300 Loss: 0.29012617468833923 Accuracy: 0.8326913714408875\n",
      "Batch 1400 Loss: 0.2918863892555237 Accuracy: 0.8333478569984436\n",
      "Batch 1500 Loss: 0.18861933052539825 Accuracy: 0.8343754410743713\n",
      "Batch 1600 Loss: 0.3735252320766449 Accuracy: 0.835216760635376\n",
      "Batch 1700 Loss: 0.5430856347084045 Accuracy: 0.8358139395713806\n",
      "Batch 1800 Loss: 0.4648378789424896 Accuracy: 0.8364908695220947\n",
      "Training loss: 0.3746650128384431\n",
      "Training accuracy: 0.8368076682090759\n"
     ]
    },
    {
     "name": "stderr",
     "output_type": "stream",
     "text": [
      " 40%|████      | 2/5 [01:34<02:22, 47.55s/it]"
     ]
    },
    {
     "name": "stdout",
     "output_type": "stream",
     "text": [
      "Test loss: 0.35971810456853326\n",
      "Test accuracy: 0.8385928869247437\n",
      "Epoch: 2 \n",
      "--------\n",
      "Batch 0 Loss: 0.3450266122817993 Accuracy: 0.8386011719703674\n",
      "Batch 100 Loss: 0.4695132374763489 Accuracy: 0.8393375873565674\n",
      "Batch 200 Loss: 0.22327376902103424 Accuracy: 0.8399666547775269\n",
      "Batch 300 Loss: 0.0924530178308487 Accuracy: 0.840408444404602\n",
      "Batch 400 Loss: 0.17071646451950073 Accuracy: 0.8409691452980042\n",
      "Batch 500 Loss: 0.39586398005485535 Accuracy: 0.8416543006896973\n",
      "Batch 600 Loss: 0.3502272069454193 Accuracy: 0.8421673774719238\n",
      "Batch 700 Loss: 0.17921575903892517 Accuracy: 0.8427157402038574\n",
      "Batch 800 Loss: 0.5763360261917114 Accuracy: 0.8432368040084839\n",
      "Batch 900 Loss: 0.3600900173187256 Accuracy: 0.8434953093528748\n",
      "Batch 1000 Loss: 0.5626935362815857 Accuracy: 0.8439825177192688\n",
      "Batch 1100 Loss: 0.21774116158485413 Accuracy: 0.8443605899810791\n",
      "Batch 1200 Loss: 0.19234174489974976 Accuracy: 0.8447251319885254\n",
      "Batch 1300 Loss: 0.21235181391239166 Accuracy: 0.8453136086463928\n",
      "Batch 1400 Loss: 0.3077157437801361 Accuracy: 0.8457356095314026\n",
      "Batch 1500 Loss: 0.3297654688358307 Accuracy: 0.8460953235626221\n",
      "Batch 1600 Loss: 0.3352298140525818 Accuracy: 0.8464221358299255\n",
      "Batch 1700 Loss: 0.4201532006263733 Accuracy: 0.8467124700546265\n",
      "Batch 1800 Loss: 0.2920885682106018 Accuracy: 0.8470085859298706\n",
      "Training loss: 0.3556002408385277\n",
      "Training accuracy: 0.8472750186920166\n"
     ]
    },
    {
     "name": "stderr",
     "output_type": "stream",
     "text": [
      " 60%|██████    | 3/5 [02:23<01:36, 48.22s/it]"
     ]
    },
    {
     "name": "stdout",
     "output_type": "stream",
     "text": [
      "Test loss: 0.3590292586400486\n",
      "Test accuracy: 0.8481952548027039\n",
      "Epoch: 3 \n",
      "--------\n",
      "Batch 0 Loss: 0.38526415824890137 Accuracy: 0.8481897711753845\n",
      "Batch 100 Loss: 0.37732458114624023 Accuracy: 0.8485405445098877\n",
      "Batch 200 Loss: 0.28537634015083313 Accuracy: 0.8489225506782532\n",
      "Batch 300 Loss: 0.22500213980674744 Accuracy: 0.8492797017097473\n",
      "Batch 400 Loss: 0.329738974571228 Accuracy: 0.8496041893959045\n",
      "Batch 500 Loss: 0.329141765832901 Accuracy: 0.8499593138694763\n",
      "Batch 600 Loss: 0.3867589235305786 Accuracy: 0.850130021572113\n",
      "Batch 700 Loss: 0.45076823234558105 Accuracy: 0.8504121899604797\n",
      "Batch 800 Loss: 0.6514932513237 Accuracy: 0.8507291078567505\n",
      "Batch 900 Loss: 0.1924886405467987 Accuracy: 0.8508784174919128\n",
      "Batch 1000 Loss: 0.32085877656936646 Accuracy: 0.8511725664138794\n",
      "Batch 1100 Loss: 0.3485051691532135 Accuracy: 0.8514426946640015\n",
      "Batch 1200 Loss: 0.40926593542099 Accuracy: 0.8517059087753296\n",
      "Batch 1300 Loss: 0.3510221838951111 Accuracy: 0.8519306182861328\n",
      "Batch 1400 Loss: 0.16912506520748138 Accuracy: 0.8523223400115967\n",
      "Batch 1500 Loss: 0.1795559525489807 Accuracy: 0.8527042865753174\n",
      "Batch 1600 Loss: 0.24208638072013855 Accuracy: 0.8530233502388\n",
      "Batch 1700 Loss: 0.3237449824810028 Accuracy: 0.8532893061637878\n",
      "Batch 1800 Loss: 0.19428925216197968 Accuracy: 0.8535750508308411\n",
      "Training loss: 0.3410542145331701\n",
      "Training accuracy: 0.85377037525177\n"
     ]
    },
    {
     "name": "stderr",
     "output_type": "stream",
     "text": [
      " 80%|████████  | 4/5 [03:14<00:49, 49.34s/it]"
     ]
    },
    {
     "name": "stdout",
     "output_type": "stream",
     "text": [
      "Test loss: 0.38582232016058393\n",
      "Test accuracy: 0.8538749814033508\n",
      "Epoch: 4 \n",
      "--------\n",
      "Batch 0 Loss: 0.6138643622398376 Accuracy: 0.8538738489151001\n",
      "Batch 100 Loss: 0.4595842957496643 Accuracy: 0.8541761040687561\n",
      "Batch 200 Loss: 0.2378985732793808 Accuracy: 0.8544785380363464\n",
      "Batch 300 Loss: 0.307055801153183 Accuracy: 0.8547536134719849\n",
      "Batch 400 Loss: 0.26502278447151184 Accuracy: 0.8550090193748474\n",
      "Batch 500 Loss: 0.2405885010957718 Accuracy: 0.85523521900177\n",
      "Batch 600 Loss: 0.32603737711906433 Accuracy: 0.8554866909980774\n",
      "Batch 700 Loss: 0.33836397528648376 Accuracy: 0.8556435704231262\n",
      "Batch 800 Loss: 0.20622117817401886 Accuracy: 0.8558233380317688\n",
      "Batch 900 Loss: 0.4662882685661316 Accuracy: 0.8560641407966614\n",
      "Batch 1000 Loss: 0.5079622268676758 Accuracy: 0.8561621904373169\n",
      "Batch 1100 Loss: 0.2535821795463562 Accuracy: 0.8562677502632141\n",
      "Batch 1200 Loss: 0.3051465153694153 Accuracy: 0.8564528822898865\n",
      "Batch 1300 Loss: 0.14663298428058624 Accuracy: 0.8566591739654541\n",
      "Batch 1400 Loss: 0.45443278551101685 Accuracy: 0.8568305969238281\n",
      "Batch 1500 Loss: 0.2483527809381485 Accuracy: 0.857108473777771\n",
      "Batch 1600 Loss: 0.2238226681947708 Accuracy: 0.8571544885635376\n",
      "Batch 1700 Loss: 0.37786760926246643 Accuracy: 0.8572863936424255\n",
      "Batch 1800 Loss: 0.49811750650405884 Accuracy: 0.8574246764183044\n",
      "Training loss: 0.3361863753636678\n",
      "Training accuracy: 0.8576117753982544\n"
     ]
    },
    {
     "name": "stderr",
     "output_type": "stream",
     "text": [
      "100%|██████████| 5/5 [04:10<00:00, 50.01s/it]"
     ]
    },
    {
     "name": "stdout",
     "output_type": "stream",
     "text": [
      "Test loss: 0.3480825811719742\n",
      "Test accuracy: 0.8580828309059143\n",
      "Training time on cpu: 298.619 seconds\n"
     ]
    },
    {
     "name": "stderr",
     "output_type": "stream",
     "text": [
      "\n"
     ]
    }
   ],
   "source": [
    "# Measure time\n",
    "train_start_time = timer()\n",
    "\n",
    "# Train and test model\n",
    "EPOCHS = 5\n",
    "for epoch in tqdm(range(EPOCHS)):\n",
    "    print(f\"Epoch: {epoch} \\n--------\")\n",
    "    train_step(model=model_2,\n",
    "               data_loader=train_dataloader,\n",
    "               loss_fn=loss,\n",
    "               optimizer=optimizer,\n",
    "               device=device)\n",
    "    \n",
    "    test_step(model=model_2,\n",
    "              data_loader=test_dataloader,\n",
    "              loss_fn=loss,\n",
    "              accuracy=accuracy,\n",
    "              device=device)\n",
    "    \n",
    "train_time_end = timer()\n",
    "\n",
    "total_train_time_model_2 = print_train_time(train_time_start, \n",
    "                                            train_time_end,\n",
    "                                            device)"
   ]
  },
  {
   "cell_type": "code",
   "execution_count": 242,
   "metadata": {},
   "outputs": [
    {
     "name": "stderr",
     "output_type": "stream",
     "text": [
      "100%|██████████| 313/313 [00:03<00:00, 100.20it/s]\n"
     ]
    }
   ],
   "source": [
    "# Get the results\n",
    "model_2_results = eval_model(model=model_2,\n",
    "                             data_loader=test_dataloader,\n",
    "                             loss_fn=loss,\n",
    "                             accuracy=accuracy,\n",
    "                             precision=precision,\n",
    "                             recall=recall,\n",
    "                             device=device)"
   ]
  },
  {
   "cell_type": "code",
   "execution_count": 243,
   "metadata": {},
   "outputs": [
    {
     "data": {
      "text/plain": [
       "{'model_name': 'FashionMNISTModelV2',\n",
       " 'loss': 0.3480824828147888,\n",
       " 'accuracy': 0.8582926392555237,\n",
       " 'precision': 0.6966694593429565,\n",
       " 'recall': 0.6966694593429565}"
      ]
     },
     "execution_count": 243,
     "metadata": {},
     "output_type": "execute_result"
    }
   ],
   "source": [
    "model_2_results"
   ]
  },
  {
   "cell_type": "markdown",
   "metadata": {},
   "source": [
    "## 8. Compare model results and training times"
   ]
  },
  {
   "cell_type": "code",
   "execution_count": 244,
   "metadata": {},
   "outputs": [
    {
     "data": {
      "text/html": [
       "<div>\n",
       "<style scoped>\n",
       "    .dataframe tbody tr th:only-of-type {\n",
       "        vertical-align: middle;\n",
       "    }\n",
       "\n",
       "    .dataframe tbody tr th {\n",
       "        vertical-align: top;\n",
       "    }\n",
       "\n",
       "    .dataframe thead th {\n",
       "        text-align: right;\n",
       "    }\n",
       "</style>\n",
       "<table border=\"1\" class=\"dataframe\">\n",
       "  <thead>\n",
       "    <tr style=\"text-align: right;\">\n",
       "      <th></th>\n",
       "      <th>model_name</th>\n",
       "      <th>loss</th>\n",
       "      <th>accuracy</th>\n",
       "      <th>precision</th>\n",
       "      <th>recall</th>\n",
       "    </tr>\n",
       "  </thead>\n",
       "  <tbody>\n",
       "    <tr>\n",
       "      <th>0</th>\n",
       "      <td>FashionMNISTModelV0</td>\n",
       "      <td>0.358638</td>\n",
       "      <td>0.880514</td>\n",
       "      <td>0.880514</td>\n",
       "      <td>0.880514</td>\n",
       "    </tr>\n",
       "    <tr>\n",
       "      <th>1</th>\n",
       "      <td>FashionMNISTModelV1</td>\n",
       "      <td>1.487536</td>\n",
       "      <td>0.369599</td>\n",
       "      <td>0.740884</td>\n",
       "      <td>0.740884</td>\n",
       "    </tr>\n",
       "    <tr>\n",
       "      <th>2</th>\n",
       "      <td>FashionMNISTModelV2</td>\n",
       "      <td>0.348082</td>\n",
       "      <td>0.858293</td>\n",
       "      <td>0.696669</td>\n",
       "      <td>0.696669</td>\n",
       "    </tr>\n",
       "  </tbody>\n",
       "</table>\n",
       "</div>"
      ],
      "text/plain": [
       "            model_name      loss  accuracy  precision    recall\n",
       "0  FashionMNISTModelV0  0.358638  0.880514   0.880514  0.880514\n",
       "1  FashionMNISTModelV1  1.487536  0.369599   0.740884  0.740884\n",
       "2  FashionMNISTModelV2  0.348082  0.858293   0.696669  0.696669"
      ]
     },
     "execution_count": 244,
     "metadata": {},
     "output_type": "execute_result"
    }
   ],
   "source": [
    "import pandas as pd\n",
    "\n",
    "results = pd.DataFrame([model_0_results, model_1_results, model_2_results])\n",
    "\n",
    "results"
   ]
  },
  {
   "cell_type": "code",
   "execution_count": 245,
   "metadata": {},
   "outputs": [],
   "source": [
    "# Add training time to the results\n",
    "results[\"train_time\"] = [total_train_time_model_0, \n",
    "                         total_train_time_model_1,\n",
    "                         total_train_time_model_2]\n"
   ]
  },
  {
   "cell_type": "code",
   "execution_count": 250,
   "metadata": {},
   "outputs": [
    {
     "data": {
      "text/html": [
       "<div>\n",
       "<style scoped>\n",
       "    .dataframe tbody tr th:only-of-type {\n",
       "        vertical-align: middle;\n",
       "    }\n",
       "\n",
       "    .dataframe tbody tr th {\n",
       "        vertical-align: top;\n",
       "    }\n",
       "\n",
       "    .dataframe thead th {\n",
       "        text-align: right;\n",
       "    }\n",
       "</style>\n",
       "<table border=\"1\" class=\"dataframe\">\n",
       "  <thead>\n",
       "    <tr style=\"text-align: right;\">\n",
       "      <th></th>\n",
       "      <th>model_name</th>\n",
       "      <th>loss</th>\n",
       "      <th>accuracy</th>\n",
       "      <th>precision</th>\n",
       "      <th>recall</th>\n",
       "      <th>train_time</th>\n",
       "    </tr>\n",
       "  </thead>\n",
       "  <tbody>\n",
       "    <tr>\n",
       "      <th>0</th>\n",
       "      <td>FashionMNISTModelV0</td>\n",
       "      <td>0.358638</td>\n",
       "      <td>0.880514</td>\n",
       "      <td>0.880514</td>\n",
       "      <td>0.880514</td>\n",
       "      <td>42.764934</td>\n",
       "    </tr>\n",
       "    <tr>\n",
       "      <th>1</th>\n",
       "      <td>FashionMNISTModelV1</td>\n",
       "      <td>1.487536</td>\n",
       "      <td>0.369599</td>\n",
       "      <td>0.740884</td>\n",
       "      <td>0.740884</td>\n",
       "      <td>46.954134</td>\n",
       "    </tr>\n",
       "    <tr>\n",
       "      <th>2</th>\n",
       "      <td>FashionMNISTModelV2</td>\n",
       "      <td>0.348082</td>\n",
       "      <td>0.858293</td>\n",
       "      <td>0.696669</td>\n",
       "      <td>0.696669</td>\n",
       "      <td>298.619350</td>\n",
       "    </tr>\n",
       "  </tbody>\n",
       "</table>\n",
       "</div>"
      ],
      "text/plain": [
       "            model_name      loss  accuracy  precision    recall  train_time\n",
       "0  FashionMNISTModelV0  0.358638  0.880514   0.880514  0.880514   42.764934\n",
       "1  FashionMNISTModelV1  1.487536  0.369599   0.740884  0.740884   46.954134\n",
       "2  FashionMNISTModelV2  0.348082  0.858293   0.696669  0.696669  298.619350"
      ]
     },
     "execution_count": 250,
     "metadata": {},
     "output_type": "execute_result"
    }
   ],
   "source": [
    "results"
   ]
  },
  {
   "cell_type": "markdown",
   "metadata": {},
   "source": [
    "## 9. Make and evaluate random predictions with best model"
   ]
  },
  {
   "cell_type": "code",
   "execution_count": 270,
   "metadata": {},
   "outputs": [],
   "source": [
    "def make_predictions(model: torch.nn.Module,\n",
    "                     data: list,\n",
    "                     device: torch.device) -> torch.stack:\n",
    "    \"\"\"Makes predictions on data using model.\n",
    "\n",
    "    Args:\n",
    "        model (torch.nn.Module): The model to make predictions with.\n",
    "        data (list): The data to make predictions on.\n",
    "        device (torch.device): The device to run the predictions on.\n",
    "\n",
    "    Returns:\n",
    "        torch.Stack: The predictions.\n",
    "    \"\"\"\n",
    "\n",
    "    pred_probs = []\n",
    "\n",
    "    # Send the model to the device\n",
    "    model.to(device)\n",
    "\n",
    "    # Set the model to evaluation mode\n",
    "    model.eval()\n",
    "\n",
    "    with torch.inference_mode():\n",
    "        for image in data:\n",
    "            image = image.unsqueeze(0).to(device)\n",
    "\n",
    "            # Foward pass\n",
    "            pred_logits = model(image)\n",
    "\n",
    "            # Get the prediction probabilities\n",
    "            pred_prob = torch.softmax(pred_logits, dim=1)\n",
    "\n",
    "            # Append the prediction probabilities\n",
    "            pred_probs.append(pred_prob.cpu())\n",
    "\n",
    "    return torch.stack(pred_probs)"
   ]
  },
  {
   "cell_type": "code",
   "execution_count": 296,
   "metadata": {},
   "outputs": [
    {
     "data": {
      "text/plain": [
       "torch.Size([1, 28, 28])"
      ]
     },
     "execution_count": 296,
     "metadata": {},
     "output_type": "execute_result"
    }
   ],
   "source": [
    "import random\n",
    "\n",
    "test_samples = []\n",
    "test_label = []\n",
    "\n",
    "for sample, label in random.sample(list(test_data), k=9):\n",
    "    test_samples.append(sample)\n",
    "    test_label.append(label)\n",
    "\n",
    "# View the forst sample shape\n",
    "test_samples[0].shape"
   ]
  },
  {
   "cell_type": "code",
   "execution_count": 297,
   "metadata": {},
   "outputs": [
    {
     "data": {
      "text/plain": [
       "Text(0.5, 1.0, 'Label: 4 - Coat')"
      ]
     },
     "execution_count": 297,
     "metadata": {},
     "output_type": "execute_result"
    },
    {
     "data": {
      "image/png": "[encoded data removed]",
      "text/plain": [
       "<Figure size 640x480 with 1 Axes>"
      ]
     },
     "metadata": {},
     "output_type": "display_data"
    }
   ],
   "source": [
    "plt.imshow(test_samples[0].squeeze(), cmap=\"gray\")\n",
    "plt.title(f\"Label: {test_label[0]} - {class_names[test_label[0]]}\")"
   ]
  },
  {
   "cell_type": "code",
   "execution_count": 298,
   "metadata": {},
   "outputs": [
    {
     "data": {
      "text/plain": [
       "tensor([[[1.2251e-03, 8.3123e-04, 5.1402e-03, 1.6584e-01, 8.1431e-01,\n",
       "          2.7358e-07, 1.1926e-02, 4.4826e-08, 7.1078e-04, 1.2174e-05]],\n",
       "\n",
       "        [[5.3700e-08, 8.7501e-15, 3.8777e-13, 1.2187e-10, 7.4710e-13,\n",
       "          7.9607e-10, 7.7310e-13, 3.7596e-10, 1.0000e+00, 4.0945e-11]]])"
      ]
     },
     "execution_count": 298,
     "metadata": {},
     "output_type": "execute_result"
    }
   ],
   "source": [
    "# Make predictions\n",
    "\n",
    "pred_probs = make_predictions(model=model_2,\n",
    "                              data=test_samples,\n",
    "                              device=device)\n",
    "\n",
    "pred_probs[:2]"
   ]
  },
  {
   "cell_type": "code",
   "execution_count": 305,
   "metadata": {},
   "outputs": [
    {
     "data": {
      "image/png": "[encoded data removed]",
      "text/plain": [
       "<Figure size 1000x1000 with 9 Axes>"
      ]
     },
     "metadata": {},
     "output_type": "display_data"
    }
   ],
   "source": [
    "# Plot the predictions\n",
    "plt.figure(figsize=(10, 10))\n",
    "nrows = 3\n",
    "ncols = 3\n",
    "\n",
    "for i, sample in enumerate(test_samples):\n",
    "    plt.subplot(nrows, ncols, i+1)\n",
    "    \n",
    "    # Plot the target image\n",
    "    plt.imshow(sample.squeeze(), cmap=\"gray\")\n",
    "\n",
    "    # Get the predicted class name\n",
    "    pred_label = class_names[pred_probs[i].argmax()]\n",
    "\n",
    "    # Get the target class name\n",
    "    target_class_name = class_names[test_label[i]]\n",
    "\n",
    "    # Check if the prediction is correct\n",
    "    if pred_label == target_class_name:\n",
    "        plt.title(f\"Prediction: {pred_label} \\n Target: {target_class_name}\", color=\"green\")\n",
    "    else:\n",
    "        plt.title(f\"Prediction: {pred_label} \\n Target: {target_class_name}\", color=\"red\")\n",
    "\n",
    "    plt.axis(\"off\")\n",
    "\n",
    "plt.show()\n"
   ]
  },
  {
   "cell_type": "markdown",
   "metadata": {},
   "source": [
    "## 10. Making a confusion matrix\n",
    "\n",
    "A cofusion matrix is a fantastic way to evaluate our model. It shows us how well our model is doing in terms of predicting the correct class. We can use the `sklearn` library to create a confusion matrix.\n",
    "\n",
    "The way to make a cofusion matrix is:\n",
    "1. Make predictions on the trained model using the test data.\n",
    "2. Making a cofusion matrix `torchmetrics.ConfusionMatrix` - https://torchmetrics.readthedocs.io/en/v0.8.2/classification/confusion_matrix.html\n",
    "3. Plot the confusion matrix using `mlxtend.plotting.plot_confusion_matrix()` - https://rasbt.github.io/mlxtend/user_guide/evaluate/confusion_matrix/"
   ]
  },
  {
   "cell_type": "code",
   "execution_count": 317,
   "metadata": {},
   "outputs": [
    {
     "name": "stderr",
     "output_type": "stream",
     "text": [
      "Making predictions on test data...: 100%|██████████| 313/313 [00:03<00:00, 86.55it/s]\n"
     ]
    }
   ],
   "source": [
    "# Import tqdm.auto for progress bars\n",
    "from tqdm.auto import tqdm\n",
    "\n",
    "# 1. Make predictions on the test data\n",
    "y_preds = []\n",
    "model_2.eval()\n",
    "with torch.inference_mode():\n",
    "    for data, target in tqdm(test_dataloader, desc=\"Making predictions on test data...\"):\n",
    "        # Move the data to the device\n",
    "        data, target = data.to(device), target.to(device)\n",
    "\n",
    "       # Make predictions\n",
    "        output = model_2(data)\n",
    "\n",
    "        # Get the predicted class\n",
    "        y_preds.append(output.argmax(dim=1).cpu())\n"
   ]
  },
  {
   "cell_type": "code",
   "execution_count": 318,
   "metadata": {},
   "outputs": [
    {
     "name": "stdout",
     "output_type": "stream",
     "text": [
      "tensor([9, 2, 1,  ..., 8, 1, 5])\n"
     ]
    }
   ],
   "source": [
    "# Concatenate the predictions\n",
    "y_preds_tensor = torch.cat(y_preds)\n",
    "print(y_preds_tensor)"
   ]
  },
  {
   "cell_type": "code",
   "execution_count": 314,
   "metadata": {},
   "outputs": [
    {
     "data": {
      "text/plain": [
       "10000"
      ]
     },
     "execution_count": 314,
     "metadata": {},
     "output_type": "execute_result"
    }
   ],
   "source": [
    "len(y_preds_tensor)"
   ]
  },
  {
   "cell_type": "code",
   "execution_count": 326,
   "metadata": {},
   "outputs": [
    {
     "data": {
      "text/plain": [
       "tensor([[768,   0,  16,  34,   4,   1, 166,   0,  11,   0],\n",
       "        [  1, 967,   0,  23,   2,   1,   1,   0,   5,   0],\n",
       "        [  8,   1, 824,  10,  78,   0,  75,   0,   4,   0],\n",
       "        [ 19,   7,   7, 894,  34,   0,  34,   0,   5,   0],\n",
       "        [  0,   1, 123,  38, 736,   0,  94,   1,   7,   0],\n",
       "        [  0,   0,   1,   0,   0, 967,   0,  23,   3,   6],\n",
       "        [ 88,   1,  99,  36,  65,   0, 687,   1,  23,   0],\n",
       "        [  0,   0,   0,   0,   0,  14,   0, 949,   4,  33],\n",
       "        [  1,   2,   0,   6,   3,   3,   3,   1, 981,   0],\n",
       "        [  1,   0,   0,   0,   0,   7,   0,  23,   1, 968]])"
      ]
     },
     "execution_count": 326,
     "metadata": {},
     "output_type": "execute_result"
    }
   ],
   "source": [
    "from torchmetrics.classification import ConfusionMatrix\n",
    "\n",
    "\n",
    "cofmat = ConfusionMatrix(task=\"multiclass\", num_classes=len(class_names), )\n",
    "cofmat(y_preds_tensor, test_data.targets)"
   ]
  },
  {
   "cell_type": "code",
   "execution_count": 346,
   "metadata": {},
   "outputs": [
    {
     "data": {
      "image/png": "[encoded data removed]",
      "text/plain": [
       "<Figure size 1000x1000 with 1 Axes>"
      ]
     },
     "metadata": {},
     "output_type": "display_data"
    }
   ],
   "source": [
    "# Update class names\n",
    "class_names = test_data.classes\n",
    "\n",
    "# Plot the confusion matrix\n",
    "import seaborn as sns\n",
    "import matplotlib.pyplot as plt\n",
    "\n",
    "plt.figure(figsize=(10, 10))\n",
    "sns.heatmap(cofmat.compute().numpy(), annot=True, fmt=\"d\", cmap=\"Reds\", cbar=False,\n",
    "            xticklabels=class_names, yticklabels=class_names)\n",
    "plt.xlabel(\"Predicted label\")\n",
    "plt.ylabel(\"Actual label\")\n",
    "plt.title(\"Confusion Matrix\")\n",
    "plt.xticks(rotation=45)  # Incline the x-axis labels\n",
    "plt.yticks(rotation=0)  # Incline the y-axis labels\n",
    "plt.show()\n"
   ]
  },
  {
   "cell_type": "markdown",
   "metadata": {},
   "source": [
    "## 11. Save and load the best performing model"
   ]
  },
  {
   "cell_type": "code",
   "execution_count": 344,
   "metadata": {},
   "outputs": [
    {
     "name": "stdout",
     "output_type": "stream",
     "text": [
      "Saving model to: models/fashion_mnist_model_2.pt\n"
     ]
    }
   ],
   "source": [
    "from pathlib import Path\n",
    "\n",
    "# Create a directory to save the model\n",
    "MODEL_PATH = Path(\"models\")\n",
    "MODEL_PATH.mkdir(exist_ok=True,\n",
    "                parents=True)\n",
    "\n",
    "# Create model save path\n",
    "MODEL_NAME = \"fashion_mnist_model_2.pt\"\n",
    "MODEL_SAVE_PATH = MODEL_PATH / MODEL_NAME\n",
    "\n",
    "# Save the model\n",
    "print(f\"Saving model to: {MODEL_SAVE_PATH}\")\n",
    "torch.save(model_2, MODEL_SAVE_PATH)"
   ]
  },
  {
   "cell_type": "code",
   "execution_count": null,
   "metadata": {},
   "outputs": [],
   "source": []
  }
 ],
 "metadata": {
  "kernelspec": {
   "display_name": ".venv",
   "language": "python",
   "name": "python3"
  },
  "language_info": {
   "codemirror_mode": {
    "name": "ipython",
    "version": 3
   },
   "file_extension": ".py",
   "mimetype": "text/x-python",
   "name": "python",
   "nbconvert_exporter": "python",
   "pygments_lexer": "ipython3",
   "version": "3.12.3"
  }
 },
 "nbformat": 4,
 "nbformat_minor": 2
}
