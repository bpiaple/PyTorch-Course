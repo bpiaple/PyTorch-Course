{
 "cells": [
  {
   "cell_type": "markdown",
   "metadata": {},
   "source": [
    "# 07 Pytorch Experiment Tracking\n",
    "\n",
    "Machine learning is very experiment.\n",
    "\n",
    "In this lesson, we will learn how to track our experiments using Pytorch Experiment Tracking.\n",
    "\n",
    "Pytorch Experiment Tracking is a tool that helps you track your experiments and store the results in a database.\n",
    "\n",
    "This tool is very useful when you are working on a machine learning project and you want to keep track of all the experiments you have done."
   ]
  },
  {
   "cell_type": "code",
   "execution_count": 3,
   "metadata": {},
   "outputs": [
    {
     "name": "stdout",
     "output_type": "stream",
     "text": [
      "2.4.1+cu121\n",
      "0.19.1+cu121\n"
     ]
    }
   ],
   "source": [
    "import torch\n",
    "import torchvision\n",
    "\n",
    "from torchinfo import summary\n",
    "\n",
    "from tqdm.auto import tqdm\n",
    "from going_modular import data_setup, engine\n",
    "\n",
    "print(torch.__version__)\n",
    "print(torchvision.__version__)"
   ]
  },
  {
   "cell_type": "code",
   "execution_count": 4,
   "metadata": {},
   "outputs": [],
   "source": [
    "device = torch.device(\"cuda\" if torch.cuda.is_available() else \"cpu\")"
   ]
  },
  {
   "cell_type": "markdown",
   "metadata": {},
   "source": [
    "## 1. Get the data"
   ]
  },
  {
   "cell_type": "code",
   "execution_count": 4,
   "metadata": {},
   "outputs": [],
   "source": [
    "import os, zipfile\n",
    "\n",
    "from pathlib import Path\n",
    "\n",
    "import requests\n",
    "\n",
    "def download_data(source: str,\n",
    "                  destination: str,\n",
    "                  remove_source: bool = False) -> Path:\n",
    "    \"\"\"Download data from a URL and save it to a destination.\n",
    "\n",
    "    Args:\n",
    "        source (str): The URL of the data to download\n",
    "        destination (str): The destination file to save the data\n",
    "        remove_source (bool, optional): If `True`, the source file will be remove. Defaults to False.\n",
    "\n",
    "    Returns:\n",
    "        Path: The destination path of the downloaded data.\n",
    "    \"\"\"\n",
    "\n",
    "    data_path = Path(\"data/\")\n",
    "    image_path = data_path / destination\n",
    "\n",
    "    # If the image folder does not exist, create it\n",
    "    if not image_path.exists():\n",
    "        image_path.mkdir(parents=True, exist_ok=True)\n",
    "\n",
    "    # Download the data\n",
    "    target_dir = Path(source).name\n",
    "    # Check if the zip file does not exist before downloading\n",
    "    if not (data_path / target_dir).exists():\n",
    "        with open(data_path / target_dir, \"wb\") as file:\n",
    "            response = requests.get(source)\n",
    "            print(f\"Downloading {source} to {data_path / target_dir}\")\n",
    "            file.write(response.content)\n",
    "    else:\n",
    "        print(f\"{data_path / target_dir} already exists, skipping download.\")\n",
    "\n",
    "    # Unzip the data\n",
    "    with zipfile.ZipFile(data_path / target_dir, \"r\") as zip_ref:\n",
    "        print(f\"Extracting {data_path / target_dir} to {image_path}\")\n",
    "        zip_ref.extractall(image_path)\n",
    "\n",
    "    # Remove the source file (the .zip file)\n",
    "    if remove_source:\n",
    "        os.remove(data_path / target_dir)\n",
    "\n",
    "    return image_path\n"
   ]
  },
  {
   "cell_type": "code",
   "execution_count": 6,
   "metadata": {},
   "outputs": [
    {
     "name": "stdout",
     "output_type": "stream",
     "text": [
      "Downloading https://github.com/mrdbourke/pytorch-deep-learning/raw/main/data/pizza_steak_sushi.zip to data/pizza_steak_sushi.zip\n",
      "Extracting data/pizza_steak_sushi.zip to data/pizza_steak_sushi\n"
     ]
    },
    {
     "data": {
      "text/plain": [
       "PosixPath('data/pizza_steak_sushi')"
      ]
     },
     "execution_count": 6,
     "metadata": {},
     "output_type": "execute_result"
    }
   ],
   "source": [
    "# Download the data\n",
    "image_path = download_data(source=\"https://github.com/mrdbourke/pytorch-deep-learning/raw/main/data/pizza_steak_sushi.zip\",\n",
    "                           destination=\"pizza_steak_sushi\",\n",
    "                           remove_source=True)\n",
    "\n",
    "image_path"
   ]
  },
  {
   "cell_type": "markdown",
   "metadata": {},
   "source": [
    "## 2. Create Datasets and Dataloaders"
   ]
  },
  {
   "cell_type": "markdown",
   "metadata": {},
   "source": [
    "### 2.1 Create a DataLoaders using manual transformations"
   ]
  },
  {
   "cell_type": "code",
   "execution_count": 7,
   "metadata": {},
   "outputs": [
    {
     "data": {
      "text/plain": [
       "(PosixPath('data/pizza_steak_sushi/train'),\n",
       " PosixPath('data/pizza_steak_sushi/test'))"
      ]
     },
     "execution_count": 7,
     "metadata": {},
     "output_type": "execute_result"
    }
   ],
   "source": [
    "# Setup the data paths\n",
    "train_dir = image_path / \"train\"\n",
    "test_dir = image_path / \"test\"\n",
    "\n",
    "train_dir, test_dir"
   ]
  },
  {
   "cell_type": "code",
   "execution_count": 8,
   "metadata": {},
   "outputs": [
    {
     "name": "stdout",
     "output_type": "stream",
     "text": [
      "Creating DataLoaders using manual transformations: Compose(\n",
      "      Resize(size=[224, 224], interpolation=InterpolationMode.BILINEAR, antialias=True)\n",
      "      ToDtype(scale=False)\n",
      "      ToImage()\n",
      "      Normalize(mean=[0.485, 0.456, 0.406], std=[0.229, 0.224, 0.225], inplace=False)\n",
      ")\n"
     ]
    },
    {
     "data": {
      "text/plain": [
       "(<torch.utils.data.dataloader.DataLoader at 0x7ed68492b3b0>,\n",
       " <torch.utils.data.dataloader.DataLoader at 0x7ed76470d670>,\n",
       " ['pizza', 'steak', 'sushi'])"
      ]
     },
     "execution_count": 8,
     "metadata": {},
     "output_type": "execute_result"
    }
   ],
   "source": [
    "# Setup ImageNet normalization levels\n",
    "\n",
    "from torchvision.transforms import v2 as transforms\n",
    "\n",
    "\n",
    "normalize = transforms.Normalize(mean=[0.485, 0.456, 0.406],\n",
    "                                 std=[0.229, 0.224, 0.225])\n",
    "\n",
    "# Create transform pipeline manually\n",
    "manual_transforms = transforms.Compose([\n",
    "    transforms.Resize((224, 224)),\n",
    "    transforms.ToDtype(torch.float),\n",
    "    transforms.ToImage(),\n",
    "    normalize\n",
    "]).to(device)\n",
    "\n",
    "\n",
    "print(f\"Creating DataLoaders using manual transformations: {manual_transforms}\")\n",
    "\n",
    "# Create the DataLoaders\n",
    "from going_modular import data_setup\n",
    "train_dl, test_dl, class_names = data_setup.create_dataloaders(train_dir=train_dir,\n",
    "                                            test_dir=test_dir,\n",
    "                                            transform=manual_transforms,\n",
    "                                            batch_size=32,\n",
    "                                            num_workers=2)\n",
    "train_dl, test_dl, class_names"
   ]
  },
  {
   "cell_type": "markdown",
   "metadata": {},
   "source": [
    "### 2.2 Create a DataLoaders using built-in transformations"
   ]
  },
  {
   "cell_type": "code",
   "execution_count": 9,
   "metadata": {},
   "outputs": [
    {
     "data": {
      "text/plain": [
       "(<torch.utils.data.dataloader.DataLoader at 0x7ed68bdf7320>,\n",
       " <torch.utils.data.dataloader.DataLoader at 0x7ed68492a390>,\n",
       " ['pizza', 'steak', 'sushi'])"
      ]
     },
     "execution_count": 9,
     "metadata": {},
     "output_type": "execute_result"
    }
   ],
   "source": [
    "# Setup dirs\n",
    "train_dir = image_path / \"train\"\n",
    "test_dir = image_path / \"test\"\n",
    "\n",
    "# Setup pretrained weights for the model\n",
    "import torchvision\n",
    "weights = torchvision.models.EfficientNet_B3_Weights.DEFAULT\n",
    "\n",
    "\n",
    "# Get transforms from weights\n",
    "automatic_transforms = weights.transforms()\n",
    "\n",
    "# Create the DataLoaders\n",
    "from going_modular import data_setup\n",
    "train_dl, test_dl, class_names = data_setup.create_dataloaders(train_dir=train_dir,\n",
    "                                            test_dir=test_dir,\n",
    "                                            transform=automatic_transforms,\n",
    "                                            batch_size=32,\n",
    "                                            num_workers=2)\n",
    "train_dl, test_dl, class_names"
   ]
  },
  {
   "cell_type": "markdown",
   "metadata": {},
   "source": [
    "## 3. Getting a pretrained model, freeze the base layers and change the output layer"
   ]
  },
  {
   "cell_type": "code",
   "execution_count": 10,
   "metadata": {},
   "outputs": [],
   "source": [
    "# Get the pretrained model\n",
    "model = torchvision.models.efficientnet_b3(weights=weights).to(device)\n",
    "\n",
    "# model"
   ]
  },
  {
   "cell_type": "code",
   "execution_count": 11,
   "metadata": {},
   "outputs": [
    {
     "data": {
      "text/plain": [
       "Sequential(\n",
       "  (0): Dropout(p=0.3, inplace=True)\n",
       "  (1): Linear(in_features=1536, out_features=1000, bias=True)\n",
       ")"
      ]
     },
     "execution_count": 11,
     "metadata": {},
     "output_type": "execute_result"
    }
   ],
   "source": [
    "model.classifier"
   ]
  },
  {
   "cell_type": "code",
   "execution_count": 12,
   "metadata": {},
   "outputs": [],
   "source": [
    "# Freeze the model parameters (so the pretrained weights aren't updated during training)\n",
    "for param in model.features.parameters():\n",
    "    param.requires_grad = False\n",
    "\n",
    "# Change the classifier to have the same number of features as the number of classes in the data\n",
    "import torch.nn as nn\n",
    "\n",
    "num_classes = len(class_names)\n",
    "in_features = model.classifier[1].in_features  # Access the in_features from the original classifier\n",
    "model.classifier = nn.Sequential(\n",
    "    nn.Dropout(p=0.3, inplace=True),\n",
    "    nn.Linear(in_features=in_features, out_features=num_classes)\n",
    ").to(device)\n"
   ]
  },
  {
   "cell_type": "code",
   "execution_count": 13,
   "metadata": {},
   "outputs": [
    {
     "data": {
      "text/plain": [
       "====================================================================================================================================================================================\n",
       "Layer (type:depth-idx)                                  Input Shape               Output Shape              Param #                   Kernel Shape              Mult-Adds\n",
       "====================================================================================================================================================================================\n",
       "EfficientNet                                            [32, 3, 224, 224]         [32, 3]                   --                        --                        --\n",
       "├─Sequential: 1-1                                       [32, 3, 224, 224]         [32, 1536, 7, 7]          --                        --                        --\n",
       "│    └─Conv2dNormActivation: 2-1                        [32, 3, 224, 224]         [32, 40, 112, 112]        --                        --                        --\n",
       "│    │    └─Conv2d: 3-1                                 [32, 3, 224, 224]         [32, 40, 112, 112]        (1,080)                   [3, 3]                    433,520,640\n",
       "│    │    └─BatchNorm2d: 3-2                            [32, 40, 112, 112]        [32, 40, 112, 112]        (80)                      --                        2,560\n",
       "│    │    └─SiLU: 3-3                                   [32, 40, 112, 112]        [32, 40, 112, 112]        --                        --                        --\n",
       "│    └─Sequential: 2-2                                  [32, 40, 112, 112]        [32, 24, 112, 112]        --                        --                        --\n",
       "│    │    └─MBConv: 3-4                                 [32, 40, 112, 112]        [32, 24, 112, 112]        --                        --                        --\n",
       "│    │    │    └─Sequential: 4-1                        [32, 40, 112, 112]        [32, 24, 112, 112]        --                        --                        --\n",
       "│    │    │    │    └─Conv2dNormActivation: 5-1         [32, 40, 112, 112]        [32, 40, 112, 112]        (440)                     --                        144,509,440\n",
       "│    │    │    │    └─SqueezeExcitation: 5-2            [32, 40, 112, 112]        [32, 40, 112, 112]        (850)                     --                        27,200\n",
       "│    │    │    │    └─Conv2dNormActivation: 5-3         [32, 40, 112, 112]        [32, 24, 112, 112]        (1,008)                   --                        385,353,216\n",
       "│    │    └─MBConv: 3-5                                 [32, 24, 112, 112]        [32, 24, 112, 112]        --                        --                        --\n",
       "│    │    │    └─Sequential: 4-2                        [32, 24, 112, 112]        [32, 24, 112, 112]        --                        --                        --\n",
       "│    │    │    │    └─Conv2dNormActivation: 5-4         [32, 24, 112, 112]        [32, 24, 112, 112]        (264)                     --                        86,705,664\n",
       "│    │    │    │    └─SqueezeExcitation: 5-5            [32, 24, 112, 112]        [32, 24, 112, 112]        (318)                     --                        10,176\n",
       "│    │    │    │    └─Conv2dNormActivation: 5-6         [32, 24, 112, 112]        [32, 24, 112, 112]        (624)                     --                        231,212,544\n",
       "│    │    │    └─StochasticDepth: 4-3                   [32, 24, 112, 112]        [32, 24, 112, 112]        --                        --                        --\n",
       "│    └─Sequential: 2-3                                  [32, 24, 112, 112]        [32, 32, 56, 56]          --                        --                        --\n",
       "│    │    └─MBConv: 3-6                                 [32, 24, 112, 112]        [32, 32, 56, 56]          --                        --                        --\n",
       "│    │    │    └─Sequential: 4-4                        [32, 24, 112, 112]        [32, 32, 56, 56]          --                        --                        --\n",
       "│    │    │    │    └─Conv2dNormActivation: 5-7         [32, 24, 112, 112]        [32, 144, 112, 112]       (3,744)                   --                        1,387,275,264\n",
       "│    │    │    │    └─Conv2dNormActivation: 5-8         [32, 144, 112, 112]       [32, 144, 56, 56]         (1,584)                   --                        130,065,408\n",
       "│    │    │    │    └─SqueezeExcitation: 5-9            [32, 144, 56, 56]         [32, 144, 56, 56]         (1,878)                   --                        60,096\n",
       "│    │    │    │    └─Conv2dNormActivation: 5-10        [32, 144, 56, 56]         [32, 32, 56, 56]          (4,672)                   --                        462,424,064\n",
       "│    │    └─MBConv: 3-7                                 [32, 32, 56, 56]          [32, 32, 56, 56]          --                        --                        --\n",
       "│    │    │    └─Sequential: 4-5                        [32, 32, 56, 56]          [32, 32, 56, 56]          --                        --                        --\n",
       "│    │    │    │    └─Conv2dNormActivation: 5-11        [32, 32, 56, 56]          [32, 192, 56, 56]         (6,528)                   --                        616,574,976\n",
       "│    │    │    │    └─Conv2dNormActivation: 5-12        [32, 192, 56, 56]         [32, 192, 56, 56]         (2,112)                   --                        173,420,544\n",
       "│    │    │    │    └─SqueezeExcitation: 5-13           [32, 192, 56, 56]         [32, 192, 56, 56]         (3,272)                   --                        104,704\n",
       "│    │    │    │    └─Conv2dNormActivation: 5-14        [32, 192, 56, 56]         [32, 32, 56, 56]          (6,208)                   --                        616,564,736\n",
       "│    │    │    └─StochasticDepth: 4-6                   [32, 32, 56, 56]          [32, 32, 56, 56]          --                        --                        --\n",
       "│    │    └─MBConv: 3-8                                 [32, 32, 56, 56]          [32, 32, 56, 56]          --                        --                        --\n",
       "│    │    │    └─Sequential: 4-7                        [32, 32, 56, 56]          [32, 32, 56, 56]          --                        --                        --\n",
       "│    │    │    │    └─Conv2dNormActivation: 5-15        [32, 32, 56, 56]          [32, 192, 56, 56]         (6,528)                   --                        616,574,976\n",
       "│    │    │    │    └─Conv2dNormActivation: 5-16        [32, 192, 56, 56]         [32, 192, 56, 56]         (2,112)                   --                        173,420,544\n",
       "│    │    │    │    └─SqueezeExcitation: 5-17           [32, 192, 56, 56]         [32, 192, 56, 56]         (3,272)                   --                        104,704\n",
       "│    │    │    │    └─Conv2dNormActivation: 5-18        [32, 192, 56, 56]         [32, 32, 56, 56]          (6,208)                   --                        616,564,736\n",
       "│    │    │    └─StochasticDepth: 4-8                   [32, 32, 56, 56]          [32, 32, 56, 56]          --                        --                        --\n",
       "│    └─Sequential: 2-4                                  [32, 32, 56, 56]          [32, 48, 28, 28]          --                        --                        --\n",
       "│    │    └─MBConv: 3-9                                 [32, 32, 56, 56]          [32, 48, 28, 28]          --                        --                        --\n",
       "│    │    │    └─Sequential: 4-9                        [32, 32, 56, 56]          [32, 48, 28, 28]          --                        --                        --\n",
       "│    │    │    │    └─Conv2dNormActivation: 5-19        [32, 32, 56, 56]          [32, 192, 56, 56]         (6,528)                   --                        616,574,976\n",
       "│    │    │    │    └─Conv2dNormActivation: 5-20        [32, 192, 56, 56]         [32, 192, 28, 28]         (5,184)                   --                        120,434,688\n",
       "│    │    │    │    └─SqueezeExcitation: 5-21           [32, 192, 28, 28]         [32, 192, 28, 28]         (3,272)                   --                        104,704\n",
       "│    │    │    │    └─Conv2dNormActivation: 5-22        [32, 192, 28, 28]         [32, 48, 28, 28]          (9,312)                   --                        231,214,080\n",
       "│    │    └─MBConv: 3-10                                [32, 48, 28, 28]          [32, 48, 28, 28]          --                        --                        --\n",
       "│    │    │    └─Sequential: 4-10                       [32, 48, 28, 28]          [32, 48, 28, 28]          --                        --                        --\n",
       "│    │    │    │    └─Conv2dNormActivation: 5-23        [32, 48, 28, 28]          [32, 288, 28, 28]         (14,400)                  --                        346,834,944\n",
       "│    │    │    │    └─Conv2dNormActivation: 5-24        [32, 288, 28, 28]         [32, 288, 28, 28]         (7,776)                   --                        180,652,032\n",
       "│    │    │    │    └─SqueezeExcitation: 5-25           [32, 288, 28, 28]         [32, 288, 28, 28]         (7,212)                   --                        230,784\n",
       "│    │    │    │    └─Conv2dNormActivation: 5-26        [32, 288, 28, 28]         [32, 48, 28, 28]          (13,920)                  --                        346,819,584\n",
       "│    │    │    └─StochasticDepth: 4-11                  [32, 48, 28, 28]          [32, 48, 28, 28]          --                        --                        --\n",
       "│    │    └─MBConv: 3-11                                [32, 48, 28, 28]          [32, 48, 28, 28]          --                        --                        --\n",
       "│    │    │    └─Sequential: 4-12                       [32, 48, 28, 28]          [32, 48, 28, 28]          --                        --                        --\n",
       "│    │    │    │    └─Conv2dNormActivation: 5-27        [32, 48, 28, 28]          [32, 288, 28, 28]         (14,400)                  --                        346,834,944\n",
       "│    │    │    │    └─Conv2dNormActivation: 5-28        [32, 288, 28, 28]         [32, 288, 28, 28]         (7,776)                   --                        180,652,032\n",
       "│    │    │    │    └─SqueezeExcitation: 5-29           [32, 288, 28, 28]         [32, 288, 28, 28]         (7,212)                   --                        230,784\n",
       "│    │    │    │    └─Conv2dNormActivation: 5-30        [32, 288, 28, 28]         [32, 48, 28, 28]          (13,920)                  --                        346,819,584\n",
       "│    │    │    └─StochasticDepth: 4-13                  [32, 48, 28, 28]          [32, 48, 28, 28]          --                        --                        --\n",
       "│    └─Sequential: 2-5                                  [32, 48, 28, 28]          [32, 96, 14, 14]          --                        --                        --\n",
       "│    │    └─MBConv: 3-12                                [32, 48, 28, 28]          [32, 96, 14, 14]          --                        --                        --\n",
       "│    │    │    └─Sequential: 4-14                       [32, 48, 28, 28]          [32, 96, 14, 14]          --                        --                        --\n",
       "│    │    │    │    └─Conv2dNormActivation: 5-31        [32, 48, 28, 28]          [32, 288, 28, 28]         (14,400)                  --                        346,834,944\n",
       "│    │    │    │    └─Conv2dNormActivation: 5-32        [32, 288, 28, 28]         [32, 288, 14, 14]         (3,168)                   --                        16,275,456\n",
       "│    │    │    │    └─SqueezeExcitation: 5-33           [32, 288, 14, 14]         [32, 288, 14, 14]         (7,212)                   --                        230,784\n",
       "│    │    │    │    └─Conv2dNormActivation: 5-34        [32, 288, 14, 14]         [32, 96, 14, 14]          (27,840)                  --                        173,414,400\n",
       "│    │    └─MBConv: 3-13                                [32, 96, 14, 14]          [32, 96, 14, 14]          --                        --                        --\n",
       "│    │    │    └─Sequential: 4-15                       [32, 96, 14, 14]          [32, 96, 14, 14]          --                        --                        --\n",
       "│    │    │    │    └─Conv2dNormActivation: 5-35        [32, 96, 14, 14]          [32, 576, 14, 14]         (56,448)                  --                        346,853,376\n",
       "│    │    │    │    └─Conv2dNormActivation: 5-36        [32, 576, 14, 14]         [32, 576, 14, 14]         (6,336)                   --                        32,550,912\n",
       "│    │    │    │    └─SqueezeExcitation: 5-37           [32, 576, 14, 14]         [32, 576, 14, 14]         (28,248)                  --                        903,936\n",
       "│    │    │    │    └─Conv2dNormActivation: 5-38        [32, 576, 14, 14]         [32, 96, 14, 14]          (55,488)                  --                        346,822,656\n",
       "│    │    │    └─StochasticDepth: 4-16                  [32, 96, 14, 14]          [32, 96, 14, 14]          --                        --                        --\n",
       "│    │    └─MBConv: 3-14                                [32, 96, 14, 14]          [32, 96, 14, 14]          --                        --                        --\n",
       "│    │    │    └─Sequential: 4-17                       [32, 96, 14, 14]          [32, 96, 14, 14]          --                        --                        --\n",
       "│    │    │    │    └─Conv2dNormActivation: 5-39        [32, 96, 14, 14]          [32, 576, 14, 14]         (56,448)                  --                        346,853,376\n",
       "│    │    │    │    └─Conv2dNormActivation: 5-40        [32, 576, 14, 14]         [32, 576, 14, 14]         (6,336)                   --                        32,550,912\n",
       "│    │    │    │    └─SqueezeExcitation: 5-41           [32, 576, 14, 14]         [32, 576, 14, 14]         (28,248)                  --                        903,936\n",
       "│    │    │    │    └─Conv2dNormActivation: 5-42        [32, 576, 14, 14]         [32, 96, 14, 14]          (55,488)                  --                        346,822,656\n",
       "│    │    │    └─StochasticDepth: 4-18                  [32, 96, 14, 14]          [32, 96, 14, 14]          --                        --                        --\n",
       "│    │    └─MBConv: 3-15                                [32, 96, 14, 14]          [32, 96, 14, 14]          --                        --                        --\n",
       "│    │    │    └─Sequential: 4-19                       [32, 96, 14, 14]          [32, 96, 14, 14]          --                        --                        --\n",
       "│    │    │    │    └─Conv2dNormActivation: 5-43        [32, 96, 14, 14]          [32, 576, 14, 14]         (56,448)                  --                        346,853,376\n",
       "│    │    │    │    └─Conv2dNormActivation: 5-44        [32, 576, 14, 14]         [32, 576, 14, 14]         (6,336)                   --                        32,550,912\n",
       "│    │    │    │    └─SqueezeExcitation: 5-45           [32, 576, 14, 14]         [32, 576, 14, 14]         (28,248)                  --                        903,936\n",
       "│    │    │    │    └─Conv2dNormActivation: 5-46        [32, 576, 14, 14]         [32, 96, 14, 14]          (55,488)                  --                        346,822,656\n",
       "│    │    │    └─StochasticDepth: 4-20                  [32, 96, 14, 14]          [32, 96, 14, 14]          --                        --                        --\n",
       "│    │    └─MBConv: 3-16                                [32, 96, 14, 14]          [32, 96, 14, 14]          --                        --                        --\n",
       "│    │    │    └─Sequential: 4-21                       [32, 96, 14, 14]          [32, 96, 14, 14]          --                        --                        --\n",
       "│    │    │    │    └─Conv2dNormActivation: 5-47        [32, 96, 14, 14]          [32, 576, 14, 14]         (56,448)                  --                        346,853,376\n",
       "│    │    │    │    └─Conv2dNormActivation: 5-48        [32, 576, 14, 14]         [32, 576, 14, 14]         (6,336)                   --                        32,550,912\n",
       "│    │    │    │    └─SqueezeExcitation: 5-49           [32, 576, 14, 14]         [32, 576, 14, 14]         (28,248)                  --                        903,936\n",
       "│    │    │    │    └─Conv2dNormActivation: 5-50        [32, 576, 14, 14]         [32, 96, 14, 14]          (55,488)                  --                        346,822,656\n",
       "│    │    │    └─StochasticDepth: 4-22                  [32, 96, 14, 14]          [32, 96, 14, 14]          --                        --                        --\n",
       "│    └─Sequential: 2-6                                  [32, 96, 14, 14]          [32, 136, 14, 14]         --                        --                        --\n",
       "│    │    └─MBConv: 3-17                                [32, 96, 14, 14]          [32, 136, 14, 14]         --                        --                        --\n",
       "│    │    │    └─Sequential: 4-23                       [32, 96, 14, 14]          [32, 136, 14, 14]         --                        --                        --\n",
       "│    │    │    │    └─Conv2dNormActivation: 5-51        [32, 96, 14, 14]          [32, 576, 14, 14]         (56,448)                  --                        346,853,376\n",
       "│    │    │    │    └─Conv2dNormActivation: 5-52        [32, 576, 14, 14]         [32, 576, 14, 14]         (15,552)                  --                        90,353,664\n",
       "│    │    │    │    └─SqueezeExcitation: 5-53           [32, 576, 14, 14]         [32, 576, 14, 14]         (28,248)                  --                        903,936\n",
       "│    │    │    │    └─Conv2dNormActivation: 5-54        [32, 576, 14, 14]         [32, 136, 14, 14]         (78,608)                  --                        491,332,096\n",
       "│    │    └─MBConv: 3-18                                [32, 136, 14, 14]         [32, 136, 14, 14]         --                        --                        --\n",
       "│    │    │    └─Sequential: 4-24                       [32, 136, 14, 14]         [32, 136, 14, 14]         --                        --                        --\n",
       "│    │    │    │    └─Conv2dNormActivation: 5-55        [32, 136, 14, 14]         [32, 816, 14, 14]         (112,608)                 --                        696,093,696\n",
       "│    │    │    │    └─Conv2dNormActivation: 5-56        [32, 816, 14, 14]         [32, 816, 14, 14]         (22,032)                  --                        128,001,024\n",
       "│    │    │    │    └─SqueezeExcitation: 5-57           [32, 816, 14, 14]         [32, 816, 14, 14]         (56,338)                  --                        1,802,816\n",
       "│    │    │    │    └─Conv2dNormActivation: 5-58        [32, 816, 14, 14]         [32, 136, 14, 14]         (111,248)                 --                        696,050,176\n",
       "│    │    │    └─StochasticDepth: 4-25                  [32, 136, 14, 14]         [32, 136, 14, 14]         --                        --                        --\n",
       "│    │    └─MBConv: 3-19                                [32, 136, 14, 14]         [32, 136, 14, 14]         --                        --                        --\n",
       "│    │    │    └─Sequential: 4-26                       [32, 136, 14, 14]         [32, 136, 14, 14]         --                        --                        --\n",
       "│    │    │    │    └─Conv2dNormActivation: 5-59        [32, 136, 14, 14]         [32, 816, 14, 14]         (112,608)                 --                        696,093,696\n",
       "│    │    │    │    └─Conv2dNormActivation: 5-60        [32, 816, 14, 14]         [32, 816, 14, 14]         (22,032)                  --                        128,001,024\n",
       "│    │    │    │    └─SqueezeExcitation: 5-61           [32, 816, 14, 14]         [32, 816, 14, 14]         (56,338)                  --                        1,802,816\n",
       "│    │    │    │    └─Conv2dNormActivation: 5-62        [32, 816, 14, 14]         [32, 136, 14, 14]         (111,248)                 --                        696,050,176\n",
       "│    │    │    └─StochasticDepth: 4-27                  [32, 136, 14, 14]         [32, 136, 14, 14]         --                        --                        --\n",
       "│    │    └─MBConv: 3-20                                [32, 136, 14, 14]         [32, 136, 14, 14]         --                        --                        --\n",
       "│    │    │    └─Sequential: 4-28                       [32, 136, 14, 14]         [32, 136, 14, 14]         --                        --                        --\n",
       "│    │    │    │    └─Conv2dNormActivation: 5-63        [32, 136, 14, 14]         [32, 816, 14, 14]         (112,608)                 --                        696,093,696\n",
       "│    │    │    │    └─Conv2dNormActivation: 5-64        [32, 816, 14, 14]         [32, 816, 14, 14]         (22,032)                  --                        128,001,024\n",
       "│    │    │    │    └─SqueezeExcitation: 5-65           [32, 816, 14, 14]         [32, 816, 14, 14]         (56,338)                  --                        1,802,816\n",
       "│    │    │    │    └─Conv2dNormActivation: 5-66        [32, 816, 14, 14]         [32, 136, 14, 14]         (111,248)                 --                        696,050,176\n",
       "│    │    │    └─StochasticDepth: 4-29                  [32, 136, 14, 14]         [32, 136, 14, 14]         --                        --                        --\n",
       "│    │    └─MBConv: 3-21                                [32, 136, 14, 14]         [32, 136, 14, 14]         --                        --                        --\n",
       "│    │    │    └─Sequential: 4-30                       [32, 136, 14, 14]         [32, 136, 14, 14]         --                        --                        --\n",
       "│    │    │    │    └─Conv2dNormActivation: 5-67        [32, 136, 14, 14]         [32, 816, 14, 14]         (112,608)                 --                        696,093,696\n",
       "│    │    │    │    └─Conv2dNormActivation: 5-68        [32, 816, 14, 14]         [32, 816, 14, 14]         (22,032)                  --                        128,001,024\n",
       "│    │    │    │    └─SqueezeExcitation: 5-69           [32, 816, 14, 14]         [32, 816, 14, 14]         (56,338)                  --                        1,802,816\n",
       "│    │    │    │    └─Conv2dNormActivation: 5-70        [32, 816, 14, 14]         [32, 136, 14, 14]         (111,248)                 --                        696,050,176\n",
       "│    │    │    └─StochasticDepth: 4-31                  [32, 136, 14, 14]         [32, 136, 14, 14]         --                        --                        --\n",
       "│    └─Sequential: 2-7                                  [32, 136, 14, 14]         [32, 232, 7, 7]           --                        --                        --\n",
       "│    │    └─MBConv: 3-22                                [32, 136, 14, 14]         [32, 232, 7, 7]           --                        --                        --\n",
       "│    │    │    └─Sequential: 4-32                       [32, 136, 14, 14]         [32, 232, 7, 7]           --                        --                        --\n",
       "│    │    │    │    └─Conv2dNormActivation: 5-71        [32, 136, 14, 14]         [32, 816, 14, 14]         (112,608)                 --                        696,093,696\n",
       "│    │    │    │    └─Conv2dNormActivation: 5-72        [32, 816, 14, 14]         [32, 816, 7, 7]           (22,032)                  --                        32,039,424\n",
       "│    │    │    │    └─SqueezeExcitation: 5-73           [32, 816, 7, 7]           [32, 816, 7, 7]           (56,338)                  --                        1,802,816\n",
       "│    │    │    │    └─Conv2dNormActivation: 5-74        [32, 816, 7, 7]           [32, 232, 7, 7]           (189,776)                 --                        296,856,064\n",
       "│    │    └─MBConv: 3-23                                [32, 232, 7, 7]           [32, 232, 7, 7]           --                        --                        --\n",
       "│    │    │    └─Sequential: 4-33                       [32, 232, 7, 7]           [32, 232, 7, 7]           --                        --                        --\n",
       "│    │    │    │    └─Conv2dNormActivation: 5-75        [32, 232, 7, 7]           [32, 1392, 7, 7]          (325,728)                 --                        506,465,280\n",
       "│    │    │    │    └─Conv2dNormActivation: 5-76        [32, 1392, 7, 7]          [32, 1392, 7, 7]          (37,584)                  --                        54,655,488\n",
       "│    │    │    │    └─SqueezeExcitation: 5-77           [32, 1392, 7, 7]          [32, 1392, 7, 7]          (162,922)                 --                        5,213,504\n",
       "│    │    │    │    └─Conv2dNormActivation: 5-78        [32, 1392, 7, 7]          [32, 232, 7, 7]           (323,408)                 --                        506,391,040\n",
       "│    │    │    └─StochasticDepth: 4-34                  [32, 232, 7, 7]           [32, 232, 7, 7]           --                        --                        --\n",
       "│    │    └─MBConv: 3-24                                [32, 232, 7, 7]           [32, 232, 7, 7]           --                        --                        --\n",
       "│    │    │    └─Sequential: 4-35                       [32, 232, 7, 7]           [32, 232, 7, 7]           --                        --                        --\n",
       "│    │    │    │    └─Conv2dNormActivation: 5-79        [32, 232, 7, 7]           [32, 1392, 7, 7]          (325,728)                 --                        506,465,280\n",
       "│    │    │    │    └─Conv2dNormActivation: 5-80        [32, 1392, 7, 7]          [32, 1392, 7, 7]          (37,584)                  --                        54,655,488\n",
       "│    │    │    │    └─SqueezeExcitation: 5-81           [32, 1392, 7, 7]          [32, 1392, 7, 7]          (162,922)                 --                        5,213,504\n",
       "│    │    │    │    └─Conv2dNormActivation: 5-82        [32, 1392, 7, 7]          [32, 232, 7, 7]           (323,408)                 --                        506,391,040\n",
       "│    │    │    └─StochasticDepth: 4-36                  [32, 232, 7, 7]           [32, 232, 7, 7]           --                        --                        --\n",
       "│    │    └─MBConv: 3-25                                [32, 232, 7, 7]           [32, 232, 7, 7]           --                        --                        --\n",
       "│    │    │    └─Sequential: 4-37                       [32, 232, 7, 7]           [32, 232, 7, 7]           --                        --                        --\n",
       "│    │    │    │    └─Conv2dNormActivation: 5-83        [32, 232, 7, 7]           [32, 1392, 7, 7]          (325,728)                 --                        506,465,280\n",
       "│    │    │    │    └─Conv2dNormActivation: 5-84        [32, 1392, 7, 7]          [32, 1392, 7, 7]          (37,584)                  --                        54,655,488\n",
       "│    │    │    │    └─SqueezeExcitation: 5-85           [32, 1392, 7, 7]          [32, 1392, 7, 7]          (162,922)                 --                        5,213,504\n",
       "│    │    │    │    └─Conv2dNormActivation: 5-86        [32, 1392, 7, 7]          [32, 232, 7, 7]           (323,408)                 --                        506,391,040\n",
       "│    │    │    └─StochasticDepth: 4-38                  [32, 232, 7, 7]           [32, 232, 7, 7]           --                        --                        --\n",
       "│    │    └─MBConv: 3-26                                [32, 232, 7, 7]           [32, 232, 7, 7]           --                        --                        --\n",
       "│    │    │    └─Sequential: 4-39                       [32, 232, 7, 7]           [32, 232, 7, 7]           --                        --                        --\n",
       "│    │    │    │    └─Conv2dNormActivation: 5-87        [32, 232, 7, 7]           [32, 1392, 7, 7]          (325,728)                 --                        506,465,280\n",
       "│    │    │    │    └─Conv2dNormActivation: 5-88        [32, 1392, 7, 7]          [32, 1392, 7, 7]          (37,584)                  --                        54,655,488\n",
       "│    │    │    │    └─SqueezeExcitation: 5-89           [32, 1392, 7, 7]          [32, 1392, 7, 7]          (162,922)                 --                        5,213,504\n",
       "│    │    │    │    └─Conv2dNormActivation: 5-90        [32, 1392, 7, 7]          [32, 232, 7, 7]           (323,408)                 --                        506,391,040\n",
       "│    │    │    └─StochasticDepth: 4-40                  [32, 232, 7, 7]           [32, 232, 7, 7]           --                        --                        --\n",
       "│    │    └─MBConv: 3-27                                [32, 232, 7, 7]           [32, 232, 7, 7]           --                        --                        --\n",
       "│    │    │    └─Sequential: 4-41                       [32, 232, 7, 7]           [32, 232, 7, 7]           --                        --                        --\n",
       "│    │    │    │    └─Conv2dNormActivation: 5-91        [32, 232, 7, 7]           [32, 1392, 7, 7]          (325,728)                 --                        506,465,280\n",
       "│    │    │    │    └─Conv2dNormActivation: 5-92        [32, 1392, 7, 7]          [32, 1392, 7, 7]          (37,584)                  --                        54,655,488\n",
       "│    │    │    │    └─SqueezeExcitation: 5-93           [32, 1392, 7, 7]          [32, 1392, 7, 7]          (162,922)                 --                        5,213,504\n",
       "│    │    │    │    └─Conv2dNormActivation: 5-94        [32, 1392, 7, 7]          [32, 232, 7, 7]           (323,408)                 --                        506,391,040\n",
       "│    │    │    └─StochasticDepth: 4-42                  [32, 232, 7, 7]           [32, 232, 7, 7]           --                        --                        --\n",
       "│    └─Sequential: 2-8                                  [32, 232, 7, 7]           [32, 384, 7, 7]           --                        --                        --\n",
       "│    │    └─MBConv: 3-28                                [32, 232, 7, 7]           [32, 384, 7, 7]           --                        --                        --\n",
       "│    │    │    └─Sequential: 4-43                       [32, 232, 7, 7]           [32, 384, 7, 7]           --                        --                        --\n",
       "│    │    │    │    └─Conv2dNormActivation: 5-95        [32, 232, 7, 7]           [32, 1392, 7, 7]          (325,728)                 --                        506,465,280\n",
       "│    │    │    │    └─Conv2dNormActivation: 5-96        [32, 1392, 7, 7]          [32, 1392, 7, 7]          (15,312)                  --                        19,732,992\n",
       "│    │    │    │    └─SqueezeExcitation: 5-97           [32, 1392, 7, 7]          [32, 1392, 7, 7]          (162,922)                 --                        5,213,504\n",
       "│    │    │    │    └─Conv2dNormActivation: 5-98        [32, 1392, 7, 7]          [32, 384, 7, 7]           (535,296)                 --                        838,164,480\n",
       "│    │    └─MBConv: 3-29                                [32, 384, 7, 7]           [32, 384, 7, 7]           --                        --                        --\n",
       "│    │    │    └─Sequential: 4-44                       [32, 384, 7, 7]           [32, 384, 7, 7]           --                        --                        --\n",
       "│    │    │    │    └─Conv2dNormActivation: 5-99        [32, 384, 7, 7]           [32, 2304, 7, 7]          (889,344)                 --                        1,387,413,504\n",
       "│    │    │    │    └─Conv2dNormActivation: 5-100       [32, 2304, 7, 7]          [32, 2304, 7, 7]          (25,344)                  --                        32,661,504\n",
       "│    │    │    │    └─SqueezeExcitation: 5-101          [32, 2304, 7, 7]          [32, 2304, 7, 7]          (444,768)                 --                        14,232,576\n",
       "│    │    │    │    └─Conv2dNormActivation: 5-102       [32, 2304, 7, 7]          [32, 384, 7, 7]           (885,504)                 --                        1,387,290,624\n",
       "│    │    │    └─StochasticDepth: 4-45                  [32, 384, 7, 7]           [32, 384, 7, 7]           --                        --                        --\n",
       "│    └─Conv2dNormActivation: 2-9                        [32, 384, 7, 7]           [32, 1536, 7, 7]          --                        --                        --\n",
       "│    │    └─Conv2d: 3-30                                [32, 384, 7, 7]           [32, 1536, 7, 7]          (589,824)                 [1, 1]                    924,844,032\n",
       "│    │    └─BatchNorm2d: 3-31                           [32, 1536, 7, 7]          [32, 1536, 7, 7]          (3,072)                   --                        98,304\n",
       "│    │    └─SiLU: 3-32                                  [32, 1536, 7, 7]          [32, 1536, 7, 7]          --                        --                        --\n",
       "├─AdaptiveAvgPool2d: 1-2                                [32, 1536, 7, 7]          [32, 1536, 1, 1]          --                        --                        --\n",
       "├─Sequential: 1-3                                       [32, 1536]                [32, 3]                   --                        --                        --\n",
       "│    └─Dropout: 2-10                                    [32, 1536]                [32, 1536]                --                        --                        --\n",
       "│    └─Linear: 2-11                                     [32, 1536]                [32, 3]                   4,611                     --                        147,552\n",
       "====================================================================================================================================================================================\n",
       "Total params: 10,700,843\n",
       "Trainable params: 4,611\n",
       "Non-trainable params: 10,696,232\n",
       "Total mult-adds (Units.GIGABYTES): 30.76\n",
       "====================================================================================================================================================================================\n",
       "Input size (MB): 19.27\n",
       "Forward/backward pass size (MB): 6654.06\n",
       "Params size (MB): 42.80\n",
       "Estimated Total Size (MB): 6716.13\n",
       "===================================================================================================================================================================================="
      ]
     },
     "execution_count": 13,
     "metadata": {},
     "output_type": "execute_result"
    }
   ],
   "source": [
    "# Get the model summary\n",
    "from torchinfo import summary\n",
    "\n",
    "summary(model, input_size=(32, 3, 224, 224), col_names=[\"input_size\", \"output_size\", \"num_params\", \"kernel_size\", \"mult_adds\"], depth=5)"
   ]
  },
  {
   "cell_type": "markdown",
   "metadata": {},
   "source": [
    "## 4. Train a single model and track results"
   ]
  },
  {
   "cell_type": "code",
   "execution_count": 15,
   "metadata": {},
   "outputs": [],
   "source": [
    "# Define the loss function and optimizer\n",
    "from torch import optim\n",
    "from torch import nn\n",
    "\n",
    "loss_fn = nn.CrossEntropyLoss()\n",
    "optimizer = optim.Adam(model.parameters(), lr=0.001)"
   ]
  },
  {
   "cell_type": "code",
   "execution_count": 16,
   "metadata": {},
   "outputs": [
    {
     "data": {
      "text/plain": [
       "<torch.utils.tensorboard.writer.SummaryWriter at 0x7ed67f53aa50>"
      ]
     },
     "execution_count": 16,
     "metadata": {},
     "output_type": "execute_result"
    }
   ],
   "source": [
    "# Setup a SummaryWriter to log the results\n",
    "import torch\n",
    "from torch.utils.tensorboard import SummaryWriter\n",
    "writer = SummaryWriter(log_dir=\"experiments/efficientnet_b3\")\n",
    "writer"
   ]
  },
  {
   "cell_type": "code",
   "execution_count": 17,
   "metadata": {},
   "outputs": [],
   "source": [
    "from going_modular.engine import train_step, test_step \n",
    "from typing import Tuple, List, Dict\n",
    "from tqdm.auto import tqdm\n",
    "\n",
    "def train(model: torch.nn.Module, \n",
    "          train_dataloader: torch.utils.data.DataLoader, \n",
    "          test_dataloader: torch.utils.data.DataLoader, \n",
    "          optimizer: torch.optim.Optimizer,\n",
    "          loss_fn: torch.nn.Module,\n",
    "          epochs: int,\n",
    "          device: torch.device) -> Dict[str, List[float]]:\n",
    "    \"\"\"Trains and tests a PyTorch model.\n",
    "\n",
    "    Passes a target PyTorch models through train_step() and test_step()\n",
    "    functions for a number of epochs, training and testing the model\n",
    "    in the same epoch loop.\n",
    "\n",
    "    Calculates, prints and stores evaluation metrics throughout.\n",
    "\n",
    "    Args:\n",
    "    model: A PyTorch model to be trained and tested.\n",
    "    train_dataloader: A DataLoader instance for the model to be trained on.\n",
    "    test_dataloader: A DataLoader instance for the model to be tested on.\n",
    "    optimizer: A PyTorch optimizer to help minimize the loss function.\n",
    "    loss_fn: A PyTorch loss function to calculate loss on both datasets.\n",
    "    epochs: An integer indicating how many epochs to train for.\n",
    "    device: A target device to compute on (e.g. \"cuda\" or \"cpu\").\n",
    "\n",
    "    Returns:\n",
    "    A dictionary of training and testing loss as well as training and\n",
    "    testing accuracy metrics. Each metric has a value in a list for \n",
    "    each epoch.\n",
    "    In the form: {train_loss: [...],\n",
    "              train_acc: [...],\n",
    "              test_loss: [...],\n",
    "              test_acc: [...]} \n",
    "    For example if training for epochs=2: \n",
    "             {train_loss: [2.0616, 1.0537],\n",
    "              train_acc: [0.3945, 0.3945],\n",
    "              test_loss: [1.2641, 1.5706],\n",
    "              test_acc: [0.3400, 0.2973]} \n",
    "    \"\"\"\n",
    "    # Create empty results dictionary\n",
    "    results = {\"train_loss\": [],\n",
    "               \"train_acc\": [],\n",
    "               \"test_loss\": [],\n",
    "               \"test_acc\": []\n",
    "    }\n",
    "\n",
    "    # Loop through training and testing steps for a number of epochs\n",
    "    for epoch in tqdm(range(epochs)):\n",
    "        train_loss, train_acc = train_step(model=model,\n",
    "                                          dataloader=train_dataloader,\n",
    "                                          loss_fn=loss_fn,\n",
    "                                          optimizer=optimizer,\n",
    "                                          device=device)\n",
    "        test_loss, test_acc = test_step(model=model,\n",
    "          dataloader=test_dataloader,\n",
    "          loss_fn=loss_fn,\n",
    "          device=device)\n",
    "\n",
    "        # Print out what's happening\n",
    "        print(\n",
    "          f\"Epoch: {epoch+1} | \"\n",
    "          f\"train_loss: {train_loss:.4f} | \"\n",
    "          f\"train_acc: {train_acc:.4f} | \"\n",
    "          f\"test_loss: {test_loss:.4f} | \"\n",
    "          f\"test_acc: {test_acc:.4f}\"\n",
    "        )\n",
    "\n",
    "        # Update results dictionary\n",
    "        results[\"train_loss\"].append(train_loss)\n",
    "        results[\"train_acc\"].append(train_acc)\n",
    "        results[\"test_loss\"].append(test_loss)\n",
    "        results[\"test_acc\"].append(test_acc)\n",
    "\n",
    "        # Add results to TensorBoard\n",
    "        writer.add_scalar(\"Loss/train\", train_loss, epoch)\n",
    "        writer.add_scalar(\"Accuracy/train\", train_acc, epoch)\n",
    "        writer.add_scalar(\"Loss/test\", test_loss, epoch)\n",
    "        writer.add_scalar(\"Accuracy/test\", test_acc, epoch)\n",
    "\n",
    "        writer.add_graph(model=model,\n",
    "                        input_to_model=torch.randn(32, 3, 224, 224).to(device))\n",
    "        \n",
    "        writer.add_scalars(\"Loss/train-test\", {\"train\": train_loss, \"test\": test_loss}, epoch)\n",
    "\n",
    "        # Close the writer\n",
    "        writer.close()\n",
    "\n",
    "\n",
    "    # Return the filled results at the end of the epochs\n",
    "    return results"
   ]
  },
  {
   "cell_type": "code",
   "execution_count": 18,
   "metadata": {},
   "outputs": [
    {
     "name": "stderr",
     "output_type": "stream",
     "text": [
      "  0%|          | 0/50 [00:00<?, ?it/s]"
     ]
    },
    {
     "name": "stdout",
     "output_type": "stream",
     "text": [
      "Epoch: 1 | train_loss: 1.0448 | train_acc: 0.4492 | test_loss: 0.9621 | test_acc: 0.7528\n"
     ]
    },
    {
     "name": "stderr",
     "output_type": "stream",
     "text": [
      "  2%|▏         | 1/50 [00:33<27:07, 33.21s/it]"
     ]
    },
    {
     "name": "stdout",
     "output_type": "stream",
     "text": [
      "Epoch: 2 | train_loss: 0.8322 | train_acc: 0.8672 | test_loss: 0.8754 | test_acc: 0.7945\n"
     ]
    },
    {
     "name": "stderr",
     "output_type": "stream",
     "text": [
      "  4%|▍         | 2/50 [01:08<27:20, 34.18s/it]"
     ]
    },
    {
     "name": "stdout",
     "output_type": "stream",
     "text": [
      "Epoch: 3 | train_loss: 0.8287 | train_acc: 0.6719 | test_loss: 0.7795 | test_acc: 0.8248\n"
     ]
    },
    {
     "name": "stderr",
     "output_type": "stream",
     "text": [
      "  6%|▌         | 3/50 [01:46<28:12, 36.00s/it]"
     ]
    },
    {
     "name": "stdout",
     "output_type": "stream",
     "text": [
      "Epoch: 4 | train_loss: 0.7094 | train_acc: 0.7930 | test_loss: 0.6289 | test_acc: 0.9375\n"
     ]
    },
    {
     "name": "stderr",
     "output_type": "stream",
     "text": [
      "  8%|▊         | 4/50 [02:24<28:21, 36.99s/it]"
     ]
    },
    {
     "name": "stdout",
     "output_type": "stream",
     "text": [
      "Epoch: 5 | train_loss: 0.6451 | train_acc: 0.7812 | test_loss: 0.6238 | test_acc: 0.8561\n"
     ]
    },
    {
     "name": "stderr",
     "output_type": "stream",
     "text": [
      " 10%|█         | 5/50 [03:03<28:08, 37.53s/it]"
     ]
    },
    {
     "name": "stdout",
     "output_type": "stream",
     "text": [
      "Epoch: 6 | train_loss: 0.6077 | train_acc: 0.9180 | test_loss: 0.5583 | test_acc: 0.9280\n"
     ]
    },
    {
     "name": "stderr",
     "output_type": "stream",
     "text": [
      " 12%|█▏        | 6/50 [03:44<28:24, 38.74s/it]"
     ]
    },
    {
     "name": "stdout",
     "output_type": "stream",
     "text": [
      "Epoch: 7 | train_loss: 0.6007 | train_acc: 0.8203 | test_loss: 0.5681 | test_acc: 0.8977\n"
     ]
    },
    {
     "name": "stderr",
     "output_type": "stream",
     "text": [
      " 14%|█▍        | 7/50 [04:23<27:56, 39.00s/it]"
     ]
    },
    {
     "name": "stdout",
     "output_type": "stream",
     "text": [
      "Epoch: 8 | train_loss: 0.5670 | train_acc: 0.8203 | test_loss: 0.4988 | test_acc: 0.9583\n"
     ]
    },
    {
     "name": "stderr",
     "output_type": "stream",
     "text": [
      " 16%|█▌        | 8/50 [05:05<27:58, 39.95s/it]"
     ]
    },
    {
     "name": "stdout",
     "output_type": "stream",
     "text": [
      "Epoch: 9 | train_loss: 0.5307 | train_acc: 0.8203 | test_loss: 0.5253 | test_acc: 0.8873\n"
     ]
    },
    {
     "name": "stderr",
     "output_type": "stream",
     "text": [
      " 18%|█▊        | 9/50 [05:56<29:39, 43.40s/it]"
     ]
    },
    {
     "name": "stdout",
     "output_type": "stream",
     "text": [
      "Epoch: 10 | train_loss: 0.4369 | train_acc: 0.9492 | test_loss: 0.5371 | test_acc: 0.8466\n"
     ]
    },
    {
     "name": "stderr",
     "output_type": "stream",
     "text": [
      " 20%|██        | 10/50 [06:52<31:27, 47.18s/it]"
     ]
    },
    {
     "name": "stdout",
     "output_type": "stream",
     "text": [
      "Epoch: 11 | train_loss: 0.4244 | train_acc: 0.9531 | test_loss: 0.5575 | test_acc: 0.8258\n"
     ]
    },
    {
     "name": "stderr",
     "output_type": "stream",
     "text": [
      " 22%|██▏       | 11/50 [07:48<32:21, 49.78s/it]"
     ]
    },
    {
     "name": "stdout",
     "output_type": "stream",
     "text": [
      "Epoch: 12 | train_loss: 0.4051 | train_acc: 0.9258 | test_loss: 0.5027 | test_acc: 0.8769\n"
     ]
    },
    {
     "name": "stderr",
     "output_type": "stream",
     "text": [
      " 24%|██▍       | 12/50 [08:43<32:32, 51.38s/it]"
     ]
    },
    {
     "name": "stdout",
     "output_type": "stream",
     "text": [
      "Epoch: 13 | train_loss: 0.3942 | train_acc: 0.9414 | test_loss: 0.4728 | test_acc: 0.8769\n"
     ]
    },
    {
     "name": "stderr",
     "output_type": "stream",
     "text": [
      " 26%|██▌       | 13/50 [09:39<32:39, 52.97s/it]"
     ]
    },
    {
     "name": "stdout",
     "output_type": "stream",
     "text": [
      "Epoch: 14 | train_loss: 0.5012 | train_acc: 0.8203 | test_loss: 0.4711 | test_acc: 0.8873\n"
     ]
    },
    {
     "name": "stderr",
     "output_type": "stream",
     "text": [
      " 28%|██▊       | 14/50 [10:34<32:07, 53.55s/it]"
     ]
    },
    {
     "name": "stdout",
     "output_type": "stream",
     "text": [
      "Epoch: 15 | train_loss: 0.4559 | train_acc: 0.8203 | test_loss: 0.4008 | test_acc: 0.9280\n"
     ]
    },
    {
     "name": "stderr",
     "output_type": "stream",
     "text": [
      " 30%|███       | 15/50 [11:30<31:35, 54.16s/it]"
     ]
    },
    {
     "name": "stdout",
     "output_type": "stream",
     "text": [
      "Epoch: 16 | train_loss: 0.4275 | train_acc: 0.8320 | test_loss: 0.4044 | test_acc: 0.9176\n"
     ]
    },
    {
     "name": "stderr",
     "output_type": "stream",
     "text": [
      " 32%|███▏      | 16/50 [12:24<30:46, 54.32s/it]"
     ]
    },
    {
     "name": "stdout",
     "output_type": "stream",
     "text": [
      "Epoch: 17 | train_loss: 0.4382 | train_acc: 0.8320 | test_loss: 0.4233 | test_acc: 0.8977\n"
     ]
    },
    {
     "name": "stderr",
     "output_type": "stream",
     "text": [
      " 34%|███▍      | 17/50 [13:21<30:11, 54.89s/it]"
     ]
    },
    {
     "name": "stdout",
     "output_type": "stream",
     "text": [
      "Epoch: 18 | train_loss: 0.4500 | train_acc: 0.8320 | test_loss: 0.3578 | test_acc: 0.9384\n"
     ]
    },
    {
     "name": "stderr",
     "output_type": "stream",
     "text": [
      " 36%|███▌      | 18/50 [14:14<28:56, 54.28s/it]"
     ]
    },
    {
     "name": "stdout",
     "output_type": "stream",
     "text": [
      "Epoch: 19 | train_loss: 0.3822 | train_acc: 0.8242 | test_loss: 0.3833 | test_acc: 0.9384\n"
     ]
    },
    {
     "name": "stderr",
     "output_type": "stream",
     "text": [
      " 38%|███▊      | 19/50 [15:07<27:58, 54.13s/it]"
     ]
    },
    {
     "name": "stdout",
     "output_type": "stream",
     "text": [
      "Epoch: 20 | train_loss: 0.4020 | train_acc: 0.8438 | test_loss: 0.4014 | test_acc: 0.9081\n"
     ]
    },
    {
     "name": "stderr",
     "output_type": "stream",
     "text": [
      " 40%|████      | 20/50 [16:03<27:14, 54.47s/it]"
     ]
    },
    {
     "name": "stdout",
     "output_type": "stream",
     "text": [
      "Epoch: 21 | train_loss: 0.3985 | train_acc: 0.8320 | test_loss: 0.3545 | test_acc: 0.8977\n"
     ]
    },
    {
     "name": "stderr",
     "output_type": "stream",
     "text": [
      " 42%|████▏     | 21/50 [16:56<26:10, 54.15s/it]"
     ]
    },
    {
     "name": "stdout",
     "output_type": "stream",
     "text": [
      "Epoch: 22 | train_loss: 0.3490 | train_acc: 0.9648 | test_loss: 0.3605 | test_acc: 0.9081\n"
     ]
    },
    {
     "name": "stderr",
     "output_type": "stream",
     "text": [
      " 44%|████▍     | 22/50 [17:47<24:48, 53.16s/it]"
     ]
    },
    {
     "name": "stdout",
     "output_type": "stream",
     "text": [
      "Epoch: 23 | train_loss: 0.3113 | train_acc: 0.9453 | test_loss: 0.3561 | test_acc: 0.9081\n"
     ]
    },
    {
     "name": "stderr",
     "output_type": "stream",
     "text": [
      " 46%|████▌     | 23/50 [18:44<24:27, 54.36s/it]"
     ]
    },
    {
     "name": "stdout",
     "output_type": "stream",
     "text": [
      "Epoch: 24 | train_loss: 0.4330 | train_acc: 0.8320 | test_loss: 0.4255 | test_acc: 0.8371\n"
     ]
    },
    {
     "name": "stderr",
     "output_type": "stream",
     "text": [
      " 48%|████▊     | 24/50 [19:39<23:35, 54.43s/it]"
     ]
    },
    {
     "name": "stdout",
     "output_type": "stream",
     "text": [
      "Epoch: 25 | train_loss: 0.3871 | train_acc: 0.8242 | test_loss: 0.3812 | test_acc: 0.8977\n"
     ]
    },
    {
     "name": "stderr",
     "output_type": "stream",
     "text": [
      " 50%|█████     | 25/50 [20:31<22:28, 53.94s/it]"
     ]
    },
    {
     "name": "stdout",
     "output_type": "stream",
     "text": [
      "Epoch: 26 | train_loss: 0.3874 | train_acc: 0.8477 | test_loss: 0.3997 | test_acc: 0.8873\n"
     ]
    },
    {
     "name": "stderr",
     "output_type": "stream",
     "text": [
      " 52%|█████▏    | 26/50 [21:25<21:29, 53.72s/it]"
     ]
    },
    {
     "name": "stdout",
     "output_type": "stream",
     "text": [
      "Epoch: 27 | train_loss: 0.3499 | train_acc: 0.9492 | test_loss: 0.3370 | test_acc: 0.9280\n"
     ]
    },
    {
     "name": "stderr",
     "output_type": "stream",
     "text": [
      " 54%|█████▍    | 27/50 [22:20<20:45, 54.16s/it]"
     ]
    },
    {
     "name": "stdout",
     "output_type": "stream",
     "text": [
      "Epoch: 28 | train_loss: 0.3317 | train_acc: 0.8438 | test_loss: 0.3724 | test_acc: 0.9081\n"
     ]
    },
    {
     "name": "stderr",
     "output_type": "stream",
     "text": [
      " 56%|█████▌    | 28/50 [23:13<19:48, 54.00s/it]"
     ]
    },
    {
     "name": "stdout",
     "output_type": "stream",
     "text": [
      "Epoch: 29 | train_loss: 0.3345 | train_acc: 0.8320 | test_loss: 0.3168 | test_acc: 0.9176\n"
     ]
    },
    {
     "name": "stderr",
     "output_type": "stream",
     "text": [
      " 58%|█████▊    | 29/50 [24:08<18:59, 54.27s/it]"
     ]
    },
    {
     "name": "stdout",
     "output_type": "stream",
     "text": [
      "Epoch: 30 | train_loss: 0.3304 | train_acc: 0.8438 | test_loss: 0.3413 | test_acc: 0.8873\n"
     ]
    },
    {
     "name": "stderr",
     "output_type": "stream",
     "text": [
      " 60%|██████    | 30/50 [25:04<18:14, 54.72s/it]"
     ]
    },
    {
     "name": "stdout",
     "output_type": "stream",
     "text": [
      "Epoch: 31 | train_loss: 0.2865 | train_acc: 0.9844 | test_loss: 0.3571 | test_acc: 0.9081\n"
     ]
    },
    {
     "name": "stderr",
     "output_type": "stream",
     "text": [
      " 62%|██████▏   | 31/50 [25:59<17:22, 54.88s/it]"
     ]
    },
    {
     "name": "stdout",
     "output_type": "stream",
     "text": [
      "Epoch: 32 | train_loss: 0.3835 | train_acc: 0.8320 | test_loss: 0.3586 | test_acc: 0.8977\n"
     ]
    },
    {
     "name": "stderr",
     "output_type": "stream",
     "text": [
      " 64%|██████▍   | 32/50 [26:53<16:18, 54.39s/it]"
     ]
    },
    {
     "name": "stdout",
     "output_type": "stream",
     "text": [
      "Epoch: 33 | train_loss: 0.2534 | train_acc: 0.9766 | test_loss: 0.3600 | test_acc: 0.9081\n"
     ]
    },
    {
     "name": "stderr",
     "output_type": "stream",
     "text": [
      " 66%|██████▌   | 33/50 [27:47<15:26, 54.47s/it]"
     ]
    },
    {
     "name": "stdout",
     "output_type": "stream",
     "text": [
      "Epoch: 34 | train_loss: 0.2355 | train_acc: 0.9805 | test_loss: 0.3505 | test_acc: 0.8778\n"
     ]
    },
    {
     "name": "stderr",
     "output_type": "stream",
     "text": [
      " 68%|██████▊   | 34/50 [28:44<14:41, 55.10s/it]"
     ]
    },
    {
     "name": "stdout",
     "output_type": "stream",
     "text": [
      "Epoch: 35 | train_loss: 0.2582 | train_acc: 0.9688 | test_loss: 0.3286 | test_acc: 0.8977\n"
     ]
    },
    {
     "name": "stderr",
     "output_type": "stream",
     "text": [
      " 70%|███████   | 35/50 [29:42<13:58, 55.88s/it]"
     ]
    },
    {
     "name": "stdout",
     "output_type": "stream",
     "text": [
      "Epoch: 36 | train_loss: 0.3388 | train_acc: 0.8516 | test_loss: 0.3323 | test_acc: 0.8873\n"
     ]
    },
    {
     "name": "stderr",
     "output_type": "stream",
     "text": [
      " 72%|███████▏  | 36/50 [30:36<12:54, 55.35s/it]"
     ]
    },
    {
     "name": "stdout",
     "output_type": "stream",
     "text": [
      "Epoch: 37 | train_loss: 0.4316 | train_acc: 0.8359 | test_loss: 0.3708 | test_acc: 0.8977\n"
     ]
    },
    {
     "name": "stderr",
     "output_type": "stream",
     "text": [
      " 74%|███████▍  | 37/50 [31:29<11:51, 54.77s/it]"
     ]
    },
    {
     "name": "stdout",
     "output_type": "stream",
     "text": [
      "Epoch: 38 | train_loss: 0.3206 | train_acc: 0.8477 | test_loss: 0.2800 | test_acc: 0.9280\n"
     ]
    },
    {
     "name": "stderr",
     "output_type": "stream",
     "text": [
      " 76%|███████▌  | 38/50 [32:25<11:00, 55.05s/it]"
     ]
    },
    {
     "name": "stdout",
     "output_type": "stream",
     "text": [
      "Epoch: 39 | train_loss: 0.2928 | train_acc: 0.9727 | test_loss: 0.2781 | test_acc: 0.9186\n"
     ]
    },
    {
     "name": "stderr",
     "output_type": "stream",
     "text": [
      " 78%|███████▊  | 39/50 [33:18<10:00, 54.58s/it]"
     ]
    },
    {
     "name": "stdout",
     "output_type": "stream",
     "text": [
      "Epoch: 40 | train_loss: 0.3492 | train_acc: 0.8320 | test_loss: 0.3243 | test_acc: 0.9081\n"
     ]
    },
    {
     "name": "stderr",
     "output_type": "stream",
     "text": [
      " 80%|████████  | 40/50 [34:13<09:07, 54.73s/it]"
     ]
    },
    {
     "name": "stdout",
     "output_type": "stream",
     "text": [
      "Epoch: 41 | train_loss: 0.3351 | train_acc: 0.8516 | test_loss: 0.2817 | test_acc: 0.9081\n"
     ]
    },
    {
     "name": "stderr",
     "output_type": "stream",
     "text": [
      " 82%|████████▏ | 41/50 [35:07<08:10, 54.55s/it]"
     ]
    },
    {
     "name": "stdout",
     "output_type": "stream",
     "text": [
      "Epoch: 42 | train_loss: 0.2491 | train_acc: 0.9766 | test_loss: 0.2966 | test_acc: 0.9280\n"
     ]
    },
    {
     "name": "stderr",
     "output_type": "stream",
     "text": [
      " 84%|████████▍ | 42/50 [36:02<07:15, 54.44s/it]"
     ]
    },
    {
     "name": "stdout",
     "output_type": "stream",
     "text": [
      "Epoch: 43 | train_loss: 0.3114 | train_acc: 0.8555 | test_loss: 0.3318 | test_acc: 0.8977\n"
     ]
    },
    {
     "name": "stderr",
     "output_type": "stream",
     "text": [
      " 86%|████████▌ | 43/50 [36:56<06:21, 54.50s/it]"
     ]
    },
    {
     "name": "stdout",
     "output_type": "stream",
     "text": [
      "Epoch: 44 | train_loss: 0.2944 | train_acc: 0.8438 | test_loss: 0.3499 | test_acc: 0.8570\n"
     ]
    },
    {
     "name": "stderr",
     "output_type": "stream",
     "text": [
      " 88%|████████▊ | 44/50 [37:49<05:23, 53.90s/it]"
     ]
    },
    {
     "name": "stdout",
     "output_type": "stream",
     "text": [
      "Epoch: 45 | train_loss: 0.2755 | train_acc: 0.8594 | test_loss: 0.3563 | test_acc: 0.8977\n"
     ]
    },
    {
     "name": "stderr",
     "output_type": "stream",
     "text": [
      " 90%|█████████ | 45/50 [38:44<04:31, 54.34s/it]"
     ]
    },
    {
     "name": "stdout",
     "output_type": "stream",
     "text": [
      "Epoch: 46 | train_loss: 0.3420 | train_acc: 0.8711 | test_loss: 0.3655 | test_acc: 0.9081\n"
     ]
    },
    {
     "name": "stderr",
     "output_type": "stream",
     "text": [
      " 92%|█████████▏| 46/50 [39:37<03:35, 53.97s/it]"
     ]
    },
    {
     "name": "stdout",
     "output_type": "stream",
     "text": [
      "Epoch: 47 | train_loss: 0.3056 | train_acc: 0.8516 | test_loss: 0.2971 | test_acc: 0.8977\n"
     ]
    },
    {
     "name": "stderr",
     "output_type": "stream",
     "text": [
      " 94%|█████████▍| 47/50 [40:30<02:41, 53.70s/it]"
     ]
    },
    {
     "name": "stdout",
     "output_type": "stream",
     "text": [
      "Epoch: 48 | train_loss: 0.2440 | train_acc: 0.9727 | test_loss: 0.2780 | test_acc: 0.9280\n"
     ]
    },
    {
     "name": "stderr",
     "output_type": "stream",
     "text": [
      " 96%|█████████▌| 48/50 [41:22<01:46, 53.13s/it]"
     ]
    },
    {
     "name": "stdout",
     "output_type": "stream",
     "text": [
      "Epoch: 49 | train_loss: 0.3248 | train_acc: 0.8516 | test_loss: 0.2770 | test_acc: 0.9081\n"
     ]
    },
    {
     "name": "stderr",
     "output_type": "stream",
     "text": [
      " 98%|█████████▊| 49/50 [42:16<00:53, 53.31s/it]"
     ]
    },
    {
     "name": "stdout",
     "output_type": "stream",
     "text": [
      "Epoch: 50 | train_loss: 0.2352 | train_acc: 0.9922 | test_loss: 0.2562 | test_acc: 0.9280\n"
     ]
    },
    {
     "name": "stderr",
     "output_type": "stream",
     "text": [
      "100%|██████████| 50/50 [43:09<00:00, 51.78s/it]\n"
     ]
    }
   ],
   "source": [
    "# Train the model\n",
    "results = train(model=model,\n",
    "                train_dataloader=train_dl,\n",
    "                test_dataloader=test_dl,\n",
    "                optimizer=optimizer,\n",
    "                loss_fn=loss_fn,\n",
    "                epochs=50,\n",
    "                device=device)"
   ]
  },
  {
   "cell_type": "markdown",
   "metadata": {},
   "source": [
    "## 5. Track the model experiments with TensorBoard"
   ]
  },
  {
   "cell_type": "code",
   "execution_count": 20,
   "metadata": {},
   "outputs": [
    {
     "name": "stdout",
     "output_type": "stream",
     "text": [
      "The tensorboard extension is already loaded. To reload it, use:\n",
      "  %reload_ext tensorboard\n"
     ]
    },
    {
     "data": {
      "text/plain": [
       "Reusing TensorBoard on port 6006 (pid 41741), started 0:00:45 ago. (Use '!kill 41741' to kill it.)"
      ]
     },
     "metadata": {},
     "output_type": "display_data"
    },
    {
     "data": {
      "text/html": [
       "\n",
       "      <iframe id=\"tensorboard-frame-52a08858184f6d06\" width=\"100%\" height=\"800\" frameborder=\"0\">\n",
       "      </iframe>\n",
       "      <script>\n",
       "        (function() {\n",
       "          const frame = document.getElementById(\"tensorboard-frame-52a08858184f6d06\");\n",
       "          const url = new URL(\"http://localhost\");\n",
       "          const port = 6006;\n",
       "          if (port) {\n",
       "            url.port = port;\n",
       "          }\n",
       "          frame.src = url;\n",
       "        })();\n",
       "      </script>\n",
       "    "
      ],
      "text/plain": [
       "<IPython.core.display.HTML object>"
      ]
     },
     "metadata": {},
     "output_type": "display_data"
    }
   ],
   "source": [
    "# Open TensorBoard\n",
    "%reload_ext tensorboard\n",
    "%load_ext tensorboard\n",
    "%tensorboard --logdir experiments/efficientnet_b3"
   ]
  },
  {
   "cell_type": "code",
   "execution_count": 22,
   "metadata": {},
   "outputs": [
    {
     "name": "stdout",
     "output_type": "stream",
     "text": [
      "TensorFlow installation not found - running with reduced feature set.\n",
      "\n",
      "NOTE: Using experimental fast data loading logic. To disable, pass\n",
      "    \"--load_fast=false\" and report issues on GitHub. More details:\n",
      "    https://github.com/tensorflow/tensorboard/issues/4784\n",
      "\n",
      "I1003 17:56:22.838594 125590178891456 plugin.py:429] Monitor runs begin\n",
      "Serving TensorBoard on localhost; to expose to the network, use a proxy or pass --bind_all\n",
      "TensorBoard 2.18.0 at http://localhost:6011/ (Press CTRL+C to quit)\n",
      "^C\n"
     ]
    }
   ],
   "source": [
    "!tensorboard --logdir experiments/efficientnet_b3"
   ]
  },
  {
   "cell_type": "markdown",
   "metadata": {},
   "source": [
    "## 6. Create a function to prepare a `SummaryWriter()` instance\n",
    "\n",
    "By default, the `SummaryWriter()` instance will be created in the `experiments` directory with a subdirectory named after the model's name and the current time. This will allow you to easily track and compare different experiments."
   ]
  },
  {
   "cell_type": "code",
   "execution_count": 55,
   "metadata": {},
   "outputs": [],
   "source": [
    "from torch.utils.tensorboard import SummaryWriter\n",
    "\n",
    "def create_writer(experiemnt_name:str,\n",
    "                  model_name:str,\n",
    "                  extra: str = None) -> SummaryWriter:\n",
    "    \"\"\"Create a torch.utils.tensorboard.SummaryWriter instance to a specific directory.\n",
    "\n",
    "    Args:\n",
    "        experiemnt_name (str): The name of the experiment.\n",
    "        model_name (str): The name of the model.\n",
    "        extra (str, optional): _description_. Defaults to None.\n",
    "\n",
    "    Returns:\n",
    "        torch.utils.tensorboard.SummaryWriter: A SummaryWriter instance.\n",
    "    \"\"\"\n",
    "\n",
    "    from datetime import datetime\n",
    "    import os\n",
    "    from torch.utils.tensorboard import SummaryWriter\n",
    "\n",
    "    # Get timestamp of current time in reverse order\n",
    "    timestamp = datetime.now().strftime(\"%Y-%m-%d\")\n",
    "\n",
    "    if extra:\n",
    "        # Create a log directory Path\n",
    "        log_dir = os.path.join(\"experiments\", f\"{experiemnt_name}_{model_name}_{extra}_{timestamp}\")\n",
    "    else:\n",
    "        # Create a log directory Path\n",
    "        log_dir = os.path.join(\"experiments\", f\"{experiemnt_name}_{model_name}_{timestamp}\")\n",
    "    print(f\"Saving experiment logs to: {log_dir}\")\n",
    "    return SummaryWriter(log_dir=log_dir)\n"
   ]
  },
  {
   "cell_type": "code",
   "execution_count": 24,
   "metadata": {},
   "outputs": [],
   "source": [
    "# Load a model\n",
    "import torch\n",
    "model = torch.load(\"models/efficientnet_b3.pt\", weights_only=False)"
   ]
  },
  {
   "cell_type": "code",
   "execution_count": 25,
   "metadata": {},
   "outputs": [
    {
     "data": {
      "text/plain": [
       "=========================================================================================================================================================================================\n",
       "Layer (type (var_name))                                      Input Shape               Output Shape              Param #                   Kernel Shape              Mult-Adds\n",
       "=========================================================================================================================================================================================\n",
       "EfficientNet (EfficientNet)                                  [32, 3, 224, 224]         [32, 3]                   --                        --                        --\n",
       "├─Sequential (features)                                      [32, 3, 224, 224]         [32, 1536, 7, 7]          --                        --                        --\n",
       "│    └─Conv2dNormActivation (0)                              [32, 3, 224, 224]         [32, 40, 112, 112]        --                        --                        --\n",
       "│    │    └─Conv2d (0)                                       [32, 3, 224, 224]         [32, 40, 112, 112]        (1,080)                   [3, 3]                    433,520,640\n",
       "│    │    └─BatchNorm2d (1)                                  [32, 40, 112, 112]        [32, 40, 112, 112]        (80)                      --                        2,560\n",
       "│    │    └─SiLU (2)                                         [32, 40, 112, 112]        [32, 40, 112, 112]        --                        --                        --\n",
       "│    └─Sequential (1)                                        [32, 40, 112, 112]        [32, 24, 112, 112]        --                        --                        --\n",
       "│    │    └─MBConv (0)                                       [32, 40, 112, 112]        [32, 24, 112, 112]        --                        --                        --\n",
       "│    │    │    └─Sequential (block)                          [32, 40, 112, 112]        [32, 24, 112, 112]        --                        --                        --\n",
       "│    │    │    │    └─Conv2dNormActivation (0)               [32, 40, 112, 112]        [32, 40, 112, 112]        (440)                     --                        144,509,440\n",
       "│    │    │    │    └─SqueezeExcitation (1)                  [32, 40, 112, 112]        [32, 40, 112, 112]        (850)                     --                        27,200\n",
       "│    │    │    │    └─Conv2dNormActivation (2)               [32, 40, 112, 112]        [32, 24, 112, 112]        (1,008)                   --                        385,353,216\n",
       "│    │    └─MBConv (1)                                       [32, 24, 112, 112]        [32, 24, 112, 112]        --                        --                        --\n",
       "│    │    │    └─Sequential (block)                          [32, 24, 112, 112]        [32, 24, 112, 112]        --                        --                        --\n",
       "│    │    │    │    └─Conv2dNormActivation (0)               [32, 24, 112, 112]        [32, 24, 112, 112]        (264)                     --                        86,705,664\n",
       "│    │    │    │    └─SqueezeExcitation (1)                  [32, 24, 112, 112]        [32, 24, 112, 112]        (318)                     --                        10,176\n",
       "│    │    │    │    └─Conv2dNormActivation (2)               [32, 24, 112, 112]        [32, 24, 112, 112]        (624)                     --                        231,212,544\n",
       "│    │    │    └─StochasticDepth (stochastic_depth)          [32, 24, 112, 112]        [32, 24, 112, 112]        --                        --                        --\n",
       "│    └─Sequential (2)                                        [32, 24, 112, 112]        [32, 32, 56, 56]          --                        --                        --\n",
       "│    │    └─MBConv (0)                                       [32, 24, 112, 112]        [32, 32, 56, 56]          --                        --                        --\n",
       "│    │    │    └─Sequential (block)                          [32, 24, 112, 112]        [32, 32, 56, 56]          --                        --                        --\n",
       "│    │    │    │    └─Conv2dNormActivation (0)               [32, 24, 112, 112]        [32, 144, 112, 112]       (3,744)                   --                        1,387,275,264\n",
       "│    │    │    │    └─Conv2dNormActivation (1)               [32, 144, 112, 112]       [32, 144, 56, 56]         (1,584)                   --                        130,065,408\n",
       "│    │    │    │    └─SqueezeExcitation (2)                  [32, 144, 56, 56]         [32, 144, 56, 56]         (1,878)                   --                        60,096\n",
       "│    │    │    │    └─Conv2dNormActivation (3)               [32, 144, 56, 56]         [32, 32, 56, 56]          (4,672)                   --                        462,424,064\n",
       "│    │    └─MBConv (1)                                       [32, 32, 56, 56]          [32, 32, 56, 56]          --                        --                        --\n",
       "│    │    │    └─Sequential (block)                          [32, 32, 56, 56]          [32, 32, 56, 56]          --                        --                        --\n",
       "│    │    │    │    └─Conv2dNormActivation (0)               [32, 32, 56, 56]          [32, 192, 56, 56]         (6,528)                   --                        616,574,976\n",
       "│    │    │    │    └─Conv2dNormActivation (1)               [32, 192, 56, 56]         [32, 192, 56, 56]         (2,112)                   --                        173,420,544\n",
       "│    │    │    │    └─SqueezeExcitation (2)                  [32, 192, 56, 56]         [32, 192, 56, 56]         (3,272)                   --                        104,704\n",
       "│    │    │    │    └─Conv2dNormActivation (3)               [32, 192, 56, 56]         [32, 32, 56, 56]          (6,208)                   --                        616,564,736\n",
       "│    │    │    └─StochasticDepth (stochastic_depth)          [32, 32, 56, 56]          [32, 32, 56, 56]          --                        --                        --\n",
       "│    │    └─MBConv (2)                                       [32, 32, 56, 56]          [32, 32, 56, 56]          --                        --                        --\n",
       "│    │    │    └─Sequential (block)                          [32, 32, 56, 56]          [32, 32, 56, 56]          --                        --                        --\n",
       "│    │    │    │    └─Conv2dNormActivation (0)               [32, 32, 56, 56]          [32, 192, 56, 56]         (6,528)                   --                        616,574,976\n",
       "│    │    │    │    └─Conv2dNormActivation (1)               [32, 192, 56, 56]         [32, 192, 56, 56]         (2,112)                   --                        173,420,544\n",
       "│    │    │    │    └─SqueezeExcitation (2)                  [32, 192, 56, 56]         [32, 192, 56, 56]         (3,272)                   --                        104,704\n",
       "│    │    │    │    └─Conv2dNormActivation (3)               [32, 192, 56, 56]         [32, 32, 56, 56]          (6,208)                   --                        616,564,736\n",
       "│    │    │    └─StochasticDepth (stochastic_depth)          [32, 32, 56, 56]          [32, 32, 56, 56]          --                        --                        --\n",
       "│    └─Sequential (3)                                        [32, 32, 56, 56]          [32, 48, 28, 28]          --                        --                        --\n",
       "│    │    └─MBConv (0)                                       [32, 32, 56, 56]          [32, 48, 28, 28]          --                        --                        --\n",
       "│    │    │    └─Sequential (block)                          [32, 32, 56, 56]          [32, 48, 28, 28]          --                        --                        --\n",
       "│    │    │    │    └─Conv2dNormActivation (0)               [32, 32, 56, 56]          [32, 192, 56, 56]         (6,528)                   --                        616,574,976\n",
       "│    │    │    │    └─Conv2dNormActivation (1)               [32, 192, 56, 56]         [32, 192, 28, 28]         (5,184)                   --                        120,434,688\n",
       "│    │    │    │    └─SqueezeExcitation (2)                  [32, 192, 28, 28]         [32, 192, 28, 28]         (3,272)                   --                        104,704\n",
       "│    │    │    │    └─Conv2dNormActivation (3)               [32, 192, 28, 28]         [32, 48, 28, 28]          (9,312)                   --                        231,214,080\n",
       "│    │    └─MBConv (1)                                       [32, 48, 28, 28]          [32, 48, 28, 28]          --                        --                        --\n",
       "│    │    │    └─Sequential (block)                          [32, 48, 28, 28]          [32, 48, 28, 28]          --                        --                        --\n",
       "│    │    │    │    └─Conv2dNormActivation (0)               [32, 48, 28, 28]          [32, 288, 28, 28]         (14,400)                  --                        346,834,944\n",
       "│    │    │    │    └─Conv2dNormActivation (1)               [32, 288, 28, 28]         [32, 288, 28, 28]         (7,776)                   --                        180,652,032\n",
       "│    │    │    │    └─SqueezeExcitation (2)                  [32, 288, 28, 28]         [32, 288, 28, 28]         (7,212)                   --                        230,784\n",
       "│    │    │    │    └─Conv2dNormActivation (3)               [32, 288, 28, 28]         [32, 48, 28, 28]          (13,920)                  --                        346,819,584\n",
       "│    │    │    └─StochasticDepth (stochastic_depth)          [32, 48, 28, 28]          [32, 48, 28, 28]          --                        --                        --\n",
       "│    │    └─MBConv (2)                                       [32, 48, 28, 28]          [32, 48, 28, 28]          --                        --                        --\n",
       "│    │    │    └─Sequential (block)                          [32, 48, 28, 28]          [32, 48, 28, 28]          --                        --                        --\n",
       "│    │    │    │    └─Conv2dNormActivation (0)               [32, 48, 28, 28]          [32, 288, 28, 28]         (14,400)                  --                        346,834,944\n",
       "│    │    │    │    └─Conv2dNormActivation (1)               [32, 288, 28, 28]         [32, 288, 28, 28]         (7,776)                   --                        180,652,032\n",
       "│    │    │    │    └─SqueezeExcitation (2)                  [32, 288, 28, 28]         [32, 288, 28, 28]         (7,212)                   --                        230,784\n",
       "│    │    │    │    └─Conv2dNormActivation (3)               [32, 288, 28, 28]         [32, 48, 28, 28]          (13,920)                  --                        346,819,584\n",
       "│    │    │    └─StochasticDepth (stochastic_depth)          [32, 48, 28, 28]          [32, 48, 28, 28]          --                        --                        --\n",
       "│    └─Sequential (4)                                        [32, 48, 28, 28]          [32, 96, 14, 14]          --                        --                        --\n",
       "│    │    └─MBConv (0)                                       [32, 48, 28, 28]          [32, 96, 14, 14]          --                        --                        --\n",
       "│    │    │    └─Sequential (block)                          [32, 48, 28, 28]          [32, 96, 14, 14]          --                        --                        --\n",
       "│    │    │    │    └─Conv2dNormActivation (0)               [32, 48, 28, 28]          [32, 288, 28, 28]         (14,400)                  --                        346,834,944\n",
       "│    │    │    │    └─Conv2dNormActivation (1)               [32, 288, 28, 28]         [32, 288, 14, 14]         (3,168)                   --                        16,275,456\n",
       "│    │    │    │    └─SqueezeExcitation (2)                  [32, 288, 14, 14]         [32, 288, 14, 14]         (7,212)                   --                        230,784\n",
       "│    │    │    │    └─Conv2dNormActivation (3)               [32, 288, 14, 14]         [32, 96, 14, 14]          (27,840)                  --                        173,414,400\n",
       "│    │    └─MBConv (1)                                       [32, 96, 14, 14]          [32, 96, 14, 14]          --                        --                        --\n",
       "│    │    │    └─Sequential (block)                          [32, 96, 14, 14]          [32, 96, 14, 14]          --                        --                        --\n",
       "│    │    │    │    └─Conv2dNormActivation (0)               [32, 96, 14, 14]          [32, 576, 14, 14]         (56,448)                  --                        346,853,376\n",
       "│    │    │    │    └─Conv2dNormActivation (1)               [32, 576, 14, 14]         [32, 576, 14, 14]         (6,336)                   --                        32,550,912\n",
       "│    │    │    │    └─SqueezeExcitation (2)                  [32, 576, 14, 14]         [32, 576, 14, 14]         (28,248)                  --                        903,936\n",
       "│    │    │    │    └─Conv2dNormActivation (3)               [32, 576, 14, 14]         [32, 96, 14, 14]          (55,488)                  --                        346,822,656\n",
       "│    │    │    └─StochasticDepth (stochastic_depth)          [32, 96, 14, 14]          [32, 96, 14, 14]          --                        --                        --\n",
       "│    │    └─MBConv (2)                                       [32, 96, 14, 14]          [32, 96, 14, 14]          --                        --                        --\n",
       "│    │    │    └─Sequential (block)                          [32, 96, 14, 14]          [32, 96, 14, 14]          --                        --                        --\n",
       "│    │    │    │    └─Conv2dNormActivation (0)               [32, 96, 14, 14]          [32, 576, 14, 14]         (56,448)                  --                        346,853,376\n",
       "│    │    │    │    └─Conv2dNormActivation (1)               [32, 576, 14, 14]         [32, 576, 14, 14]         (6,336)                   --                        32,550,912\n",
       "│    │    │    │    └─SqueezeExcitation (2)                  [32, 576, 14, 14]         [32, 576, 14, 14]         (28,248)                  --                        903,936\n",
       "│    │    │    │    └─Conv2dNormActivation (3)               [32, 576, 14, 14]         [32, 96, 14, 14]          (55,488)                  --                        346,822,656\n",
       "│    │    │    └─StochasticDepth (stochastic_depth)          [32, 96, 14, 14]          [32, 96, 14, 14]          --                        --                        --\n",
       "│    │    └─MBConv (3)                                       [32, 96, 14, 14]          [32, 96, 14, 14]          --                        --                        --\n",
       "│    │    │    └─Sequential (block)                          [32, 96, 14, 14]          [32, 96, 14, 14]          --                        --                        --\n",
       "│    │    │    │    └─Conv2dNormActivation (0)               [32, 96, 14, 14]          [32, 576, 14, 14]         (56,448)                  --                        346,853,376\n",
       "│    │    │    │    └─Conv2dNormActivation (1)               [32, 576, 14, 14]         [32, 576, 14, 14]         (6,336)                   --                        32,550,912\n",
       "│    │    │    │    └─SqueezeExcitation (2)                  [32, 576, 14, 14]         [32, 576, 14, 14]         (28,248)                  --                        903,936\n",
       "│    │    │    │    └─Conv2dNormActivation (3)               [32, 576, 14, 14]         [32, 96, 14, 14]          (55,488)                  --                        346,822,656\n",
       "│    │    │    └─StochasticDepth (stochastic_depth)          [32, 96, 14, 14]          [32, 96, 14, 14]          --                        --                        --\n",
       "│    │    └─MBConv (4)                                       [32, 96, 14, 14]          [32, 96, 14, 14]          --                        --                        --\n",
       "│    │    │    └─Sequential (block)                          [32, 96, 14, 14]          [32, 96, 14, 14]          --                        --                        --\n",
       "│    │    │    │    └─Conv2dNormActivation (0)               [32, 96, 14, 14]          [32, 576, 14, 14]         (56,448)                  --                        346,853,376\n",
       "│    │    │    │    └─Conv2dNormActivation (1)               [32, 576, 14, 14]         [32, 576, 14, 14]         (6,336)                   --                        32,550,912\n",
       "│    │    │    │    └─SqueezeExcitation (2)                  [32, 576, 14, 14]         [32, 576, 14, 14]         (28,248)                  --                        903,936\n",
       "│    │    │    │    └─Conv2dNormActivation (3)               [32, 576, 14, 14]         [32, 96, 14, 14]          (55,488)                  --                        346,822,656\n",
       "│    │    │    └─StochasticDepth (stochastic_depth)          [32, 96, 14, 14]          [32, 96, 14, 14]          --                        --                        --\n",
       "│    └─Sequential (5)                                        [32, 96, 14, 14]          [32, 136, 14, 14]         --                        --                        --\n",
       "│    │    └─MBConv (0)                                       [32, 96, 14, 14]          [32, 136, 14, 14]         --                        --                        --\n",
       "│    │    │    └─Sequential (block)                          [32, 96, 14, 14]          [32, 136, 14, 14]         --                        --                        --\n",
       "│    │    │    │    └─Conv2dNormActivation (0)               [32, 96, 14, 14]          [32, 576, 14, 14]         (56,448)                  --                        346,853,376\n",
       "│    │    │    │    └─Conv2dNormActivation (1)               [32, 576, 14, 14]         [32, 576, 14, 14]         (15,552)                  --                        90,353,664\n",
       "│    │    │    │    └─SqueezeExcitation (2)                  [32, 576, 14, 14]         [32, 576, 14, 14]         (28,248)                  --                        903,936\n",
       "│    │    │    │    └─Conv2dNormActivation (3)               [32, 576, 14, 14]         [32, 136, 14, 14]         (78,608)                  --                        491,332,096\n",
       "│    │    └─MBConv (1)                                       [32, 136, 14, 14]         [32, 136, 14, 14]         --                        --                        --\n",
       "│    │    │    └─Sequential (block)                          [32, 136, 14, 14]         [32, 136, 14, 14]         --                        --                        --\n",
       "│    │    │    │    └─Conv2dNormActivation (0)               [32, 136, 14, 14]         [32, 816, 14, 14]         (112,608)                 --                        696,093,696\n",
       "│    │    │    │    └─Conv2dNormActivation (1)               [32, 816, 14, 14]         [32, 816, 14, 14]         (22,032)                  --                        128,001,024\n",
       "│    │    │    │    └─SqueezeExcitation (2)                  [32, 816, 14, 14]         [32, 816, 14, 14]         (56,338)                  --                        1,802,816\n",
       "│    │    │    │    └─Conv2dNormActivation (3)               [32, 816, 14, 14]         [32, 136, 14, 14]         (111,248)                 --                        696,050,176\n",
       "│    │    │    └─StochasticDepth (stochastic_depth)          [32, 136, 14, 14]         [32, 136, 14, 14]         --                        --                        --\n",
       "│    │    └─MBConv (2)                                       [32, 136, 14, 14]         [32, 136, 14, 14]         --                        --                        --\n",
       "│    │    │    └─Sequential (block)                          [32, 136, 14, 14]         [32, 136, 14, 14]         --                        --                        --\n",
       "│    │    │    │    └─Conv2dNormActivation (0)               [32, 136, 14, 14]         [32, 816, 14, 14]         (112,608)                 --                        696,093,696\n",
       "│    │    │    │    └─Conv2dNormActivation (1)               [32, 816, 14, 14]         [32, 816, 14, 14]         (22,032)                  --                        128,001,024\n",
       "│    │    │    │    └─SqueezeExcitation (2)                  [32, 816, 14, 14]         [32, 816, 14, 14]         (56,338)                  --                        1,802,816\n",
       "│    │    │    │    └─Conv2dNormActivation (3)               [32, 816, 14, 14]         [32, 136, 14, 14]         (111,248)                 --                        696,050,176\n",
       "│    │    │    └─StochasticDepth (stochastic_depth)          [32, 136, 14, 14]         [32, 136, 14, 14]         --                        --                        --\n",
       "│    │    └─MBConv (3)                                       [32, 136, 14, 14]         [32, 136, 14, 14]         --                        --                        --\n",
       "│    │    │    └─Sequential (block)                          [32, 136, 14, 14]         [32, 136, 14, 14]         --                        --                        --\n",
       "│    │    │    │    └─Conv2dNormActivation (0)               [32, 136, 14, 14]         [32, 816, 14, 14]         (112,608)                 --                        696,093,696\n",
       "│    │    │    │    └─Conv2dNormActivation (1)               [32, 816, 14, 14]         [32, 816, 14, 14]         (22,032)                  --                        128,001,024\n",
       "│    │    │    │    └─SqueezeExcitation (2)                  [32, 816, 14, 14]         [32, 816, 14, 14]         (56,338)                  --                        1,802,816\n",
       "│    │    │    │    └─Conv2dNormActivation (3)               [32, 816, 14, 14]         [32, 136, 14, 14]         (111,248)                 --                        696,050,176\n",
       "│    │    │    └─StochasticDepth (stochastic_depth)          [32, 136, 14, 14]         [32, 136, 14, 14]         --                        --                        --\n",
       "│    │    └─MBConv (4)                                       [32, 136, 14, 14]         [32, 136, 14, 14]         --                        --                        --\n",
       "│    │    │    └─Sequential (block)                          [32, 136, 14, 14]         [32, 136, 14, 14]         --                        --                        --\n",
       "│    │    │    │    └─Conv2dNormActivation (0)               [32, 136, 14, 14]         [32, 816, 14, 14]         (112,608)                 --                        696,093,696\n",
       "│    │    │    │    └─Conv2dNormActivation (1)               [32, 816, 14, 14]         [32, 816, 14, 14]         (22,032)                  --                        128,001,024\n",
       "│    │    │    │    └─SqueezeExcitation (2)                  [32, 816, 14, 14]         [32, 816, 14, 14]         (56,338)                  --                        1,802,816\n",
       "│    │    │    │    └─Conv2dNormActivation (3)               [32, 816, 14, 14]         [32, 136, 14, 14]         (111,248)                 --                        696,050,176\n",
       "│    │    │    └─StochasticDepth (stochastic_depth)          [32, 136, 14, 14]         [32, 136, 14, 14]         --                        --                        --\n",
       "│    └─Sequential (6)                                        [32, 136, 14, 14]         [32, 232, 7, 7]           --                        --                        --\n",
       "│    │    └─MBConv (0)                                       [32, 136, 14, 14]         [32, 232, 7, 7]           --                        --                        --\n",
       "│    │    │    └─Sequential (block)                          [32, 136, 14, 14]         [32, 232, 7, 7]           --                        --                        --\n",
       "│    │    │    │    └─Conv2dNormActivation (0)               [32, 136, 14, 14]         [32, 816, 14, 14]         (112,608)                 --                        696,093,696\n",
       "│    │    │    │    └─Conv2dNormActivation (1)               [32, 816, 14, 14]         [32, 816, 7, 7]           (22,032)                  --                        32,039,424\n",
       "│    │    │    │    └─SqueezeExcitation (2)                  [32, 816, 7, 7]           [32, 816, 7, 7]           (56,338)                  --                        1,802,816\n",
       "│    │    │    │    └─Conv2dNormActivation (3)               [32, 816, 7, 7]           [32, 232, 7, 7]           (189,776)                 --                        296,856,064\n",
       "│    │    └─MBConv (1)                                       [32, 232, 7, 7]           [32, 232, 7, 7]           --                        --                        --\n",
       "│    │    │    └─Sequential (block)                          [32, 232, 7, 7]           [32, 232, 7, 7]           --                        --                        --\n",
       "│    │    │    │    └─Conv2dNormActivation (0)               [32, 232, 7, 7]           [32, 1392, 7, 7]          (325,728)                 --                        506,465,280\n",
       "│    │    │    │    └─Conv2dNormActivation (1)               [32, 1392, 7, 7]          [32, 1392, 7, 7]          (37,584)                  --                        54,655,488\n",
       "│    │    │    │    └─SqueezeExcitation (2)                  [32, 1392, 7, 7]          [32, 1392, 7, 7]          (162,922)                 --                        5,213,504\n",
       "│    │    │    │    └─Conv2dNormActivation (3)               [32, 1392, 7, 7]          [32, 232, 7, 7]           (323,408)                 --                        506,391,040\n",
       "│    │    │    └─StochasticDepth (stochastic_depth)          [32, 232, 7, 7]           [32, 232, 7, 7]           --                        --                        --\n",
       "│    │    └─MBConv (2)                                       [32, 232, 7, 7]           [32, 232, 7, 7]           --                        --                        --\n",
       "│    │    │    └─Sequential (block)                          [32, 232, 7, 7]           [32, 232, 7, 7]           --                        --                        --\n",
       "│    │    │    │    └─Conv2dNormActivation (0)               [32, 232, 7, 7]           [32, 1392, 7, 7]          (325,728)                 --                        506,465,280\n",
       "│    │    │    │    └─Conv2dNormActivation (1)               [32, 1392, 7, 7]          [32, 1392, 7, 7]          (37,584)                  --                        54,655,488\n",
       "│    │    │    │    └─SqueezeExcitation (2)                  [32, 1392, 7, 7]          [32, 1392, 7, 7]          (162,922)                 --                        5,213,504\n",
       "│    │    │    │    └─Conv2dNormActivation (3)               [32, 1392, 7, 7]          [32, 232, 7, 7]           (323,408)                 --                        506,391,040\n",
       "│    │    │    └─StochasticDepth (stochastic_depth)          [32, 232, 7, 7]           [32, 232, 7, 7]           --                        --                        --\n",
       "│    │    └─MBConv (3)                                       [32, 232, 7, 7]           [32, 232, 7, 7]           --                        --                        --\n",
       "│    │    │    └─Sequential (block)                          [32, 232, 7, 7]           [32, 232, 7, 7]           --                        --                        --\n",
       "│    │    │    │    └─Conv2dNormActivation (0)               [32, 232, 7, 7]           [32, 1392, 7, 7]          (325,728)                 --                        506,465,280\n",
       "│    │    │    │    └─Conv2dNormActivation (1)               [32, 1392, 7, 7]          [32, 1392, 7, 7]          (37,584)                  --                        54,655,488\n",
       "│    │    │    │    └─SqueezeExcitation (2)                  [32, 1392, 7, 7]          [32, 1392, 7, 7]          (162,922)                 --                        5,213,504\n",
       "│    │    │    │    └─Conv2dNormActivation (3)               [32, 1392, 7, 7]          [32, 232, 7, 7]           (323,408)                 --                        506,391,040\n",
       "│    │    │    └─StochasticDepth (stochastic_depth)          [32, 232, 7, 7]           [32, 232, 7, 7]           --                        --                        --\n",
       "│    │    └─MBConv (4)                                       [32, 232, 7, 7]           [32, 232, 7, 7]           --                        --                        --\n",
       "│    │    │    └─Sequential (block)                          [32, 232, 7, 7]           [32, 232, 7, 7]           --                        --                        --\n",
       "│    │    │    │    └─Conv2dNormActivation (0)               [32, 232, 7, 7]           [32, 1392, 7, 7]          (325,728)                 --                        506,465,280\n",
       "│    │    │    │    └─Conv2dNormActivation (1)               [32, 1392, 7, 7]          [32, 1392, 7, 7]          (37,584)                  --                        54,655,488\n",
       "│    │    │    │    └─SqueezeExcitation (2)                  [32, 1392, 7, 7]          [32, 1392, 7, 7]          (162,922)                 --                        5,213,504\n",
       "│    │    │    │    └─Conv2dNormActivation (3)               [32, 1392, 7, 7]          [32, 232, 7, 7]           (323,408)                 --                        506,391,040\n",
       "│    │    │    └─StochasticDepth (stochastic_depth)          [32, 232, 7, 7]           [32, 232, 7, 7]           --                        --                        --\n",
       "│    │    └─MBConv (5)                                       [32, 232, 7, 7]           [32, 232, 7, 7]           --                        --                        --\n",
       "│    │    │    └─Sequential (block)                          [32, 232, 7, 7]           [32, 232, 7, 7]           --                        --                        --\n",
       "│    │    │    │    └─Conv2dNormActivation (0)               [32, 232, 7, 7]           [32, 1392, 7, 7]          (325,728)                 --                        506,465,280\n",
       "│    │    │    │    └─Conv2dNormActivation (1)               [32, 1392, 7, 7]          [32, 1392, 7, 7]          (37,584)                  --                        54,655,488\n",
       "│    │    │    │    └─SqueezeExcitation (2)                  [32, 1392, 7, 7]          [32, 1392, 7, 7]          (162,922)                 --                        5,213,504\n",
       "│    │    │    │    └─Conv2dNormActivation (3)               [32, 1392, 7, 7]          [32, 232, 7, 7]           (323,408)                 --                        506,391,040\n",
       "│    │    │    └─StochasticDepth (stochastic_depth)          [32, 232, 7, 7]           [32, 232, 7, 7]           --                        --                        --\n",
       "│    └─Sequential (7)                                        [32, 232, 7, 7]           [32, 384, 7, 7]           --                        --                        --\n",
       "│    │    └─MBConv (0)                                       [32, 232, 7, 7]           [32, 384, 7, 7]           --                        --                        --\n",
       "│    │    │    └─Sequential (block)                          [32, 232, 7, 7]           [32, 384, 7, 7]           --                        --                        --\n",
       "│    │    │    │    └─Conv2dNormActivation (0)               [32, 232, 7, 7]           [32, 1392, 7, 7]          (325,728)                 --                        506,465,280\n",
       "│    │    │    │    └─Conv2dNormActivation (1)               [32, 1392, 7, 7]          [32, 1392, 7, 7]          (15,312)                  --                        19,732,992\n",
       "│    │    │    │    └─SqueezeExcitation (2)                  [32, 1392, 7, 7]          [32, 1392, 7, 7]          (162,922)                 --                        5,213,504\n",
       "│    │    │    │    └─Conv2dNormActivation (3)               [32, 1392, 7, 7]          [32, 384, 7, 7]           (535,296)                 --                        838,164,480\n",
       "│    │    └─MBConv (1)                                       [32, 384, 7, 7]           [32, 384, 7, 7]           --                        --                        --\n",
       "│    │    │    └─Sequential (block)                          [32, 384, 7, 7]           [32, 384, 7, 7]           --                        --                        --\n",
       "│    │    │    │    └─Conv2dNormActivation (0)               [32, 384, 7, 7]           [32, 2304, 7, 7]          (889,344)                 --                        1,387,413,504\n",
       "│    │    │    │    └─Conv2dNormActivation (1)               [32, 2304, 7, 7]          [32, 2304, 7, 7]          (25,344)                  --                        32,661,504\n",
       "│    │    │    │    └─SqueezeExcitation (2)                  [32, 2304, 7, 7]          [32, 2304, 7, 7]          (444,768)                 --                        14,232,576\n",
       "│    │    │    │    └─Conv2dNormActivation (3)               [32, 2304, 7, 7]          [32, 384, 7, 7]           (885,504)                 --                        1,387,290,624\n",
       "│    │    │    └─StochasticDepth (stochastic_depth)          [32, 384, 7, 7]           [32, 384, 7, 7]           --                        --                        --\n",
       "│    └─Conv2dNormActivation (8)                              [32, 384, 7, 7]           [32, 1536, 7, 7]          --                        --                        --\n",
       "│    │    └─Conv2d (0)                                       [32, 384, 7, 7]           [32, 1536, 7, 7]          (589,824)                 [1, 1]                    924,844,032\n",
       "│    │    └─BatchNorm2d (1)                                  [32, 1536, 7, 7]          [32, 1536, 7, 7]          (3,072)                   --                        98,304\n",
       "│    │    └─SiLU (2)                                         [32, 1536, 7, 7]          [32, 1536, 7, 7]          --                        --                        --\n",
       "├─AdaptiveAvgPool2d (avgpool)                                [32, 1536, 7, 7]          [32, 1536, 1, 1]          --                        --                        --\n",
       "├─Sequential (classifier)                                    [32, 1536]                [32, 3]                   --                        --                        --\n",
       "│    └─Dropout (0)                                           [32, 1536]                [32, 1536]                --                        --                        --\n",
       "│    └─Linear (1)                                            [32, 1536]                [32, 3]                   4,611                     --                        147,552\n",
       "=========================================================================================================================================================================================\n",
       "Total params: 10,700,843\n",
       "Trainable params: 4,611\n",
       "Non-trainable params: 10,696,232\n",
       "Total mult-adds (Units.GIGABYTES): 30.76\n",
       "=========================================================================================================================================================================================\n",
       "Input size (MB): 19.27\n",
       "Forward/backward pass size (MB): 6654.06\n",
       "Params size (MB): 42.80\n",
       "Estimated Total Size (MB): 6716.13\n",
       "========================================================================================================================================================================================="
      ]
     },
     "execution_count": 25,
     "metadata": {},
     "output_type": "execute_result"
    }
   ],
   "source": [
    "# Get the summary of the model\n",
    "from torchinfo import summary\n",
    "\n",
    "summary(model, \n",
    "        input_size=(32, 3, 224, 224), \n",
    "        col_names=[\"input_size\", \"output_size\", \"num_params\", \"kernel_size\", \"mult_adds\"], \n",
    "        row_settings=[\"var_names\"],\n",
    "        depth=5)"
   ]
  },
  {
   "cell_type": "code",
   "execution_count": 22,
   "metadata": {},
   "outputs": [
    {
     "name": "stdout",
     "output_type": "stream",
     "text": [
      "Saving experiment logs to: experiments/example_efficientnet_b3_2024-10-07\n"
     ]
    }
   ],
   "source": [
    "example_writer = create_writer(experiemnt_name=\"example\", model_name=\"efficientnet_b3\")"
   ]
  },
  {
   "cell_type": "markdown",
   "metadata": {},
   "source": [
    "### 6.1 Update the train function to include a SummaryWriter"
   ]
  },
  {
   "cell_type": "code",
   "execution_count": 2,
   "metadata": {},
   "outputs": [],
   "source": [
    "import torch.utils\n",
    "import torch.utils.tensorboard\n",
    "from going_modular.engine import train_step, test_step \n",
    "from typing import Tuple, List, Dict\n",
    "from tqdm.auto import tqdm\n",
    "\n",
    "def train(model: torch.nn.Module, \n",
    "          train_dataloader: torch.utils.data.DataLoader, \n",
    "          test_dataloader: torch.utils.data.DataLoader, \n",
    "          optimizer: torch.optim.Optimizer,\n",
    "          loss_fn: torch.nn.Module,\n",
    "          epochs: int,\n",
    "          device: torch.device,\n",
    "          writer: torch.utils.tensorboard.writer.SummaryWriter) -> Dict[str, List[float]]:\n",
    "    \"\"\"Trains and tests a PyTorch model.\n",
    "\n",
    "    Passes a target PyTorch models through train_step() and test_step()\n",
    "    functions for a number of epochs, training and testing the model\n",
    "    in the same epoch loop.\n",
    "\n",
    "    Calculates, prints and stores evaluation metrics throughout.\n",
    "\n",
    "    Args:\n",
    "    model: A PyTorch model to be trained and tested.\n",
    "    train_dataloader: A DataLoader instance for the model to be trained on.\n",
    "    test_dataloader: A DataLoader instance for the model to be tested on.\n",
    "    optimizer: A PyTorch optimizer to help minimize the loss function.\n",
    "    loss_fn: A PyTorch loss function to calculate loss on both datasets.\n",
    "    epochs: An integer indicating how many epochs to train for.\n",
    "    device: A target device to compute on (e.g. \"cuda\" or \"cpu\").\n",
    "\n",
    "    Returns:\n",
    "    A dictionary of training and testing loss as well as training and\n",
    "    testing accuracy metrics. Each metric has a value in a list for \n",
    "    each epoch.\n",
    "    In the form: {train_loss: [...],\n",
    "              train_acc: [...],\n",
    "              test_loss: [...],\n",
    "              test_acc: [...]} \n",
    "    For example if training for epochs=2: \n",
    "             {train_loss: [2.0616, 1.0537],\n",
    "              train_acc: [0.3945, 0.3945],\n",
    "              test_loss: [1.2641, 1.5706],\n",
    "              test_acc: [0.3400, 0.2973]} \n",
    "    \"\"\"\n",
    "    # Create empty results dictionary\n",
    "    results = {\"train_loss\": [],\n",
    "               \"train_acc\": [],\n",
    "               \"test_loss\": [],\n",
    "               \"test_acc\": []\n",
    "    }\n",
    "\n",
    "    # Loop through training and testing steps for a number of epochs\n",
    "    for epoch in tqdm(range(epochs)):\n",
    "        train_loss, train_acc = train_step(model=model,\n",
    "                                          dataloader=train_dataloader,\n",
    "                                          loss_fn=loss_fn,\n",
    "                                          optimizer=optimizer,\n",
    "                                          device=device)\n",
    "        test_loss, test_acc = test_step(model=model,\n",
    "          dataloader=test_dataloader,\n",
    "          loss_fn=loss_fn,\n",
    "          device=device)\n",
    "\n",
    "        # Print out what's happening\n",
    "        print(\n",
    "          f\"Epoch: {epoch+1} | \"\n",
    "          f\"train_loss: {train_loss:.4f} | \"\n",
    "          f\"train_acc: {train_acc:.4f} | \"\n",
    "          f\"test_loss: {test_loss:.4f} | \"\n",
    "          f\"test_acc: {test_acc:.4f}\"\n",
    "        )\n",
    "\n",
    "        # Update results dictionary\n",
    "        results[\"train_loss\"].append(train_loss)\n",
    "        results[\"train_acc\"].append(train_acc)\n",
    "        results[\"test_loss\"].append(test_loss)\n",
    "        results[\"test_acc\"].append(test_acc)\n",
    "\n",
    "        # Add results to TensorBoard\n",
    "        if writer:\n",
    "            writer.add_scalars(main_tag=\"Loss\",\n",
    "                            tag_scalar_dict={\"train_loss\": train_loss, \n",
    "                                                \"test_loss\": test_loss},\n",
    "                            global_step=epoch)\n",
    "            writer.add_scalars(main_tag=\"Accuracy\",\n",
    "                            tag_scalar_dict={\"train_acc\": train_acc, \n",
    "                                                \"test_acc\": test_acc},\n",
    "                            global_step=epoch)\n",
    "\n",
    "            writer.add_graph(model=model,\n",
    "                            input_to_model=torch.randn(32, 3, 224, 224).to(device))\n",
    "            \n",
    "\n",
    "            # Close the writer\n",
    "            writer.close()\n",
    "        \n",
    "        else:\n",
    "            print(\"No SummaryWriter provided, skipping writing to TensorBoard.\")\n",
    "\n",
    "    # Return the filled results at the end of the epochs\n",
    "    return results"
   ]
  },
  {
   "cell_type": "markdown",
   "metadata": {},
   "source": [
    "## 7. Setting up a series of modeling experiments"
   ]
  },
  {
   "cell_type": "markdown",
   "metadata": {},
   "source": [
    "### 7.1 Download the data\n",
    "\n",
    "1. Pizza, steak, sushi 10% : https://github.com/mrdbourke/pytorch-deep-learning/raw/main/data/pizza_steak_sushi.zip\n",
    "2. Pizza, steak, sushi 20% : https://github.com/mrdbourke/pytorch-deep-learning/raw/main/data/pizza_steak_sushi_20_percent.zip"
   ]
  },
  {
   "cell_type": "code",
   "execution_count": 6,
   "metadata": {},
   "outputs": [
    {
     "name": "stdout",
     "output_type": "stream",
     "text": [
      "Downloading https://github.com/mrdbourke/pytorch-deep-learning/raw/main/data/pizza_steak_sushi.zip to data/pizza_steak_sushi.zip\n",
      "Extracting data/pizza_steak_sushi.zip to data/pizza_steak_sushi_10_percent\n",
      "Downloading https://github.com/mrdbourke/pytorch-deep-learning/raw/main/data/pizza_steak_sushi_20_percent.zip to data/pizza_steak_sushi_20_percent.zip\n",
      "Extracting data/pizza_steak_sushi_20_percent.zip to data/pizza_steak_sushi_20_percent\n"
     ]
    }
   ],
   "source": [
    "# Download 10 percent and 20 percent training data (if necessary)\n",
    "data_10_percent_path = download_data(source=\"https://github.com/mrdbourke/pytorch-deep-learning/raw/main/data/pizza_steak_sushi.zip\",\n",
    "                                     destination=\"pizza_steak_sushi_10_percent\",\n",
    "                                     remove_source=True)\n",
    "\n",
    "data_20_percent_path = download_data(source=\"https://github.com/mrdbourke/pytorch-deep-learning/raw/main/data/pizza_steak_sushi_20_percent.zip\",\n",
    "                                     destination=\"pizza_steak_sushi_20_percent\",\n",
    "                                     remove_source=True)"
   ]
  },
  {
   "cell_type": "markdown",
   "metadata": {},
   "source": [
    "### 7.2 Transform Datasets to Dataloaders"
   ]
  },
  {
   "cell_type": "code",
   "execution_count": 9,
   "metadata": {},
   "outputs": [
    {
     "data": {
      "text/plain": [
       "(PosixPath('data/pizza_steak_sushi_10_percent/train'),\n",
       " PosixPath('data/pizza_steak_sushi_10_percent/test'),\n",
       " PosixPath('data/pizza_steak_sushi_20_percent/train'),\n",
       " PosixPath('data/pizza_steak_sushi_20_percent/test'))"
      ]
     },
     "execution_count": 9,
     "metadata": {},
     "output_type": "execute_result"
    }
   ],
   "source": [
    "# Setup training and test directories\n",
    "\n",
    "train_dir_10_percent = data_10_percent_path / \"train\"\n",
    "test_dir_10_percent = data_10_percent_path / \"test\"\n",
    "\n",
    "train_dir_20_percent = data_20_percent_path / \"train\"\n",
    "test_dir_20_percent = data_20_percent_path / \"test\"\n",
    "\n",
    "train_dir_10_percent, test_dir_10_percent, train_dir_20_percent, test_dir_20_percent"
   ]
  },
  {
   "cell_type": "code",
   "execution_count": 12,
   "metadata": {},
   "outputs": [],
   "source": [
    "# Setup the device \n",
    "device = torch.device(\"cuda\" if torch.cuda.is_available() else \"cpu\")"
   ]
  },
  {
   "cell_type": "code",
   "execution_count": 13,
   "metadata": {},
   "outputs": [],
   "source": [
    "from torchvision.transforms import v2 as transforms\n",
    "\n",
    "# Setup transforms\n",
    "normalize = transforms.Normalize(mean=[0.485, 0.456, 0.406],\n",
    "                                    std=[0.229, 0.224, 0.225])\n",
    "\n",
    "# Create transform pipeline manually\n",
    "manual_transforms = transforms.Compose([\n",
    "    transforms.Resize((224, 224)),\n",
    "    transforms.ToDtype(torch.float),\n",
    "    transforms.ToImage(),\n",
    "    normalize\n",
    "]).to(device)"
   ]
  },
  {
   "cell_type": "code",
   "execution_count": 18,
   "metadata": {},
   "outputs": [
    {
     "data": {
      "text/plain": [
       "(PosixPath('data/pizza_steak_sushi_10_percent/train'),\n",
       " PosixPath('data/pizza_steak_sushi_10_percent/test'),\n",
       " PosixPath('data/pizza_steak_sushi_20_percent/train'),\n",
       " PosixPath('data/pizza_steak_sushi_20_percent/test'),\n",
       " ['pizza', 'steak', 'sushi'],\n",
       " ['pizza', 'steak', 'sushi'])"
      ]
     },
     "execution_count": 18,
     "metadata": {},
     "output_type": "execute_result"
    }
   ],
   "source": [
    "from going_modular import data_setup\n",
    "\n",
    "# Setup the data loaders\n",
    "BATCH_SIZE = 32\n",
    "\n",
    "# Create a 10 percent data loader\n",
    "train_dl_10_percent, test_dl_10_percent, class_names_10_percent = data_setup.create_dataloaders(train_dir=train_dir_10_percent,\n",
    "                                                                                                    test_dir=test_dir_10_percent,\n",
    "                                                                                                    transform=manual_transforms,\n",
    "                                                                                                    batch_size=BATCH_SIZE,\n",
    "                                                                                                    num_workers=2)\n",
    "\n",
    "# Create a 20 percent data loader\n",
    "train_dl_20_percent, test_dl_20_percent, class_names_20_percent = data_setup.create_dataloaders(train_dir=train_dir_20_percent,\n",
    "                                                                                                    test_dir=test_dir_20_percent,\n",
    "                                                                                                    transform=manual_transforms,\n",
    "                                                                                                    batch_size=BATCH_SIZE,\n",
    "                                                                                                    num_workers=2)\n",
    "\n",
    "train_dir_10_percent, test_dir_10_percent, train_dir_20_percent, test_dir_20_percent, class_names_10_percent, class_names_20_percent"
   ]
  },
  {
   "cell_type": "markdown",
   "metadata": {},
   "source": [
    "### 7.3 Create feature extraction models\n",
    "\n",
    "We want two functions:\n",
    "1. Create a `torchvision.models.efficientnet_b0()` model with the pretrained weights and the final fully connected layer removed.\n",
    "2. Create a `torchvision.models.efficientnet_b3()` model with the pretrained weights and the final fully connected layer removed.`"
   ]
  },
  {
   "cell_type": "code",
   "execution_count": 21,
   "metadata": {},
   "outputs": [
    {
     "data": {
      "text/plain": [
       "EfficientNet(\n",
       "  (features): Sequential(\n",
       "    (0): Conv2dNormActivation(\n",
       "      (0): Conv2d(3, 32, kernel_size=(3, 3), stride=(2, 2), padding=(1, 1), bias=False)\n",
       "      (1): BatchNorm2d(32, eps=1e-05, momentum=0.1, affine=True, track_running_stats=True)\n",
       "      (2): SiLU(inplace=True)\n",
       "    )\n",
       "    (1): Sequential(\n",
       "      (0): MBConv(\n",
       "        (block): Sequential(\n",
       "          (0): Conv2dNormActivation(\n",
       "            (0): Conv2d(32, 32, kernel_size=(3, 3), stride=(1, 1), padding=(1, 1), groups=32, bias=False)\n",
       "            (1): BatchNorm2d(32, eps=1e-05, momentum=0.1, affine=True, track_running_stats=True)\n",
       "            (2): SiLU(inplace=True)\n",
       "          )\n",
       "          (1): SqueezeExcitation(\n",
       "            (avgpool): AdaptiveAvgPool2d(output_size=1)\n",
       "            (fc1): Conv2d(32, 8, kernel_size=(1, 1), stride=(1, 1))\n",
       "            (fc2): Conv2d(8, 32, kernel_size=(1, 1), stride=(1, 1))\n",
       "            (activation): SiLU(inplace=True)\n",
       "            (scale_activation): Sigmoid()\n",
       "          )\n",
       "          (2): Conv2dNormActivation(\n",
       "            (0): Conv2d(32, 16, kernel_size=(1, 1), stride=(1, 1), bias=False)\n",
       "            (1): BatchNorm2d(16, eps=1e-05, momentum=0.1, affine=True, track_running_stats=True)\n",
       "          )\n",
       "        )\n",
       "        (stochastic_depth): StochasticDepth(p=0.0, mode=row)\n",
       "      )\n",
       "    )\n",
       "    (2): Sequential(\n",
       "      (0): MBConv(\n",
       "        (block): Sequential(\n",
       "          (0): Conv2dNormActivation(\n",
       "            (0): Conv2d(16, 96, kernel_size=(1, 1), stride=(1, 1), bias=False)\n",
       "            (1): BatchNorm2d(96, eps=1e-05, momentum=0.1, affine=True, track_running_stats=True)\n",
       "            (2): SiLU(inplace=True)\n",
       "          )\n",
       "          (1): Conv2dNormActivation(\n",
       "            (0): Conv2d(96, 96, kernel_size=(3, 3), stride=(2, 2), padding=(1, 1), groups=96, bias=False)\n",
       "            (1): BatchNorm2d(96, eps=1e-05, momentum=0.1, affine=True, track_running_stats=True)\n",
       "            (2): SiLU(inplace=True)\n",
       "          )\n",
       "          (2): SqueezeExcitation(\n",
       "            (avgpool): AdaptiveAvgPool2d(output_size=1)\n",
       "            (fc1): Conv2d(96, 4, kernel_size=(1, 1), stride=(1, 1))\n",
       "            (fc2): Conv2d(4, 96, kernel_size=(1, 1), stride=(1, 1))\n",
       "            (activation): SiLU(inplace=True)\n",
       "            (scale_activation): Sigmoid()\n",
       "          )\n",
       "          (3): Conv2dNormActivation(\n",
       "            (0): Conv2d(96, 24, kernel_size=(1, 1), stride=(1, 1), bias=False)\n",
       "            (1): BatchNorm2d(24, eps=1e-05, momentum=0.1, affine=True, track_running_stats=True)\n",
       "          )\n",
       "        )\n",
       "        (stochastic_depth): StochasticDepth(p=0.0125, mode=row)\n",
       "      )\n",
       "      (1): MBConv(\n",
       "        (block): Sequential(\n",
       "          (0): Conv2dNormActivation(\n",
       "            (0): Conv2d(24, 144, kernel_size=(1, 1), stride=(1, 1), bias=False)\n",
       "            (1): BatchNorm2d(144, eps=1e-05, momentum=0.1, affine=True, track_running_stats=True)\n",
       "            (2): SiLU(inplace=True)\n",
       "          )\n",
       "          (1): Conv2dNormActivation(\n",
       "            (0): Conv2d(144, 144, kernel_size=(3, 3), stride=(1, 1), padding=(1, 1), groups=144, bias=False)\n",
       "            (1): BatchNorm2d(144, eps=1e-05, momentum=0.1, affine=True, track_running_stats=True)\n",
       "            (2): SiLU(inplace=True)\n",
       "          )\n",
       "          (2): SqueezeExcitation(\n",
       "            (avgpool): AdaptiveAvgPool2d(output_size=1)\n",
       "            (fc1): Conv2d(144, 6, kernel_size=(1, 1), stride=(1, 1))\n",
       "            (fc2): Conv2d(6, 144, kernel_size=(1, 1), stride=(1, 1))\n",
       "            (activation): SiLU(inplace=True)\n",
       "            (scale_activation): Sigmoid()\n",
       "          )\n",
       "          (3): Conv2dNormActivation(\n",
       "            (0): Conv2d(144, 24, kernel_size=(1, 1), stride=(1, 1), bias=False)\n",
       "            (1): BatchNorm2d(24, eps=1e-05, momentum=0.1, affine=True, track_running_stats=True)\n",
       "          )\n",
       "        )\n",
       "        (stochastic_depth): StochasticDepth(p=0.025, mode=row)\n",
       "      )\n",
       "    )\n",
       "    (3): Sequential(\n",
       "      (0): MBConv(\n",
       "        (block): Sequential(\n",
       "          (0): Conv2dNormActivation(\n",
       "            (0): Conv2d(24, 144, kernel_size=(1, 1), stride=(1, 1), bias=False)\n",
       "            (1): BatchNorm2d(144, eps=1e-05, momentum=0.1, affine=True, track_running_stats=True)\n",
       "            (2): SiLU(inplace=True)\n",
       "          )\n",
       "          (1): Conv2dNormActivation(\n",
       "            (0): Conv2d(144, 144, kernel_size=(5, 5), stride=(2, 2), padding=(2, 2), groups=144, bias=False)\n",
       "            (1): BatchNorm2d(144, eps=1e-05, momentum=0.1, affine=True, track_running_stats=True)\n",
       "            (2): SiLU(inplace=True)\n",
       "          )\n",
       "          (2): SqueezeExcitation(\n",
       "            (avgpool): AdaptiveAvgPool2d(output_size=1)\n",
       "            (fc1): Conv2d(144, 6, kernel_size=(1, 1), stride=(1, 1))\n",
       "            (fc2): Conv2d(6, 144, kernel_size=(1, 1), stride=(1, 1))\n",
       "            (activation): SiLU(inplace=True)\n",
       "            (scale_activation): Sigmoid()\n",
       "          )\n",
       "          (3): Conv2dNormActivation(\n",
       "            (0): Conv2d(144, 40, kernel_size=(1, 1), stride=(1, 1), bias=False)\n",
       "            (1): BatchNorm2d(40, eps=1e-05, momentum=0.1, affine=True, track_running_stats=True)\n",
       "          )\n",
       "        )\n",
       "        (stochastic_depth): StochasticDepth(p=0.037500000000000006, mode=row)\n",
       "      )\n",
       "      (1): MBConv(\n",
       "        (block): Sequential(\n",
       "          (0): Conv2dNormActivation(\n",
       "            (0): Conv2d(40, 240, kernel_size=(1, 1), stride=(1, 1), bias=False)\n",
       "            (1): BatchNorm2d(240, eps=1e-05, momentum=0.1, affine=True, track_running_stats=True)\n",
       "            (2): SiLU(inplace=True)\n",
       "          )\n",
       "          (1): Conv2dNormActivation(\n",
       "            (0): Conv2d(240, 240, kernel_size=(5, 5), stride=(1, 1), padding=(2, 2), groups=240, bias=False)\n",
       "            (1): BatchNorm2d(240, eps=1e-05, momentum=0.1, affine=True, track_running_stats=True)\n",
       "            (2): SiLU(inplace=True)\n",
       "          )\n",
       "          (2): SqueezeExcitation(\n",
       "            (avgpool): AdaptiveAvgPool2d(output_size=1)\n",
       "            (fc1): Conv2d(240, 10, kernel_size=(1, 1), stride=(1, 1))\n",
       "            (fc2): Conv2d(10, 240, kernel_size=(1, 1), stride=(1, 1))\n",
       "            (activation): SiLU(inplace=True)\n",
       "            (scale_activation): Sigmoid()\n",
       "          )\n",
       "          (3): Conv2dNormActivation(\n",
       "            (0): Conv2d(240, 40, kernel_size=(1, 1), stride=(1, 1), bias=False)\n",
       "            (1): BatchNorm2d(40, eps=1e-05, momentum=0.1, affine=True, track_running_stats=True)\n",
       "          )\n",
       "        )\n",
       "        (stochastic_depth): StochasticDepth(p=0.05, mode=row)\n",
       "      )\n",
       "    )\n",
       "    (4): Sequential(\n",
       "      (0): MBConv(\n",
       "        (block): Sequential(\n",
       "          (0): Conv2dNormActivation(\n",
       "            (0): Conv2d(40, 240, kernel_size=(1, 1), stride=(1, 1), bias=False)\n",
       "            (1): BatchNorm2d(240, eps=1e-05, momentum=0.1, affine=True, track_running_stats=True)\n",
       "            (2): SiLU(inplace=True)\n",
       "          )\n",
       "          (1): Conv2dNormActivation(\n",
       "            (0): Conv2d(240, 240, kernel_size=(3, 3), stride=(2, 2), padding=(1, 1), groups=240, bias=False)\n",
       "            (1): BatchNorm2d(240, eps=1e-05, momentum=0.1, affine=True, track_running_stats=True)\n",
       "            (2): SiLU(inplace=True)\n",
       "          )\n",
       "          (2): SqueezeExcitation(\n",
       "            (avgpool): AdaptiveAvgPool2d(output_size=1)\n",
       "            (fc1): Conv2d(240, 10, kernel_size=(1, 1), stride=(1, 1))\n",
       "            (fc2): Conv2d(10, 240, kernel_size=(1, 1), stride=(1, 1))\n",
       "            (activation): SiLU(inplace=True)\n",
       "            (scale_activation): Sigmoid()\n",
       "          )\n",
       "          (3): Conv2dNormActivation(\n",
       "            (0): Conv2d(240, 80, kernel_size=(1, 1), stride=(1, 1), bias=False)\n",
       "            (1): BatchNorm2d(80, eps=1e-05, momentum=0.1, affine=True, track_running_stats=True)\n",
       "          )\n",
       "        )\n",
       "        (stochastic_depth): StochasticDepth(p=0.0625, mode=row)\n",
       "      )\n",
       "      (1): MBConv(\n",
       "        (block): Sequential(\n",
       "          (0): Conv2dNormActivation(\n",
       "            (0): Conv2d(80, 480, kernel_size=(1, 1), stride=(1, 1), bias=False)\n",
       "            (1): BatchNorm2d(480, eps=1e-05, momentum=0.1, affine=True, track_running_stats=True)\n",
       "            (2): SiLU(inplace=True)\n",
       "          )\n",
       "          (1): Conv2dNormActivation(\n",
       "            (0): Conv2d(480, 480, kernel_size=(3, 3), stride=(1, 1), padding=(1, 1), groups=480, bias=False)\n",
       "            (1): BatchNorm2d(480, eps=1e-05, momentum=0.1, affine=True, track_running_stats=True)\n",
       "            (2): SiLU(inplace=True)\n",
       "          )\n",
       "          (2): SqueezeExcitation(\n",
       "            (avgpool): AdaptiveAvgPool2d(output_size=1)\n",
       "            (fc1): Conv2d(480, 20, kernel_size=(1, 1), stride=(1, 1))\n",
       "            (fc2): Conv2d(20, 480, kernel_size=(1, 1), stride=(1, 1))\n",
       "            (activation): SiLU(inplace=True)\n",
       "            (scale_activation): Sigmoid()\n",
       "          )\n",
       "          (3): Conv2dNormActivation(\n",
       "            (0): Conv2d(480, 80, kernel_size=(1, 1), stride=(1, 1), bias=False)\n",
       "            (1): BatchNorm2d(80, eps=1e-05, momentum=0.1, affine=True, track_running_stats=True)\n",
       "          )\n",
       "        )\n",
       "        (stochastic_depth): StochasticDepth(p=0.07500000000000001, mode=row)\n",
       "      )\n",
       "      (2): MBConv(\n",
       "        (block): Sequential(\n",
       "          (0): Conv2dNormActivation(\n",
       "            (0): Conv2d(80, 480, kernel_size=(1, 1), stride=(1, 1), bias=False)\n",
       "            (1): BatchNorm2d(480, eps=1e-05, momentum=0.1, affine=True, track_running_stats=True)\n",
       "            (2): SiLU(inplace=True)\n",
       "          )\n",
       "          (1): Conv2dNormActivation(\n",
       "            (0): Conv2d(480, 480, kernel_size=(3, 3), stride=(1, 1), padding=(1, 1), groups=480, bias=False)\n",
       "            (1): BatchNorm2d(480, eps=1e-05, momentum=0.1, affine=True, track_running_stats=True)\n",
       "            (2): SiLU(inplace=True)\n",
       "          )\n",
       "          (2): SqueezeExcitation(\n",
       "            (avgpool): AdaptiveAvgPool2d(output_size=1)\n",
       "            (fc1): Conv2d(480, 20, kernel_size=(1, 1), stride=(1, 1))\n",
       "            (fc2): Conv2d(20, 480, kernel_size=(1, 1), stride=(1, 1))\n",
       "            (activation): SiLU(inplace=True)\n",
       "            (scale_activation): Sigmoid()\n",
       "          )\n",
       "          (3): Conv2dNormActivation(\n",
       "            (0): Conv2d(480, 80, kernel_size=(1, 1), stride=(1, 1), bias=False)\n",
       "            (1): BatchNorm2d(80, eps=1e-05, momentum=0.1, affine=True, track_running_stats=True)\n",
       "          )\n",
       "        )\n",
       "        (stochastic_depth): StochasticDepth(p=0.08750000000000001, mode=row)\n",
       "      )\n",
       "    )\n",
       "    (5): Sequential(\n",
       "      (0): MBConv(\n",
       "        (block): Sequential(\n",
       "          (0): Conv2dNormActivation(\n",
       "            (0): Conv2d(80, 480, kernel_size=(1, 1), stride=(1, 1), bias=False)\n",
       "            (1): BatchNorm2d(480, eps=1e-05, momentum=0.1, affine=True, track_running_stats=True)\n",
       "            (2): SiLU(inplace=True)\n",
       "          )\n",
       "          (1): Conv2dNormActivation(\n",
       "            (0): Conv2d(480, 480, kernel_size=(5, 5), stride=(1, 1), padding=(2, 2), groups=480, bias=False)\n",
       "            (1): BatchNorm2d(480, eps=1e-05, momentum=0.1, affine=True, track_running_stats=True)\n",
       "            (2): SiLU(inplace=True)\n",
       "          )\n",
       "          (2): SqueezeExcitation(\n",
       "            (avgpool): AdaptiveAvgPool2d(output_size=1)\n",
       "            (fc1): Conv2d(480, 20, kernel_size=(1, 1), stride=(1, 1))\n",
       "            (fc2): Conv2d(20, 480, kernel_size=(1, 1), stride=(1, 1))\n",
       "            (activation): SiLU(inplace=True)\n",
       "            (scale_activation): Sigmoid()\n",
       "          )\n",
       "          (3): Conv2dNormActivation(\n",
       "            (0): Conv2d(480, 112, kernel_size=(1, 1), stride=(1, 1), bias=False)\n",
       "            (1): BatchNorm2d(112, eps=1e-05, momentum=0.1, affine=True, track_running_stats=True)\n",
       "          )\n",
       "        )\n",
       "        (stochastic_depth): StochasticDepth(p=0.1, mode=row)\n",
       "      )\n",
       "      (1): MBConv(\n",
       "        (block): Sequential(\n",
       "          (0): Conv2dNormActivation(\n",
       "            (0): Conv2d(112, 672, kernel_size=(1, 1), stride=(1, 1), bias=False)\n",
       "            (1): BatchNorm2d(672, eps=1e-05, momentum=0.1, affine=True, track_running_stats=True)\n",
       "            (2): SiLU(inplace=True)\n",
       "          )\n",
       "          (1): Conv2dNormActivation(\n",
       "            (0): Conv2d(672, 672, kernel_size=(5, 5), stride=(1, 1), padding=(2, 2), groups=672, bias=False)\n",
       "            (1): BatchNorm2d(672, eps=1e-05, momentum=0.1, affine=True, track_running_stats=True)\n",
       "            (2): SiLU(inplace=True)\n",
       "          )\n",
       "          (2): SqueezeExcitation(\n",
       "            (avgpool): AdaptiveAvgPool2d(output_size=1)\n",
       "            (fc1): Conv2d(672, 28, kernel_size=(1, 1), stride=(1, 1))\n",
       "            (fc2): Conv2d(28, 672, kernel_size=(1, 1), stride=(1, 1))\n",
       "            (activation): SiLU(inplace=True)\n",
       "            (scale_activation): Sigmoid()\n",
       "          )\n",
       "          (3): Conv2dNormActivation(\n",
       "            (0): Conv2d(672, 112, kernel_size=(1, 1), stride=(1, 1), bias=False)\n",
       "            (1): BatchNorm2d(112, eps=1e-05, momentum=0.1, affine=True, track_running_stats=True)\n",
       "          )\n",
       "        )\n",
       "        (stochastic_depth): StochasticDepth(p=0.1125, mode=row)\n",
       "      )\n",
       "      (2): MBConv(\n",
       "        (block): Sequential(\n",
       "          (0): Conv2dNormActivation(\n",
       "            (0): Conv2d(112, 672, kernel_size=(1, 1), stride=(1, 1), bias=False)\n",
       "            (1): BatchNorm2d(672, eps=1e-05, momentum=0.1, affine=True, track_running_stats=True)\n",
       "            (2): SiLU(inplace=True)\n",
       "          )\n",
       "          (1): Conv2dNormActivation(\n",
       "            (0): Conv2d(672, 672, kernel_size=(5, 5), stride=(1, 1), padding=(2, 2), groups=672, bias=False)\n",
       "            (1): BatchNorm2d(672, eps=1e-05, momentum=0.1, affine=True, track_running_stats=True)\n",
       "            (2): SiLU(inplace=True)\n",
       "          )\n",
       "          (2): SqueezeExcitation(\n",
       "            (avgpool): AdaptiveAvgPool2d(output_size=1)\n",
       "            (fc1): Conv2d(672, 28, kernel_size=(1, 1), stride=(1, 1))\n",
       "            (fc2): Conv2d(28, 672, kernel_size=(1, 1), stride=(1, 1))\n",
       "            (activation): SiLU(inplace=True)\n",
       "            (scale_activation): Sigmoid()\n",
       "          )\n",
       "          (3): Conv2dNormActivation(\n",
       "            (0): Conv2d(672, 112, kernel_size=(1, 1), stride=(1, 1), bias=False)\n",
       "            (1): BatchNorm2d(112, eps=1e-05, momentum=0.1, affine=True, track_running_stats=True)\n",
       "          )\n",
       "        )\n",
       "        (stochastic_depth): StochasticDepth(p=0.125, mode=row)\n",
       "      )\n",
       "    )\n",
       "    (6): Sequential(\n",
       "      (0): MBConv(\n",
       "        (block): Sequential(\n",
       "          (0): Conv2dNormActivation(\n",
       "            (0): Conv2d(112, 672, kernel_size=(1, 1), stride=(1, 1), bias=False)\n",
       "            (1): BatchNorm2d(672, eps=1e-05, momentum=0.1, affine=True, track_running_stats=True)\n",
       "            (2): SiLU(inplace=True)\n",
       "          )\n",
       "          (1): Conv2dNormActivation(\n",
       "            (0): Conv2d(672, 672, kernel_size=(5, 5), stride=(2, 2), padding=(2, 2), groups=672, bias=False)\n",
       "            (1): BatchNorm2d(672, eps=1e-05, momentum=0.1, affine=True, track_running_stats=True)\n",
       "            (2): SiLU(inplace=True)\n",
       "          )\n",
       "          (2): SqueezeExcitation(\n",
       "            (avgpool): AdaptiveAvgPool2d(output_size=1)\n",
       "            (fc1): Conv2d(672, 28, kernel_size=(1, 1), stride=(1, 1))\n",
       "            (fc2): Conv2d(28, 672, kernel_size=(1, 1), stride=(1, 1))\n",
       "            (activation): SiLU(inplace=True)\n",
       "            (scale_activation): Sigmoid()\n",
       "          )\n",
       "          (3): Conv2dNormActivation(\n",
       "            (0): Conv2d(672, 192, kernel_size=(1, 1), stride=(1, 1), bias=False)\n",
       "            (1): BatchNorm2d(192, eps=1e-05, momentum=0.1, affine=True, track_running_stats=True)\n",
       "          )\n",
       "        )\n",
       "        (stochastic_depth): StochasticDepth(p=0.1375, mode=row)\n",
       "      )\n",
       "      (1): MBConv(\n",
       "        (block): Sequential(\n",
       "          (0): Conv2dNormActivation(\n",
       "            (0): Conv2d(192, 1152, kernel_size=(1, 1), stride=(1, 1), bias=False)\n",
       "            (1): BatchNorm2d(1152, eps=1e-05, momentum=0.1, affine=True, track_running_stats=True)\n",
       "            (2): SiLU(inplace=True)\n",
       "          )\n",
       "          (1): Conv2dNormActivation(\n",
       "            (0): Conv2d(1152, 1152, kernel_size=(5, 5), stride=(1, 1), padding=(2, 2), groups=1152, bias=False)\n",
       "            (1): BatchNorm2d(1152, eps=1e-05, momentum=0.1, affine=True, track_running_stats=True)\n",
       "            (2): SiLU(inplace=True)\n",
       "          )\n",
       "          (2): SqueezeExcitation(\n",
       "            (avgpool): AdaptiveAvgPool2d(output_size=1)\n",
       "            (fc1): Conv2d(1152, 48, kernel_size=(1, 1), stride=(1, 1))\n",
       "            (fc2): Conv2d(48, 1152, kernel_size=(1, 1), stride=(1, 1))\n",
       "            (activation): SiLU(inplace=True)\n",
       "            (scale_activation): Sigmoid()\n",
       "          )\n",
       "          (3): Conv2dNormActivation(\n",
       "            (0): Conv2d(1152, 192, kernel_size=(1, 1), stride=(1, 1), bias=False)\n",
       "            (1): BatchNorm2d(192, eps=1e-05, momentum=0.1, affine=True, track_running_stats=True)\n",
       "          )\n",
       "        )\n",
       "        (stochastic_depth): StochasticDepth(p=0.15000000000000002, mode=row)\n",
       "      )\n",
       "      (2): MBConv(\n",
       "        (block): Sequential(\n",
       "          (0): Conv2dNormActivation(\n",
       "            (0): Conv2d(192, 1152, kernel_size=(1, 1), stride=(1, 1), bias=False)\n",
       "            (1): BatchNorm2d(1152, eps=1e-05, momentum=0.1, affine=True, track_running_stats=True)\n",
       "            (2): SiLU(inplace=True)\n",
       "          )\n",
       "          (1): Conv2dNormActivation(\n",
       "            (0): Conv2d(1152, 1152, kernel_size=(5, 5), stride=(1, 1), padding=(2, 2), groups=1152, bias=False)\n",
       "            (1): BatchNorm2d(1152, eps=1e-05, momentum=0.1, affine=True, track_running_stats=True)\n",
       "            (2): SiLU(inplace=True)\n",
       "          )\n",
       "          (2): SqueezeExcitation(\n",
       "            (avgpool): AdaptiveAvgPool2d(output_size=1)\n",
       "            (fc1): Conv2d(1152, 48, kernel_size=(1, 1), stride=(1, 1))\n",
       "            (fc2): Conv2d(48, 1152, kernel_size=(1, 1), stride=(1, 1))\n",
       "            (activation): SiLU(inplace=True)\n",
       "            (scale_activation): Sigmoid()\n",
       "          )\n",
       "          (3): Conv2dNormActivation(\n",
       "            (0): Conv2d(1152, 192, kernel_size=(1, 1), stride=(1, 1), bias=False)\n",
       "            (1): BatchNorm2d(192, eps=1e-05, momentum=0.1, affine=True, track_running_stats=True)\n",
       "          )\n",
       "        )\n",
       "        (stochastic_depth): StochasticDepth(p=0.1625, mode=row)\n",
       "      )\n",
       "      (3): MBConv(\n",
       "        (block): Sequential(\n",
       "          (0): Conv2dNormActivation(\n",
       "            (0): Conv2d(192, 1152, kernel_size=(1, 1), stride=(1, 1), bias=False)\n",
       "            (1): BatchNorm2d(1152, eps=1e-05, momentum=0.1, affine=True, track_running_stats=True)\n",
       "            (2): SiLU(inplace=True)\n",
       "          )\n",
       "          (1): Conv2dNormActivation(\n",
       "            (0): Conv2d(1152, 1152, kernel_size=(5, 5), stride=(1, 1), padding=(2, 2), groups=1152, bias=False)\n",
       "            (1): BatchNorm2d(1152, eps=1e-05, momentum=0.1, affine=True, track_running_stats=True)\n",
       "            (2): SiLU(inplace=True)\n",
       "          )\n",
       "          (2): SqueezeExcitation(\n",
       "            (avgpool): AdaptiveAvgPool2d(output_size=1)\n",
       "            (fc1): Conv2d(1152, 48, kernel_size=(1, 1), stride=(1, 1))\n",
       "            (fc2): Conv2d(48, 1152, kernel_size=(1, 1), stride=(1, 1))\n",
       "            (activation): SiLU(inplace=True)\n",
       "            (scale_activation): Sigmoid()\n",
       "          )\n",
       "          (3): Conv2dNormActivation(\n",
       "            (0): Conv2d(1152, 192, kernel_size=(1, 1), stride=(1, 1), bias=False)\n",
       "            (1): BatchNorm2d(192, eps=1e-05, momentum=0.1, affine=True, track_running_stats=True)\n",
       "          )\n",
       "        )\n",
       "        (stochastic_depth): StochasticDepth(p=0.17500000000000002, mode=row)\n",
       "      )\n",
       "    )\n",
       "    (7): Sequential(\n",
       "      (0): MBConv(\n",
       "        (block): Sequential(\n",
       "          (0): Conv2dNormActivation(\n",
       "            (0): Conv2d(192, 1152, kernel_size=(1, 1), stride=(1, 1), bias=False)\n",
       "            (1): BatchNorm2d(1152, eps=1e-05, momentum=0.1, affine=True, track_running_stats=True)\n",
       "            (2): SiLU(inplace=True)\n",
       "          )\n",
       "          (1): Conv2dNormActivation(\n",
       "            (0): Conv2d(1152, 1152, kernel_size=(3, 3), stride=(1, 1), padding=(1, 1), groups=1152, bias=False)\n",
       "            (1): BatchNorm2d(1152, eps=1e-05, momentum=0.1, affine=True, track_running_stats=True)\n",
       "            (2): SiLU(inplace=True)\n",
       "          )\n",
       "          (2): SqueezeExcitation(\n",
       "            (avgpool): AdaptiveAvgPool2d(output_size=1)\n",
       "            (fc1): Conv2d(1152, 48, kernel_size=(1, 1), stride=(1, 1))\n",
       "            (fc2): Conv2d(48, 1152, kernel_size=(1, 1), stride=(1, 1))\n",
       "            (activation): SiLU(inplace=True)\n",
       "            (scale_activation): Sigmoid()\n",
       "          )\n",
       "          (3): Conv2dNormActivation(\n",
       "            (0): Conv2d(1152, 320, kernel_size=(1, 1), stride=(1, 1), bias=False)\n",
       "            (1): BatchNorm2d(320, eps=1e-05, momentum=0.1, affine=True, track_running_stats=True)\n",
       "          )\n",
       "        )\n",
       "        (stochastic_depth): StochasticDepth(p=0.1875, mode=row)\n",
       "      )\n",
       "    )\n",
       "    (8): Conv2dNormActivation(\n",
       "      (0): Conv2d(320, 1280, kernel_size=(1, 1), stride=(1, 1), bias=False)\n",
       "      (1): BatchNorm2d(1280, eps=1e-05, momentum=0.1, affine=True, track_running_stats=True)\n",
       "      (2): SiLU(inplace=True)\n",
       "    )\n",
       "  )\n",
       "  (avgpool): AdaptiveAvgPool2d(output_size=1)\n",
       "  (classifier): Sequential(\n",
       "    (0): Dropout(p=0.2, inplace=True)\n",
       "    (1): Linear(in_features=1280, out_features=1000, bias=True)\n",
       "  )\n",
       ")"
      ]
     },
     "execution_count": 21,
     "metadata": {},
     "output_type": "execute_result"
    }
   ],
   "source": [
    "import torchvision\n",
    "\n",
    "# Create an EfficientNetB0 model\n",
    "efficiennet_b0_weights = torchvision.models.EfficientNet_B0_Weights.DEFAULT\n",
    "efficiennet_b0 = torchvision.models.efficientnet_b0(weights=efficiennet_b0_weights).to(device)\n",
    "\n",
    "efficiennet_b0"
   ]
  },
  {
   "cell_type": "code",
   "execution_count": 22,
   "metadata": {},
   "outputs": [
    {
     "data": {
      "text/plain": [
       "=========================================================================================================================================================================================\n",
       "Layer (type (var_name))                                      Input Shape               Output Shape              Param #                   Kernel Shape              Mult-Adds\n",
       "=========================================================================================================================================================================================\n",
       "EfficientNet (EfficientNet)                                  [32, 3, 224, 224]         [32, 1000]                --                        --                        --\n",
       "├─Sequential (features)                                      [32, 3, 224, 224]         [32, 1280, 7, 7]          --                        --                        --\n",
       "│    └─Conv2dNormActivation (0)                              [32, 3, 224, 224]         [32, 32, 112, 112]        --                        --                        --\n",
       "│    │    └─Conv2d (0)                                       [32, 3, 224, 224]         [32, 32, 112, 112]        864                       [3, 3]                    346,816,512\n",
       "│    │    └─BatchNorm2d (1)                                  [32, 32, 112, 112]        [32, 32, 112, 112]        64                        --                        2,048\n",
       "│    │    └─SiLU (2)                                         [32, 32, 112, 112]        [32, 32, 112, 112]        --                        --                        --\n",
       "│    └─Sequential (1)                                        [32, 32, 112, 112]        [32, 16, 112, 112]        --                        --                        --\n",
       "│    │    └─MBConv (0)                                       [32, 32, 112, 112]        [32, 16, 112, 112]        --                        --                        --\n",
       "│    │    │    └─Sequential (block)                          [32, 32, 112, 112]        [32, 16, 112, 112]        --                        --                        --\n",
       "│    │    │    │    └─Conv2dNormActivation (0)               [32, 32, 112, 112]        [32, 32, 112, 112]        352                       --                        115,607,552\n",
       "│    │    │    │    └─SqueezeExcitation (1)                  [32, 32, 112, 112]        [32, 32, 112, 112]        552                       --                        17,664\n",
       "│    │    │    │    └─Conv2dNormActivation (2)               [32, 32, 112, 112]        [32, 16, 112, 112]        544                       --                        205,521,920\n",
       "│    └─Sequential (2)                                        [32, 16, 112, 112]        [32, 24, 56, 56]          --                        --                        --\n",
       "│    │    └─MBConv (0)                                       [32, 16, 112, 112]        [32, 24, 56, 56]          --                        --                        --\n",
       "│    │    │    └─Sequential (block)                          [32, 16, 112, 112]        [32, 24, 56, 56]          --                        --                        --\n",
       "│    │    │    │    └─Conv2dNormActivation (0)               [32, 16, 112, 112]        [32, 96, 112, 112]        1,728                     --                        616,568,832\n",
       "│    │    │    │    └─Conv2dNormActivation (1)               [32, 96, 112, 112]        [32, 96, 56, 56]          1,056                     --                        86,710,272\n",
       "│    │    │    │    └─SqueezeExcitation (2)                  [32, 96, 56, 56]          [32, 96, 56, 56]          868                       --                        27,776\n",
       "│    │    │    │    └─Conv2dNormActivation (3)               [32, 96, 56, 56]          [32, 24, 56, 56]          2,352                     --                        231,212,544\n",
       "│    │    └─MBConv (1)                                       [32, 24, 56, 56]          [32, 24, 56, 56]          --                        --                        --\n",
       "│    │    │    └─Sequential (block)                          [32, 24, 56, 56]          [32, 24, 56, 56]          --                        --                        --\n",
       "│    │    │    │    └─Conv2dNormActivation (0)               [32, 24, 56, 56]          [32, 144, 56, 56]         3,744                     --                        346,825,728\n",
       "│    │    │    │    └─Conv2dNormActivation (1)               [32, 144, 56, 56]         [32, 144, 56, 56]         1,584                     --                        130,065,408\n",
       "│    │    │    │    └─SqueezeExcitation (2)                  [32, 144, 56, 56]         [32, 144, 56, 56]         1,878                     --                        60,096\n",
       "│    │    │    │    └─Conv2dNormActivation (3)               [32, 144, 56, 56]         [32, 24, 56, 56]          3,504                     --                        346,818,048\n",
       "│    │    │    └─StochasticDepth (stochastic_depth)          [32, 24, 56, 56]          [32, 24, 56, 56]          --                        --                        --\n",
       "│    └─Sequential (3)                                        [32, 24, 56, 56]          [32, 40, 28, 28]          --                        --                        --\n",
       "│    │    └─MBConv (0)                                       [32, 24, 56, 56]          [32, 40, 28, 28]          --                        --                        --\n",
       "│    │    │    └─Sequential (block)                          [32, 24, 56, 56]          [32, 40, 28, 28]          --                        --                        --\n",
       "│    │    │    │    └─Conv2dNormActivation (0)               [32, 24, 56, 56]          [32, 144, 56, 56]         3,744                     --                        346,825,728\n",
       "│    │    │    │    └─Conv2dNormActivation (1)               [32, 144, 56, 56]         [32, 144, 28, 28]         3,888                     --                        90,326,016\n",
       "│    │    │    │    └─SqueezeExcitation (2)                  [32, 144, 28, 28]         [32, 144, 28, 28]         1,878                     --                        60,096\n",
       "│    │    │    │    └─Conv2dNormActivation (3)               [32, 144, 28, 28]         [32, 40, 28, 28]          5,840                     --                        144,509,440\n",
       "│    │    └─MBConv (1)                                       [32, 40, 28, 28]          [32, 40, 28, 28]          --                        --                        --\n",
       "│    │    │    └─Sequential (block)                          [32, 40, 28, 28]          [32, 40, 28, 28]          --                        --                        --\n",
       "│    │    │    │    └─Conv2dNormActivation (0)               [32, 40, 28, 28]          [32, 240, 28, 28]         10,080                    --                        240,860,160\n",
       "│    │    │    │    └─Conv2dNormActivation (1)               [32, 240, 28, 28]         [32, 240, 28, 28]         6,480                     --                        150,543,360\n",
       "│    │    │    │    └─SqueezeExcitation (2)                  [32, 240, 28, 28]         [32, 240, 28, 28]         5,050                     --                        161,600\n",
       "│    │    │    │    └─Conv2dNormActivation (3)               [32, 240, 28, 28]         [32, 40, 28, 28]          9,680                     --                        240,847,360\n",
       "│    │    │    └─StochasticDepth (stochastic_depth)          [32, 40, 28, 28]          [32, 40, 28, 28]          --                        --                        --\n",
       "│    └─Sequential (4)                                        [32, 40, 28, 28]          [32, 80, 14, 14]          --                        --                        --\n",
       "│    │    └─MBConv (0)                                       [32, 40, 28, 28]          [32, 80, 14, 14]          --                        --                        --\n",
       "│    │    │    └─Sequential (block)                          [32, 40, 28, 28]          [32, 80, 14, 14]          --                        --                        --\n",
       "│    │    │    │    └─Conv2dNormActivation (0)               [32, 40, 28, 28]          [32, 240, 28, 28]         10,080                    --                        240,860,160\n",
       "│    │    │    │    └─Conv2dNormActivation (1)               [32, 240, 28, 28]         [32, 240, 14, 14]         2,640                     --                        13,562,880\n",
       "│    │    │    │    └─SqueezeExcitation (2)                  [32, 240, 14, 14]         [32, 240, 14, 14]         5,050                     --                        161,600\n",
       "│    │    │    │    └─Conv2dNormActivation (3)               [32, 240, 14, 14]         [32, 80, 14, 14]          19,360                    --                        120,427,520\n",
       "│    │    └─MBConv (1)                                       [32, 80, 14, 14]          [32, 80, 14, 14]          --                        --                        --\n",
       "│    │    │    └─Sequential (block)                          [32, 80, 14, 14]          [32, 80, 14, 14]          --                        --                        --\n",
       "│    │    │    │    └─Conv2dNormActivation (0)               [32, 80, 14, 14]          [32, 480, 14, 14]         39,360                    --                        240,875,520\n",
       "│    │    │    │    └─Conv2dNormActivation (1)               [32, 480, 14, 14]         [32, 480, 14, 14]         5,280                     --                        27,125,760\n",
       "│    │    │    │    └─SqueezeExcitation (2)                  [32, 480, 14, 14]         [32, 480, 14, 14]         19,700                    --                        630,400\n",
       "│    │    │    │    └─Conv2dNormActivation (3)               [32, 480, 14, 14]         [32, 80, 14, 14]          38,560                    --                        240,849,920\n",
       "│    │    │    └─StochasticDepth (stochastic_depth)          [32, 80, 14, 14]          [32, 80, 14, 14]          --                        --                        --\n",
       "│    │    └─MBConv (2)                                       [32, 80, 14, 14]          [32, 80, 14, 14]          --                        --                        --\n",
       "│    │    │    └─Sequential (block)                          [32, 80, 14, 14]          [32, 80, 14, 14]          --                        --                        --\n",
       "│    │    │    │    └─Conv2dNormActivation (0)               [32, 80, 14, 14]          [32, 480, 14, 14]         39,360                    --                        240,875,520\n",
       "│    │    │    │    └─Conv2dNormActivation (1)               [32, 480, 14, 14]         [32, 480, 14, 14]         5,280                     --                        27,125,760\n",
       "│    │    │    │    └─SqueezeExcitation (2)                  [32, 480, 14, 14]         [32, 480, 14, 14]         19,700                    --                        630,400\n",
       "│    │    │    │    └─Conv2dNormActivation (3)               [32, 480, 14, 14]         [32, 80, 14, 14]          38,560                    --                        240,849,920\n",
       "│    │    │    └─StochasticDepth (stochastic_depth)          [32, 80, 14, 14]          [32, 80, 14, 14]          --                        --                        --\n",
       "│    └─Sequential (5)                                        [32, 80, 14, 14]          [32, 112, 14, 14]         --                        --                        --\n",
       "│    │    └─MBConv (0)                                       [32, 80, 14, 14]          [32, 112, 14, 14]         --                        --                        --\n",
       "│    │    │    └─Sequential (block)                          [32, 80, 14, 14]          [32, 112, 14, 14]         --                        --                        --\n",
       "│    │    │    │    └─Conv2dNormActivation (0)               [32, 80, 14, 14]          [32, 480, 14, 14]         39,360                    --                        240,875,520\n",
       "│    │    │    │    └─Conv2dNormActivation (1)               [32, 480, 14, 14]         [32, 480, 14, 14]         12,960                    --                        75,294,720\n",
       "│    │    │    │    └─SqueezeExcitation (2)                  [32, 480, 14, 14]         [32, 480, 14, 14]         19,700                    --                        630,400\n",
       "│    │    │    │    └─Conv2dNormActivation (3)               [32, 480, 14, 14]         [32, 112, 14, 14]         53,984                    --                        337,189,888\n",
       "│    │    └─MBConv (1)                                       [32, 112, 14, 14]         [32, 112, 14, 14]         --                        --                        --\n",
       "│    │    │    └─Sequential (block)                          [32, 112, 14, 14]         [32, 112, 14, 14]         --                        --                        --\n",
       "│    │    │    │    └─Conv2dNormActivation (0)               [32, 112, 14, 14]         [32, 672, 14, 14]         76,608                    --                        472,098,816\n",
       "│    │    │    │    └─Conv2dNormActivation (1)               [32, 672, 14, 14]         [32, 672, 14, 14]         18,144                    --                        105,412,608\n",
       "│    │    │    │    └─SqueezeExcitation (2)                  [32, 672, 14, 14]         [32, 672, 14, 14]         38,332                    --                        1,226,624\n",
       "│    │    │    │    └─Conv2dNormActivation (3)               [32, 672, 14, 14]         [32, 112, 14, 14]         75,488                    --                        472,062,976\n",
       "│    │    │    └─StochasticDepth (stochastic_depth)          [32, 112, 14, 14]         [32, 112, 14, 14]         --                        --                        --\n",
       "│    │    └─MBConv (2)                                       [32, 112, 14, 14]         [32, 112, 14, 14]         --                        --                        --\n",
       "│    │    │    └─Sequential (block)                          [32, 112, 14, 14]         [32, 112, 14, 14]         --                        --                        --\n",
       "│    │    │    │    └─Conv2dNormActivation (0)               [32, 112, 14, 14]         [32, 672, 14, 14]         76,608                    --                        472,098,816\n",
       "│    │    │    │    └─Conv2dNormActivation (1)               [32, 672, 14, 14]         [32, 672, 14, 14]         18,144                    --                        105,412,608\n",
       "│    │    │    │    └─SqueezeExcitation (2)                  [32, 672, 14, 14]         [32, 672, 14, 14]         38,332                    --                        1,226,624\n",
       "│    │    │    │    └─Conv2dNormActivation (3)               [32, 672, 14, 14]         [32, 112, 14, 14]         75,488                    --                        472,062,976\n",
       "│    │    │    └─StochasticDepth (stochastic_depth)          [32, 112, 14, 14]         [32, 112, 14, 14]         --                        --                        --\n",
       "│    └─Sequential (6)                                        [32, 112, 14, 14]         [32, 192, 7, 7]           --                        --                        --\n",
       "│    │    └─MBConv (0)                                       [32, 112, 14, 14]         [32, 192, 7, 7]           --                        --                        --\n",
       "│    │    │    └─Sequential (block)                          [32, 112, 14, 14]         [32, 192, 7, 7]           --                        --                        --\n",
       "│    │    │    │    └─Conv2dNormActivation (0)               [32, 112, 14, 14]         [32, 672, 14, 14]         76,608                    --                        472,098,816\n",
       "│    │    │    │    └─Conv2dNormActivation (1)               [32, 672, 14, 14]         [32, 672, 7, 7]           18,144                    --                        26,385,408\n",
       "│    │    │    │    └─SqueezeExcitation (2)                  [32, 672, 7, 7]           [32, 672, 7, 7]           38,332                    --                        1,226,624\n",
       "│    │    │    │    └─Conv2dNormActivation (3)               [32, 672, 7, 7]           [32, 192, 7, 7]           129,408                   --                        202,321,920\n",
       "│    │    └─MBConv (1)                                       [32, 192, 7, 7]           [32, 192, 7, 7]           --                        --                        --\n",
       "│    │    │    └─Sequential (block)                          [32, 192, 7, 7]           [32, 192, 7, 7]           --                        --                        --\n",
       "│    │    │    │    └─Conv2dNormActivation (0)               [32, 192, 7, 7]           [32, 1152, 7, 7]          223,488                   --                        346,890,240\n",
       "│    │    │    │    └─Conv2dNormActivation (1)               [32, 1152, 7, 7]          [32, 1152, 7, 7]          31,104                    --                        45,232,128\n",
       "│    │    │    │    └─SqueezeExcitation (2)                  [32, 1152, 7, 7]          [32, 1152, 7, 7]          111,792                   --                        3,577,344\n",
       "│    │    │    │    └─Conv2dNormActivation (3)               [32, 1152, 7, 7]          [32, 192, 7, 7]           221,568                   --                        346,828,800\n",
       "│    │    │    └─StochasticDepth (stochastic_depth)          [32, 192, 7, 7]           [32, 192, 7, 7]           --                        --                        --\n",
       "│    │    └─MBConv (2)                                       [32, 192, 7, 7]           [32, 192, 7, 7]           --                        --                        --\n",
       "│    │    │    └─Sequential (block)                          [32, 192, 7, 7]           [32, 192, 7, 7]           --                        --                        --\n",
       "│    │    │    │    └─Conv2dNormActivation (0)               [32, 192, 7, 7]           [32, 1152, 7, 7]          223,488                   --                        346,890,240\n",
       "│    │    │    │    └─Conv2dNormActivation (1)               [32, 1152, 7, 7]          [32, 1152, 7, 7]          31,104                    --                        45,232,128\n",
       "│    │    │    │    └─SqueezeExcitation (2)                  [32, 1152, 7, 7]          [32, 1152, 7, 7]          111,792                   --                        3,577,344\n",
       "│    │    │    │    └─Conv2dNormActivation (3)               [32, 1152, 7, 7]          [32, 192, 7, 7]           221,568                   --                        346,828,800\n",
       "│    │    │    └─StochasticDepth (stochastic_depth)          [32, 192, 7, 7]           [32, 192, 7, 7]           --                        --                        --\n",
       "│    │    └─MBConv (3)                                       [32, 192, 7, 7]           [32, 192, 7, 7]           --                        --                        --\n",
       "│    │    │    └─Sequential (block)                          [32, 192, 7, 7]           [32, 192, 7, 7]           --                        --                        --\n",
       "│    │    │    │    └─Conv2dNormActivation (0)               [32, 192, 7, 7]           [32, 1152, 7, 7]          223,488                   --                        346,890,240\n",
       "│    │    │    │    └─Conv2dNormActivation (1)               [32, 1152, 7, 7]          [32, 1152, 7, 7]          31,104                    --                        45,232,128\n",
       "│    │    │    │    └─SqueezeExcitation (2)                  [32, 1152, 7, 7]          [32, 1152, 7, 7]          111,792                   --                        3,577,344\n",
       "│    │    │    │    └─Conv2dNormActivation (3)               [32, 1152, 7, 7]          [32, 192, 7, 7]           221,568                   --                        346,828,800\n",
       "│    │    │    └─StochasticDepth (stochastic_depth)          [32, 192, 7, 7]           [32, 192, 7, 7]           --                        --                        --\n",
       "│    └─Sequential (7)                                        [32, 192, 7, 7]           [32, 320, 7, 7]           --                        --                        --\n",
       "│    │    └─MBConv (0)                                       [32, 192, 7, 7]           [32, 320, 7, 7]           --                        --                        --\n",
       "│    │    │    └─Sequential (block)                          [32, 192, 7, 7]           [32, 320, 7, 7]           --                        --                        --\n",
       "│    │    │    │    └─Conv2dNormActivation (0)               [32, 192, 7, 7]           [32, 1152, 7, 7]          223,488                   --                        346,890,240\n",
       "│    │    │    │    └─Conv2dNormActivation (1)               [32, 1152, 7, 7]          [32, 1152, 7, 7]          12,672                    --                        16,330,752\n",
       "│    │    │    │    └─SqueezeExcitation (2)                  [32, 1152, 7, 7]          [32, 1152, 7, 7]          111,792                   --                        3,577,344\n",
       "│    │    │    │    └─Conv2dNormActivation (3)               [32, 1152, 7, 7]          [32, 320, 7, 7]           369,280                   --                        578,048,000\n",
       "│    └─Conv2dNormActivation (8)                              [32, 320, 7, 7]           [32, 1280, 7, 7]          --                        --                        --\n",
       "│    │    └─Conv2d (0)                                       [32, 320, 7, 7]           [32, 1280, 7, 7]          409,600                   [1, 1]                    642,252,800\n",
       "│    │    └─BatchNorm2d (1)                                  [32, 1280, 7, 7]          [32, 1280, 7, 7]          2,560                     --                        81,920\n",
       "│    │    └─SiLU (2)                                         [32, 1280, 7, 7]          [32, 1280, 7, 7]          --                        --                        --\n",
       "├─AdaptiveAvgPool2d (avgpool)                                [32, 1280, 7, 7]          [32, 1280, 1, 1]          --                        --                        --\n",
       "├─Sequential (classifier)                                    [32, 1280]                [32, 1000]                --                        --                        --\n",
       "│    └─Dropout (0)                                           [32, 1280]                [32, 1280]                --                        --                        --\n",
       "│    └─Linear (1)                                            [32, 1280]                [32, 1000]                1,281,000                 --                        40,992,000\n",
       "=========================================================================================================================================================================================\n",
       "Total params: 5,288,548\n",
       "Trainable params: 5,288,548\n",
       "Non-trainable params: 0\n",
       "Total mult-adds (Units.GIGABYTES): 12.35\n",
       "=========================================================================================================================================================================================\n",
       "Input size (MB): 19.27\n",
       "Forward/backward pass size (MB): 3452.35\n",
       "Params size (MB): 21.15\n",
       "Estimated Total Size (MB): 3492.77\n",
       "========================================================================================================================================================================================="
      ]
     },
     "execution_count": 22,
     "metadata": {},
     "output_type": "execute_result"
    }
   ],
   "source": [
    "# Get the summary of the model\n",
    "from torchinfo import summary\n",
    "\n",
    "summary(efficiennet_b0, \n",
    "        input_size=(32, 3, 224, 224), \n",
    "        col_names=[\"input_size\", \"output_size\", \"num_params\", \"kernel_size\", \"mult_adds\"], \n",
    "        row_settings=[\"var_names\"],\n",
    "        depth=5)"
   ]
  },
  {
   "cell_type": "code",
   "execution_count": 28,
   "metadata": {},
   "outputs": [],
   "source": [
    "from torch import nn\n",
    "import torchvision\n",
    "OUT_FEATURES = len(class_names_10_percent)\n",
    "\n",
    "def create_effnetb0():\n",
    "    \"\"\"Create an EfficientNetB0 model with a custom classifier.\n",
    "\n",
    "    Returns:\n",
    "        torch.Model: A model with a custom classifier.\n",
    "    \"\"\"\n",
    "    # Get the weights for the model\n",
    "    weights = torchvision.models.EfficientNet_B0_Weights.DEFAULT\n",
    "    model = torchvision.models.efficientnet_b0(weights=weights).to(device)\n",
    "\n",
    "    # Freeze the model parameters (so the pretrained weights aren't updated during training)\n",
    "    for param in model.features.parameters():\n",
    "        param.requires_grad = False\n",
    "\n",
    "    # Change the classifier to have the same number of features as the number of classes in the data\n",
    "    in_features = model.classifier[1].in_features  # Access the in_features from the original classifier\n",
    "    model.classifier = nn.Sequential(\n",
    "        nn.Dropout(p=0.2, inplace=True),\n",
    "        nn.Linear(in_features=in_features, out_features=OUT_FEATURES)\n",
    "    ).to(device)\n",
    "\n",
    "    # Give the model a name\n",
    "    model_name = \"efficientnet_b0\"\n",
    "    print(f\"Created {model_name} model with {OUT_FEATURES} output features.\")\n",
    "    return model"
   ]
  },
  {
   "cell_type": "code",
   "execution_count": 30,
   "metadata": {},
   "outputs": [],
   "source": [
    "from torch import nn\n",
    "import torchvision\n",
    "OUT_FEATURES = len(class_names_10_percent)\n",
    "\n",
    "def create_effnetb3():\n",
    "    \"\"\"Create an EfficientNetB3 model with a custom classifier.\n",
    "\n",
    "    Returns:\n",
    "        torch.Model: A model with a custom classifier.\n",
    "    \"\"\"\n",
    "    # Get the weights for the model\n",
    "    weights = torchvision.models.EfficientNet_B3_Weights.DEFAULT\n",
    "    model = torchvision.models.efficientnet_b3(weights=weights).to(device)\n",
    "\n",
    "    # Freeze the model parameters (so the pretrained weights aren't updated during training)\n",
    "    for param in model.features.parameters():\n",
    "        param.requires_grad = False\n",
    "\n",
    "    # Change the classifier to have the same number of features as the number of classes in the data\n",
    "    in_features = model.classifier[1].in_features  # Access the in_features from the original classifier\n",
    "    model.classifier = nn.Sequential(\n",
    "        nn.Dropout(p=0.2, inplace=True),\n",
    "        nn.Linear(in_features=in_features, out_features=OUT_FEATURES)\n",
    "    ).to(device)\n",
    "\n",
    "    # Give the model a name\n",
    "    model_name = \"efficientnet_b3\"\n",
    "    print(f\"Created {model_name} model with {OUT_FEATURES} output features.\")\n",
    "    return model"
   ]
  },
  {
   "cell_type": "code",
   "execution_count": 31,
   "metadata": {},
   "outputs": [
    {
     "name": "stdout",
     "output_type": "stream",
     "text": [
      "Created efficientnet_b0 model with 3 output features.\n",
      "Created efficientnet_b3 model with 3 output features.\n"
     ]
    }
   ],
   "source": [
    "effnet_b0 = create_effnetb0()\n",
    "\n",
    "effnet_b3 = create_effnetb3()\n",
    "\n"
   ]
  },
  {
   "cell_type": "code",
   "execution_count": 32,
   "metadata": {},
   "outputs": [
    {
     "data": {
      "text/plain": [
       "=========================================================================================================================================================================================\n",
       "Layer (type (var_name))                                      Input Shape               Output Shape              Param #                   Kernel Shape              Mult-Adds\n",
       "=========================================================================================================================================================================================\n",
       "EfficientNet (EfficientNet)                                  [32, 3, 224, 224]         [32, 3]                   --                        --                        --\n",
       "├─Sequential (features)                                      [32, 3, 224, 224]         [32, 1280, 7, 7]          --                        --                        --\n",
       "│    └─Conv2dNormActivation (0)                              [32, 3, 224, 224]         [32, 32, 112, 112]        --                        --                        --\n",
       "│    │    └─Conv2d (0)                                       [32, 3, 224, 224]         [32, 32, 112, 112]        (864)                     [3, 3]                    346,816,512\n",
       "│    │    └─BatchNorm2d (1)                                  [32, 32, 112, 112]        [32, 32, 112, 112]        (64)                      --                        2,048\n",
       "│    │    └─SiLU (2)                                         [32, 32, 112, 112]        [32, 32, 112, 112]        --                        --                        --\n",
       "│    └─Sequential (1)                                        [32, 32, 112, 112]        [32, 16, 112, 112]        --                        --                        --\n",
       "│    │    └─MBConv (0)                                       [32, 32, 112, 112]        [32, 16, 112, 112]        --                        --                        --\n",
       "│    │    │    └─Sequential (block)                          [32, 32, 112, 112]        [32, 16, 112, 112]        --                        --                        --\n",
       "│    │    │    │    └─Conv2dNormActivation (0)               [32, 32, 112, 112]        [32, 32, 112, 112]        (352)                     --                        115,607,552\n",
       "│    │    │    │    └─SqueezeExcitation (1)                  [32, 32, 112, 112]        [32, 32, 112, 112]        (552)                     --                        17,664\n",
       "│    │    │    │    └─Conv2dNormActivation (2)               [32, 32, 112, 112]        [32, 16, 112, 112]        (544)                     --                        205,521,920\n",
       "│    └─Sequential (2)                                        [32, 16, 112, 112]        [32, 24, 56, 56]          --                        --                        --\n",
       "│    │    └─MBConv (0)                                       [32, 16, 112, 112]        [32, 24, 56, 56]          --                        --                        --\n",
       "│    │    │    └─Sequential (block)                          [32, 16, 112, 112]        [32, 24, 56, 56]          --                        --                        --\n",
       "│    │    │    │    └─Conv2dNormActivation (0)               [32, 16, 112, 112]        [32, 96, 112, 112]        (1,728)                   --                        616,568,832\n",
       "│    │    │    │    └─Conv2dNormActivation (1)               [32, 96, 112, 112]        [32, 96, 56, 56]          (1,056)                   --                        86,710,272\n",
       "│    │    │    │    └─SqueezeExcitation (2)                  [32, 96, 56, 56]          [32, 96, 56, 56]          (868)                     --                        27,776\n",
       "│    │    │    │    └─Conv2dNormActivation (3)               [32, 96, 56, 56]          [32, 24, 56, 56]          (2,352)                   --                        231,212,544\n",
       "│    │    └─MBConv (1)                                       [32, 24, 56, 56]          [32, 24, 56, 56]          --                        --                        --\n",
       "│    │    │    └─Sequential (block)                          [32, 24, 56, 56]          [32, 24, 56, 56]          --                        --                        --\n",
       "│    │    │    │    └─Conv2dNormActivation (0)               [32, 24, 56, 56]          [32, 144, 56, 56]         (3,744)                   --                        346,825,728\n",
       "│    │    │    │    └─Conv2dNormActivation (1)               [32, 144, 56, 56]         [32, 144, 56, 56]         (1,584)                   --                        130,065,408\n",
       "│    │    │    │    └─SqueezeExcitation (2)                  [32, 144, 56, 56]         [32, 144, 56, 56]         (1,878)                   --                        60,096\n",
       "│    │    │    │    └─Conv2dNormActivation (3)               [32, 144, 56, 56]         [32, 24, 56, 56]          (3,504)                   --                        346,818,048\n",
       "│    │    │    └─StochasticDepth (stochastic_depth)          [32, 24, 56, 56]          [32, 24, 56, 56]          --                        --                        --\n",
       "│    └─Sequential (3)                                        [32, 24, 56, 56]          [32, 40, 28, 28]          --                        --                        --\n",
       "│    │    └─MBConv (0)                                       [32, 24, 56, 56]          [32, 40, 28, 28]          --                        --                        --\n",
       "│    │    │    └─Sequential (block)                          [32, 24, 56, 56]          [32, 40, 28, 28]          --                        --                        --\n",
       "│    │    │    │    └─Conv2dNormActivation (0)               [32, 24, 56, 56]          [32, 144, 56, 56]         (3,744)                   --                        346,825,728\n",
       "│    │    │    │    └─Conv2dNormActivation (1)               [32, 144, 56, 56]         [32, 144, 28, 28]         (3,888)                   --                        90,326,016\n",
       "│    │    │    │    └─SqueezeExcitation (2)                  [32, 144, 28, 28]         [32, 144, 28, 28]         (1,878)                   --                        60,096\n",
       "│    │    │    │    └─Conv2dNormActivation (3)               [32, 144, 28, 28]         [32, 40, 28, 28]          (5,840)                   --                        144,509,440\n",
       "│    │    └─MBConv (1)                                       [32, 40, 28, 28]          [32, 40, 28, 28]          --                        --                        --\n",
       "│    │    │    └─Sequential (block)                          [32, 40, 28, 28]          [32, 40, 28, 28]          --                        --                        --\n",
       "│    │    │    │    └─Conv2dNormActivation (0)               [32, 40, 28, 28]          [32, 240, 28, 28]         (10,080)                  --                        240,860,160\n",
       "│    │    │    │    └─Conv2dNormActivation (1)               [32, 240, 28, 28]         [32, 240, 28, 28]         (6,480)                   --                        150,543,360\n",
       "│    │    │    │    └─SqueezeExcitation (2)                  [32, 240, 28, 28]         [32, 240, 28, 28]         (5,050)                   --                        161,600\n",
       "│    │    │    │    └─Conv2dNormActivation (3)               [32, 240, 28, 28]         [32, 40, 28, 28]          (9,680)                   --                        240,847,360\n",
       "│    │    │    └─StochasticDepth (stochastic_depth)          [32, 40, 28, 28]          [32, 40, 28, 28]          --                        --                        --\n",
       "│    └─Sequential (4)                                        [32, 40, 28, 28]          [32, 80, 14, 14]          --                        --                        --\n",
       "│    │    └─MBConv (0)                                       [32, 40, 28, 28]          [32, 80, 14, 14]          --                        --                        --\n",
       "│    │    │    └─Sequential (block)                          [32, 40, 28, 28]          [32, 80, 14, 14]          --                        --                        --\n",
       "│    │    │    │    └─Conv2dNormActivation (0)               [32, 40, 28, 28]          [32, 240, 28, 28]         (10,080)                  --                        240,860,160\n",
       "│    │    │    │    └─Conv2dNormActivation (1)               [32, 240, 28, 28]         [32, 240, 14, 14]         (2,640)                   --                        13,562,880\n",
       "│    │    │    │    └─SqueezeExcitation (2)                  [32, 240, 14, 14]         [32, 240, 14, 14]         (5,050)                   --                        161,600\n",
       "│    │    │    │    └─Conv2dNormActivation (3)               [32, 240, 14, 14]         [32, 80, 14, 14]          (19,360)                  --                        120,427,520\n",
       "│    │    └─MBConv (1)                                       [32, 80, 14, 14]          [32, 80, 14, 14]          --                        --                        --\n",
       "│    │    │    └─Sequential (block)                          [32, 80, 14, 14]          [32, 80, 14, 14]          --                        --                        --\n",
       "│    │    │    │    └─Conv2dNormActivation (0)               [32, 80, 14, 14]          [32, 480, 14, 14]         (39,360)                  --                        240,875,520\n",
       "│    │    │    │    └─Conv2dNormActivation (1)               [32, 480, 14, 14]         [32, 480, 14, 14]         (5,280)                   --                        27,125,760\n",
       "│    │    │    │    └─SqueezeExcitation (2)                  [32, 480, 14, 14]         [32, 480, 14, 14]         (19,700)                  --                        630,400\n",
       "│    │    │    │    └─Conv2dNormActivation (3)               [32, 480, 14, 14]         [32, 80, 14, 14]          (38,560)                  --                        240,849,920\n",
       "│    │    │    └─StochasticDepth (stochastic_depth)          [32, 80, 14, 14]          [32, 80, 14, 14]          --                        --                        --\n",
       "│    │    └─MBConv (2)                                       [32, 80, 14, 14]          [32, 80, 14, 14]          --                        --                        --\n",
       "│    │    │    └─Sequential (block)                          [32, 80, 14, 14]          [32, 80, 14, 14]          --                        --                        --\n",
       "│    │    │    │    └─Conv2dNormActivation (0)               [32, 80, 14, 14]          [32, 480, 14, 14]         (39,360)                  --                        240,875,520\n",
       "│    │    │    │    └─Conv2dNormActivation (1)               [32, 480, 14, 14]         [32, 480, 14, 14]         (5,280)                   --                        27,125,760\n",
       "│    │    │    │    └─SqueezeExcitation (2)                  [32, 480, 14, 14]         [32, 480, 14, 14]         (19,700)                  --                        630,400\n",
       "│    │    │    │    └─Conv2dNormActivation (3)               [32, 480, 14, 14]         [32, 80, 14, 14]          (38,560)                  --                        240,849,920\n",
       "│    │    │    └─StochasticDepth (stochastic_depth)          [32, 80, 14, 14]          [32, 80, 14, 14]          --                        --                        --\n",
       "│    └─Sequential (5)                                        [32, 80, 14, 14]          [32, 112, 14, 14]         --                        --                        --\n",
       "│    │    └─MBConv (0)                                       [32, 80, 14, 14]          [32, 112, 14, 14]         --                        --                        --\n",
       "│    │    │    └─Sequential (block)                          [32, 80, 14, 14]          [32, 112, 14, 14]         --                        --                        --\n",
       "│    │    │    │    └─Conv2dNormActivation (0)               [32, 80, 14, 14]          [32, 480, 14, 14]         (39,360)                  --                        240,875,520\n",
       "│    │    │    │    └─Conv2dNormActivation (1)               [32, 480, 14, 14]         [32, 480, 14, 14]         (12,960)                  --                        75,294,720\n",
       "│    │    │    │    └─SqueezeExcitation (2)                  [32, 480, 14, 14]         [32, 480, 14, 14]         (19,700)                  --                        630,400\n",
       "│    │    │    │    └─Conv2dNormActivation (3)               [32, 480, 14, 14]         [32, 112, 14, 14]         (53,984)                  --                        337,189,888\n",
       "│    │    └─MBConv (1)                                       [32, 112, 14, 14]         [32, 112, 14, 14]         --                        --                        --\n",
       "│    │    │    └─Sequential (block)                          [32, 112, 14, 14]         [32, 112, 14, 14]         --                        --                        --\n",
       "│    │    │    │    └─Conv2dNormActivation (0)               [32, 112, 14, 14]         [32, 672, 14, 14]         (76,608)                  --                        472,098,816\n",
       "│    │    │    │    └─Conv2dNormActivation (1)               [32, 672, 14, 14]         [32, 672, 14, 14]         (18,144)                  --                        105,412,608\n",
       "│    │    │    │    └─SqueezeExcitation (2)                  [32, 672, 14, 14]         [32, 672, 14, 14]         (38,332)                  --                        1,226,624\n",
       "│    │    │    │    └─Conv2dNormActivation (3)               [32, 672, 14, 14]         [32, 112, 14, 14]         (75,488)                  --                        472,062,976\n",
       "│    │    │    └─StochasticDepth (stochastic_depth)          [32, 112, 14, 14]         [32, 112, 14, 14]         --                        --                        --\n",
       "│    │    └─MBConv (2)                                       [32, 112, 14, 14]         [32, 112, 14, 14]         --                        --                        --\n",
       "│    │    │    └─Sequential (block)                          [32, 112, 14, 14]         [32, 112, 14, 14]         --                        --                        --\n",
       "│    │    │    │    └─Conv2dNormActivation (0)               [32, 112, 14, 14]         [32, 672, 14, 14]         (76,608)                  --                        472,098,816\n",
       "│    │    │    │    └─Conv2dNormActivation (1)               [32, 672, 14, 14]         [32, 672, 14, 14]         (18,144)                  --                        105,412,608\n",
       "│    │    │    │    └─SqueezeExcitation (2)                  [32, 672, 14, 14]         [32, 672, 14, 14]         (38,332)                  --                        1,226,624\n",
       "│    │    │    │    └─Conv2dNormActivation (3)               [32, 672, 14, 14]         [32, 112, 14, 14]         (75,488)                  --                        472,062,976\n",
       "│    │    │    └─StochasticDepth (stochastic_depth)          [32, 112, 14, 14]         [32, 112, 14, 14]         --                        --                        --\n",
       "│    └─Sequential (6)                                        [32, 112, 14, 14]         [32, 192, 7, 7]           --                        --                        --\n",
       "│    │    └─MBConv (0)                                       [32, 112, 14, 14]         [32, 192, 7, 7]           --                        --                        --\n",
       "│    │    │    └─Sequential (block)                          [32, 112, 14, 14]         [32, 192, 7, 7]           --                        --                        --\n",
       "│    │    │    │    └─Conv2dNormActivation (0)               [32, 112, 14, 14]         [32, 672, 14, 14]         (76,608)                  --                        472,098,816\n",
       "│    │    │    │    └─Conv2dNormActivation (1)               [32, 672, 14, 14]         [32, 672, 7, 7]           (18,144)                  --                        26,385,408\n",
       "│    │    │    │    └─SqueezeExcitation (2)                  [32, 672, 7, 7]           [32, 672, 7, 7]           (38,332)                  --                        1,226,624\n",
       "│    │    │    │    └─Conv2dNormActivation (3)               [32, 672, 7, 7]           [32, 192, 7, 7]           (129,408)                 --                        202,321,920\n",
       "│    │    └─MBConv (1)                                       [32, 192, 7, 7]           [32, 192, 7, 7]           --                        --                        --\n",
       "│    │    │    └─Sequential (block)                          [32, 192, 7, 7]           [32, 192, 7, 7]           --                        --                        --\n",
       "│    │    │    │    └─Conv2dNormActivation (0)               [32, 192, 7, 7]           [32, 1152, 7, 7]          (223,488)                 --                        346,890,240\n",
       "│    │    │    │    └─Conv2dNormActivation (1)               [32, 1152, 7, 7]          [32, 1152, 7, 7]          (31,104)                  --                        45,232,128\n",
       "│    │    │    │    └─SqueezeExcitation (2)                  [32, 1152, 7, 7]          [32, 1152, 7, 7]          (111,792)                 --                        3,577,344\n",
       "│    │    │    │    └─Conv2dNormActivation (3)               [32, 1152, 7, 7]          [32, 192, 7, 7]           (221,568)                 --                        346,828,800\n",
       "│    │    │    └─StochasticDepth (stochastic_depth)          [32, 192, 7, 7]           [32, 192, 7, 7]           --                        --                        --\n",
       "│    │    └─MBConv (2)                                       [32, 192, 7, 7]           [32, 192, 7, 7]           --                        --                        --\n",
       "│    │    │    └─Sequential (block)                          [32, 192, 7, 7]           [32, 192, 7, 7]           --                        --                        --\n",
       "│    │    │    │    └─Conv2dNormActivation (0)               [32, 192, 7, 7]           [32, 1152, 7, 7]          (223,488)                 --                        346,890,240\n",
       "│    │    │    │    └─Conv2dNormActivation (1)               [32, 1152, 7, 7]          [32, 1152, 7, 7]          (31,104)                  --                        45,232,128\n",
       "│    │    │    │    └─SqueezeExcitation (2)                  [32, 1152, 7, 7]          [32, 1152, 7, 7]          (111,792)                 --                        3,577,344\n",
       "│    │    │    │    └─Conv2dNormActivation (3)               [32, 1152, 7, 7]          [32, 192, 7, 7]           (221,568)                 --                        346,828,800\n",
       "│    │    │    └─StochasticDepth (stochastic_depth)          [32, 192, 7, 7]           [32, 192, 7, 7]           --                        --                        --\n",
       "│    │    └─MBConv (3)                                       [32, 192, 7, 7]           [32, 192, 7, 7]           --                        --                        --\n",
       "│    │    │    └─Sequential (block)                          [32, 192, 7, 7]           [32, 192, 7, 7]           --                        --                        --\n",
       "│    │    │    │    └─Conv2dNormActivation (0)               [32, 192, 7, 7]           [32, 1152, 7, 7]          (223,488)                 --                        346,890,240\n",
       "│    │    │    │    └─Conv2dNormActivation (1)               [32, 1152, 7, 7]          [32, 1152, 7, 7]          (31,104)                  --                        45,232,128\n",
       "│    │    │    │    └─SqueezeExcitation (2)                  [32, 1152, 7, 7]          [32, 1152, 7, 7]          (111,792)                 --                        3,577,344\n",
       "│    │    │    │    └─Conv2dNormActivation (3)               [32, 1152, 7, 7]          [32, 192, 7, 7]           (221,568)                 --                        346,828,800\n",
       "│    │    │    └─StochasticDepth (stochastic_depth)          [32, 192, 7, 7]           [32, 192, 7, 7]           --                        --                        --\n",
       "│    └─Sequential (7)                                        [32, 192, 7, 7]           [32, 320, 7, 7]           --                        --                        --\n",
       "│    │    └─MBConv (0)                                       [32, 192, 7, 7]           [32, 320, 7, 7]           --                        --                        --\n",
       "│    │    │    └─Sequential (block)                          [32, 192, 7, 7]           [32, 320, 7, 7]           --                        --                        --\n",
       "│    │    │    │    └─Conv2dNormActivation (0)               [32, 192, 7, 7]           [32, 1152, 7, 7]          (223,488)                 --                        346,890,240\n",
       "│    │    │    │    └─Conv2dNormActivation (1)               [32, 1152, 7, 7]          [32, 1152, 7, 7]          (12,672)                  --                        16,330,752\n",
       "│    │    │    │    └─SqueezeExcitation (2)                  [32, 1152, 7, 7]          [32, 1152, 7, 7]          (111,792)                 --                        3,577,344\n",
       "│    │    │    │    └─Conv2dNormActivation (3)               [32, 1152, 7, 7]          [32, 320, 7, 7]           (369,280)                 --                        578,048,000\n",
       "│    └─Conv2dNormActivation (8)                              [32, 320, 7, 7]           [32, 1280, 7, 7]          --                        --                        --\n",
       "│    │    └─Conv2d (0)                                       [32, 320, 7, 7]           [32, 1280, 7, 7]          (409,600)                 [1, 1]                    642,252,800\n",
       "│    │    └─BatchNorm2d (1)                                  [32, 1280, 7, 7]          [32, 1280, 7, 7]          (2,560)                   --                        81,920\n",
       "│    │    └─SiLU (2)                                         [32, 1280, 7, 7]          [32, 1280, 7, 7]          --                        --                        --\n",
       "├─AdaptiveAvgPool2d (avgpool)                                [32, 1280, 7, 7]          [32, 1280, 1, 1]          --                        --                        --\n",
       "├─Sequential (classifier)                                    [32, 1280]                [32, 3]                   --                        --                        --\n",
       "│    └─Dropout (0)                                           [32, 1280]                [32, 1280]                --                        --                        --\n",
       "│    └─Linear (1)                                            [32, 1280]                [32, 3]                   3,843                     --                        122,976\n",
       "=========================================================================================================================================================================================\n",
       "Total params: 4,011,391\n",
       "Trainable params: 3,843\n",
       "Non-trainable params: 4,007,548\n",
       "Total mult-adds (Units.GIGABYTES): 12.31\n",
       "=========================================================================================================================================================================================\n",
       "Input size (MB): 19.27\n",
       "Forward/backward pass size (MB): 3452.09\n",
       "Params size (MB): 16.05\n",
       "Estimated Total Size (MB): 3487.41\n",
       "========================================================================================================================================================================================="
      ]
     },
     "execution_count": 32,
     "metadata": {},
     "output_type": "execute_result"
    }
   ],
   "source": [
    "# Get the summary of the model\n",
    "from torchinfo import summary\n",
    "\n",
    "summary(effnet_b0,\n",
    "        input_size=(32, 3, 224, 224),\n",
    "        col_names=[\"input_size\", \"output_size\", \"num_params\", \"kernel_size\", \"mult_adds\"],\n",
    "        row_settings=[\"var_names\"],\n",
    "        depth=5)"
   ]
  },
  {
   "cell_type": "code",
   "execution_count": 33,
   "metadata": {},
   "outputs": [
    {
     "data": {
      "text/plain": [
       "=========================================================================================================================================================================================\n",
       "Layer (type (var_name))                                      Input Shape               Output Shape              Param #                   Kernel Shape              Mult-Adds\n",
       "=========================================================================================================================================================================================\n",
       "EfficientNet (EfficientNet)                                  [32, 3, 224, 224]         [32, 3]                   --                        --                        --\n",
       "├─Sequential (features)                                      [32, 3, 224, 224]         [32, 1536, 7, 7]          --                        --                        --\n",
       "│    └─Conv2dNormActivation (0)                              [32, 3, 224, 224]         [32, 40, 112, 112]        --                        --                        --\n",
       "│    │    └─Conv2d (0)                                       [32, 3, 224, 224]         [32, 40, 112, 112]        (1,080)                   [3, 3]                    433,520,640\n",
       "│    │    └─BatchNorm2d (1)                                  [32, 40, 112, 112]        [32, 40, 112, 112]        (80)                      --                        2,560\n",
       "│    │    └─SiLU (2)                                         [32, 40, 112, 112]        [32, 40, 112, 112]        --                        --                        --\n",
       "│    └─Sequential (1)                                        [32, 40, 112, 112]        [32, 24, 112, 112]        --                        --                        --\n",
       "│    │    └─MBConv (0)                                       [32, 40, 112, 112]        [32, 24, 112, 112]        --                        --                        --\n",
       "│    │    │    └─Sequential (block)                          [32, 40, 112, 112]        [32, 24, 112, 112]        --                        --                        --\n",
       "│    │    │    │    └─Conv2dNormActivation (0)               [32, 40, 112, 112]        [32, 40, 112, 112]        (440)                     --                        144,509,440\n",
       "│    │    │    │    └─SqueezeExcitation (1)                  [32, 40, 112, 112]        [32, 40, 112, 112]        (850)                     --                        27,200\n",
       "│    │    │    │    └─Conv2dNormActivation (2)               [32, 40, 112, 112]        [32, 24, 112, 112]        (1,008)                   --                        385,353,216\n",
       "│    │    └─MBConv (1)                                       [32, 24, 112, 112]        [32, 24, 112, 112]        --                        --                        --\n",
       "│    │    │    └─Sequential (block)                          [32, 24, 112, 112]        [32, 24, 112, 112]        --                        --                        --\n",
       "│    │    │    │    └─Conv2dNormActivation (0)               [32, 24, 112, 112]        [32, 24, 112, 112]        (264)                     --                        86,705,664\n",
       "│    │    │    │    └─SqueezeExcitation (1)                  [32, 24, 112, 112]        [32, 24, 112, 112]        (318)                     --                        10,176\n",
       "│    │    │    │    └─Conv2dNormActivation (2)               [32, 24, 112, 112]        [32, 24, 112, 112]        (624)                     --                        231,212,544\n",
       "│    │    │    └─StochasticDepth (stochastic_depth)          [32, 24, 112, 112]        [32, 24, 112, 112]        --                        --                        --\n",
       "│    └─Sequential (2)                                        [32, 24, 112, 112]        [32, 32, 56, 56]          --                        --                        --\n",
       "│    │    └─MBConv (0)                                       [32, 24, 112, 112]        [32, 32, 56, 56]          --                        --                        --\n",
       "│    │    │    └─Sequential (block)                          [32, 24, 112, 112]        [32, 32, 56, 56]          --                        --                        --\n",
       "│    │    │    │    └─Conv2dNormActivation (0)               [32, 24, 112, 112]        [32, 144, 112, 112]       (3,744)                   --                        1,387,275,264\n",
       "│    │    │    │    └─Conv2dNormActivation (1)               [32, 144, 112, 112]       [32, 144, 56, 56]         (1,584)                   --                        130,065,408\n",
       "│    │    │    │    └─SqueezeExcitation (2)                  [32, 144, 56, 56]         [32, 144, 56, 56]         (1,878)                   --                        60,096\n",
       "│    │    │    │    └─Conv2dNormActivation (3)               [32, 144, 56, 56]         [32, 32, 56, 56]          (4,672)                   --                        462,424,064\n",
       "│    │    └─MBConv (1)                                       [32, 32, 56, 56]          [32, 32, 56, 56]          --                        --                        --\n",
       "│    │    │    └─Sequential (block)                          [32, 32, 56, 56]          [32, 32, 56, 56]          --                        --                        --\n",
       "│    │    │    │    └─Conv2dNormActivation (0)               [32, 32, 56, 56]          [32, 192, 56, 56]         (6,528)                   --                        616,574,976\n",
       "│    │    │    │    └─Conv2dNormActivation (1)               [32, 192, 56, 56]         [32, 192, 56, 56]         (2,112)                   --                        173,420,544\n",
       "│    │    │    │    └─SqueezeExcitation (2)                  [32, 192, 56, 56]         [32, 192, 56, 56]         (3,272)                   --                        104,704\n",
       "│    │    │    │    └─Conv2dNormActivation (3)               [32, 192, 56, 56]         [32, 32, 56, 56]          (6,208)                   --                        616,564,736\n",
       "│    │    │    └─StochasticDepth (stochastic_depth)          [32, 32, 56, 56]          [32, 32, 56, 56]          --                        --                        --\n",
       "│    │    └─MBConv (2)                                       [32, 32, 56, 56]          [32, 32, 56, 56]          --                        --                        --\n",
       "│    │    │    └─Sequential (block)                          [32, 32, 56, 56]          [32, 32, 56, 56]          --                        --                        --\n",
       "│    │    │    │    └─Conv2dNormActivation (0)               [32, 32, 56, 56]          [32, 192, 56, 56]         (6,528)                   --                        616,574,976\n",
       "│    │    │    │    └─Conv2dNormActivation (1)               [32, 192, 56, 56]         [32, 192, 56, 56]         (2,112)                   --                        173,420,544\n",
       "│    │    │    │    └─SqueezeExcitation (2)                  [32, 192, 56, 56]         [32, 192, 56, 56]         (3,272)                   --                        104,704\n",
       "│    │    │    │    └─Conv2dNormActivation (3)               [32, 192, 56, 56]         [32, 32, 56, 56]          (6,208)                   --                        616,564,736\n",
       "│    │    │    └─StochasticDepth (stochastic_depth)          [32, 32, 56, 56]          [32, 32, 56, 56]          --                        --                        --\n",
       "│    └─Sequential (3)                                        [32, 32, 56, 56]          [32, 48, 28, 28]          --                        --                        --\n",
       "│    │    └─MBConv (0)                                       [32, 32, 56, 56]          [32, 48, 28, 28]          --                        --                        --\n",
       "│    │    │    └─Sequential (block)                          [32, 32, 56, 56]          [32, 48, 28, 28]          --                        --                        --\n",
       "│    │    │    │    └─Conv2dNormActivation (0)               [32, 32, 56, 56]          [32, 192, 56, 56]         (6,528)                   --                        616,574,976\n",
       "│    │    │    │    └─Conv2dNormActivation (1)               [32, 192, 56, 56]         [32, 192, 28, 28]         (5,184)                   --                        120,434,688\n",
       "│    │    │    │    └─SqueezeExcitation (2)                  [32, 192, 28, 28]         [32, 192, 28, 28]         (3,272)                   --                        104,704\n",
       "│    │    │    │    └─Conv2dNormActivation (3)               [32, 192, 28, 28]         [32, 48, 28, 28]          (9,312)                   --                        231,214,080\n",
       "│    │    └─MBConv (1)                                       [32, 48, 28, 28]          [32, 48, 28, 28]          --                        --                        --\n",
       "│    │    │    └─Sequential (block)                          [32, 48, 28, 28]          [32, 48, 28, 28]          --                        --                        --\n",
       "│    │    │    │    └─Conv2dNormActivation (0)               [32, 48, 28, 28]          [32, 288, 28, 28]         (14,400)                  --                        346,834,944\n",
       "│    │    │    │    └─Conv2dNormActivation (1)               [32, 288, 28, 28]         [32, 288, 28, 28]         (7,776)                   --                        180,652,032\n",
       "│    │    │    │    └─SqueezeExcitation (2)                  [32, 288, 28, 28]         [32, 288, 28, 28]         (7,212)                   --                        230,784\n",
       "│    │    │    │    └─Conv2dNormActivation (3)               [32, 288, 28, 28]         [32, 48, 28, 28]          (13,920)                  --                        346,819,584\n",
       "│    │    │    └─StochasticDepth (stochastic_depth)          [32, 48, 28, 28]          [32, 48, 28, 28]          --                        --                        --\n",
       "│    │    └─MBConv (2)                                       [32, 48, 28, 28]          [32, 48, 28, 28]          --                        --                        --\n",
       "│    │    │    └─Sequential (block)                          [32, 48, 28, 28]          [32, 48, 28, 28]          --                        --                        --\n",
       "│    │    │    │    └─Conv2dNormActivation (0)               [32, 48, 28, 28]          [32, 288, 28, 28]         (14,400)                  --                        346,834,944\n",
       "│    │    │    │    └─Conv2dNormActivation (1)               [32, 288, 28, 28]         [32, 288, 28, 28]         (7,776)                   --                        180,652,032\n",
       "│    │    │    │    └─SqueezeExcitation (2)                  [32, 288, 28, 28]         [32, 288, 28, 28]         (7,212)                   --                        230,784\n",
       "│    │    │    │    └─Conv2dNormActivation (3)               [32, 288, 28, 28]         [32, 48, 28, 28]          (13,920)                  --                        346,819,584\n",
       "│    │    │    └─StochasticDepth (stochastic_depth)          [32, 48, 28, 28]          [32, 48, 28, 28]          --                        --                        --\n",
       "│    └─Sequential (4)                                        [32, 48, 28, 28]          [32, 96, 14, 14]          --                        --                        --\n",
       "│    │    └─MBConv (0)                                       [32, 48, 28, 28]          [32, 96, 14, 14]          --                        --                        --\n",
       "│    │    │    └─Sequential (block)                          [32, 48, 28, 28]          [32, 96, 14, 14]          --                        --                        --\n",
       "│    │    │    │    └─Conv2dNormActivation (0)               [32, 48, 28, 28]          [32, 288, 28, 28]         (14,400)                  --                        346,834,944\n",
       "│    │    │    │    └─Conv2dNormActivation (1)               [32, 288, 28, 28]         [32, 288, 14, 14]         (3,168)                   --                        16,275,456\n",
       "│    │    │    │    └─SqueezeExcitation (2)                  [32, 288, 14, 14]         [32, 288, 14, 14]         (7,212)                   --                        230,784\n",
       "│    │    │    │    └─Conv2dNormActivation (3)               [32, 288, 14, 14]         [32, 96, 14, 14]          (27,840)                  --                        173,414,400\n",
       "│    │    └─MBConv (1)                                       [32, 96, 14, 14]          [32, 96, 14, 14]          --                        --                        --\n",
       "│    │    │    └─Sequential (block)                          [32, 96, 14, 14]          [32, 96, 14, 14]          --                        --                        --\n",
       "│    │    │    │    └─Conv2dNormActivation (0)               [32, 96, 14, 14]          [32, 576, 14, 14]         (56,448)                  --                        346,853,376\n",
       "│    │    │    │    └─Conv2dNormActivation (1)               [32, 576, 14, 14]         [32, 576, 14, 14]         (6,336)                   --                        32,550,912\n",
       "│    │    │    │    └─SqueezeExcitation (2)                  [32, 576, 14, 14]         [32, 576, 14, 14]         (28,248)                  --                        903,936\n",
       "│    │    │    │    └─Conv2dNormActivation (3)               [32, 576, 14, 14]         [32, 96, 14, 14]          (55,488)                  --                        346,822,656\n",
       "│    │    │    └─StochasticDepth (stochastic_depth)          [32, 96, 14, 14]          [32, 96, 14, 14]          --                        --                        --\n",
       "│    │    └─MBConv (2)                                       [32, 96, 14, 14]          [32, 96, 14, 14]          --                        --                        --\n",
       "│    │    │    └─Sequential (block)                          [32, 96, 14, 14]          [32, 96, 14, 14]          --                        --                        --\n",
       "│    │    │    │    └─Conv2dNormActivation (0)               [32, 96, 14, 14]          [32, 576, 14, 14]         (56,448)                  --                        346,853,376\n",
       "│    │    │    │    └─Conv2dNormActivation (1)               [32, 576, 14, 14]         [32, 576, 14, 14]         (6,336)                   --                        32,550,912\n",
       "│    │    │    │    └─SqueezeExcitation (2)                  [32, 576, 14, 14]         [32, 576, 14, 14]         (28,248)                  --                        903,936\n",
       "│    │    │    │    └─Conv2dNormActivation (3)               [32, 576, 14, 14]         [32, 96, 14, 14]          (55,488)                  --                        346,822,656\n",
       "│    │    │    └─StochasticDepth (stochastic_depth)          [32, 96, 14, 14]          [32, 96, 14, 14]          --                        --                        --\n",
       "│    │    └─MBConv (3)                                       [32, 96, 14, 14]          [32, 96, 14, 14]          --                        --                        --\n",
       "│    │    │    └─Sequential (block)                          [32, 96, 14, 14]          [32, 96, 14, 14]          --                        --                        --\n",
       "│    │    │    │    └─Conv2dNormActivation (0)               [32, 96, 14, 14]          [32, 576, 14, 14]         (56,448)                  --                        346,853,376\n",
       "│    │    │    │    └─Conv2dNormActivation (1)               [32, 576, 14, 14]         [32, 576, 14, 14]         (6,336)                   --                        32,550,912\n",
       "│    │    │    │    └─SqueezeExcitation (2)                  [32, 576, 14, 14]         [32, 576, 14, 14]         (28,248)                  --                        903,936\n",
       "│    │    │    │    └─Conv2dNormActivation (3)               [32, 576, 14, 14]         [32, 96, 14, 14]          (55,488)                  --                        346,822,656\n",
       "│    │    │    └─StochasticDepth (stochastic_depth)          [32, 96, 14, 14]          [32, 96, 14, 14]          --                        --                        --\n",
       "│    │    └─MBConv (4)                                       [32, 96, 14, 14]          [32, 96, 14, 14]          --                        --                        --\n",
       "│    │    │    └─Sequential (block)                          [32, 96, 14, 14]          [32, 96, 14, 14]          --                        --                        --\n",
       "│    │    │    │    └─Conv2dNormActivation (0)               [32, 96, 14, 14]          [32, 576, 14, 14]         (56,448)                  --                        346,853,376\n",
       "│    │    │    │    └─Conv2dNormActivation (1)               [32, 576, 14, 14]         [32, 576, 14, 14]         (6,336)                   --                        32,550,912\n",
       "│    │    │    │    └─SqueezeExcitation (2)                  [32, 576, 14, 14]         [32, 576, 14, 14]         (28,248)                  --                        903,936\n",
       "│    │    │    │    └─Conv2dNormActivation (3)               [32, 576, 14, 14]         [32, 96, 14, 14]          (55,488)                  --                        346,822,656\n",
       "│    │    │    └─StochasticDepth (stochastic_depth)          [32, 96, 14, 14]          [32, 96, 14, 14]          --                        --                        --\n",
       "│    └─Sequential (5)                                        [32, 96, 14, 14]          [32, 136, 14, 14]         --                        --                        --\n",
       "│    │    └─MBConv (0)                                       [32, 96, 14, 14]          [32, 136, 14, 14]         --                        --                        --\n",
       "│    │    │    └─Sequential (block)                          [32, 96, 14, 14]          [32, 136, 14, 14]         --                        --                        --\n",
       "│    │    │    │    └─Conv2dNormActivation (0)               [32, 96, 14, 14]          [32, 576, 14, 14]         (56,448)                  --                        346,853,376\n",
       "│    │    │    │    └─Conv2dNormActivation (1)               [32, 576, 14, 14]         [32, 576, 14, 14]         (15,552)                  --                        90,353,664\n",
       "│    │    │    │    └─SqueezeExcitation (2)                  [32, 576, 14, 14]         [32, 576, 14, 14]         (28,248)                  --                        903,936\n",
       "│    │    │    │    └─Conv2dNormActivation (3)               [32, 576, 14, 14]         [32, 136, 14, 14]         (78,608)                  --                        491,332,096\n",
       "│    │    └─MBConv (1)                                       [32, 136, 14, 14]         [32, 136, 14, 14]         --                        --                        --\n",
       "│    │    │    └─Sequential (block)                          [32, 136, 14, 14]         [32, 136, 14, 14]         --                        --                        --\n",
       "│    │    │    │    └─Conv2dNormActivation (0)               [32, 136, 14, 14]         [32, 816, 14, 14]         (112,608)                 --                        696,093,696\n",
       "│    │    │    │    └─Conv2dNormActivation (1)               [32, 816, 14, 14]         [32, 816, 14, 14]         (22,032)                  --                        128,001,024\n",
       "│    │    │    │    └─SqueezeExcitation (2)                  [32, 816, 14, 14]         [32, 816, 14, 14]         (56,338)                  --                        1,802,816\n",
       "│    │    │    │    └─Conv2dNormActivation (3)               [32, 816, 14, 14]         [32, 136, 14, 14]         (111,248)                 --                        696,050,176\n",
       "│    │    │    └─StochasticDepth (stochastic_depth)          [32, 136, 14, 14]         [32, 136, 14, 14]         --                        --                        --\n",
       "│    │    └─MBConv (2)                                       [32, 136, 14, 14]         [32, 136, 14, 14]         --                        --                        --\n",
       "│    │    │    └─Sequential (block)                          [32, 136, 14, 14]         [32, 136, 14, 14]         --                        --                        --\n",
       "│    │    │    │    └─Conv2dNormActivation (0)               [32, 136, 14, 14]         [32, 816, 14, 14]         (112,608)                 --                        696,093,696\n",
       "│    │    │    │    └─Conv2dNormActivation (1)               [32, 816, 14, 14]         [32, 816, 14, 14]         (22,032)                  --                        128,001,024\n",
       "│    │    │    │    └─SqueezeExcitation (2)                  [32, 816, 14, 14]         [32, 816, 14, 14]         (56,338)                  --                        1,802,816\n",
       "│    │    │    │    └─Conv2dNormActivation (3)               [32, 816, 14, 14]         [32, 136, 14, 14]         (111,248)                 --                        696,050,176\n",
       "│    │    │    └─StochasticDepth (stochastic_depth)          [32, 136, 14, 14]         [32, 136, 14, 14]         --                        --                        --\n",
       "│    │    └─MBConv (3)                                       [32, 136, 14, 14]         [32, 136, 14, 14]         --                        --                        --\n",
       "│    │    │    └─Sequential (block)                          [32, 136, 14, 14]         [32, 136, 14, 14]         --                        --                        --\n",
       "│    │    │    │    └─Conv2dNormActivation (0)               [32, 136, 14, 14]         [32, 816, 14, 14]         (112,608)                 --                        696,093,696\n",
       "│    │    │    │    └─Conv2dNormActivation (1)               [32, 816, 14, 14]         [32, 816, 14, 14]         (22,032)                  --                        128,001,024\n",
       "│    │    │    │    └─SqueezeExcitation (2)                  [32, 816, 14, 14]         [32, 816, 14, 14]         (56,338)                  --                        1,802,816\n",
       "│    │    │    │    └─Conv2dNormActivation (3)               [32, 816, 14, 14]         [32, 136, 14, 14]         (111,248)                 --                        696,050,176\n",
       "│    │    │    └─StochasticDepth (stochastic_depth)          [32, 136, 14, 14]         [32, 136, 14, 14]         --                        --                        --\n",
       "│    │    └─MBConv (4)                                       [32, 136, 14, 14]         [32, 136, 14, 14]         --                        --                        --\n",
       "│    │    │    └─Sequential (block)                          [32, 136, 14, 14]         [32, 136, 14, 14]         --                        --                        --\n",
       "│    │    │    │    └─Conv2dNormActivation (0)               [32, 136, 14, 14]         [32, 816, 14, 14]         (112,608)                 --                        696,093,696\n",
       "│    │    │    │    └─Conv2dNormActivation (1)               [32, 816, 14, 14]         [32, 816, 14, 14]         (22,032)                  --                        128,001,024\n",
       "│    │    │    │    └─SqueezeExcitation (2)                  [32, 816, 14, 14]         [32, 816, 14, 14]         (56,338)                  --                        1,802,816\n",
       "│    │    │    │    └─Conv2dNormActivation (3)               [32, 816, 14, 14]         [32, 136, 14, 14]         (111,248)                 --                        696,050,176\n",
       "│    │    │    └─StochasticDepth (stochastic_depth)          [32, 136, 14, 14]         [32, 136, 14, 14]         --                        --                        --\n",
       "│    └─Sequential (6)                                        [32, 136, 14, 14]         [32, 232, 7, 7]           --                        --                        --\n",
       "│    │    └─MBConv (0)                                       [32, 136, 14, 14]         [32, 232, 7, 7]           --                        --                        --\n",
       "│    │    │    └─Sequential (block)                          [32, 136, 14, 14]         [32, 232, 7, 7]           --                        --                        --\n",
       "│    │    │    │    └─Conv2dNormActivation (0)               [32, 136, 14, 14]         [32, 816, 14, 14]         (112,608)                 --                        696,093,696\n",
       "│    │    │    │    └─Conv2dNormActivation (1)               [32, 816, 14, 14]         [32, 816, 7, 7]           (22,032)                  --                        32,039,424\n",
       "│    │    │    │    └─SqueezeExcitation (2)                  [32, 816, 7, 7]           [32, 816, 7, 7]           (56,338)                  --                        1,802,816\n",
       "│    │    │    │    └─Conv2dNormActivation (3)               [32, 816, 7, 7]           [32, 232, 7, 7]           (189,776)                 --                        296,856,064\n",
       "│    │    └─MBConv (1)                                       [32, 232, 7, 7]           [32, 232, 7, 7]           --                        --                        --\n",
       "│    │    │    └─Sequential (block)                          [32, 232, 7, 7]           [32, 232, 7, 7]           --                        --                        --\n",
       "│    │    │    │    └─Conv2dNormActivation (0)               [32, 232, 7, 7]           [32, 1392, 7, 7]          (325,728)                 --                        506,465,280\n",
       "│    │    │    │    └─Conv2dNormActivation (1)               [32, 1392, 7, 7]          [32, 1392, 7, 7]          (37,584)                  --                        54,655,488\n",
       "│    │    │    │    └─SqueezeExcitation (2)                  [32, 1392, 7, 7]          [32, 1392, 7, 7]          (162,922)                 --                        5,213,504\n",
       "│    │    │    │    └─Conv2dNormActivation (3)               [32, 1392, 7, 7]          [32, 232, 7, 7]           (323,408)                 --                        506,391,040\n",
       "│    │    │    └─StochasticDepth (stochastic_depth)          [32, 232, 7, 7]           [32, 232, 7, 7]           --                        --                        --\n",
       "│    │    └─MBConv (2)                                       [32, 232, 7, 7]           [32, 232, 7, 7]           --                        --                        --\n",
       "│    │    │    └─Sequential (block)                          [32, 232, 7, 7]           [32, 232, 7, 7]           --                        --                        --\n",
       "│    │    │    │    └─Conv2dNormActivation (0)               [32, 232, 7, 7]           [32, 1392, 7, 7]          (325,728)                 --                        506,465,280\n",
       "│    │    │    │    └─Conv2dNormActivation (1)               [32, 1392, 7, 7]          [32, 1392, 7, 7]          (37,584)                  --                        54,655,488\n",
       "│    │    │    │    └─SqueezeExcitation (2)                  [32, 1392, 7, 7]          [32, 1392, 7, 7]          (162,922)                 --                        5,213,504\n",
       "│    │    │    │    └─Conv2dNormActivation (3)               [32, 1392, 7, 7]          [32, 232, 7, 7]           (323,408)                 --                        506,391,040\n",
       "│    │    │    └─StochasticDepth (stochastic_depth)          [32, 232, 7, 7]           [32, 232, 7, 7]           --                        --                        --\n",
       "│    │    └─MBConv (3)                                       [32, 232, 7, 7]           [32, 232, 7, 7]           --                        --                        --\n",
       "│    │    │    └─Sequential (block)                          [32, 232, 7, 7]           [32, 232, 7, 7]           --                        --                        --\n",
       "│    │    │    │    └─Conv2dNormActivation (0)               [32, 232, 7, 7]           [32, 1392, 7, 7]          (325,728)                 --                        506,465,280\n",
       "│    │    │    │    └─Conv2dNormActivation (1)               [32, 1392, 7, 7]          [32, 1392, 7, 7]          (37,584)                  --                        54,655,488\n",
       "│    │    │    │    └─SqueezeExcitation (2)                  [32, 1392, 7, 7]          [32, 1392, 7, 7]          (162,922)                 --                        5,213,504\n",
       "│    │    │    │    └─Conv2dNormActivation (3)               [32, 1392, 7, 7]          [32, 232, 7, 7]           (323,408)                 --                        506,391,040\n",
       "│    │    │    └─StochasticDepth (stochastic_depth)          [32, 232, 7, 7]           [32, 232, 7, 7]           --                        --                        --\n",
       "│    │    └─MBConv (4)                                       [32, 232, 7, 7]           [32, 232, 7, 7]           --                        --                        --\n",
       "│    │    │    └─Sequential (block)                          [32, 232, 7, 7]           [32, 232, 7, 7]           --                        --                        --\n",
       "│    │    │    │    └─Conv2dNormActivation (0)               [32, 232, 7, 7]           [32, 1392, 7, 7]          (325,728)                 --                        506,465,280\n",
       "│    │    │    │    └─Conv2dNormActivation (1)               [32, 1392, 7, 7]          [32, 1392, 7, 7]          (37,584)                  --                        54,655,488\n",
       "│    │    │    │    └─SqueezeExcitation (2)                  [32, 1392, 7, 7]          [32, 1392, 7, 7]          (162,922)                 --                        5,213,504\n",
       "│    │    │    │    └─Conv2dNormActivation (3)               [32, 1392, 7, 7]          [32, 232, 7, 7]           (323,408)                 --                        506,391,040\n",
       "│    │    │    └─StochasticDepth (stochastic_depth)          [32, 232, 7, 7]           [32, 232, 7, 7]           --                        --                        --\n",
       "│    │    └─MBConv (5)                                       [32, 232, 7, 7]           [32, 232, 7, 7]           --                        --                        --\n",
       "│    │    │    └─Sequential (block)                          [32, 232, 7, 7]           [32, 232, 7, 7]           --                        --                        --\n",
       "│    │    │    │    └─Conv2dNormActivation (0)               [32, 232, 7, 7]           [32, 1392, 7, 7]          (325,728)                 --                        506,465,280\n",
       "│    │    │    │    └─Conv2dNormActivation (1)               [32, 1392, 7, 7]          [32, 1392, 7, 7]          (37,584)                  --                        54,655,488\n",
       "│    │    │    │    └─SqueezeExcitation (2)                  [32, 1392, 7, 7]          [32, 1392, 7, 7]          (162,922)                 --                        5,213,504\n",
       "│    │    │    │    └─Conv2dNormActivation (3)               [32, 1392, 7, 7]          [32, 232, 7, 7]           (323,408)                 --                        506,391,040\n",
       "│    │    │    └─StochasticDepth (stochastic_depth)          [32, 232, 7, 7]           [32, 232, 7, 7]           --                        --                        --\n",
       "│    └─Sequential (7)                                        [32, 232, 7, 7]           [32, 384, 7, 7]           --                        --                        --\n",
       "│    │    └─MBConv (0)                                       [32, 232, 7, 7]           [32, 384, 7, 7]           --                        --                        --\n",
       "│    │    │    └─Sequential (block)                          [32, 232, 7, 7]           [32, 384, 7, 7]           --                        --                        --\n",
       "│    │    │    │    └─Conv2dNormActivation (0)               [32, 232, 7, 7]           [32, 1392, 7, 7]          (325,728)                 --                        506,465,280\n",
       "│    │    │    │    └─Conv2dNormActivation (1)               [32, 1392, 7, 7]          [32, 1392, 7, 7]          (15,312)                  --                        19,732,992\n",
       "│    │    │    │    └─SqueezeExcitation (2)                  [32, 1392, 7, 7]          [32, 1392, 7, 7]          (162,922)                 --                        5,213,504\n",
       "│    │    │    │    └─Conv2dNormActivation (3)               [32, 1392, 7, 7]          [32, 384, 7, 7]           (535,296)                 --                        838,164,480\n",
       "│    │    └─MBConv (1)                                       [32, 384, 7, 7]           [32, 384, 7, 7]           --                        --                        --\n",
       "│    │    │    └─Sequential (block)                          [32, 384, 7, 7]           [32, 384, 7, 7]           --                        --                        --\n",
       "│    │    │    │    └─Conv2dNormActivation (0)               [32, 384, 7, 7]           [32, 2304, 7, 7]          (889,344)                 --                        1,387,413,504\n",
       "│    │    │    │    └─Conv2dNormActivation (1)               [32, 2304, 7, 7]          [32, 2304, 7, 7]          (25,344)                  --                        32,661,504\n",
       "│    │    │    │    └─SqueezeExcitation (2)                  [32, 2304, 7, 7]          [32, 2304, 7, 7]          (444,768)                 --                        14,232,576\n",
       "│    │    │    │    └─Conv2dNormActivation (3)               [32, 2304, 7, 7]          [32, 384, 7, 7]           (885,504)                 --                        1,387,290,624\n",
       "│    │    │    └─StochasticDepth (stochastic_depth)          [32, 384, 7, 7]           [32, 384, 7, 7]           --                        --                        --\n",
       "│    └─Conv2dNormActivation (8)                              [32, 384, 7, 7]           [32, 1536, 7, 7]          --                        --                        --\n",
       "│    │    └─Conv2d (0)                                       [32, 384, 7, 7]           [32, 1536, 7, 7]          (589,824)                 [1, 1]                    924,844,032\n",
       "│    │    └─BatchNorm2d (1)                                  [32, 1536, 7, 7]          [32, 1536, 7, 7]          (3,072)                   --                        98,304\n",
       "│    │    └─SiLU (2)                                         [32, 1536, 7, 7]          [32, 1536, 7, 7]          --                        --                        --\n",
       "├─AdaptiveAvgPool2d (avgpool)                                [32, 1536, 7, 7]          [32, 1536, 1, 1]          --                        --                        --\n",
       "├─Sequential (classifier)                                    [32, 1536]                [32, 3]                   --                        --                        --\n",
       "│    └─Dropout (0)                                           [32, 1536]                [32, 1536]                --                        --                        --\n",
       "│    └─Linear (1)                                            [32, 1536]                [32, 3]                   4,611                     --                        147,552\n",
       "=========================================================================================================================================================================================\n",
       "Total params: 10,700,843\n",
       "Trainable params: 4,611\n",
       "Non-trainable params: 10,696,232\n",
       "Total mult-adds (Units.GIGABYTES): 30.76\n",
       "=========================================================================================================================================================================================\n",
       "Input size (MB): 19.27\n",
       "Forward/backward pass size (MB): 6654.06\n",
       "Params size (MB): 42.80\n",
       "Estimated Total Size (MB): 6716.13\n",
       "========================================================================================================================================================================================="
      ]
     },
     "execution_count": 33,
     "metadata": {},
     "output_type": "execute_result"
    }
   ],
   "source": [
    "# Get the summary of the model\n",
    "from torchinfo import summary\n",
    "\n",
    "summary(effnet_b3,\n",
    "        input_size=(32, 3, 224, 224),\n",
    "        col_names=[\"input_size\", \"output_size\", \"num_params\", \"kernel_size\", \"mult_adds\"],\n",
    "        row_settings=[\"var_names\"],\n",
    "        depth=5)"
   ]
  },
  {
   "cell_type": "markdown",
   "metadata": {},
   "source": [
    "### 7.4 Create experiements and set up training code"
   ]
  },
  {
   "cell_type": "code",
   "execution_count": 71,
   "metadata": {},
   "outputs": [],
   "source": [
    "import torch\n",
    "import torch.optim as optim"
   ]
  },
  {
   "cell_type": "code",
   "execution_count": 72,
   "metadata": {},
   "outputs": [],
   "source": [
    "# Create epoch list\n",
    "num_epochs = [5, 10]\n",
    "\n",
    "# Create a list of models\n",
    "mdoels = [\"effnet_b0\", \"effnet_b3\"]\n",
    "\n",
    "# Create a dictionnaty of data loaders\n",
    "train_data_loaders = {\"10_percent\": train_dl_10_percent,\n",
    "                      \"20_percent\": train_dl_20_percent}"
   ]
  },
  {
   "cell_type": "code",
   "execution_count": 80,
   "metadata": {},
   "outputs": [
    {
     "name": "stdout",
     "output_type": "stream",
     "text": [
      "Running experiment 0 with effnet_b0 on 10_percent data for 5 epochs.\n",
      "Saving experiment logs to: experiments/experiment_0_effnet_b0_{'10_percent': <torch.utils.data.dataloader.DataLoader object at 0x73761111b5c0>, '20_percent': <torch.utils.data.dataloader.DataLoader object at 0x737611119a90>}_2024-10-07\n",
      "Created efficientnet_b0 model with 3 output features.\n"
     ]
    },
    {
     "name": "stderr",
     "output_type": "stream",
     "text": [
      "  0%|          | 0/5 [00:00<?, ?it/s]\n"
     ]
    },
    {
     "ename": "ValueError",
     "evalue": "too many values to unpack (expected 2)",
     "output_type": "error",
     "traceback": [
      "\u001b[0;31m---------------------------------------------------------------------------\u001b[0m",
      "\u001b[0;31mValueError\u001b[0m                                Traceback (most recent call last)",
      "File \u001b[0;32m<timed exec>:29\u001b[0m\n",
      "Cell \u001b[0;32mIn[2], line 55\u001b[0m, in \u001b[0;36mtrain\u001b[0;34m(model, train_dataloader, test_dataloader, optimizer, loss_fn, epochs, device, writer)\u001b[0m\n\u001b[1;32m     53\u001b[0m \u001b[38;5;66;03m# Loop through training and testing steps for a number of epochs\u001b[39;00m\n\u001b[1;32m     54\u001b[0m \u001b[38;5;28;01mfor\u001b[39;00m epoch \u001b[38;5;129;01min\u001b[39;00m tqdm(\u001b[38;5;28mrange\u001b[39m(epochs)):\n\u001b[0;32m---> 55\u001b[0m     train_loss, train_acc \u001b[38;5;241m=\u001b[39m \u001b[43mtrain_step\u001b[49m\u001b[43m(\u001b[49m\u001b[43mmodel\u001b[49m\u001b[38;5;241;43m=\u001b[39;49m\u001b[43mmodel\u001b[49m\u001b[43m,\u001b[49m\n\u001b[1;32m     56\u001b[0m \u001b[43m                                      \u001b[49m\u001b[43mdataloader\u001b[49m\u001b[38;5;241;43m=\u001b[39;49m\u001b[43mtrain_dataloader\u001b[49m\u001b[43m,\u001b[49m\n\u001b[1;32m     57\u001b[0m \u001b[43m                                      \u001b[49m\u001b[43mloss_fn\u001b[49m\u001b[38;5;241;43m=\u001b[39;49m\u001b[43mloss_fn\u001b[49m\u001b[43m,\u001b[49m\n\u001b[1;32m     58\u001b[0m \u001b[43m                                      \u001b[49m\u001b[43moptimizer\u001b[49m\u001b[38;5;241;43m=\u001b[39;49m\u001b[43moptimizer\u001b[49m\u001b[43m,\u001b[49m\n\u001b[1;32m     59\u001b[0m \u001b[43m                                      \u001b[49m\u001b[43mdevice\u001b[49m\u001b[38;5;241;43m=\u001b[39;49m\u001b[43mdevice\u001b[49m\u001b[43m)\u001b[49m\n\u001b[1;32m     60\u001b[0m     test_loss, test_acc \u001b[38;5;241m=\u001b[39m test_step(model\u001b[38;5;241m=\u001b[39mmodel,\n\u001b[1;32m     61\u001b[0m       dataloader\u001b[38;5;241m=\u001b[39mtest_dataloader,\n\u001b[1;32m     62\u001b[0m       loss_fn\u001b[38;5;241m=\u001b[39mloss_fn,\n\u001b[1;32m     63\u001b[0m       device\u001b[38;5;241m=\u001b[39mdevice)\n\u001b[1;32m     65\u001b[0m     \u001b[38;5;66;03m# Print out what's happening\u001b[39;00m\n",
      "File \u001b[0;32m/media/etudiant/New D/PyTorchSRC/github_pytorch/PyTorch-Course/07_pytorch_experiment_tracking/going_modular/engine.py:41\u001b[0m, in \u001b[0;36mtrain_step\u001b[0;34m(model, dataloader, loss_fn, optimizer, device)\u001b[0m\n\u001b[1;32m     38\u001b[0m train_loss, train_acc \u001b[38;5;241m=\u001b[39m \u001b[38;5;241m0\u001b[39m, \u001b[38;5;241m0\u001b[39m\n\u001b[1;32m     40\u001b[0m \u001b[38;5;66;03m# Loop through data loader data batches\u001b[39;00m\n\u001b[0;32m---> 41\u001b[0m \u001b[38;5;28;01mfor\u001b[39;00m batch, (X, y) \u001b[38;5;129;01min\u001b[39;00m \u001b[38;5;28menumerate\u001b[39m(dataloader):\n\u001b[1;32m     42\u001b[0m     \u001b[38;5;66;03m# Send data to target device\u001b[39;00m\n\u001b[1;32m     43\u001b[0m     X, y \u001b[38;5;241m=\u001b[39m X\u001b[38;5;241m.\u001b[39mto(device), y\u001b[38;5;241m.\u001b[39mto(device)\n\u001b[1;32m     45\u001b[0m     \u001b[38;5;66;03m# 1. Forward pass\u001b[39;00m\n",
      "\u001b[0;31mValueError\u001b[0m: too many values to unpack (expected 2)"
     ]
    }
   ],
   "source": [
    "%%time\n",
    "\n",
    "from going_modular.utils import save_model\n",
    "from going_modular.engine import train_step, test_step \n",
    "\n",
    "\n",
    "# Keep track of the results\n",
    "experiment_number = 0\n",
    "\n",
    "# Loop through each model\n",
    "for dataloader_name, traindata_loaders in train_data_loaders.items():\n",
    "    for epoch in num_epochs:\n",
    "        for model_name in mdoels:\n",
    "            print(f\"Running experiment {experiment_number} with {model_name} on {data_loader_name} data for {epoch} epochs.\")\n",
    "            # Create a SummaryWriter\n",
    "            writer = create_writer(experiemnt_name=f\"experiment_{experiment_number}\",\n",
    "                                    model_name=model_name,\n",
    "                                    extra=data_loaders)\n",
    "\n",
    "            # Create the model\n",
    "            if model_name == \"effnet_b0\":\n",
    "                model = create_effnetb0()\n",
    "            else:\n",
    "                model = create_effnetb3()\n",
    "\n",
    "            # Define the loss function and optimizer\n",
    "            loss_fn = nn.CrossEntropyLoss()\n",
    "            optimizer = optim.Adam(model.parameters(), lr=0.001)\n",
    "\n",
    "            # Train the model\n",
    "            results = train(model=model,\n",
    "                            train_dataloader=train_data_loaders,\n",
    "                            test_dataloader=test_dl_10_percent,\n",
    "                            optimizer=optimizer,\n",
    "                            loss_fn=loss_fn,\n",
    "                            epochs=epoch,\n",
    "                            device=device,\n",
    "                            writer=writer)\n",
    "\n",
    "            # Save the model\n",
    "            save_model(model=model, \n",
    "                        model_name=model_name, \n",
    "                        experiment_number=experiment_number, \n",
    "                        extra=data_loaders)\n",
    "\n",
    "            # Print the results\n",
    "            print(results)\n",
    "\n",
    "            # Increment the experiment number\n",
    "            experiment_number += 1"
   ]
  },
  {
   "cell_type": "code",
   "execution_count": null,
   "metadata": {},
   "outputs": [],
   "source": []
  },
  {
   "cell_type": "code",
   "execution_count": null,
   "metadata": {},
   "outputs": [],
   "source": []
  },
  {
   "cell_type": "code",
   "execution_count": null,
   "metadata": {},
   "outputs": [],
   "source": []
  },
  {
   "cell_type": "code",
   "execution_count": null,
   "metadata": {},
   "outputs": [],
   "source": [
    "# Save the model\n",
    "os.makedirs(\"models\", exist_ok=True)\n",
    "torch.save(model, \"models/efficientnet_b3.pt\")"
   ]
  },
  {
   "cell_type": "code",
   "execution_count": null,
   "metadata": {},
   "outputs": [],
   "source": []
  },
  {
   "cell_type": "code",
   "execution_count": null,
   "metadata": {},
   "outputs": [],
   "source": []
  }
 ],
 "metadata": {
  "kernelspec": {
   "display_name": ".venv",
   "language": "python",
   "name": "python3"
  },
  "language_info": {
   "codemirror_mode": {
    "name": "ipython",
    "version": 3
   },
   "file_extension": ".py",
   "mimetype": "text/x-python",
   "name": "python",
   "nbconvert_exporter": "python",
   "pygments_lexer": "ipython3",
   "version": "3.12.3"
  }
 },
 "nbformat": 4,
 "nbformat_minor": 2
}
