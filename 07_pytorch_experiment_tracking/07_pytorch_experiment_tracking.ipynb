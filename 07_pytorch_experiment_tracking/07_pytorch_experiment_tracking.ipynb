{
 "cells": [
  {
   "cell_type": "markdown",
   "metadata": {},
   "source": [
    "# 07 Pytorch Experiment Tracking\n",
    "\n",
    "Machine learning is very experiment.\n",
    "\n",
    "In this lesson, we will learn how to track our experiments using Pytorch Experiment Tracking.\n",
    "\n",
    "Pytorch Experiment Tracking is a tool that helps you track your experiments and store the results in a database.\n",
    "\n",
    "This tool is very useful when you are working on a machine learning project and you want to keep track of all the experiments you have done."
   ]
  },
  {
   "cell_type": "code",
   "execution_count": 13,
   "metadata": {},
   "outputs": [
    {
     "name": "stdout",
     "output_type": "stream",
     "text": [
      "2.4.1+cu121\n",
      "0.19.1+cu121\n"
     ]
    }
   ],
   "source": [
    "import torch\n",
    "import torchvision\n",
    "\n",
    "from torchinfo import summary\n",
    "\n",
    "from tqdm.auto import tqdm\n",
    "from going_modular import data_setup, engine\n",
    "\n",
    "print(torch.__version__)\n",
    "print(torchvision.__version__)"
   ]
  },
  {
   "cell_type": "code",
   "execution_count": 14,
   "metadata": {},
   "outputs": [],
   "source": [
    "device = torch.device(\"cuda\" if torch.cuda.is_available() else \"cpu\")"
   ]
  },
  {
   "cell_type": "markdown",
   "metadata": {},
   "source": [
    "## 1. Get the data"
   ]
  },
  {
   "cell_type": "code",
   "execution_count": 15,
   "metadata": {},
   "outputs": [],
   "source": [
    "import os, zipfile\n",
    "\n",
    "from pathlib import Path\n",
    "\n",
    "import requests\n",
    "\n",
    "def download_data(source: str,\n",
    "                  destination: str,\n",
    "                  remove_source: bool = False) -> Path:\n",
    "    \"\"\"Download data from a URL and save it to a destination.\n",
    "\n",
    "    Args:\n",
    "        source (str): The URL of the data to download\n",
    "        destination (str): The destination file to save the data\n",
    "        remove_source (bool, optional): If `True`, the source file will be remove. Defaults to False.\n",
    "\n",
    "    Returns:\n",
    "        Path: The destination path of the downloaded data.\n",
    "    \"\"\"\n",
    "\n",
    "    data_path = Path(\"data/\")\n",
    "    image_path = data_path / destination\n",
    "\n",
    "    # If the image folder does not exist, create it\n",
    "    if not image_path.exists():\n",
    "        image_path.mkdir(parents=True, exist_ok=True)\n",
    "\n",
    "    # Download the data\n",
    "    target_dir = Path(source).name\n",
    "    # Check if the zip file does not exist before downloading\n",
    "    if not (data_path / target_dir).exists():\n",
    "        with open(data_path / target_dir, \"wb\") as file:\n",
    "            response = requests.get(source)\n",
    "            print(f\"Downloading {source} to {data_path / target_dir}\")\n",
    "            file.write(response.content)\n",
    "    else:\n",
    "        print(f\"{data_path / target_dir} already exists, skipping download.\")\n",
    "\n",
    "    # Unzip the data\n",
    "    with zipfile.ZipFile(data_path / target_dir, \"r\") as zip_ref:\n",
    "        print(f\"Extracting {data_path / target_dir} to {image_path}\")\n",
    "        zip_ref.extractall(image_path)\n",
    "\n",
    "    # Remove the source file (the .zip file)\n",
    "    if remove_source:\n",
    "        os.remove(data_path / target_dir)\n",
    "\n",
    "    return image_path\n"
   ]
  },
  {
   "cell_type": "code",
   "execution_count": 16,
   "metadata": {},
   "outputs": [
    {
     "name": "stdout",
     "output_type": "stream",
     "text": [
      "Downloading https://github.com/mrdbourke/pytorch-deep-learning/raw/main/data/pizza_steak_sushi.zip to data/pizza_steak_sushi.zip\n",
      "Extracting data/pizza_steak_sushi.zip to data/pizza_steak_sushi\n"
     ]
    },
    {
     "data": {
      "text/plain": [
       "PosixPath('data/pizza_steak_sushi')"
      ]
     },
     "execution_count": 16,
     "metadata": {},
     "output_type": "execute_result"
    }
   ],
   "source": [
    "# Download the data\n",
    "image_path = download_data(source=\"https://github.com/mrdbourke/pytorch-deep-learning/raw/main/data/pizza_steak_sushi.zip\",\n",
    "                           destination=\"pizza_steak_sushi\",\n",
    "                           remove_source=True)\n",
    "\n",
    "image_path"
   ]
  },
  {
   "cell_type": "markdown",
   "metadata": {},
   "source": [
    "## 2. Create Datasets and Dataloaders"
   ]
  },
  {
   "cell_type": "markdown",
   "metadata": {},
   "source": [
    "### 2.1 Create a DataLoaders using manual transformations"
   ]
  },
  {
   "cell_type": "code",
   "execution_count": 17,
   "metadata": {},
   "outputs": [
    {
     "data": {
      "text/plain": [
       "(PosixPath('data/pizza_steak_sushi/train'),\n",
       " PosixPath('data/pizza_steak_sushi/test'))"
      ]
     },
     "execution_count": 17,
     "metadata": {},
     "output_type": "execute_result"
    }
   ],
   "source": [
    "# Setup the data paths\n",
    "train_dir = image_path / \"train\"\n",
    "test_dir = image_path / \"test\"\n",
    "\n",
    "train_dir, test_dir"
   ]
  },
  {
   "cell_type": "code",
   "execution_count": 18,
   "metadata": {},
   "outputs": [
    {
     "name": "stdout",
     "output_type": "stream",
     "text": [
      "Creating DataLoaders using manual transformations: Compose(\n",
      "      Resize(size=[224, 224], interpolation=InterpolationMode.BILINEAR, antialias=True)\n",
      "      ToDtype(scale=False)\n",
      "      ToImage()\n",
      "      Normalize(mean=[0.485, 0.456, 0.406], std=[0.229, 0.224, 0.225], inplace=False)\n",
      ")\n"
     ]
    },
    {
     "data": {
      "text/plain": [
       "(<torch.utils.data.dataloader.DataLoader at 0x7ebb67ba5340>,\n",
       " <torch.utils.data.dataloader.DataLoader at 0x7ebb67ba5310>,\n",
       " ['pizza', 'steak', 'sushi'])"
      ]
     },
     "execution_count": 18,
     "metadata": {},
     "output_type": "execute_result"
    }
   ],
   "source": [
    "# Setup ImageNet normalization levels\n",
    "\n",
    "from torchvision.transforms import v2 as transforms\n",
    "\n",
    "\n",
    "normalize = transforms.Normalize(mean=[0.485, 0.456, 0.406],\n",
    "                                 std=[0.229, 0.224, 0.225])\n",
    "\n",
    "# Create transform pipeline manually\n",
    "manual_transforms = transforms.Compose([\n",
    "    transforms.Resize((224, 224)),\n",
    "    transforms.ToDtype(torch.float),\n",
    "    transforms.ToImage(),\n",
    "    normalize\n",
    "]).to(device)\n",
    "\n",
    "\n",
    "print(f\"Creating DataLoaders using manual transformations: {manual_transforms}\")\n",
    "\n",
    "# Create the DataLoaders\n",
    "from going_modular import data_setup\n",
    "train_dl, test_dl, class_names = data_setup.create_dataloaders(train_dir=train_dir,\n",
    "                                            test_dir=test_dir,\n",
    "                                            transform=manual_transforms,\n",
    "                                            batch_size=32,\n",
    "                                            num_workers=2)\n",
    "train_dl, test_dl, class_names"
   ]
  },
  {
   "cell_type": "markdown",
   "metadata": {},
   "source": [
    "### 2.2 Create a DataLoaders using built-in transformations"
   ]
  },
  {
   "cell_type": "code",
   "execution_count": 19,
   "metadata": {},
   "outputs": [
    {
     "data": {
      "text/plain": [
       "(<torch.utils.data.dataloader.DataLoader at 0x7ebb67ba6180>,\n",
       " <torch.utils.data.dataloader.DataLoader at 0x7ebb64742780>,\n",
       " ['pizza', 'steak', 'sushi'])"
      ]
     },
     "execution_count": 19,
     "metadata": {},
     "output_type": "execute_result"
    }
   ],
   "source": [
    "# Setup dirs\n",
    "train_dir = image_path / \"train\"\n",
    "test_dir = image_path / \"test\"\n",
    "\n",
    "# Setup pretrained weights for the model\n",
    "import torchvision\n",
    "weights = torchvision.models.EfficientNet_B3_Weights.DEFAULT\n",
    "\n",
    "\n",
    "# Get transforms from weights\n",
    "automatic_transforms = weights.transforms()\n",
    "\n",
    "# Create the DataLoaders\n",
    "from going_modular import data_setup\n",
    "train_dl, test_dl, class_names = data_setup.create_dataloaders(train_dir=train_dir,\n",
    "                                            test_dir=test_dir,\n",
    "                                            transform=automatic_transforms,\n",
    "                                            batch_size=32,\n",
    "                                            num_workers=2)\n",
    "train_dl, test_dl, class_names"
   ]
  },
  {
   "cell_type": "markdown",
   "metadata": {},
   "source": [
    "## 3. Getting a pretrained model, freeze the base layers and change the output layer"
   ]
  },
  {
   "cell_type": "code",
   "execution_count": 20,
   "metadata": {},
   "outputs": [],
   "source": [
    "# Get the pretrained model\n",
    "model = torchvision.models.efficientnet_b3(weights=weights).to(device)\n",
    "\n",
    "# model"
   ]
  },
  {
   "cell_type": "code",
   "execution_count": 21,
   "metadata": {},
   "outputs": [
    {
     "data": {
      "text/plain": [
       "Sequential(\n",
       "  (0): Dropout(p=0.3, inplace=True)\n",
       "  (1): Linear(in_features=1536, out_features=1000, bias=True)\n",
       ")"
      ]
     },
     "execution_count": 21,
     "metadata": {},
     "output_type": "execute_result"
    }
   ],
   "source": [
    "model.classifier"
   ]
  },
  {
   "cell_type": "code",
   "execution_count": 26,
   "metadata": {},
   "outputs": [],
   "source": [
    "# Freeze the model parameters (so the pretrained weights aren't updated during training)\n",
    "for param in model.features.parameters():\n",
    "    param.requires_grad = False\n",
    "\n",
    "# Change the classifier to have the same number of features as the number of classes in the data\n",
    "import torch.nn as nn\n",
    "\n",
    "num_classes = len(class_names)\n",
    "in_features = model.classifier[1].in_features  # Access the in_features from the original classifier\n",
    "model.classifier = nn.Sequential(\n",
    "    nn.Dropout(p=0.3, inplace=True),\n",
    "    nn.Linear(in_features=in_features, out_features=num_classes)\n",
    ").to(device)\n"
   ]
  },
  {
   "cell_type": "code",
   "execution_count": 27,
   "metadata": {},
   "outputs": [
    {
     "data": {
      "text/plain": [
       "====================================================================================================================================================================================\n",
       "Layer (type:depth-idx)                                  Input Shape               Output Shape              Param #                   Kernel Shape              Mult-Adds\n",
       "====================================================================================================================================================================================\n",
       "EfficientNet                                            [32, 3, 224, 224]         [32, 3]                   --                        --                        --\n",
       "├─Sequential: 1-1                                       [32, 3, 224, 224]         [32, 1536, 7, 7]          --                        --                        --\n",
       "│    └─Conv2dNormActivation: 2-1                        [32, 3, 224, 224]         [32, 40, 112, 112]        --                        --                        --\n",
       "│    │    └─Conv2d: 3-1                                 [32, 3, 224, 224]         [32, 40, 112, 112]        (1,080)                   [3, 3]                    433,520,640\n",
       "│    │    └─BatchNorm2d: 3-2                            [32, 40, 112, 112]        [32, 40, 112, 112]        (80)                      --                        2,560\n",
       "│    │    └─SiLU: 3-3                                   [32, 40, 112, 112]        [32, 40, 112, 112]        --                        --                        --\n",
       "│    └─Sequential: 2-2                                  [32, 40, 112, 112]        [32, 24, 112, 112]        --                        --                        --\n",
       "│    │    └─MBConv: 3-4                                 [32, 40, 112, 112]        [32, 24, 112, 112]        --                        --                        --\n",
       "│    │    │    └─Sequential: 4-1                        [32, 40, 112, 112]        [32, 24, 112, 112]        --                        --                        --\n",
       "│    │    │    │    └─Conv2dNormActivation: 5-1         [32, 40, 112, 112]        [32, 40, 112, 112]        (440)                     --                        144,509,440\n",
       "│    │    │    │    └─SqueezeExcitation: 5-2            [32, 40, 112, 112]        [32, 40, 112, 112]        (850)                     --                        27,200\n",
       "│    │    │    │    └─Conv2dNormActivation: 5-3         [32, 40, 112, 112]        [32, 24, 112, 112]        (1,008)                   --                        385,353,216\n",
       "│    │    └─MBConv: 3-5                                 [32, 24, 112, 112]        [32, 24, 112, 112]        --                        --                        --\n",
       "│    │    │    └─Sequential: 4-2                        [32, 24, 112, 112]        [32, 24, 112, 112]        --                        --                        --\n",
       "│    │    │    │    └─Conv2dNormActivation: 5-4         [32, 24, 112, 112]        [32, 24, 112, 112]        (264)                     --                        86,705,664\n",
       "│    │    │    │    └─SqueezeExcitation: 5-5            [32, 24, 112, 112]        [32, 24, 112, 112]        (318)                     --                        10,176\n",
       "│    │    │    │    └─Conv2dNormActivation: 5-6         [32, 24, 112, 112]        [32, 24, 112, 112]        (624)                     --                        231,212,544\n",
       "│    │    │    └─StochasticDepth: 4-3                   [32, 24, 112, 112]        [32, 24, 112, 112]        --                        --                        --\n",
       "│    └─Sequential: 2-3                                  [32, 24, 112, 112]        [32, 32, 56, 56]          --                        --                        --\n",
       "│    │    └─MBConv: 3-6                                 [32, 24, 112, 112]        [32, 32, 56, 56]          --                        --                        --\n",
       "│    │    │    └─Sequential: 4-4                        [32, 24, 112, 112]        [32, 32, 56, 56]          --                        --                        --\n",
       "│    │    │    │    └─Conv2dNormActivation: 5-7         [32, 24, 112, 112]        [32, 144, 112, 112]       (3,744)                   --                        1,387,275,264\n",
       "│    │    │    │    └─Conv2dNormActivation: 5-8         [32, 144, 112, 112]       [32, 144, 56, 56]         (1,584)                   --                        130,065,408\n",
       "│    │    │    │    └─SqueezeExcitation: 5-9            [32, 144, 56, 56]         [32, 144, 56, 56]         (1,878)                   --                        60,096\n",
       "│    │    │    │    └─Conv2dNormActivation: 5-10        [32, 144, 56, 56]         [32, 32, 56, 56]          (4,672)                   --                        462,424,064\n",
       "│    │    └─MBConv: 3-7                                 [32, 32, 56, 56]          [32, 32, 56, 56]          --                        --                        --\n",
       "│    │    │    └─Sequential: 4-5                        [32, 32, 56, 56]          [32, 32, 56, 56]          --                        --                        --\n",
       "│    │    │    │    └─Conv2dNormActivation: 5-11        [32, 32, 56, 56]          [32, 192, 56, 56]         (6,528)                   --                        616,574,976\n",
       "│    │    │    │    └─Conv2dNormActivation: 5-12        [32, 192, 56, 56]         [32, 192, 56, 56]         (2,112)                   --                        173,420,544\n",
       "│    │    │    │    └─SqueezeExcitation: 5-13           [32, 192, 56, 56]         [32, 192, 56, 56]         (3,272)                   --                        104,704\n",
       "│    │    │    │    └─Conv2dNormActivation: 5-14        [32, 192, 56, 56]         [32, 32, 56, 56]          (6,208)                   --                        616,564,736\n",
       "│    │    │    └─StochasticDepth: 4-6                   [32, 32, 56, 56]          [32, 32, 56, 56]          --                        --                        --\n",
       "│    │    └─MBConv: 3-8                                 [32, 32, 56, 56]          [32, 32, 56, 56]          --                        --                        --\n",
       "│    │    │    └─Sequential: 4-7                        [32, 32, 56, 56]          [32, 32, 56, 56]          --                        --                        --\n",
       "│    │    │    │    └─Conv2dNormActivation: 5-15        [32, 32, 56, 56]          [32, 192, 56, 56]         (6,528)                   --                        616,574,976\n",
       "│    │    │    │    └─Conv2dNormActivation: 5-16        [32, 192, 56, 56]         [32, 192, 56, 56]         (2,112)                   --                        173,420,544\n",
       "│    │    │    │    └─SqueezeExcitation: 5-17           [32, 192, 56, 56]         [32, 192, 56, 56]         (3,272)                   --                        104,704\n",
       "│    │    │    │    └─Conv2dNormActivation: 5-18        [32, 192, 56, 56]         [32, 32, 56, 56]          (6,208)                   --                        616,564,736\n",
       "│    │    │    └─StochasticDepth: 4-8                   [32, 32, 56, 56]          [32, 32, 56, 56]          --                        --                        --\n",
       "│    └─Sequential: 2-4                                  [32, 32, 56, 56]          [32, 48, 28, 28]          --                        --                        --\n",
       "│    │    └─MBConv: 3-9                                 [32, 32, 56, 56]          [32, 48, 28, 28]          --                        --                        --\n",
       "│    │    │    └─Sequential: 4-9                        [32, 32, 56, 56]          [32, 48, 28, 28]          --                        --                        --\n",
       "│    │    │    │    └─Conv2dNormActivation: 5-19        [32, 32, 56, 56]          [32, 192, 56, 56]         (6,528)                   --                        616,574,976\n",
       "│    │    │    │    └─Conv2dNormActivation: 5-20        [32, 192, 56, 56]         [32, 192, 28, 28]         (5,184)                   --                        120,434,688\n",
       "│    │    │    │    └─SqueezeExcitation: 5-21           [32, 192, 28, 28]         [32, 192, 28, 28]         (3,272)                   --                        104,704\n",
       "│    │    │    │    └─Conv2dNormActivation: 5-22        [32, 192, 28, 28]         [32, 48, 28, 28]          (9,312)                   --                        231,214,080\n",
       "│    │    └─MBConv: 3-10                                [32, 48, 28, 28]          [32, 48, 28, 28]          --                        --                        --\n",
       "│    │    │    └─Sequential: 4-10                       [32, 48, 28, 28]          [32, 48, 28, 28]          --                        --                        --\n",
       "│    │    │    │    └─Conv2dNormActivation: 5-23        [32, 48, 28, 28]          [32, 288, 28, 28]         (14,400)                  --                        346,834,944\n",
       "│    │    │    │    └─Conv2dNormActivation: 5-24        [32, 288, 28, 28]         [32, 288, 28, 28]         (7,776)                   --                        180,652,032\n",
       "│    │    │    │    └─SqueezeExcitation: 5-25           [32, 288, 28, 28]         [32, 288, 28, 28]         (7,212)                   --                        230,784\n",
       "│    │    │    │    └─Conv2dNormActivation: 5-26        [32, 288, 28, 28]         [32, 48, 28, 28]          (13,920)                  --                        346,819,584\n",
       "│    │    │    └─StochasticDepth: 4-11                  [32, 48, 28, 28]          [32, 48, 28, 28]          --                        --                        --\n",
       "│    │    └─MBConv: 3-11                                [32, 48, 28, 28]          [32, 48, 28, 28]          --                        --                        --\n",
       "│    │    │    └─Sequential: 4-12                       [32, 48, 28, 28]          [32, 48, 28, 28]          --                        --                        --\n",
       "│    │    │    │    └─Conv2dNormActivation: 5-27        [32, 48, 28, 28]          [32, 288, 28, 28]         (14,400)                  --                        346,834,944\n",
       "│    │    │    │    └─Conv2dNormActivation: 5-28        [32, 288, 28, 28]         [32, 288, 28, 28]         (7,776)                   --                        180,652,032\n",
       "│    │    │    │    └─SqueezeExcitation: 5-29           [32, 288, 28, 28]         [32, 288, 28, 28]         (7,212)                   --                        230,784\n",
       "│    │    │    │    └─Conv2dNormActivation: 5-30        [32, 288, 28, 28]         [32, 48, 28, 28]          (13,920)                  --                        346,819,584\n",
       "│    │    │    └─StochasticDepth: 4-13                  [32, 48, 28, 28]          [32, 48, 28, 28]          --                        --                        --\n",
       "│    └─Sequential: 2-5                                  [32, 48, 28, 28]          [32, 96, 14, 14]          --                        --                        --\n",
       "│    │    └─MBConv: 3-12                                [32, 48, 28, 28]          [32, 96, 14, 14]          --                        --                        --\n",
       "│    │    │    └─Sequential: 4-14                       [32, 48, 28, 28]          [32, 96, 14, 14]          --                        --                        --\n",
       "│    │    │    │    └─Conv2dNormActivation: 5-31        [32, 48, 28, 28]          [32, 288, 28, 28]         (14,400)                  --                        346,834,944\n",
       "│    │    │    │    └─Conv2dNormActivation: 5-32        [32, 288, 28, 28]         [32, 288, 14, 14]         (3,168)                   --                        16,275,456\n",
       "│    │    │    │    └─SqueezeExcitation: 5-33           [32, 288, 14, 14]         [32, 288, 14, 14]         (7,212)                   --                        230,784\n",
       "│    │    │    │    └─Conv2dNormActivation: 5-34        [32, 288, 14, 14]         [32, 96, 14, 14]          (27,840)                  --                        173,414,400\n",
       "│    │    └─MBConv: 3-13                                [32, 96, 14, 14]          [32, 96, 14, 14]          --                        --                        --\n",
       "│    │    │    └─Sequential: 4-15                       [32, 96, 14, 14]          [32, 96, 14, 14]          --                        --                        --\n",
       "│    │    │    │    └─Conv2dNormActivation: 5-35        [32, 96, 14, 14]          [32, 576, 14, 14]         (56,448)                  --                        346,853,376\n",
       "│    │    │    │    └─Conv2dNormActivation: 5-36        [32, 576, 14, 14]         [32, 576, 14, 14]         (6,336)                   --                        32,550,912\n",
       "│    │    │    │    └─SqueezeExcitation: 5-37           [32, 576, 14, 14]         [32, 576, 14, 14]         (28,248)                  --                        903,936\n",
       "│    │    │    │    └─Conv2dNormActivation: 5-38        [32, 576, 14, 14]         [32, 96, 14, 14]          (55,488)                  --                        346,822,656\n",
       "│    │    │    └─StochasticDepth: 4-16                  [32, 96, 14, 14]          [32, 96, 14, 14]          --                        --                        --\n",
       "│    │    └─MBConv: 3-14                                [32, 96, 14, 14]          [32, 96, 14, 14]          --                        --                        --\n",
       "│    │    │    └─Sequential: 4-17                       [32, 96, 14, 14]          [32, 96, 14, 14]          --                        --                        --\n",
       "│    │    │    │    └─Conv2dNormActivation: 5-39        [32, 96, 14, 14]          [32, 576, 14, 14]         (56,448)                  --                        346,853,376\n",
       "│    │    │    │    └─Conv2dNormActivation: 5-40        [32, 576, 14, 14]         [32, 576, 14, 14]         (6,336)                   --                        32,550,912\n",
       "│    │    │    │    └─SqueezeExcitation: 5-41           [32, 576, 14, 14]         [32, 576, 14, 14]         (28,248)                  --                        903,936\n",
       "│    │    │    │    └─Conv2dNormActivation: 5-42        [32, 576, 14, 14]         [32, 96, 14, 14]          (55,488)                  --                        346,822,656\n",
       "│    │    │    └─StochasticDepth: 4-18                  [32, 96, 14, 14]          [32, 96, 14, 14]          --                        --                        --\n",
       "│    │    └─MBConv: 3-15                                [32, 96, 14, 14]          [32, 96, 14, 14]          --                        --                        --\n",
       "│    │    │    └─Sequential: 4-19                       [32, 96, 14, 14]          [32, 96, 14, 14]          --                        --                        --\n",
       "│    │    │    │    └─Conv2dNormActivation: 5-43        [32, 96, 14, 14]          [32, 576, 14, 14]         (56,448)                  --                        346,853,376\n",
       "│    │    │    │    └─Conv2dNormActivation: 5-44        [32, 576, 14, 14]         [32, 576, 14, 14]         (6,336)                   --                        32,550,912\n",
       "│    │    │    │    └─SqueezeExcitation: 5-45           [32, 576, 14, 14]         [32, 576, 14, 14]         (28,248)                  --                        903,936\n",
       "│    │    │    │    └─Conv2dNormActivation: 5-46        [32, 576, 14, 14]         [32, 96, 14, 14]          (55,488)                  --                        346,822,656\n",
       "│    │    │    └─StochasticDepth: 4-20                  [32, 96, 14, 14]          [32, 96, 14, 14]          --                        --                        --\n",
       "│    │    └─MBConv: 3-16                                [32, 96, 14, 14]          [32, 96, 14, 14]          --                        --                        --\n",
       "│    │    │    └─Sequential: 4-21                       [32, 96, 14, 14]          [32, 96, 14, 14]          --                        --                        --\n",
       "│    │    │    │    └─Conv2dNormActivation: 5-47        [32, 96, 14, 14]          [32, 576, 14, 14]         (56,448)                  --                        346,853,376\n",
       "│    │    │    │    └─Conv2dNormActivation: 5-48        [32, 576, 14, 14]         [32, 576, 14, 14]         (6,336)                   --                        32,550,912\n",
       "│    │    │    │    └─SqueezeExcitation: 5-49           [32, 576, 14, 14]         [32, 576, 14, 14]         (28,248)                  --                        903,936\n",
       "│    │    │    │    └─Conv2dNormActivation: 5-50        [32, 576, 14, 14]         [32, 96, 14, 14]          (55,488)                  --                        346,822,656\n",
       "│    │    │    └─StochasticDepth: 4-22                  [32, 96, 14, 14]          [32, 96, 14, 14]          --                        --                        --\n",
       "│    └─Sequential: 2-6                                  [32, 96, 14, 14]          [32, 136, 14, 14]         --                        --                        --\n",
       "│    │    └─MBConv: 3-17                                [32, 96, 14, 14]          [32, 136, 14, 14]         --                        --                        --\n",
       "│    │    │    └─Sequential: 4-23                       [32, 96, 14, 14]          [32, 136, 14, 14]         --                        --                        --\n",
       "│    │    │    │    └─Conv2dNormActivation: 5-51        [32, 96, 14, 14]          [32, 576, 14, 14]         (56,448)                  --                        346,853,376\n",
       "│    │    │    │    └─Conv2dNormActivation: 5-52        [32, 576, 14, 14]         [32, 576, 14, 14]         (15,552)                  --                        90,353,664\n",
       "│    │    │    │    └─SqueezeExcitation: 5-53           [32, 576, 14, 14]         [32, 576, 14, 14]         (28,248)                  --                        903,936\n",
       "│    │    │    │    └─Conv2dNormActivation: 5-54        [32, 576, 14, 14]         [32, 136, 14, 14]         (78,608)                  --                        491,332,096\n",
       "│    │    └─MBConv: 3-18                                [32, 136, 14, 14]         [32, 136, 14, 14]         --                        --                        --\n",
       "│    │    │    └─Sequential: 4-24                       [32, 136, 14, 14]         [32, 136, 14, 14]         --                        --                        --\n",
       "│    │    │    │    └─Conv2dNormActivation: 5-55        [32, 136, 14, 14]         [32, 816, 14, 14]         (112,608)                 --                        696,093,696\n",
       "│    │    │    │    └─Conv2dNormActivation: 5-56        [32, 816, 14, 14]         [32, 816, 14, 14]         (22,032)                  --                        128,001,024\n",
       "│    │    │    │    └─SqueezeExcitation: 5-57           [32, 816, 14, 14]         [32, 816, 14, 14]         (56,338)                  --                        1,802,816\n",
       "│    │    │    │    └─Conv2dNormActivation: 5-58        [32, 816, 14, 14]         [32, 136, 14, 14]         (111,248)                 --                        696,050,176\n",
       "│    │    │    └─StochasticDepth: 4-25                  [32, 136, 14, 14]         [32, 136, 14, 14]         --                        --                        --\n",
       "│    │    └─MBConv: 3-19                                [32, 136, 14, 14]         [32, 136, 14, 14]         --                        --                        --\n",
       "│    │    │    └─Sequential: 4-26                       [32, 136, 14, 14]         [32, 136, 14, 14]         --                        --                        --\n",
       "│    │    │    │    └─Conv2dNormActivation: 5-59        [32, 136, 14, 14]         [32, 816, 14, 14]         (112,608)                 --                        696,093,696\n",
       "│    │    │    │    └─Conv2dNormActivation: 5-60        [32, 816, 14, 14]         [32, 816, 14, 14]         (22,032)                  --                        128,001,024\n",
       "│    │    │    │    └─SqueezeExcitation: 5-61           [32, 816, 14, 14]         [32, 816, 14, 14]         (56,338)                  --                        1,802,816\n",
       "│    │    │    │    └─Conv2dNormActivation: 5-62        [32, 816, 14, 14]         [32, 136, 14, 14]         (111,248)                 --                        696,050,176\n",
       "│    │    │    └─StochasticDepth: 4-27                  [32, 136, 14, 14]         [32, 136, 14, 14]         --                        --                        --\n",
       "│    │    └─MBConv: 3-20                                [32, 136, 14, 14]         [32, 136, 14, 14]         --                        --                        --\n",
       "│    │    │    └─Sequential: 4-28                       [32, 136, 14, 14]         [32, 136, 14, 14]         --                        --                        --\n",
       "│    │    │    │    └─Conv2dNormActivation: 5-63        [32, 136, 14, 14]         [32, 816, 14, 14]         (112,608)                 --                        696,093,696\n",
       "│    │    │    │    └─Conv2dNormActivation: 5-64        [32, 816, 14, 14]         [32, 816, 14, 14]         (22,032)                  --                        128,001,024\n",
       "│    │    │    │    └─SqueezeExcitation: 5-65           [32, 816, 14, 14]         [32, 816, 14, 14]         (56,338)                  --                        1,802,816\n",
       "│    │    │    │    └─Conv2dNormActivation: 5-66        [32, 816, 14, 14]         [32, 136, 14, 14]         (111,248)                 --                        696,050,176\n",
       "│    │    │    └─StochasticDepth: 4-29                  [32, 136, 14, 14]         [32, 136, 14, 14]         --                        --                        --\n",
       "│    │    └─MBConv: 3-21                                [32, 136, 14, 14]         [32, 136, 14, 14]         --                        --                        --\n",
       "│    │    │    └─Sequential: 4-30                       [32, 136, 14, 14]         [32, 136, 14, 14]         --                        --                        --\n",
       "│    │    │    │    └─Conv2dNormActivation: 5-67        [32, 136, 14, 14]         [32, 816, 14, 14]         (112,608)                 --                        696,093,696\n",
       "│    │    │    │    └─Conv2dNormActivation: 5-68        [32, 816, 14, 14]         [32, 816, 14, 14]         (22,032)                  --                        128,001,024\n",
       "│    │    │    │    └─SqueezeExcitation: 5-69           [32, 816, 14, 14]         [32, 816, 14, 14]         (56,338)                  --                        1,802,816\n",
       "│    │    │    │    └─Conv2dNormActivation: 5-70        [32, 816, 14, 14]         [32, 136, 14, 14]         (111,248)                 --                        696,050,176\n",
       "│    │    │    └─StochasticDepth: 4-31                  [32, 136, 14, 14]         [32, 136, 14, 14]         --                        --                        --\n",
       "│    └─Sequential: 2-7                                  [32, 136, 14, 14]         [32, 232, 7, 7]           --                        --                        --\n",
       "│    │    └─MBConv: 3-22                                [32, 136, 14, 14]         [32, 232, 7, 7]           --                        --                        --\n",
       "│    │    │    └─Sequential: 4-32                       [32, 136, 14, 14]         [32, 232, 7, 7]           --                        --                        --\n",
       "│    │    │    │    └─Conv2dNormActivation: 5-71        [32, 136, 14, 14]         [32, 816, 14, 14]         (112,608)                 --                        696,093,696\n",
       "│    │    │    │    └─Conv2dNormActivation: 5-72        [32, 816, 14, 14]         [32, 816, 7, 7]           (22,032)                  --                        32,039,424\n",
       "│    │    │    │    └─SqueezeExcitation: 5-73           [32, 816, 7, 7]           [32, 816, 7, 7]           (56,338)                  --                        1,802,816\n",
       "│    │    │    │    └─Conv2dNormActivation: 5-74        [32, 816, 7, 7]           [32, 232, 7, 7]           (189,776)                 --                        296,856,064\n",
       "│    │    └─MBConv: 3-23                                [32, 232, 7, 7]           [32, 232, 7, 7]           --                        --                        --\n",
       "│    │    │    └─Sequential: 4-33                       [32, 232, 7, 7]           [32, 232, 7, 7]           --                        --                        --\n",
       "│    │    │    │    └─Conv2dNormActivation: 5-75        [32, 232, 7, 7]           [32, 1392, 7, 7]          (325,728)                 --                        506,465,280\n",
       "│    │    │    │    └─Conv2dNormActivation: 5-76        [32, 1392, 7, 7]          [32, 1392, 7, 7]          (37,584)                  --                        54,655,488\n",
       "│    │    │    │    └─SqueezeExcitation: 5-77           [32, 1392, 7, 7]          [32, 1392, 7, 7]          (162,922)                 --                        5,213,504\n",
       "│    │    │    │    └─Conv2dNormActivation: 5-78        [32, 1392, 7, 7]          [32, 232, 7, 7]           (323,408)                 --                        506,391,040\n",
       "│    │    │    └─StochasticDepth: 4-34                  [32, 232, 7, 7]           [32, 232, 7, 7]           --                        --                        --\n",
       "│    │    └─MBConv: 3-24                                [32, 232, 7, 7]           [32, 232, 7, 7]           --                        --                        --\n",
       "│    │    │    └─Sequential: 4-35                       [32, 232, 7, 7]           [32, 232, 7, 7]           --                        --                        --\n",
       "│    │    │    │    └─Conv2dNormActivation: 5-79        [32, 232, 7, 7]           [32, 1392, 7, 7]          (325,728)                 --                        506,465,280\n",
       "│    │    │    │    └─Conv2dNormActivation: 5-80        [32, 1392, 7, 7]          [32, 1392, 7, 7]          (37,584)                  --                        54,655,488\n",
       "│    │    │    │    └─SqueezeExcitation: 5-81           [32, 1392, 7, 7]          [32, 1392, 7, 7]          (162,922)                 --                        5,213,504\n",
       "│    │    │    │    └─Conv2dNormActivation: 5-82        [32, 1392, 7, 7]          [32, 232, 7, 7]           (323,408)                 --                        506,391,040\n",
       "│    │    │    └─StochasticDepth: 4-36                  [32, 232, 7, 7]           [32, 232, 7, 7]           --                        --                        --\n",
       "│    │    └─MBConv: 3-25                                [32, 232, 7, 7]           [32, 232, 7, 7]           --                        --                        --\n",
       "│    │    │    └─Sequential: 4-37                       [32, 232, 7, 7]           [32, 232, 7, 7]           --                        --                        --\n",
       "│    │    │    │    └─Conv2dNormActivation: 5-83        [32, 232, 7, 7]           [32, 1392, 7, 7]          (325,728)                 --                        506,465,280\n",
       "│    │    │    │    └─Conv2dNormActivation: 5-84        [32, 1392, 7, 7]          [32, 1392, 7, 7]          (37,584)                  --                        54,655,488\n",
       "│    │    │    │    └─SqueezeExcitation: 5-85           [32, 1392, 7, 7]          [32, 1392, 7, 7]          (162,922)                 --                        5,213,504\n",
       "│    │    │    │    └─Conv2dNormActivation: 5-86        [32, 1392, 7, 7]          [32, 232, 7, 7]           (323,408)                 --                        506,391,040\n",
       "│    │    │    └─StochasticDepth: 4-38                  [32, 232, 7, 7]           [32, 232, 7, 7]           --                        --                        --\n",
       "│    │    └─MBConv: 3-26                                [32, 232, 7, 7]           [32, 232, 7, 7]           --                        --                        --\n",
       "│    │    │    └─Sequential: 4-39                       [32, 232, 7, 7]           [32, 232, 7, 7]           --                        --                        --\n",
       "│    │    │    │    └─Conv2dNormActivation: 5-87        [32, 232, 7, 7]           [32, 1392, 7, 7]          (325,728)                 --                        506,465,280\n",
       "│    │    │    │    └─Conv2dNormActivation: 5-88        [32, 1392, 7, 7]          [32, 1392, 7, 7]          (37,584)                  --                        54,655,488\n",
       "│    │    │    │    └─SqueezeExcitation: 5-89           [32, 1392, 7, 7]          [32, 1392, 7, 7]          (162,922)                 --                        5,213,504\n",
       "│    │    │    │    └─Conv2dNormActivation: 5-90        [32, 1392, 7, 7]          [32, 232, 7, 7]           (323,408)                 --                        506,391,040\n",
       "│    │    │    └─StochasticDepth: 4-40                  [32, 232, 7, 7]           [32, 232, 7, 7]           --                        --                        --\n",
       "│    │    └─MBConv: 3-27                                [32, 232, 7, 7]           [32, 232, 7, 7]           --                        --                        --\n",
       "│    │    │    └─Sequential: 4-41                       [32, 232, 7, 7]           [32, 232, 7, 7]           --                        --                        --\n",
       "│    │    │    │    └─Conv2dNormActivation: 5-91        [32, 232, 7, 7]           [32, 1392, 7, 7]          (325,728)                 --                        506,465,280\n",
       "│    │    │    │    └─Conv2dNormActivation: 5-92        [32, 1392, 7, 7]          [32, 1392, 7, 7]          (37,584)                  --                        54,655,488\n",
       "│    │    │    │    └─SqueezeExcitation: 5-93           [32, 1392, 7, 7]          [32, 1392, 7, 7]          (162,922)                 --                        5,213,504\n",
       "│    │    │    │    └─Conv2dNormActivation: 5-94        [32, 1392, 7, 7]          [32, 232, 7, 7]           (323,408)                 --                        506,391,040\n",
       "│    │    │    └─StochasticDepth: 4-42                  [32, 232, 7, 7]           [32, 232, 7, 7]           --                        --                        --\n",
       "│    └─Sequential: 2-8                                  [32, 232, 7, 7]           [32, 384, 7, 7]           --                        --                        --\n",
       "│    │    └─MBConv: 3-28                                [32, 232, 7, 7]           [32, 384, 7, 7]           --                        --                        --\n",
       "│    │    │    └─Sequential: 4-43                       [32, 232, 7, 7]           [32, 384, 7, 7]           --                        --                        --\n",
       "│    │    │    │    └─Conv2dNormActivation: 5-95        [32, 232, 7, 7]           [32, 1392, 7, 7]          (325,728)                 --                        506,465,280\n",
       "│    │    │    │    └─Conv2dNormActivation: 5-96        [32, 1392, 7, 7]          [32, 1392, 7, 7]          (15,312)                  --                        19,732,992\n",
       "│    │    │    │    └─SqueezeExcitation: 5-97           [32, 1392, 7, 7]          [32, 1392, 7, 7]          (162,922)                 --                        5,213,504\n",
       "│    │    │    │    └─Conv2dNormActivation: 5-98        [32, 1392, 7, 7]          [32, 384, 7, 7]           (535,296)                 --                        838,164,480\n",
       "│    │    └─MBConv: 3-29                                [32, 384, 7, 7]           [32, 384, 7, 7]           --                        --                        --\n",
       "│    │    │    └─Sequential: 4-44                       [32, 384, 7, 7]           [32, 384, 7, 7]           --                        --                        --\n",
       "│    │    │    │    └─Conv2dNormActivation: 5-99        [32, 384, 7, 7]           [32, 2304, 7, 7]          (889,344)                 --                        1,387,413,504\n",
       "│    │    │    │    └─Conv2dNormActivation: 5-100       [32, 2304, 7, 7]          [32, 2304, 7, 7]          (25,344)                  --                        32,661,504\n",
       "│    │    │    │    └─SqueezeExcitation: 5-101          [32, 2304, 7, 7]          [32, 2304, 7, 7]          (444,768)                 --                        14,232,576\n",
       "│    │    │    │    └─Conv2dNormActivation: 5-102       [32, 2304, 7, 7]          [32, 384, 7, 7]           (885,504)                 --                        1,387,290,624\n",
       "│    │    │    └─StochasticDepth: 4-45                  [32, 384, 7, 7]           [32, 384, 7, 7]           --                        --                        --\n",
       "│    └─Conv2dNormActivation: 2-9                        [32, 384, 7, 7]           [32, 1536, 7, 7]          --                        --                        --\n",
       "│    │    └─Conv2d: 3-30                                [32, 384, 7, 7]           [32, 1536, 7, 7]          (589,824)                 [1, 1]                    924,844,032\n",
       "│    │    └─BatchNorm2d: 3-31                           [32, 1536, 7, 7]          [32, 1536, 7, 7]          (3,072)                   --                        98,304\n",
       "│    │    └─SiLU: 3-32                                  [32, 1536, 7, 7]          [32, 1536, 7, 7]          --                        --                        --\n",
       "├─AdaptiveAvgPool2d: 1-2                                [32, 1536, 7, 7]          [32, 1536, 1, 1]          --                        --                        --\n",
       "├─Sequential: 1-3                                       [32, 1536]                [32, 3]                   --                        --                        --\n",
       "│    └─Dropout: 2-10                                    [32, 1536]                [32, 1536]                --                        --                        --\n",
       "│    └─Linear: 2-11                                     [32, 1536]                [32, 3]                   4,611                     --                        147,552\n",
       "====================================================================================================================================================================================\n",
       "Total params: 10,700,843\n",
       "Trainable params: 4,611\n",
       "Non-trainable params: 10,696,232\n",
       "Total mult-adds (Units.GIGABYTES): 30.76\n",
       "====================================================================================================================================================================================\n",
       "Input size (MB): 19.27\n",
       "Forward/backward pass size (MB): 6654.06\n",
       "Params size (MB): 42.80\n",
       "Estimated Total Size (MB): 6716.13\n",
       "===================================================================================================================================================================================="
      ]
     },
     "execution_count": 27,
     "metadata": {},
     "output_type": "execute_result"
    }
   ],
   "source": [
    "# Get the model summary\n",
    "from torchinfo import summary\n",
    "\n",
    "summary(model, input_size=(32, 3, 224, 224), col_names=[\"input_size\", \"output_size\", \"num_params\", \"kernel_size\", \"mult_adds\"], depth=5)"
   ]
  },
  {
   "cell_type": "code",
   "execution_count": 28,
   "metadata": {},
   "outputs": [],
   "source": [
    "# Train a single model and track results"
   ]
  },
  {
   "cell_type": "code",
   "execution_count": 29,
   "metadata": {},
   "outputs": [],
   "source": [
    "# Define the loss function and optimizer\n",
    "from torch import optim\n",
    "from torch import nn\n",
    "\n",
    "loss_fn = nn.CrossEntropyLoss()\n",
    "optimizer = optim.Adam(model.parameters(), lr=0.001)"
   ]
  },
  {
   "cell_type": "code",
   "execution_count": 31,
   "metadata": {},
   "outputs": [
    {
     "ename": "",
     "evalue": "",
     "output_type": "error",
     "traceback": [
      "\u001b[1;31mFailed to start the Kernel. \n",
      "\u001b[1;31mConnection is disposed. \n",
      "\u001b[1;31mView Jupyter <a href='command:jupyter.viewOutput'>log</a> for further details."
     ]
    }
   ],
   "source": [
    "# Setup a SummaryWriter to log the results\n",
    "import torch\n",
    "from torch.utils.tensorboard import SummaryWriter\n",
    "writer = SummaryWriter(log_dir=\"experiments/efficientnet_b3\")\n",
    "writer"
   ]
  },
  {
   "cell_type": "code",
   "execution_count": 36,
   "metadata": {},
   "outputs": [],
   "source": [
    "from going_modular.engine import train_step, test_step \n",
    "from typing import Tuple, List, Dict\n",
    "from tqdm.auto import tqdm\n",
    "\n",
    "def train(model: torch.nn.Module, \n",
    "          train_dataloader: torch.utils.data.DataLoader, \n",
    "          test_dataloader: torch.utils.data.DataLoader, \n",
    "          optimizer: torch.optim.Optimizer,\n",
    "          loss_fn: torch.nn.Module,\n",
    "          epochs: int,\n",
    "          device: torch.device) -> Dict[str, List[float]]:\n",
    "    \"\"\"Trains and tests a PyTorch model.\n",
    "\n",
    "    Passes a target PyTorch models through train_step() and test_step()\n",
    "    functions for a number of epochs, training and testing the model\n",
    "    in the same epoch loop.\n",
    "\n",
    "    Calculates, prints and stores evaluation metrics throughout.\n",
    "\n",
    "    Args:\n",
    "    model: A PyTorch model to be trained and tested.\n",
    "    train_dataloader: A DataLoader instance for the model to be trained on.\n",
    "    test_dataloader: A DataLoader instance for the model to be tested on.\n",
    "    optimizer: A PyTorch optimizer to help minimize the loss function.\n",
    "    loss_fn: A PyTorch loss function to calculate loss on both datasets.\n",
    "    epochs: An integer indicating how many epochs to train for.\n",
    "    device: A target device to compute on (e.g. \"cuda\" or \"cpu\").\n",
    "\n",
    "    Returns:\n",
    "    A dictionary of training and testing loss as well as training and\n",
    "    testing accuracy metrics. Each metric has a value in a list for \n",
    "    each epoch.\n",
    "    In the form: {train_loss: [...],\n",
    "              train_acc: [...],\n",
    "              test_loss: [...],\n",
    "              test_acc: [...]} \n",
    "    For example if training for epochs=2: \n",
    "             {train_loss: [2.0616, 1.0537],\n",
    "              train_acc: [0.3945, 0.3945],\n",
    "              test_loss: [1.2641, 1.5706],\n",
    "              test_acc: [0.3400, 0.2973]} \n",
    "    \"\"\"\n",
    "    # Create empty results dictionary\n",
    "    results = {\"train_loss\": [],\n",
    "               \"train_acc\": [],\n",
    "               \"test_loss\": [],\n",
    "               \"test_acc\": []\n",
    "    }\n",
    "\n",
    "    # Loop through training and testing steps for a number of epochs\n",
    "    for epoch in tqdm(range(epochs)):\n",
    "        train_loss, train_acc = train_step(model=model,\n",
    "                                          dataloader=train_dataloader,\n",
    "                                          loss_fn=loss_fn,\n",
    "                                          optimizer=optimizer,\n",
    "                                          device=device)\n",
    "        test_loss, test_acc = test_step(model=model,\n",
    "          dataloader=test_dataloader,\n",
    "          loss_fn=loss_fn,\n",
    "          device=device)\n",
    "\n",
    "        # Print out what's happening\n",
    "        print(\n",
    "          f\"Epoch: {epoch+1} | \"\n",
    "          f\"train_loss: {train_loss:.4f} | \"\n",
    "          f\"train_acc: {train_acc:.4f} | \"\n",
    "          f\"test_loss: {test_loss:.4f} | \"\n",
    "          f\"test_acc: {test_acc:.4f}\"\n",
    "        )\n",
    "\n",
    "        # Update results dictionary\n",
    "        results[\"train_loss\"].append(train_loss)\n",
    "        results[\"train_acc\"].append(train_acc)\n",
    "        results[\"test_loss\"].append(test_loss)\n",
    "        results[\"test_acc\"].append(test_acc)\n",
    "\n",
    "        # Add results to TensorBoard\n",
    "        writer.add_scalar(\"train_loss\", train_loss, epoch)\n",
    "        writer.add_scalar(\"train_acc\", train_acc, epoch)\n",
    "        writer.add_scalar(\"test_loss\", test_loss, epoch)\n",
    "        writer.add_scalar(\"test_acc\", test_acc, epoch)\n",
    "\n",
    "        writer.add_graph(model=model,\n",
    "                        input_to_model=torch.randn(32, 3, 224, 224).to(device))\n",
    "\n",
    "        # Close the writer\n",
    "        writer.close()\n",
    "\n",
    "\n",
    "    # Return the filled results at the end of the epochs\n",
    "    return results"
   ]
  },
  {
   "cell_type": "code",
   "execution_count": 37,
   "metadata": {},
   "outputs": [
    {
     "name": "stderr",
     "output_type": "stream",
     "text": [
      "  0%|          | 0/5 [00:00<?, ?it/s]"
     ]
    },
    {
     "name": "stdout",
     "output_type": "stream",
     "text": [
      "Epoch: 1 | train_loss: 0.7742 | train_acc: 0.8320 | test_loss: 0.7293 | test_acc: 0.9375\n"
     ]
    },
    {
     "name": "stderr",
     "output_type": "stream",
     "text": [
      " 20%|██        | 1/5 [00:34<02:18, 34.51s/it]"
     ]
    },
    {
     "name": "stdout",
     "output_type": "stream",
     "text": [
      "Epoch: 2 | train_loss: 0.7905 | train_acc: 0.7227 | test_loss: 0.6489 | test_acc: 0.9375\n"
     ]
    },
    {
     "name": "stderr",
     "output_type": "stream",
     "text": [
      " 40%|████      | 2/5 [01:13<01:51, 37.32s/it]"
     ]
    },
    {
     "name": "stdout",
     "output_type": "stream",
     "text": [
      "Epoch: 3 | train_loss: 0.6447 | train_acc: 0.8984 | test_loss: 0.7035 | test_acc: 0.7642\n"
     ]
    },
    {
     "name": "stderr",
     "output_type": "stream",
     "text": [
      " 60%|██████    | 3/5 [01:54<01:17, 38.88s/it]"
     ]
    },
    {
     "name": "stdout",
     "output_type": "stream",
     "text": [
      "Epoch: 4 | train_loss: 0.5894 | train_acc: 0.9219 | test_loss: 0.6383 | test_acc: 0.8769\n"
     ]
    },
    {
     "name": "stderr",
     "output_type": "stream",
     "text": [
      " 80%|████████  | 4/5 [02:35<00:39, 39.66s/it]"
     ]
    },
    {
     "name": "stdout",
     "output_type": "stream",
     "text": [
      "Epoch: 5 | train_loss: 0.6374 | train_acc: 0.7773 | test_loss: 0.6209 | test_acc: 0.8258\n"
     ]
    },
    {
     "name": "stderr",
     "output_type": "stream",
     "text": [
      "100%|██████████| 5/5 [03:17<00:00, 39.50s/it]\n"
     ]
    }
   ],
   "source": [
    "# Train the model\n",
    "results = train(model=model,\n",
    "                train_dataloader=train_dl,\n",
    "                test_dataloader=test_dl,\n",
    "                optimizer=optimizer,\n",
    "                loss_fn=loss_fn,\n",
    "                epochs=5,\n",
    "                device=device)"
   ]
  },
  {
   "cell_type": "code",
   "execution_count": 43,
   "metadata": {},
   "outputs": [
    {
     "ename": "",
     "evalue": "",
     "output_type": "error",
     "traceback": [
      "\u001b[1;31mFailed to start the Kernel. \n",
      "\u001b[1;31mConnection is disposed. \n",
      "\u001b[1;31mView Jupyter <a href='command:jupyter.viewOutput'>log</a> for further details."
     ]
    }
   ],
   "source": [
    "# Open TensorBoard\n",
    "%load_ext tensorboard\n",
    "%tensorboard --logdir experiments/efficientnet_b3"
   ]
  },
  {
   "cell_type": "code",
   "execution_count": null,
   "metadata": {},
   "outputs": [],
   "source": []
  },
  {
   "cell_type": "code",
   "execution_count": null,
   "metadata": {},
   "outputs": [],
   "source": []
  },
  {
   "cell_type": "code",
   "execution_count": null,
   "metadata": {},
   "outputs": [],
   "source": []
  },
  {
   "cell_type": "code",
   "execution_count": null,
   "metadata": {},
   "outputs": [
    {
     "ename": "",
     "evalue": "",
     "output_type": "error",
     "traceback": [
      "\u001b[1;31mFailed to start the Kernel. \n",
      "\u001b[1;31mConnection is disposed. \n",
      "\u001b[1;31mView Jupyter <a href='command:jupyter.viewOutput'>log</a> for further details."
     ]
    }
   ],
   "source": [
    "def create_writer(experiemnt_name:str,\n",
    "model_name:str,\n",
    "extra: None):\n"
   ]
  },
  {
   "cell_type": "code",
   "execution_count": null,
   "metadata": {},
   "outputs": [],
   "source": []
  }
 ],
 "metadata": {
  "kernelspec": {
   "display_name": ".venv",
   "language": "python",
   "name": "python3"
  },
  "language_info": {
   "codemirror_mode": {
    "name": "ipython",
    "version": 3
   },
   "file_extension": ".py",
   "mimetype": "text/x-python",
   "name": "python",
   "nbconvert_exporter": "python",
   "pygments_lexer": "ipython3",
   "version": "3.12.3"
  }
 },
 "nbformat": 4,
 "nbformat_minor": 2
}
